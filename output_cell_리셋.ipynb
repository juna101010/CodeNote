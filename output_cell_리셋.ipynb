{
 "cells": [
  {
   "cell_type": "code",
   "execution_count": 1,
   "id": "2c813fb5",
   "metadata": {
    "ExecuteTime": {
     "end_time": "2022-02-20T08:49:31.931017Z",
     "start_time": "2022-02-20T08:49:30.236414Z"
    }
   },
   "outputs": [
    {
     "name": "stderr",
     "output_type": "stream",
     "text": [
      "C:\\Users\\User\\anaconda3\\lib\\site-packages\\IPython\\nbformat.py:12: ShimWarning: The `IPython.nbformat` package has been deprecated since IPython 4.0. You should import from nbformat instead.\n",
      "  warn(\"The `IPython.nbformat` package has been deprecated since IPython 4.0. \"\n",
      "C:\\Users\\User\\anaconda3\\lib\\site-packages\\nbformat\\current.py:15: UserWarning: nbformat.current is deprecated.\n",
      "\n",
      "- use nbformat for read/write/validate public API\n",
      "- use nbformat.vX directly to composing notebooks of a particular version\n",
      "\n",
      "  warnings.warn(\"\"\"nbformat.current is deprecated.\n"
     ]
    }
   ],
   "source": [
    "import sys\n",
    "import io\n",
    "import os\n",
    "from IPython.nbformat.current import read, write\n",
    "\n",
    "def clear_notebook(fname, new_fname):\n",
    "    # 기존 파일 불러오기 \n",
    "    with io.open(fname, 'r', encoding = \"utf-8\") as f:\n",
    "        nb = read(f, 'json')\n",
    "    \n",
    "    # 아웃풋 삭제\n",
    "    for ws in nb.worksheets:\n",
    "        for cell in ws.cells:\n",
    "            if cell.cell_type == 'code':\n",
    "                cell.outputs = [] # cell output 초기화\n",
    "    \n",
    "    # 아웃풋이 삭제된 새로운 노트북 파일 작성\n",
    "    base, ext = os.path.splitext(fname)\n",
    "    new_ipynb = \"%s_removed%s\" % (base, ext)\n",
    "    with io.open(new_fname, 'w', encoding='utf-8') as f:\n",
    "        write(nb, f, 'json')\n",
    "\n",
    "# 실행 예제\n",
    "clear_notebook(\"visualization/_Plotly_한번에_제대로_배우기.ipynb\", \"visualization/_Plotly_한번에_제대로_배우기2.ipynb\")"
   ]
  },
  {
   "cell_type": "code",
   "execution_count": 3,
   "id": "683fe85d",
   "metadata": {
    "ExecuteTime": {
     "end_time": "2022-02-20T08:49:48.361739Z",
     "start_time": "2022-02-20T08:49:48.352763Z"
    }
   },
   "outputs": [],
   "source": [
    "import IPython"
   ]
  },
  {
   "cell_type": "code",
   "execution_count": 4,
   "id": "e32b292b",
   "metadata": {
    "ExecuteTime": {
     "end_time": "2022-02-20T08:49:49.678906Z",
     "start_time": "2022-02-20T08:49:49.078729Z"
    }
   },
   "outputs": [
    {
     "name": "stdout",
     "output_type": "stream",
     "text": [
      "7.29.0\n"
     ]
    }
   ],
   "source": [
    "!IPython --version"
   ]
  },
  {
   "cell_type": "code",
   "execution_count": 5,
   "id": "a95cca81",
   "metadata": {
    "ExecuteTime": {
     "end_time": "2022-02-20T08:50:02.757075Z",
     "start_time": "2022-02-20T08:49:58.296311Z"
    }
   },
   "outputs": [
    {
     "name": "stdout",
     "output_type": "stream",
     "text": [
      "# packages in environment at C:\\Users\\User\\anaconda3:\n",
      "#\n",
      "# Name                    Version                   Build  Channel\n",
      "ipython                   7.29.0           py39hd4e2768_0  \n",
      "ipython_genutils          0.2.0              pyhd3eb1b0_1  \n"
     ]
    }
   ],
   "source": [
    "!conda list ipython"
   ]
  },
  {
   "cell_type": "code",
   "execution_count": null,
   "id": "6eff1dbb",
   "metadata": {},
   "outputs": [],
   "source": []
  }
 ],
 "metadata": {
  "kernelspec": {
   "display_name": "Python 3 (ipykernel)",
   "language": "python",
   "name": "python3"
  },
  "language_info": {
   "codemirror_mode": {
    "name": "ipython",
    "version": 3
   },
   "file_extension": ".py",
   "mimetype": "text/x-python",
   "name": "python",
   "nbconvert_exporter": "python",
   "pygments_lexer": "ipython3",
   "version": "3.9.7"
  },
  "toc": {
   "base_numbering": 1,
   "nav_menu": {},
   "number_sections": true,
   "sideBar": true,
   "skip_h1_title": false,
   "title_cell": "Table of Contents",
   "title_sidebar": "Contents",
   "toc_cell": false,
   "toc_position": {},
   "toc_section_display": true,
   "toc_window_display": false
  },
  "varInspector": {
   "cols": {
    "lenName": 16,
    "lenType": 16,
    "lenVar": 40
   },
   "kernels_config": {
    "python": {
     "delete_cmd_postfix": "",
     "delete_cmd_prefix": "del ",
     "library": "var_list.py",
     "varRefreshCmd": "print(var_dic_list())"
    },
    "r": {
     "delete_cmd_postfix": ") ",
     "delete_cmd_prefix": "rm(",
     "library": "var_list.r",
     "varRefreshCmd": "cat(var_dic_list()) "
    }
   },
   "types_to_exclude": [
    "module",
    "function",
    "builtin_function_or_method",
    "instance",
    "_Feature"
   ],
   "window_display": false
  }
 },
 "nbformat": 4,
 "nbformat_minor": 5
}
