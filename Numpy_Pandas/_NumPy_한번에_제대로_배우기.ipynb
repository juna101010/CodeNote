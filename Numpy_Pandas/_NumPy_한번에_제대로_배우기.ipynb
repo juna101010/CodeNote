{
 "cells": [
  {
   "cell_type": "markdown",
   "metadata": {
    "id": "J_FfQuu2Tb30"
   },
   "source": [
    "# NumPy 한번에 제대로 배우기"
   ]
  },
  {
   "cell_type": "markdown",
   "metadata": {
    "id": "Zgrrh9T2vs8u"
   },
   "source": [
    "\n",
    "\n",
    "---\n",
    "\n"
   ]
  },
  {
   "cell_type": "markdown",
   "metadata": {
    "id": "oR5hNBH-Retd"
   },
   "source": [
    "## NumPy 특징\n",
    "\n",
    "* Numerical Python의 약자\n",
    "* 고성능 과학 계산용 패키지로 강력한 N차원 배열 객체\n",
    "* 범용적 데이터 처리에 사용 가능한 다차원 컨테이너\n",
    "* 정교한 브로드캐스팅(broadcasting) 기능\n",
    "* 파이썬의 자료형 list와 비슷하지만, 더 빠르고 메모리를 효율적으로 관리\n",
    "* 반복문 없이 데이터 배열에 대한 처리를 지원하여 빠르고 편리\n",
    "* 데이터 과학 도구에 대한 생태계의 핵심을 이루고 있음"
   ]
  },
  {
   "cell_type": "code",
   "execution_count": 1,
   "metadata": {
    "ExecuteTime": {
     "end_time": "2022-03-20T01:26:32.640577Z",
     "start_time": "2022-03-20T01:26:32.411198Z"
    },
    "colab": {
     "base_uri": "https://localhost:8080/",
     "height": 35
    },
    "executionInfo": {
     "elapsed": 25,
     "status": "ok",
     "timestamp": 1647927165260,
     "user": {
      "displayName": "강준모",
      "photoUrl": "https://lh3.googleusercontent.com/a/default-user=s64",
      "userId": "14855937078495325719"
     },
     "user_tz": -540
    },
    "id": "R9klTdhLQ564",
    "outputId": "f052c9e9-02a4-4bf9-8e79-565404ad6aba"
   },
   "outputs": [
    {
     "data": {
      "application/vnd.google.colaboratory.intrinsic+json": {
       "type": "string"
      },
      "text/plain": [
       "'1.21.5'"
      ]
     },
     "execution_count": 1,
     "metadata": {},
     "output_type": "execute_result"
    }
   ],
   "source": [
    "import numpy as np\n",
    "np.__version__"
   ]
  },
  {
   "cell_type": "markdown",
   "metadata": {
    "id": "2hSWC5ptGyWP"
   },
   "source": [
    "\n",
    "\n",
    "---\n",
    "\n"
   ]
  },
  {
   "cell_type": "markdown",
   "metadata": {
    "id": "1kgkJZFlVUqk"
   },
   "source": [
    "## 배열 생성"
   ]
  },
  {
   "cell_type": "markdown",
   "metadata": {
    "id": "5eQ4sAkMbzm0"
   },
   "source": [
    "### 리스트로 배열 만들기\n"
   ]
  },
  {
   "cell_type": "code",
   "execution_count": 2,
   "metadata": {
    "ExecuteTime": {
     "end_time": "2022-03-20T01:26:32.655538Z",
     "start_time": "2022-03-20T01:26:32.642573Z"
    },
    "colab": {
     "base_uri": "https://localhost:8080/"
    },
    "executionInfo": {
     "elapsed": 24,
     "status": "ok",
     "timestamp": 1647927165261,
     "user": {
      "displayName": "강준모",
      "photoUrl": "https://lh3.googleusercontent.com/a/default-user=s64",
      "userId": "14855937078495325719"
     },
     "user_tz": -540
    },
    "id": "Mtod2jcPWVvV",
    "outputId": "57bc2248-7e19-4707-f3cd-b33f5b573ebb"
   },
   "outputs": [
    {
     "name": "stdout",
     "output_type": "stream",
     "text": [
      "[1 2 3 4 5]\n",
      "<class 'numpy.ndarray'>\n",
      "(5,)\n",
      "1 2 3\n",
      "[4 2 3 4 5]\n"
     ]
    }
   ],
   "source": [
    "a1 = np.array([1, 2, 3, 4, 5])\n",
    "print(a1)\n",
    "print(type(a1))\n",
    "print(a1.shape)\n",
    "print(a1[0], a1[1], a1[2])\n",
    "a1[0] = 4\n",
    "print(a1)"
   ]
  },
  {
   "cell_type": "code",
   "execution_count": 3,
   "metadata": {
    "ExecuteTime": {
     "end_time": "2022-03-20T01:26:32.670499Z",
     "start_time": "2022-03-20T01:26:32.657532Z"
    },
    "colab": {
     "base_uri": "https://localhost:8080/"
    },
    "executionInfo": {
     "elapsed": 18,
     "status": "ok",
     "timestamp": 1647927165261,
     "user": {
      "displayName": "강준모",
      "photoUrl": "https://lh3.googleusercontent.com/a/default-user=s64",
      "userId": "14855937078495325719"
     },
     "user_tz": -540
    },
    "id": "vp9tkHH8esXT",
    "outputId": "70d91e85-5b2c-41b3-e513-dbff85f5f5ef"
   },
   "outputs": [
    {
     "name": "stdout",
     "output_type": "stream",
     "text": [
      "[[1 2 3]\n",
      " [4 5 6]\n",
      " [7 8 9]]\n",
      "(3, 3)\n",
      "1\n"
     ]
    }
   ],
   "source": [
    "a2 = np.array([[1,2,3],\n",
    "              [4,5,6],\n",
    "              [7,8,9]])\n",
    "print(a2)\n",
    "print(a2.shape)\n",
    "print(a2[0, 0])"
   ]
  },
  {
   "cell_type": "code",
   "execution_count": 4,
   "metadata": {
    "ExecuteTime": {
     "end_time": "2022-03-20T01:26:32.685457Z",
     "start_time": "2022-03-20T01:26:32.674488Z"
    },
    "colab": {
     "base_uri": "https://localhost:8080/"
    },
    "executionInfo": {
     "elapsed": 14,
     "status": "ok",
     "timestamp": 1647927165262,
     "user": {
      "displayName": "강준모",
      "photoUrl": "https://lh3.googleusercontent.com/a/default-user=s64",
      "userId": "14855937078495325719"
     },
     "user_tz": -540
    },
    "id": "Baj4gZ2meuJu",
    "outputId": "4b086099-e52c-4e1f-aafa-f441bf166856"
   },
   "outputs": [
    {
     "name": "stdout",
     "output_type": "stream",
     "text": [
      "[[[1 2 3]\n",
      "  [4 5 6]\n",
      "  [7 8 9]]\n",
      "\n",
      " [[1 2 3]\n",
      "  [4 5 6]\n",
      "  [7 8 9]]]\n",
      "(2, 3, 3)\n",
      "[1 2 3]\n"
     ]
    }
   ],
   "source": [
    "a3 = np.array([[\n",
    "    [1,2,3],\n",
    "    [4,5,6],\n",
    "    [7,8,9]\n",
    "], [\n",
    "    [1,2,3],\n",
    "    [4,5,6],\n",
    "    [7,8,9]\n",
    "]])\n",
    "print(a3)\n",
    "print(a3.shape)\n",
    "print(a3[0, 0])"
   ]
  },
  {
   "cell_type": "markdown",
   "metadata": {
    "id": "PNkKtw4CoSDB"
   },
   "source": [
    "### 배열 생성 및 초기화"
   ]
  },
  {
   "cell_type": "markdown",
   "metadata": {
    "id": "mJVii5p_VfgM"
   },
   "source": [
    "* `zeros()`: 모든 요소를 0으로 초기화"
   ]
  },
  {
   "cell_type": "code",
   "execution_count": 5,
   "metadata": {
    "ExecuteTime": {
     "end_time": "2022-03-20T01:26:32.700416Z",
     "start_time": "2022-03-20T01:26:32.687480Z"
    },
    "colab": {
     "base_uri": "https://localhost:8080/"
    },
    "executionInfo": {
     "elapsed": 509,
     "status": "ok",
     "timestamp": 1647927165763,
     "user": {
      "displayName": "강준모",
      "photoUrl": "https://lh3.googleusercontent.com/a/default-user=s64",
      "userId": "14855937078495325719"
     },
     "user_tz": -540
    },
    "id": "W_SF1tVoVTf1",
    "outputId": "0b7a6076-dc8f-4034-87e2-d356195f00cc"
   },
   "outputs": [
    {
     "data": {
      "text/plain": [
       "array([[0., 0., 0., 0., 0., 0., 0., 0., 0., 0.],\n",
       "       [0., 0., 0., 0., 0., 0., 0., 0., 0., 0.],\n",
       "       [0., 0., 0., 0., 0., 0., 0., 0., 0., 0.],\n",
       "       [0., 0., 0., 0., 0., 0., 0., 0., 0., 0.],\n",
       "       [0., 0., 0., 0., 0., 0., 0., 0., 0., 0.],\n",
       "       [0., 0., 0., 0., 0., 0., 0., 0., 0., 0.],\n",
       "       [0., 0., 0., 0., 0., 0., 0., 0., 0., 0.],\n",
       "       [0., 0., 0., 0., 0., 0., 0., 0., 0., 0.],\n",
       "       [0., 0., 0., 0., 0., 0., 0., 0., 0., 0.],\n",
       "       [0., 0., 0., 0., 0., 0., 0., 0., 0., 0.]])"
      ]
     },
     "execution_count": 5,
     "metadata": {},
     "output_type": "execute_result"
    }
   ],
   "source": [
    "np.zeros((10, 10))"
   ]
  },
  {
   "cell_type": "markdown",
   "metadata": {
    "id": "LjYFQrODVqhX"
   },
   "source": [
    "* `ones()`: 모든 요소를 1로 초기화"
   ]
  },
  {
   "cell_type": "code",
   "execution_count": 6,
   "metadata": {
    "ExecuteTime": {
     "end_time": "2022-03-20T01:26:32.715378Z",
     "start_time": "2022-03-20T01:26:32.702412Z"
    },
    "colab": {
     "base_uri": "https://localhost:8080/"
    },
    "executionInfo": {
     "elapsed": 93,
     "status": "ok",
     "timestamp": 1647927165764,
     "user": {
      "displayName": "강준모",
      "photoUrl": "https://lh3.googleusercontent.com/a/default-user=s64",
      "userId": "14855937078495325719"
     },
     "user_tz": -540
    },
    "id": "MURoqsMsVeUw",
    "outputId": "e28ce45b-170e-43a4-89c1-ece7d4ac9270"
   },
   "outputs": [
    {
     "data": {
      "text/plain": [
       "array([1., 1., 1., 1., 1., 1., 1., 1., 1., 1.])"
      ]
     },
     "execution_count": 6,
     "metadata": {},
     "output_type": "execute_result"
    }
   ],
   "source": [
    "np.ones(10)"
   ]
  },
  {
   "cell_type": "markdown",
   "metadata": {
    "id": "jnmm3Cj-cGtx"
   },
   "source": [
    "* `full()`: 모든 요소를 지정한 값으로 초기화"
   ]
  },
  {
   "cell_type": "code",
   "execution_count": 7,
   "metadata": {
    "ExecuteTime": {
     "end_time": "2022-03-20T01:26:32.730338Z",
     "start_time": "2022-03-20T01:26:32.717374Z"
    },
    "colab": {
     "base_uri": "https://localhost:8080/"
    },
    "executionInfo": {
     "elapsed": 88,
     "status": "ok",
     "timestamp": 1647927165765,
     "user": {
      "displayName": "강준모",
      "photoUrl": "https://lh3.googleusercontent.com/a/default-user=s64",
      "userId": "14855937078495325719"
     },
     "user_tz": -540
    },
    "id": "oscabrdcV7Ny",
    "outputId": "7f121198-31f3-42c1-fa82-de932e3123ad"
   },
   "outputs": [
    {
     "data": {
      "text/plain": [
       "array([[1.23, 1.23, 1.23],\n",
       "       [1.23, 1.23, 1.23],\n",
       "       [1.23, 1.23, 1.23]])"
      ]
     },
     "execution_count": 7,
     "metadata": {},
     "output_type": "execute_result"
    }
   ],
   "source": [
    "np.full(shape=(3, 3), fill_value=1.23)"
   ]
  },
  {
   "cell_type": "markdown",
   "metadata": {
    "id": "0SRI4jbmlIKc"
   },
   "source": [
    "* `eye()`: 단위행렬(identity matrix) 생성\n",
    "  + 주대각선의 원소가 모두 1이고 나머지 원소는 모두 0인 정사각 행렬"
   ]
  },
  {
   "cell_type": "code",
   "execution_count": 8,
   "metadata": {
    "ExecuteTime": {
     "end_time": "2022-03-20T01:26:32.745297Z",
     "start_time": "2022-03-20T01:26:32.732332Z"
    },
    "colab": {
     "base_uri": "https://localhost:8080/"
    },
    "executionInfo": {
     "elapsed": 82,
     "status": "ok",
     "timestamp": 1647927165765,
     "user": {
      "displayName": "강준모",
      "photoUrl": "https://lh3.googleusercontent.com/a/default-user=s64",
      "userId": "14855937078495325719"
     },
     "user_tz": -540
    },
    "id": "VceBVLLjk9o5",
    "outputId": "808288b6-8fa5-40f2-a072-19b68abed716"
   },
   "outputs": [
    {
     "data": {
      "text/plain": [
       "array([[1., 0., 0.],\n",
       "       [0., 1., 0.],\n",
       "       [0., 0., 1.]])"
      ]
     },
     "execution_count": 8,
     "metadata": {},
     "output_type": "execute_result"
    }
   ],
   "source": [
    "np.eye(3)"
   ]
  },
  {
   "cell_type": "markdown",
   "metadata": {
    "id": "7CCH1ZMT5R02"
   },
   "source": [
    "* `tri()`: 삼각행렬 생성"
   ]
  },
  {
   "cell_type": "code",
   "execution_count": 9,
   "metadata": {
    "ExecuteTime": {
     "end_time": "2022-03-20T01:26:32.760259Z",
     "start_time": "2022-03-20T01:26:32.746295Z"
    },
    "colab": {
     "base_uri": "https://localhost:8080/"
    },
    "executionInfo": {
     "elapsed": 77,
     "status": "ok",
     "timestamp": 1647927165766,
     "user": {
      "displayName": "강준모",
      "photoUrl": "https://lh3.googleusercontent.com/a/default-user=s64",
      "userId": "14855937078495325719"
     },
     "user_tz": -540
    },
    "id": "mLe2Bhj05VYu",
    "outputId": "44f9efc2-25eb-48d8-db54-c9d341decd8f"
   },
   "outputs": [
    {
     "data": {
      "text/plain": [
       "array([[1., 0., 0.],\n",
       "       [1., 1., 0.],\n",
       "       [1., 1., 1.]])"
      ]
     },
     "execution_count": 9,
     "metadata": {},
     "output_type": "execute_result"
    }
   ],
   "source": [
    "np.tri(3)"
   ]
  },
  {
   "cell_type": "markdown",
   "metadata": {
    "id": "ObZRA4HclZlO"
   },
   "source": [
    "* `empty()`: 초기화되지 않은 배열 생성\n",
    "  + 초기화가 없어서 배열 생성비용 저렴하고 빠름\n",
    "  + 초기화되지 않아서 기존 메모리 위치에 존재하는 값이 있음"
   ]
  },
  {
   "cell_type": "code",
   "execution_count": 10,
   "metadata": {
    "ExecuteTime": {
     "end_time": "2022-03-20T01:26:32.775217Z",
     "start_time": "2022-03-20T01:26:32.764247Z"
    },
    "colab": {
     "base_uri": "https://localhost:8080/"
    },
    "executionInfo": {
     "elapsed": 72,
     "status": "ok",
     "timestamp": 1647927165766,
     "user": {
      "displayName": "강준모",
      "photoUrl": "https://lh3.googleusercontent.com/a/default-user=s64",
      "userId": "14855937078495325719"
     },
     "user_tz": -540
    },
    "id": "I3SoFgiglAkz",
    "outputId": "5721d563-b5d5-4161-d5e4-6530e7e83525"
   },
   "outputs": [
    {
     "data": {
      "text/plain": [
       "array([1., 1., 1., 1., 1., 1., 1., 1., 1., 1.])"
      ]
     },
     "execution_count": 10,
     "metadata": {},
     "output_type": "execute_result"
    }
   ],
   "source": [
    "temp = np.empty(10)\n",
    "temp"
   ]
  },
  {
   "cell_type": "markdown",
   "metadata": {
    "id": "p3uSl1Ccmi5_"
   },
   "source": [
    "* `_like()`: 지정된 배열과 shape가 같은 행렬 생성\n",
    "  + `np.zeros_like()`\n",
    "  + `np.ones_like()`\n",
    "  + `np.full_like()`\n",
    "  + `np.empty_like()`"
   ]
  },
  {
   "cell_type": "code",
   "execution_count": 11,
   "metadata": {
    "ExecuteTime": {
     "end_time": "2022-03-20T01:26:32.790199Z",
     "start_time": "2022-03-20T01:26:32.777212Z"
    },
    "colab": {
     "base_uri": "https://localhost:8080/"
    },
    "executionInfo": {
     "elapsed": 68,
     "status": "ok",
     "timestamp": 1647927165767,
     "user": {
      "displayName": "강준모",
      "photoUrl": "https://lh3.googleusercontent.com/a/default-user=s64",
      "userId": "14855937078495325719"
     },
     "user_tz": -540
    },
    "id": "Ad5RskRRlZLs",
    "outputId": "c1a25478-f102-4b38-a576-e0722237aa07"
   },
   "outputs": [
    {
     "name": "stdout",
     "output_type": "stream",
     "text": [
      "[4 2 3 4 5]\n"
     ]
    },
    {
     "data": {
      "text/plain": [
       "array([0, 0, 0, 0, 0])"
      ]
     },
     "execution_count": 11,
     "metadata": {},
     "output_type": "execute_result"
    }
   ],
   "source": [
    "print(a1)\n",
    "np.zeros_like(a1)"
   ]
  },
  {
   "cell_type": "code",
   "execution_count": 12,
   "metadata": {
    "ExecuteTime": {
     "end_time": "2022-03-20T01:26:32.805137Z",
     "start_time": "2022-03-20T01:26:32.793172Z"
    },
    "colab": {
     "base_uri": "https://localhost:8080/"
    },
    "executionInfo": {
     "elapsed": 63,
     "status": "ok",
     "timestamp": 1647927165767,
     "user": {
      "displayName": "강준모",
      "photoUrl": "https://lh3.googleusercontent.com/a/default-user=s64",
      "userId": "14855937078495325719"
     },
     "user_tz": -540
    },
    "id": "KChUHsG003Nf",
    "outputId": "e6a6238f-5ab4-4395-8f14-f5ef55b86b80"
   },
   "outputs": [
    {
     "name": "stdout",
     "output_type": "stream",
     "text": [
      "[[1 2 3]\n",
      " [4 5 6]\n",
      " [7 8 9]]\n"
     ]
    },
    {
     "data": {
      "text/plain": [
       "array([[1, 1, 1],\n",
       "       [1, 1, 1],\n",
       "       [1, 1, 1]])"
      ]
     },
     "execution_count": 12,
     "metadata": {},
     "output_type": "execute_result"
    }
   ],
   "source": [
    "print(a2)\n",
    "np.ones_like(a2)"
   ]
  },
  {
   "cell_type": "code",
   "execution_count": 13,
   "metadata": {
    "ExecuteTime": {
     "end_time": "2022-03-20T01:26:32.820096Z",
     "start_time": "2022-03-20T01:26:32.807132Z"
    },
    "colab": {
     "base_uri": "https://localhost:8080/"
    },
    "executionInfo": {
     "elapsed": 57,
     "status": "ok",
     "timestamp": 1647927165767,
     "user": {
      "displayName": "강준모",
      "photoUrl": "https://lh3.googleusercontent.com/a/default-user=s64",
      "userId": "14855937078495325719"
     },
     "user_tz": -540
    },
    "id": "PUnDz6b305Gg",
    "outputId": "ee333bc7-ed74-4c55-8e01-6f08aacb71e3"
   },
   "outputs": [
    {
     "name": "stdout",
     "output_type": "stream",
     "text": [
      "[[[1 2 3]\n",
      "  [4 5 6]\n",
      "  [7 8 9]]\n",
      "\n",
      " [[1 2 3]\n",
      "  [4 5 6]\n",
      "  [7 8 9]]]\n"
     ]
    },
    {
     "data": {
      "text/plain": [
       "array([[[10, 10, 10],\n",
       "        [10, 10, 10],\n",
       "        [10, 10, 10]],\n",
       "\n",
       "       [[10, 10, 10],\n",
       "        [10, 10, 10],\n",
       "        [10, 10, 10]]])"
      ]
     },
     "execution_count": 13,
     "metadata": {},
     "output_type": "execute_result"
    }
   ],
   "source": [
    "print(a3)\n",
    "np.full_like(a3, 10)"
   ]
  },
  {
   "cell_type": "markdown",
   "metadata": {
    "id": "apoksGJNrn1z"
   },
   "source": [
    "### 생성한 값으로 배열 생성"
   ]
  },
  {
   "cell_type": "markdown",
   "metadata": {
    "id": "H3nmLct8cnV8"
   },
   "source": [
    "* `arange()`: 정수 범위로 배열 생성"
   ]
  },
  {
   "cell_type": "code",
   "execution_count": 14,
   "metadata": {
    "ExecuteTime": {
     "end_time": "2022-03-20T01:26:32.835057Z",
     "start_time": "2022-03-20T01:26:32.822091Z"
    },
    "colab": {
     "base_uri": "https://localhost:8080/"
    },
    "executionInfo": {
     "elapsed": 50,
     "status": "ok",
     "timestamp": 1647927165768,
     "user": {
      "displayName": "강준모",
      "photoUrl": "https://lh3.googleusercontent.com/a/default-user=s64",
      "userId": "14855937078495325719"
     },
     "user_tz": -540
    },
    "id": "mANy4WY4cDKa",
    "outputId": "94386e84-ad3c-4d8c-e27a-16a3431162fd"
   },
   "outputs": [
    {
     "data": {
      "text/plain": [
       "array([ 0,  2,  4,  6,  8, 10, 12, 14, 16, 18, 20, 22, 24, 26, 28])"
      ]
     },
     "execution_count": 14,
     "metadata": {},
     "output_type": "execute_result"
    }
   ],
   "source": [
    "np.arange(0, 30, 2)"
   ]
  },
  {
   "cell_type": "markdown",
   "metadata": {
    "id": "s5kET1e6itlo"
   },
   "source": [
    "* `linspace()`: 범위 내에서 균등 간격의 배열 생성\n",
    "* https://appia.tistory.com/154"
   ]
  },
  {
   "cell_type": "code",
   "execution_count": 15,
   "metadata": {
    "ExecuteTime": {
     "end_time": "2022-03-20T01:26:32.850025Z",
     "start_time": "2022-03-20T01:26:32.837052Z"
    },
    "colab": {
     "base_uri": "https://localhost:8080/"
    },
    "executionInfo": {
     "elapsed": 44,
     "status": "ok",
     "timestamp": 1647927165768,
     "user": {
      "displayName": "강준모",
      "photoUrl": "https://lh3.googleusercontent.com/a/default-user=s64",
      "userId": "14855937078495325719"
     },
     "user_tz": -540
    },
    "id": "u4q9gI7Zcltz",
    "outputId": "95636363-5ca2-46fe-a19b-71b637b0614a"
   },
   "outputs": [
    {
     "data": {
      "text/plain": [
       "array([0.  , 0.25, 0.5 , 0.75, 1.  ])"
      ]
     },
     "execution_count": 15,
     "metadata": {},
     "output_type": "execute_result"
    }
   ],
   "source": [
    "np.linspace(0,1, 5) # 0부터 1까지 5개의 균등한 간격"
   ]
  },
  {
   "cell_type": "markdown",
   "metadata": {
    "id": "Eq26d7T3nnAH"
   },
   "source": [
    "* `logspace()`: 범위 내에서 균등간격으로 로그 스케일로 배열 생성"
   ]
  },
  {
   "cell_type": "code",
   "execution_count": 142,
   "metadata": {
    "colab": {
     "base_uri": "https://localhost:8080/"
    },
    "executionInfo": {
     "elapsed": 7,
     "status": "ok",
     "timestamp": 1647927318608,
     "user": {
      "displayName": "강준모",
      "photoUrl": "https://lh3.googleusercontent.com/a/default-user=s64",
      "userId": "14855937078495325719"
     },
     "user_tz": -540
    },
    "id": "5X8w__xsHHTO",
    "outputId": "51941f3f-1829-42cf-a8a1-7177a2360368"
   },
   "outputs": [
    {
     "data": {
      "text/plain": [
       "array([   2.,    4.,    8.,   16.,   32.,   64.,  128.,  256.,  512.,\n",
       "       1024.])"
      ]
     },
     "execution_count": 142,
     "metadata": {},
     "output_type": "execute_result"
    }
   ],
   "source": [
    "np.logspace(1,10,num = 10, base = 2)"
   ]
  },
  {
   "cell_type": "code",
   "execution_count": 148,
   "metadata": {
    "colab": {
     "base_uri": "https://localhost:8080/"
    },
    "executionInfo": {
     "elapsed": 8,
     "status": "ok",
     "timestamp": 1647927449180,
     "user": {
      "displayName": "강준모",
      "photoUrl": "https://lh3.googleusercontent.com/a/default-user=s64",
      "userId": "14855937078495325719"
     },
     "user_tz": -540
    },
    "id": "6254vsCOHS7h",
    "outputId": "bb6f51e1-180e-4cd9-cd09-08627502dfe8"
   },
   "outputs": [
    {
     "data": {
      "text/plain": [
       "array([1.e+01, 1.e+02, 1.e+03, 1.e+04, 1.e+05])"
      ]
     },
     "execution_count": 148,
     "metadata": {},
     "output_type": "execute_result"
    }
   ],
   "source": [
    "np.logspace(1,5,num = 5, base = 10)"
   ]
  },
  {
   "cell_type": "code",
   "execution_count": 149,
   "metadata": {
    "colab": {
     "base_uri": "https://localhost:8080/"
    },
    "executionInfo": {
     "elapsed": 285,
     "status": "ok",
     "timestamp": 1647927458846,
     "user": {
      "displayName": "강준모",
      "photoUrl": "https://lh3.googleusercontent.com/a/default-user=s64",
      "userId": "14855937078495325719"
     },
     "user_tz": -540
    },
    "id": "AfKvrlvXINYu",
    "outputId": "ccf6a0ae-5641-4c13-96aa-17c03c368581"
   },
   "outputs": [
    {
     "data": {
      "text/plain": [
       "array([1.e-01, 1.e-02, 1.e-03, 1.e-04, 1.e-05])"
      ]
     },
     "execution_count": 149,
     "metadata": {},
     "output_type": "execute_result"
    }
   ],
   "source": [
    "np.logspace(1,5,num = 5, base = 0.1)"
   ]
  },
  {
   "cell_type": "code",
   "execution_count": 17,
   "metadata": {
    "ExecuteTime": {
     "end_time": "2022-03-20T01:26:32.864977Z",
     "start_time": "2022-03-20T01:26:32.854009Z"
    },
    "colab": {
     "base_uri": "https://localhost:8080/"
    },
    "executionInfo": {
     "elapsed": 35,
     "status": "ok",
     "timestamp": 1647927165769,
     "user": {
      "displayName": "강준모",
      "photoUrl": "https://lh3.googleusercontent.com/a/default-user=s64",
      "userId": "14855937078495325719"
     },
     "user_tz": -540
    },
    "id": "-O29WBVEnyXX",
    "outputId": "629ccfbb-3e76-422a-8d64-cf42a06ae660"
   },
   "outputs": [
    {
     "data": {
      "text/plain": [
       "array([ 1.25892541,  1.40400425,  1.565802  ,  1.74624535,  1.94748304,\n",
       "        2.1719114 ,  2.42220294,  2.70133812,  3.0126409 ,  3.35981829,\n",
       "        3.74700446,  4.17881006,  4.66037703,  5.19743987,  5.79639395,\n",
       "        6.46437163,  7.2093272 ,  8.04013161,  8.9666781 , 10.        ])"
      ]
     },
     "execution_count": 17,
     "metadata": {},
     "output_type": "execute_result"
    }
   ],
   "source": [
    "np.logspace(0.1, 1, 20)"
   ]
  },
  {
   "cell_type": "code",
   "execution_count": 18,
   "metadata": {
    "ExecuteTime": {
     "end_time": "2022-03-20T01:26:32.879951Z",
     "start_time": "2022-03-20T01:26:32.866972Z"
    },
    "colab": {
     "base_uri": "https://localhost:8080/"
    },
    "executionInfo": {
     "elapsed": 30,
     "status": "ok",
     "timestamp": 1647927165770,
     "user": {
      "displayName": "강준모",
      "photoUrl": "https://lh3.googleusercontent.com/a/default-user=s64",
      "userId": "14855937078495325719"
     },
     "user_tz": -540
    },
    "id": "6LADDo3uLDHo",
    "outputId": "60bc96d2-ecc3-4f37-f3e8-5f860c4ae291"
   },
   "outputs": [
    {
     "data": {
      "text/plain": [
       "array([ 1.25892541,  1.58489319,  1.99526231,  2.51188643,  3.16227766,\n",
       "        3.98107171,  5.01187234,  6.30957344,  7.94328235, 10.        ])"
      ]
     },
     "execution_count": 18,
     "metadata": {},
     "output_type": "execute_result"
    }
   ],
   "source": [
    "np.logspace(0.1, 1, 10)"
   ]
  },
  {
   "cell_type": "markdown",
   "metadata": {
    "id": "vsPgxFCjLDHp"
   },
   "source": [
    "* 직접 추가\n",
    "* `geospace()`: 기하수열이래."
   ]
  },
  {
   "cell_type": "code",
   "execution_count": 19,
   "metadata": {
    "ExecuteTime": {
     "end_time": "2022-03-20T01:26:32.894898Z",
     "start_time": "2022-03-20T01:26:32.881936Z"
    },
    "colab": {
     "base_uri": "https://localhost:8080/"
    },
    "executionInfo": {
     "elapsed": 23,
     "status": "ok",
     "timestamp": 1647927165770,
     "user": {
      "displayName": "강준모",
      "photoUrl": "https://lh3.googleusercontent.com/a/default-user=s64",
      "userId": "14855937078495325719"
     },
     "user_tz": -540
    },
    "id": "dYUZA920LDHp",
    "outputId": "7da39366-e9e4-4002-825f-5bf7dae7d7fa"
   },
   "outputs": [
    {
     "name": "stdout",
     "output_type": "stream",
     "text": [
      "[   1.   10.  100. 1000.]\n",
      "[  1.           5.62341325  31.6227766  177.827941  ]\n",
      "[  1.  10. 100.]\n"
     ]
    }
   ],
   "source": [
    "print(np.geomspace(1, 1000, num=4))\n",
    "print(np.geomspace(1, 1000, num=4, endpoint=False))\n",
    "print(np.geomspace(1, 1000, num=3, endpoint=False))"
   ]
  },
  {
   "cell_type": "markdown",
   "metadata": {
    "id": "6_88s4_Jr7fO"
   },
   "source": [
    "### 랜덤값으로 배열 생성\n"
   ]
  },
  {
   "cell_type": "markdown",
   "metadata": {
    "id": "g8yaFdWFLDHq"
   },
   "source": [
    "![image.png](attachment:image.png)"
   ]
  },
  {
   "cell_type": "markdown",
   "metadata": {
    "id": "CoK1cVUkjNMg"
   },
   "source": [
    "* `random.random()`: 랜덤한 수의 배열 생성"
   ]
  },
  {
   "cell_type": "code",
   "execution_count": 20,
   "metadata": {
    "ExecuteTime": {
     "end_time": "2022-03-20T01:26:32.909869Z",
     "start_time": "2022-03-20T01:26:32.896892Z"
    },
    "colab": {
     "base_uri": "https://localhost:8080/"
    },
    "executionInfo": {
     "elapsed": 698,
     "status": "ok",
     "timestamp": 1647927166450,
     "user": {
      "displayName": "강준모",
      "photoUrl": "https://lh3.googleusercontent.com/a/default-user=s64",
      "userId": "14855937078495325719"
     },
     "user_tz": -540
    },
    "id": "qJwccKEnjMze",
    "outputId": "87e6fd1b-2bff-4b91-d0c9-b8513ce064b0"
   },
   "outputs": [
    {
     "data": {
      "text/plain": [
       "array([[0.80115595, 0.64520001, 0.74882482],\n",
       "       [0.89236271, 0.40494683, 0.17980431],\n",
       "       [0.8471634 , 0.16601537, 0.80783045]])"
      ]
     },
     "execution_count": 20,
     "metadata": {},
     "output_type": "execute_result"
    }
   ],
   "source": [
    "np.random.random((3, 3))"
   ]
  },
  {
   "cell_type": "markdown",
   "metadata": {
    "id": "BYsAVwA1kvDI"
   },
   "source": [
    "* `random.randint()`: 일정 구간의 랜덤 정수의 배열 생성"
   ]
  },
  {
   "cell_type": "code",
   "execution_count": 21,
   "metadata": {
    "ExecuteTime": {
     "end_time": "2022-03-20T01:26:32.924849Z",
     "start_time": "2022-03-20T01:26:32.911852Z"
    },
    "colab": {
     "base_uri": "https://localhost:8080/"
    },
    "executionInfo": {
     "elapsed": 307,
     "status": "ok",
     "timestamp": 1647927166450,
     "user": {
      "displayName": "강준모",
      "photoUrl": "https://lh3.googleusercontent.com/a/default-user=s64",
      "userId": "14855937078495325719"
     },
     "user_tz": -540
    },
    "id": "oR-UszZ_jqfQ",
    "outputId": "47eb7501-97a0-4922-cf34-276144e9e3a3"
   },
   "outputs": [
    {
     "data": {
      "text/plain": [
       "array([[8, 1, 2],\n",
       "       [6, 1, 1],\n",
       "       [5, 4, 1]])"
      ]
     },
     "execution_count": 21,
     "metadata": {},
     "output_type": "execute_result"
    }
   ],
   "source": [
    "np.random.randint(0, 10, (3, 3)) # 시작, 끝, shape"
   ]
  },
  {
   "cell_type": "markdown",
   "metadata": {
    "id": "2r557WHsjrL3"
   },
   "source": [
    "* `random.normal()`: 정규분포(normal distribution)를 고려한 랜덤한 수의 배열 생성\n",
    "* 평균=0, 표준편차=1, 3 x 3 배열"
   ]
  },
  {
   "cell_type": "code",
   "execution_count": 22,
   "metadata": {
    "ExecuteTime": {
     "end_time": "2022-03-20T01:26:32.939777Z",
     "start_time": "2022-03-20T01:26:32.926812Z"
    },
    "colab": {
     "base_uri": "https://localhost:8080/"
    },
    "executionInfo": {
     "elapsed": 299,
     "status": "ok",
     "timestamp": 1647927166451,
     "user": {
      "displayName": "강준모",
      "photoUrl": "https://lh3.googleusercontent.com/a/default-user=s64",
      "userId": "14855937078495325719"
     },
     "user_tz": -540
    },
    "id": "Oan3bSpHi2Wq",
    "outputId": "a99fcfa1-e1b9-4199-b60e-76df1ef92859"
   },
   "outputs": [
    {
     "data": {
      "text/plain": [
       "array([[-0.5346    ,  0.50510743, -0.76926978],\n",
       "       [-1.22561367,  0.19467102, -0.62314559],\n",
       "       [-1.01639109,  0.34044545,  0.34680589]])"
      ]
     },
     "execution_count": 22,
     "metadata": {},
     "output_type": "execute_result"
    }
   ],
   "source": [
    "np.random.normal(0, 1, size=(3, 3)) # 평균, 표준편차, shape"
   ]
  },
  {
   "cell_type": "markdown",
   "metadata": {
    "id": "fPO-D1rHsrFw"
   },
   "source": [
    "* `random.rand()`: 균등분포(uniform distribution)를 고려한 랜덤한 수의 배열 생성"
   ]
  },
  {
   "cell_type": "code",
   "execution_count": 23,
   "metadata": {
    "ExecuteTime": {
     "end_time": "2022-03-20T01:26:32.954747Z",
     "start_time": "2022-03-20T01:26:32.941773Z"
    },
    "colab": {
     "base_uri": "https://localhost:8080/"
    },
    "executionInfo": {
     "elapsed": 287,
     "status": "ok",
     "timestamp": 1647927166451,
     "user": {
      "displayName": "강준모",
      "photoUrl": "https://lh3.googleusercontent.com/a/default-user=s64",
      "userId": "14855937078495325719"
     },
     "user_tz": -540
    },
    "id": "DxiyEjnXnDUT",
    "outputId": "14d14e2b-81fc-452c-dc8a-ca6c5b20e0ca"
   },
   "outputs": [
    {
     "data": {
      "text/plain": [
       "array([[0.70517809, 0.16527769, 0.854371  ],\n",
       "       [0.24440177, 0.19572357, 0.63288814],\n",
       "       [0.72874352, 0.38876972, 0.63404955]])"
      ]
     },
     "execution_count": 23,
     "metadata": {},
     "output_type": "execute_result"
    }
   ],
   "source": [
    "np.random.rand(3, 3)"
   ]
  },
  {
   "cell_type": "markdown",
   "metadata": {
    "id": "IegH2dsPLQgd"
   },
   "source": [
    "* `random.randn()`: 표준 정규 분포(standard normal distribution)를 고려한 랜덤한 수의 배열 생성"
   ]
  },
  {
   "cell_type": "code",
   "execution_count": 24,
   "metadata": {
    "ExecuteTime": {
     "end_time": "2022-03-20T01:26:32.969696Z",
     "start_time": "2022-03-20T01:26:32.956733Z"
    },
    "colab": {
     "base_uri": "https://localhost:8080/"
    },
    "executionInfo": {
     "elapsed": 280,
     "status": "ok",
     "timestamp": 1647927166452,
     "user": {
      "displayName": "강준모",
      "photoUrl": "https://lh3.googleusercontent.com/a/default-user=s64",
      "userId": "14855937078495325719"
     },
     "user_tz": -540
    },
    "id": "V61VHa-JLIma",
    "outputId": "a5a3bded-2110-4e9d-a4ea-1002954b48c1"
   },
   "outputs": [
    {
     "data": {
      "text/plain": [
       "array([[ 0.39602531,  0.33224685,  1.25910994],\n",
       "       [ 0.4515822 , -0.2968141 ,  0.59865982],\n",
       "       [ 0.54503635, -0.09488815, -0.39558356]])"
      ]
     },
     "execution_count": 24,
     "metadata": {},
     "output_type": "execute_result"
    }
   ],
   "source": [
    "np.random.randn(3, 3)"
   ]
  },
  {
   "cell_type": "markdown",
   "metadata": {
    "id": "5ts0cYLQL_pT"
   },
   "source": [
    "### 표준 데이터 타입"
   ]
  },
  {
   "cell_type": "markdown",
   "metadata": {
    "id": "XMZPdkAgLDHv"
   },
   "source": [
    "![image-2.png](attachment:image-2.png)"
   ]
  },
  {
   "cell_type": "markdown",
   "metadata": {
    "id": "_q8vdEQ6LDHv"
   },
   "source": [
    "https://numpy.org/devdocs/release/1.20.0-notes.html#deprecations"
   ]
  },
  {
   "cell_type": "code",
   "execution_count": 25,
   "metadata": {
    "ExecuteTime": {
     "end_time": "2022-03-20T01:26:32.989645Z",
     "start_time": "2022-03-20T01:26:32.971691Z"
    },
    "colab": {
     "base_uri": "https://localhost:8080/"
    },
    "executionInfo": {
     "elapsed": 272,
     "status": "ok",
     "timestamp": 1647927166452,
     "user": {
      "displayName": "강준모",
      "photoUrl": "https://lh3.googleusercontent.com/a/default-user=s64",
      "userId": "14855937078495325719"
     },
     "user_tz": -540
    },
    "id": "rxqTqAFKL73y",
    "outputId": "b5c9992a-d0ef-4b99-f8e7-7bb5cbcc25ed"
   },
   "outputs": [
    {
     "data": {
      "text/plain": [
       "array([0, 0, 0, 0, 0, 0, 0, 0, 0, 0, 0, 0, 0, 0, 0, 0, 0, 0, 0, 0])"
      ]
     },
     "execution_count": 25,
     "metadata": {},
     "output_type": "execute_result"
    }
   ],
   "source": [
    "np.zeros(20, dtype=int)"
   ]
  },
  {
   "cell_type": "code",
   "execution_count": 26,
   "metadata": {
    "ExecuteTime": {
     "end_time": "2022-03-20T01:26:32.999617Z",
     "start_time": "2022-03-20T01:26:32.992636Z"
    },
    "colab": {
     "base_uri": "https://localhost:8080/"
    },
    "executionInfo": {
     "elapsed": 262,
     "status": "ok",
     "timestamp": 1647927166452,
     "user": {
      "displayName": "강준모",
      "photoUrl": "https://lh3.googleusercontent.com/a/default-user=s64",
      "userId": "14855937078495325719"
     },
     "user_tz": -540
    },
    "id": "o9TuSl6HIsXr",
    "outputId": "309ba9ba-29db-4dca-9b48-5583dd1a004c"
   },
   "outputs": [
    {
     "data": {
      "text/plain": [
       "array([[ True,  True,  True],\n",
       "       [ True,  True,  True],\n",
       "       [ True,  True,  True]])"
      ]
     },
     "execution_count": 26,
     "metadata": {},
     "output_type": "execute_result"
    }
   ],
   "source": [
    "np.ones((3, 3), dtype=bool)"
   ]
  },
  {
   "cell_type": "code",
   "execution_count": 27,
   "metadata": {
    "ExecuteTime": {
     "end_time": "2022-03-20T01:26:33.014596Z",
     "start_time": "2022-03-20T01:26:33.001611Z"
    },
    "colab": {
     "base_uri": "https://localhost:8080/"
    },
    "executionInfo": {
     "elapsed": 248,
     "status": "ok",
     "timestamp": 1647927166453,
     "user": {
      "displayName": "강준모",
      "photoUrl": "https://lh3.googleusercontent.com/a/default-user=s64",
      "userId": "14855937078495325719"
     },
     "user_tz": -540
    },
    "id": "w-TciNfzEhY0",
    "outputId": "79038a43-c9ce-4de4-8379-b255a756a85a"
   },
   "outputs": [
    {
     "data": {
      "text/plain": [
       "array([[1., 1., 1.],\n",
       "       [1., 1., 1.],\n",
       "       [1., 1., 1.]])"
      ]
     },
     "execution_count": 27,
     "metadata": {},
     "output_type": "execute_result"
    }
   ],
   "source": [
    "np.full((3, 3), 1.0, dtype=np.float_) # 위의 링크에서 바뀐 넘파이 데이터타입 명명법을 확인"
   ]
  },
  {
   "cell_type": "markdown",
   "metadata": {
    "id": "1qFumu-p-0mQ"
   },
   "source": [
    "### 날짜/시간 배열 생성\n"
   ]
  },
  {
   "cell_type": "markdown",
   "metadata": {
    "id": "diQML82tLDH0"
   },
   "source": [
    "![image.png](attachment:image.png)"
   ]
  },
  {
   "cell_type": "code",
   "execution_count": 28,
   "metadata": {
    "ExecuteTime": {
     "end_time": "2022-03-20T01:26:33.029536Z",
     "start_time": "2022-03-20T01:26:33.016573Z"
    },
    "colab": {
     "base_uri": "https://localhost:8080/"
    },
    "executionInfo": {
     "elapsed": 240,
     "status": "ok",
     "timestamp": 1647927166453,
     "user": {
      "displayName": "강준모",
      "photoUrl": "https://lh3.googleusercontent.com/a/default-user=s64",
      "userId": "14855937078495325719"
     },
     "user_tz": -540
    },
    "id": "D8ozvTUf-6Rr",
    "outputId": "f660e0df-d4f8-4e33-fd5e-9b4111ad83ca"
   },
   "outputs": [
    {
     "data": {
      "text/plain": [
       "array('2020-01-01', dtype='datetime64[D]')"
      ]
     },
     "execution_count": 28,
     "metadata": {},
     "output_type": "execute_result"
    }
   ],
   "source": [
    "data = np.array('2020-01-01', dtype=np.datetime64) # 스트링으로 들어가는게 아니라 날짜로 들어가게됨.\n",
    "data"
   ]
  },
  {
   "cell_type": "code",
   "execution_count": 29,
   "metadata": {
    "ExecuteTime": {
     "end_time": "2022-03-20T01:26:33.044503Z",
     "start_time": "2022-03-20T01:26:33.035542Z"
    },
    "colab": {
     "base_uri": "https://localhost:8080/"
    },
    "executionInfo": {
     "elapsed": 234,
     "status": "ok",
     "timestamp": 1647927166454,
     "user": {
      "displayName": "강준모",
      "photoUrl": "https://lh3.googleusercontent.com/a/default-user=s64",
      "userId": "14855937078495325719"
     },
     "user_tz": -540
    },
    "id": "XIjLUkn6_K3J",
    "outputId": "3d025476-4cfb-45f9-871a-a24a87cb2699"
   },
   "outputs": [
    {
     "data": {
      "text/plain": [
       "array(['2020-01-01', '2020-01-02', '2020-01-03', '2020-01-04',\n",
       "       '2020-01-05', '2020-01-06', '2020-01-07', '2020-01-08',\n",
       "       '2020-01-09', '2020-01-10', '2020-01-11', '2020-01-12'],\n",
       "      dtype='datetime64[D]')"
      ]
     },
     "execution_count": 29,
     "metadata": {},
     "output_type": "execute_result"
    }
   ],
   "source": [
    "# 다음과 같은 연산을 할 수 있음.\n",
    "data + np.arange(12)"
   ]
  },
  {
   "cell_type": "code",
   "execution_count": 30,
   "metadata": {
    "ExecuteTime": {
     "end_time": "2022-03-20T01:26:33.059459Z",
     "start_time": "2022-03-20T01:26:33.046491Z"
    },
    "colab": {
     "base_uri": "https://localhost:8080/"
    },
    "executionInfo": {
     "elapsed": 224,
     "status": "ok",
     "timestamp": 1647927166454,
     "user": {
      "displayName": "강준모",
      "photoUrl": "https://lh3.googleusercontent.com/a/default-user=s64",
      "userId": "14855937078495325719"
     },
     "user_tz": -540
    },
    "id": "EO7yE5VR_Wlh",
    "outputId": "6a700bee-febd-47ae-fcc6-1f3e4b0f3535"
   },
   "outputs": [
    {
     "data": {
      "text/plain": [
       "numpy.datetime64('2020-06-01T12:00')"
      ]
     },
     "execution_count": 30,
     "metadata": {},
     "output_type": "execute_result"
    }
   ],
   "source": [
    "datetime = np.datetime64('2020-06-01 12:00') #시간도 저장가능\n",
    "datetime"
   ]
  },
  {
   "cell_type": "code",
   "execution_count": 31,
   "metadata": {
    "ExecuteTime": {
     "end_time": "2022-03-20T01:26:33.074798Z",
     "start_time": "2022-03-20T01:26:33.062452Z"
    },
    "colab": {
     "base_uri": "https://localhost:8080/"
    },
    "executionInfo": {
     "elapsed": 217,
     "status": "ok",
     "timestamp": 1647927166455,
     "user": {
      "displayName": "강준모",
      "photoUrl": "https://lh3.googleusercontent.com/a/default-user=s64",
      "userId": "14855937078495325719"
     },
     "user_tz": -540
    },
    "id": "3dnOlf9i_kzX",
    "outputId": "799f4783-95e3-47fd-a191-68657c8442eb"
   },
   "outputs": [
    {
     "data": {
      "text/plain": [
       "numpy.datetime64('2020-06-01T12:00:12.340000000')"
      ]
     },
     "execution_count": 31,
     "metadata": {},
     "output_type": "execute_result"
    }
   ],
   "source": [
    "datetime = np.datetime64('2020-06-01 12:00:12.34', 'ns') #나노초 단위까지가면 ns붙이라는듯?\n",
    "datetime"
   ]
  },
  {
   "cell_type": "code",
   "execution_count": 32,
   "metadata": {
    "ExecuteTime": {
     "end_time": "2022-03-20T01:26:33.089759Z",
     "start_time": "2022-03-20T01:26:33.077794Z"
    },
    "colab": {
     "base_uri": "https://localhost:8080/"
    },
    "executionInfo": {
     "elapsed": 210,
     "status": "ok",
     "timestamp": 1647927166455,
     "user": {
      "displayName": "강준모",
      "photoUrl": "https://lh3.googleusercontent.com/a/default-user=s64",
      "userId": "14855937078495325719"
     },
     "user_tz": -540
    },
    "id": "CQIb_GQBLDH3",
    "outputId": "5cedf5b8-ff88-41b1-cf1e-4c6948354e4e"
   },
   "outputs": [
    {
     "data": {
      "text/plain": [
       "numpy.datetime64('2020-06-01T12:00:12.340')"
      ]
     },
     "execution_count": 32,
     "metadata": {},
     "output_type": "execute_result"
    }
   ],
   "source": [
    "datetime = np.datetime64('2020-06-01 12:00:12.34') #안붙이면 이렇게 되는구만\n",
    "datetime"
   ]
  },
  {
   "cell_type": "code",
   "execution_count": 33,
   "metadata": {
    "ExecuteTime": {
     "end_time": "2022-03-20T01:26:33.104719Z",
     "start_time": "2022-03-20T01:26:33.092760Z"
    },
    "colab": {
     "base_uri": "https://localhost:8080/"
    },
    "executionInfo": {
     "elapsed": 205,
     "status": "ok",
     "timestamp": 1647927166456,
     "user": {
      "displayName": "강준모",
      "photoUrl": "https://lh3.googleusercontent.com/a/default-user=s64",
      "userId": "14855937078495325719"
     },
     "user_tz": -540
    },
    "id": "oet9vA16LDH4",
    "outputId": "197e3200-b325-4227-9f29-06df4c7adcc1"
   },
   "outputs": [
    {
     "data": {
      "text/plain": [
       "array(['2020-06-01T12:00:12.340', '2020-06-01T12:00:12.341',\n",
       "       '2020-06-01T12:00:12.342', '2020-06-01T12:00:12.343',\n",
       "       '2020-06-01T12:00:12.344', '2020-06-01T12:00:12.345',\n",
       "       '2020-06-01T12:00:12.346', '2020-06-01T12:00:12.347',\n",
       "       '2020-06-01T12:00:12.348', '2020-06-01T12:00:12.349',\n",
       "       '2020-06-01T12:00:12.350', '2020-06-01T12:00:12.351'],\n",
       "      dtype='datetime64[ms]')"
      ]
     },
     "execution_count": 33,
     "metadata": {},
     "output_type": "execute_result"
    }
   ],
   "source": [
    "datetime+ np.arange(12) # 마지막 단위에서 연산을 하는구만"
   ]
  },
  {
   "cell_type": "markdown",
   "metadata": {
    "id": "5AREIamhGxAr"
   },
   "source": [
    "\n",
    "\n",
    "---\n",
    "\n"
   ]
  },
  {
   "cell_type": "markdown",
   "metadata": {
    "id": "d88tkTqbBE5V"
   },
   "source": [
    "## 배열 조회"
   ]
  },
  {
   "cell_type": "markdown",
   "metadata": {
    "id": "vRqwfbjtFnPn"
   },
   "source": [
    "### 배열 속성 정보"
   ]
  },
  {
   "cell_type": "code",
   "execution_count": 34,
   "metadata": {
    "ExecuteTime": {
     "end_time": "2022-03-20T01:26:33.119679Z",
     "start_time": "2022-03-20T01:26:33.107714Z"
    },
    "executionInfo": {
     "elapsed": 195,
     "status": "ok",
     "timestamp": 1647927166457,
     "user": {
      "displayName": "강준모",
      "photoUrl": "https://lh3.googleusercontent.com/a/default-user=s64",
      "userId": "14855937078495325719"
     },
     "user_tz": -540
    },
    "id": "R5Rlcll7GXrM"
   },
   "outputs": [],
   "source": [
    "def array_info(array):\n",
    "    print(array)\n",
    "    print('ndim:', array.ndim)\n",
    "    print('shape:', array.shape)\n",
    "    print('dtype:', array.dtype)\n",
    "    print('size:', array.size)\n",
    "    print('itemsize:', array.itemsize)\n",
    "    print('nbytes', array.nbytes)\n",
    "    print('strides:', array.strides) # 차원별 총 크기 같은 느낌인데?"
   ]
  },
  {
   "cell_type": "code",
   "execution_count": 35,
   "metadata": {
    "ExecuteTime": {
     "end_time": "2022-03-20T01:26:33.134671Z",
     "start_time": "2022-03-20T01:26:33.122671Z"
    },
    "colab": {
     "base_uri": "https://localhost:8080/"
    },
    "executionInfo": {
     "elapsed": 195,
     "status": "ok",
     "timestamp": 1647927166458,
     "user": {
      "displayName": "강준모",
      "photoUrl": "https://lh3.googleusercontent.com/a/default-user=s64",
      "userId": "14855937078495325719"
     },
     "user_tz": -540
    },
    "id": "Na59LwA7KXZV",
    "outputId": "3ba7c8a9-dfec-4471-b94d-c8ee120fccdf"
   },
   "outputs": [
    {
     "name": "stdout",
     "output_type": "stream",
     "text": [
      "[4 2 3 4 5]\n",
      "ndim: 1\n",
      "shape: (5,)\n",
      "dtype: int64\n",
      "size: 5\n",
      "itemsize: 8\n",
      "nbytes 40\n",
      "strides: (8,)\n"
     ]
    }
   ],
   "source": [
    "array_info(a1) \n",
    "# nbtype = size * itemsize\n",
    "# stride: 다음 차원으로 넘어가기 위해서는 하나의 아이탬 크기를 건너야함. 따라서 4."
   ]
  },
  {
   "cell_type": "code",
   "execution_count": 36,
   "metadata": {
    "ExecuteTime": {
     "end_time": "2022-03-20T01:26:33.149600Z",
     "start_time": "2022-03-20T01:26:33.138632Z"
    },
    "colab": {
     "base_uri": "https://localhost:8080/"
    },
    "executionInfo": {
     "elapsed": 190,
     "status": "ok",
     "timestamp": 1647927166460,
     "user": {
      "displayName": "강준모",
      "photoUrl": "https://lh3.googleusercontent.com/a/default-user=s64",
      "userId": "14855937078495325719"
     },
     "user_tz": -540
    },
    "id": "Urzr_LsdLah0",
    "outputId": "43806815-0ee1-4ef1-ef09-063614bcb7c2"
   },
   "outputs": [
    {
     "name": "stdout",
     "output_type": "stream",
     "text": [
      "[[1 2 3]\n",
      " [4 5 6]\n",
      " [7 8 9]]\n",
      "ndim: 2\n",
      "shape: (3, 3)\n",
      "dtype: int64\n",
      "size: 9\n",
      "itemsize: 8\n",
      "nbytes 72\n",
      "strides: (24, 8)\n"
     ]
    }
   ],
   "source": [
    "array_info(a2)\n",
    "# strides: 2차원에서 다음차원으로 넘어가려면 총 3개의 아이탬을 건너야함. 3 * 4 = 12\n",
    "# +=> 1차원에서 다음 차원으로 넘어가려면 총 1개의 아이탬을 건너야함. itemsize= 4"
   ]
  },
  {
   "cell_type": "code",
   "execution_count": 37,
   "metadata": {
    "ExecuteTime": {
     "end_time": "2022-03-20T01:26:33.165559Z",
     "start_time": "2022-03-20T01:26:33.156584Z"
    },
    "colab": {
     "base_uri": "https://localhost:8080/"
    },
    "executionInfo": {
     "elapsed": 182,
     "status": "ok",
     "timestamp": 1647927166460,
     "user": {
      "displayName": "강준모",
      "photoUrl": "https://lh3.googleusercontent.com/a/default-user=s64",
      "userId": "14855937078495325719"
     },
     "user_tz": -540
    },
    "id": "jktqh1lsLf4V",
    "outputId": "b538d8d1-5dd2-4b54-c563-39c7a6888984"
   },
   "outputs": [
    {
     "name": "stdout",
     "output_type": "stream",
     "text": [
      "[[[1 2 3]\n",
      "  [4 5 6]\n",
      "  [7 8 9]]\n",
      "\n",
      " [[1 2 3]\n",
      "  [4 5 6]\n",
      "  [7 8 9]]]\n",
      "ndim: 3\n",
      "shape: (2, 3, 3)\n",
      "dtype: int64\n",
      "size: 18\n",
      "itemsize: 8\n",
      "nbytes 144\n",
      "strides: (72, 24, 8)\n"
     ]
    }
   ],
   "source": [
    "array_info(a3)"
   ]
  },
  {
   "cell_type": "markdown",
   "metadata": {
    "id": "LV1WfdBWFqDu"
   },
   "source": [
    "### 인덱싱(Indexing)"
   ]
  },
  {
   "cell_type": "code",
   "execution_count": 38,
   "metadata": {
    "ExecuteTime": {
     "end_time": "2022-03-20T01:26:33.180515Z",
     "start_time": "2022-03-20T01:26:33.170543Z"
    },
    "colab": {
     "base_uri": "https://localhost:8080/"
    },
    "executionInfo": {
     "elapsed": 170,
     "status": "ok",
     "timestamp": 1647927166461,
     "user": {
      "displayName": "강준모",
      "photoUrl": "https://lh3.googleusercontent.com/a/default-user=s64",
      "userId": "14855937078495325719"
     },
     "user_tz": -540
    },
    "id": "Nyb7eDmGFr5m",
    "outputId": "ee9f94aa-51fd-4a2f-9fcc-76dd0955652f"
   },
   "outputs": [
    {
     "name": "stdout",
     "output_type": "stream",
     "text": [
      "[4 2 3 4 5]\n",
      "4\n",
      "3\n",
      "5\n",
      "4\n"
     ]
    }
   ],
   "source": [
    "print(a1)\n",
    "print(a1[0])\n",
    "print(a1[2])\n",
    "print(a1[-1])\n",
    "print(a1[-2])"
   ]
  },
  {
   "cell_type": "code",
   "execution_count": 39,
   "metadata": {
    "ExecuteTime": {
     "end_time": "2022-03-20T01:26:33.195475Z",
     "start_time": "2022-03-20T01:26:33.183516Z"
    },
    "colab": {
     "base_uri": "https://localhost:8080/"
    },
    "executionInfo": {
     "elapsed": 164,
     "status": "ok",
     "timestamp": 1647927166461,
     "user": {
      "displayName": "강준모",
      "photoUrl": "https://lh3.googleusercontent.com/a/default-user=s64",
      "userId": "14855937078495325719"
     },
     "user_tz": -540
    },
    "id": "uHMNcQW3Kn-h",
    "outputId": "0e822447-56d9-4044-d032-2b83df907800"
   },
   "outputs": [
    {
     "name": "stdout",
     "output_type": "stream",
     "text": [
      "[[1 2 3]\n",
      " [4 5 6]\n",
      " [7 8 9]]\n",
      "1\n",
      "3\n",
      "9\n",
      "6\n"
     ]
    }
   ],
   "source": [
    "print(a2)\n",
    "print(a2[0, 0])\n",
    "print(a2[0, 2])\n",
    "print(a2[-1, 2])\n",
    "print(a2[-2, -1])"
   ]
  },
  {
   "cell_type": "code",
   "execution_count": 40,
   "metadata": {
    "ExecuteTime": {
     "end_time": "2022-03-20T01:26:33.210436Z",
     "start_time": "2022-03-20T01:26:33.196473Z"
    },
    "executionInfo": {
     "elapsed": 158,
     "status": "ok",
     "timestamp": 1647927166462,
     "user": {
      "displayName": "강준모",
      "photoUrl": "https://lh3.googleusercontent.com/a/default-user=s64",
      "userId": "14855937078495325719"
     },
     "user_tz": -540
    },
    "id": "IX5yDMGiMxYZ"
   },
   "outputs": [],
   "source": [
    "# 귀찮."
   ]
  },
  {
   "cell_type": "markdown",
   "metadata": {
    "id": "uSeXu2y_O4cu"
   },
   "source": [
    "### 슬라이싱(Slicing)"
   ]
  },
  {
   "cell_type": "markdown",
   "metadata": {
    "id": "1hikO_6ZPp5m"
   },
   "source": [
    "* 슬라이싱 구문: `a[start:stop:step]`\n",
    "* 기본값: start=0, stop=ndim, step=1"
   ]
  },
  {
   "cell_type": "code",
   "execution_count": 41,
   "metadata": {
    "ExecuteTime": {
     "end_time": "2022-03-20T01:26:33.225396Z",
     "start_time": "2022-03-20T01:26:33.213429Z"
    },
    "colab": {
     "base_uri": "https://localhost:8080/"
    },
    "executionInfo": {
     "elapsed": 157,
     "status": "ok",
     "timestamp": 1647927166462,
     "user": {
      "displayName": "강준모",
      "photoUrl": "https://lh3.googleusercontent.com/a/default-user=s64",
      "userId": "14855937078495325719"
     },
     "user_tz": -540
    },
    "id": "PYZOOCoVO7BF",
    "outputId": "ab6f7b28-07ad-4e66-cd18-1fd097353dc5"
   },
   "outputs": [
    {
     "name": "stdout",
     "output_type": "stream",
     "text": [
      "[4 2 3 4 5]\n",
      "[4 2]\n",
      "[4 2 3 4 5]\n",
      "[4]\n",
      "[4 3 5]\n",
      "[5 4 3 2 4]\n"
     ]
    }
   ],
   "source": [
    "print(a1)\n",
    "print(a1[0:2])\n",
    "print(a1[0:])\n",
    "print(a1[:1])\n",
    "print(a1[::2])\n",
    "print(a1[::-1])"
   ]
  },
  {
   "cell_type": "code",
   "execution_count": 42,
   "metadata": {
    "ExecuteTime": {
     "end_time": "2022-03-20T01:26:33.240355Z",
     "start_time": "2022-03-20T01:26:33.227390Z"
    },
    "colab": {
     "base_uri": "https://localhost:8080/"
    },
    "executionInfo": {
     "elapsed": 149,
     "status": "ok",
     "timestamp": 1647927166462,
     "user": {
      "displayName": "강준모",
      "photoUrl": "https://lh3.googleusercontent.com/a/default-user=s64",
      "userId": "14855937078495325719"
     },
     "user_tz": -540
    },
    "id": "oULOFrBQWs1G",
    "outputId": "a299f8fb-ffcc-45f2-e8ad-5e31e2599848"
   },
   "outputs": [
    {
     "name": "stdout",
     "output_type": "stream",
     "text": [
      "[[1 2 3]\n",
      " [4 5 6]\n",
      " [7 8 9]]\n",
      "[4 5 6]\n",
      "[4 5 6]\n",
      "[[1 2]\n",
      " [4 5]]\n",
      "[[6 5 4]\n",
      " [9 8 7]]\n",
      "[[9 8 7]\n",
      " [6 5 4]\n",
      " [3 2 1]]\n"
     ]
    }
   ],
   "source": [
    "print(a2)\n",
    "print(a2[1])\n",
    "print(a2[1, :])\n",
    "print(a2[:2, :2])\n",
    "print(a2[1:, ::-1])\n",
    "print(a2[::-1, ::-1])"
   ]
  },
  {
   "cell_type": "markdown",
   "metadata": {
    "id": "LD52bXAsBgbH"
   },
   "source": [
    "### 불리언 인덱싱(Boolean Indexing)\n",
    "\n",
    "* 배열 각 요소의 선택 여부를 불리언(True or False)로 지정\n",
    "* True 값인 인덱스의 값만 조회"
   ]
  },
  {
   "cell_type": "code",
   "execution_count": 43,
   "metadata": {
    "ExecuteTime": {
     "end_time": "2022-03-20T01:26:33.255315Z",
     "start_time": "2022-03-20T01:26:33.242350Z"
    },
    "colab": {
     "base_uri": "https://localhost:8080/"
    },
    "executionInfo": {
     "elapsed": 116,
     "status": "ok",
     "timestamp": 1647927166463,
     "user": {
      "displayName": "강준모",
      "photoUrl": "https://lh3.googleusercontent.com/a/default-user=s64",
      "userId": "14855937078495325719"
     },
     "user_tz": -540
    },
    "id": "pOvNsH2oBgz-",
    "outputId": "d1fd9cfa-505b-4f6a-c41e-a1b2e16d6d35"
   },
   "outputs": [
    {
     "name": "stdout",
     "output_type": "stream",
     "text": [
      "[4 2 3 4 5]\n",
      "[2 3 5]\n"
     ]
    }
   ],
   "source": [
    "print(a1)\n",
    "bi = [False, True, True, False, True]\n",
    "print(a1[bi])"
   ]
  },
  {
   "cell_type": "code",
   "execution_count": 44,
   "metadata": {
    "ExecuteTime": {
     "end_time": "2022-03-20T01:26:33.270276Z",
     "start_time": "2022-03-20T01:26:33.257312Z"
    },
    "colab": {
     "base_uri": "https://localhost:8080/"
    },
    "executionInfo": {
     "elapsed": 107,
     "status": "ok",
     "timestamp": 1647927166463,
     "user": {
      "displayName": "강준모",
      "photoUrl": "https://lh3.googleusercontent.com/a/default-user=s64",
      "userId": "14855937078495325719"
     },
     "user_tz": -540
    },
    "id": "EFfquM2kWHAU",
    "outputId": "98d3843c-0153-4ef9-bb3e-aaaf3354e0e0"
   },
   "outputs": [
    {
     "name": "stdout",
     "output_type": "stream",
     "text": [
      "[[1 2 3]\n",
      " [4 5 6]\n",
      " [7 8 9]]\n",
      "[[ True False  True]\n",
      " [False  True  True]\n",
      " [ True False False]]\n",
      "[1 3 5 6 7]\n"
     ]
    }
   ],
   "source": [
    "print(a2)\n",
    "bi = np.random.randint(0, 2, (3, 3), dtype=bool)\n",
    "print(bi)\n",
    "print(a2[bi]) # 1차원으로 나오게 되네?"
   ]
  },
  {
   "cell_type": "markdown",
   "metadata": {
    "id": "R5hes-hdBujH"
   },
   "source": [
    "### 팬시 인덱싱(Fancy Indedxing)"
   ]
  },
  {
   "cell_type": "code",
   "execution_count": 45,
   "metadata": {
    "ExecuteTime": {
     "end_time": "2022-03-20T01:26:33.285855Z",
     "start_time": "2022-03-20T01:26:33.271882Z"
    },
    "colab": {
     "base_uri": "https://localhost:8080/"
    },
    "executionInfo": {
     "elapsed": 94,
     "status": "ok",
     "timestamp": 1647927166463,
     "user": {
      "displayName": "강준모",
      "photoUrl": "https://lh3.googleusercontent.com/a/default-user=s64",
      "userId": "14855937078495325719"
     },
     "user_tz": -540
    },
    "id": "z-Luw5fzBx30",
    "outputId": "a0eca5a2-b0b1-4c7a-d319-dc64dae470b8"
   },
   "outputs": [
    {
     "name": "stdout",
     "output_type": "stream",
     "text": [
      "[4 2 3 4 5]\n",
      "[4, 3]\n",
      "[4 3]\n",
      "[[4 2]\n",
      " [3 4]]\n"
     ]
    }
   ],
   "source": [
    "print(a1)\n",
    "print([a1[0], a1[2]]) # 이건 리스트로 출력됨.\n",
    "ind = [0, 2]\n",
    "print(a1[ind]) # 중괄호 안에 리스트가 들어가면 되는건가?\n",
    "ind = np.array([[0, 1],\n",
    "             [2, 0]])\n",
    "print(a1[ind]) # 1차원에도 2차원을 넣으면 2차원이 나옴."
   ]
  },
  {
   "cell_type": "code",
   "execution_count": 46,
   "metadata": {
    "ExecuteTime": {
     "end_time": "2022-03-20T01:26:33.301804Z",
     "start_time": "2022-03-20T01:26:33.288838Z"
    },
    "colab": {
     "base_uri": "https://localhost:8080/"
    },
    "executionInfo": {
     "elapsed": 86,
     "status": "ok",
     "timestamp": 1647927166464,
     "user": {
      "displayName": "강준모",
      "photoUrl": "https://lh3.googleusercontent.com/a/default-user=s64",
      "userId": "14855937078495325719"
     },
     "user_tz": -540
    },
    "id": "p_Dd0oiJahgj",
    "outputId": "e94f86e7-8b33-4220-9997-11738c229c1c"
   },
   "outputs": [
    {
     "name": "stdout",
     "output_type": "stream",
     "text": [
      "[[1 2 3]\n",
      " [4 5 6]\n",
      " [7 8 9]]\n",
      "[2 9]\n"
     ]
    }
   ],
   "source": [
    "print(a2)\n",
    "row = np.array([0, 2])\n",
    "col = np.array([1, 2])\n",
    "print(a2[row, col]) # [[row1, row2, ....], [col1, col2....]] 이런식으로 사용하는듯\n",
    "# 만약 3차원이면, [[axis1], [axis2], [axis3]] 이런식으로 쓰는듯?"
   ]
  },
  {
   "cell_type": "code",
   "execution_count": 47,
   "metadata": {
    "ExecuteTime": {
     "end_time": "2022-03-20T01:26:33.317769Z",
     "start_time": "2022-03-20T01:26:33.304797Z"
    },
    "colab": {
     "base_uri": "https://localhost:8080/"
    },
    "executionInfo": {
     "elapsed": 79,
     "status": "ok",
     "timestamp": 1647927166464,
     "user": {
      "displayName": "강준모",
      "photoUrl": "https://lh3.googleusercontent.com/a/default-user=s64",
      "userId": "14855937078495325719"
     },
     "user_tz": -540
    },
    "id": "Ry9o410YLDIB",
    "outputId": "69652f4e-3f2f-43d9-a377-95934ccb9814"
   },
   "outputs": [
    {
     "name": "stdout",
     "output_type": "stream",
     "text": [
      "[[1 2 3]\n",
      " [7 8 9]]\n",
      "[[2 3]\n",
      " [5 6]\n",
      " [8 9]]\n",
      "[2 8]\n"
     ]
    }
   ],
   "source": [
    "print(a2[row, :]) # 행은 [0, 2], 열은 전부다\n",
    "print(a2[:, col])\n",
    "print(a2[row,1])"
   ]
  },
  {
   "cell_type": "markdown",
   "metadata": {
    "id": "F71_PQF1GvTs"
   },
   "source": [
    "\n",
    "\n",
    "---\n",
    "\n"
   ]
  },
  {
   "cell_type": "markdown",
   "metadata": {
    "id": "zDI5yQ58O-IX"
   },
   "source": [
    "## 배열 값 삽입/수정/삭제/복사"
   ]
  },
  {
   "cell_type": "markdown",
   "metadata": {
    "id": "zajd1qpVOQYy"
   },
   "source": [
    "### 배열 값 삽입\n",
    "\n",
    "* `insert()`: 배열의 특정 위치에 값 삽입\n",
    "* axis를 지정하지 않으면 1차원 배열로 변환\n",
    "* 추가할 방향을 axis로 지정\n",
    "* 원본 배열 변경없이 새로운 배열 반환"
   ]
  },
  {
   "cell_type": "code",
   "execution_count": 48,
   "metadata": {
    "ExecuteTime": {
     "end_time": "2022-03-20T01:26:33.332720Z",
     "start_time": "2022-03-20T01:26:33.321752Z"
    },
    "colab": {
     "base_uri": "https://localhost:8080/"
    },
    "executionInfo": {
     "elapsed": 72,
     "status": "ok",
     "timestamp": 1647927166465,
     "user": {
      "displayName": "강준모",
      "photoUrl": "https://lh3.googleusercontent.com/a/default-user=s64",
      "userId": "14855937078495325719"
     },
     "user_tz": -540
    },
    "id": "sedRT54rP395",
    "outputId": "fa3ceb89-ba9c-4216-9629-a51191cc69ee"
   },
   "outputs": [
    {
     "name": "stdout",
     "output_type": "stream",
     "text": [
      "[4 2 3 4 5]\n",
      "[10  4  2  3  4  5]\n",
      "[4 2 3 4 5]\n"
     ]
    }
   ],
   "source": [
    "print(a1)\n",
    "b1 = np.insert(a1, 0, 10) #a1행렬에서 axis=0의 0번째 위치에 10을 추가하라.\n",
    "print(b1)\n",
    "print(a1) #a1은 바뀌지 않음."
   ]
  },
  {
   "cell_type": "code",
   "execution_count": 49,
   "metadata": {
    "ExecuteTime": {
     "end_time": "2022-03-20T01:26:33.347679Z",
     "start_time": "2022-03-20T01:26:33.335718Z"
    },
    "colab": {
     "base_uri": "https://localhost:8080/"
    },
    "executionInfo": {
     "elapsed": 67,
     "status": "ok",
     "timestamp": 1647927166465,
     "user": {
      "displayName": "강준모",
      "photoUrl": "https://lh3.googleusercontent.com/a/default-user=s64",
      "userId": "14855937078495325719"
     },
     "user_tz": -540
    },
    "id": "zNmu1E4iQ6h-",
    "outputId": "a7e6f34d-577a-478e-9b10-e044998ebd70"
   },
   "outputs": [
    {
     "name": "stdout",
     "output_type": "stream",
     "text": [
      "[ 4  2 10  3  4  5]\n"
     ]
    }
   ],
   "source": [
    "c1 = np.insert(a1, 2, 10) #a1행렬에서 axis=0의 2번째 위치에 10을 추가하라.\n",
    "print(c1)"
   ]
  },
  {
   "cell_type": "code",
   "execution_count": 50,
   "metadata": {
    "ExecuteTime": {
     "end_time": "2022-03-20T01:26:33.362639Z",
     "start_time": "2022-03-20T01:26:33.352984Z"
    },
    "colab": {
     "base_uri": "https://localhost:8080/"
    },
    "executionInfo": {
     "elapsed": 62,
     "status": "ok",
     "timestamp": 1647927166465,
     "user": {
      "displayName": "강준모",
      "photoUrl": "https://lh3.googleusercontent.com/a/default-user=s64",
      "userId": "14855937078495325719"
     },
     "user_tz": -540
    },
    "id": "1X0ELkNALDII",
    "outputId": "2a3a2efb-56a6-4333-b1b4-806a111ec779"
   },
   "outputs": [
    {
     "name": "stdout",
     "output_type": "stream",
     "text": [
      "[[1 2 3]\n",
      " [4 5 6]\n",
      " [7 8 9]]\n",
      "[[ 1  2  3]\n",
      " [10 10 10]\n",
      " [ 4  5  6]\n",
      " [ 7  8  9]]\n",
      "[[ 1 10  2  3]\n",
      " [ 4 10  5  6]\n",
      " [ 7 10  8  9]]\n"
     ]
    }
   ],
   "source": [
    "print(a2)\n",
    "b2 = np.insert(a2, 1, 10, axis=0) #a1행렬에서 axis=0의 1번째 위치에 10을 추가하라==> 차원의 크기에 맞춰지는듯.\n",
    "print(b2)\n",
    "c2 = np.insert(a2, 1, 10, axis=1)\n",
    "print(c2)"
   ]
  },
  {
   "cell_type": "markdown",
   "metadata": {
    "id": "OlEzG4ffNjyL"
   },
   "source": [
    "### 배열 값 수정\n",
    "\n",
    "* 배열의 인덱싱으로 접근하여 값 수정"
   ]
  },
  {
   "cell_type": "code",
   "execution_count": 51,
   "metadata": {
    "ExecuteTime": {
     "end_time": "2022-03-20T01:26:33.377530Z",
     "start_time": "2022-03-20T01:26:33.364635Z"
    },
    "colab": {
     "base_uri": "https://localhost:8080/"
    },
    "executionInfo": {
     "elapsed": 57,
     "status": "ok",
     "timestamp": 1647927166466,
     "user": {
      "displayName": "강준모",
      "photoUrl": "https://lh3.googleusercontent.com/a/default-user=s64",
      "userId": "14855937078495325719"
     },
     "user_tz": -540
    },
    "id": "ec43i1KWNjeN",
    "outputId": "ca05169f-fcb7-49bd-9681-2b2aa399ad8e"
   },
   "outputs": [
    {
     "name": "stdout",
     "output_type": "stream",
     "text": [
      "[4 2 3 4 5]\n",
      "[1 2 3 4 5]\n",
      "[9 2 3 4 5]\n",
      "[9 0 3 0 0] Fancy indexing\n",
      "[9 4 3 4 4] a1[i] += 4\n"
     ]
    }
   ],
   "source": [
    "print(a1)\n",
    "a1[0] = 1\n",
    "a1[1] = 2\n",
    "a1[2] = 3\n",
    "print(a1)\n",
    "a1[:1] = 9 #슬라이싱에 해당되는 모든 위치에 9를 집어넣음.\n",
    "print(a1)\n",
    "\n",
    "i = np.array([1, 3, 4])\n",
    "a1[i] = 0 #fancy indexing\n",
    "print(a1, 'Fancy indexing')\n",
    "\n",
    "a1[i] += 4 #기존값에 4를 더하라는 듯.\n",
    "print(a1, 'a1[i] += 4')"
   ]
  },
  {
   "cell_type": "code",
   "execution_count": 52,
   "metadata": {
    "ExecuteTime": {
     "end_time": "2022-03-20T01:26:33.392489Z",
     "start_time": "2022-03-20T01:26:33.379524Z"
    },
    "colab": {
     "base_uri": "https://localhost:8080/"
    },
    "executionInfo": {
     "elapsed": 51,
     "status": "ok",
     "timestamp": 1647927166466,
     "user": {
      "displayName": "강준모",
      "photoUrl": "https://lh3.googleusercontent.com/a/default-user=s64",
      "userId": "14855937078495325719"
     },
     "user_tz": -540
    },
    "id": "IApNNx3NOMQh",
    "outputId": "d8c255a5-bc73-4e95-c853-370f985b26e5"
   },
   "outputs": [
    {
     "name": "stdout",
     "output_type": "stream",
     "text": [
      "[[1 2 3]\n",
      " [4 5 6]\n",
      " [7 8 9]]\n",
      "[[1 1 1]\n",
      " [4 2 6]\n",
      " [7 8 3]] a2[0] = 1\n",
      "[[1 1 1]\n",
      " [4 2 9]\n",
      " [7 8 9]] a2[1:, 2] = 9\n",
      "[[1 1 1]\n",
      " [4 2 9]\n",
      " [7 8 9]] <-- fancy Indexing\n"
     ]
    }
   ],
   "source": [
    "print(a2)\n",
    "a2[0, 0] = 1\n",
    "a2[1, 1] = 2\n",
    "a2[2, 2] = 3\n",
    "a2[0] = 1 #0행의 모든 열의 데이터에 1을 집어넣음\n",
    "print(a2, 'a2[0] = 1')\n",
    "a2[1:, 2] = 9\n",
    "print(a2, 'a2[1:, 2] = 9')\n",
    "\n",
    "#fancy indexingnumpy.logspace(1,10,num = 10, base = 2)\n",
    "row = np.array([0, 1])\n",
    "col = np.array([1, 2])\n",
    "c2[row, col] = 0\n",
    "print(a2, '<-- fancy Indexing')"
   ]
  },
  {
   "cell_type": "markdown",
   "metadata": {
    "id": "emV7DgrITPcn"
   },
   "source": [
    "### 배열 값 삭제\n",
    "\n",
    "* `delete()`: 배열의 특정 위치에 값 삭제\n",
    "* axis를 지정하지 않으면 1차원 배열로 변환\n",
    "* 삭제할 방향을 axis로 지정\n",
    "* 원본 배열 변경없이 새로운 배열 반환"
   ]
  },
  {
   "cell_type": "code",
   "execution_count": 53,
   "metadata": {
    "ExecuteTime": {
     "end_time": "2022-03-20T01:26:33.407449Z",
     "start_time": "2022-03-20T01:26:33.393486Z"
    },
    "colab": {
     "base_uri": "https://localhost:8080/"
    },
    "executionInfo": {
     "elapsed": 45,
     "status": "ok",
     "timestamp": 1647927166466,
     "user": {
      "displayName": "강준모",
      "photoUrl": "https://lh3.googleusercontent.com/a/default-user=s64",
      "userId": "14855937078495325719"
     },
     "user_tz": -540
    },
    "id": "I3k_Yx8lTRJ2",
    "outputId": "03a52cdc-d69c-4b35-bc1e-d29640291183"
   },
   "outputs": [
    {
     "name": "stdout",
     "output_type": "stream",
     "text": [
      "[9 4 3 4 4]\n",
      "[9 3 4 4]\n",
      "[9 4 3 4 4]\n"
     ]
    }
   ],
   "source": [
    "print(a1)\n",
    "b1 = np.delete(a1, 1) #1번 위치에 있는 인스턴스 삭제\n",
    "print(b1)\n",
    "print(a1) #원본 배열은 변경이 없음"
   ]
  },
  {
   "cell_type": "code",
   "execution_count": 54,
   "metadata": {
    "ExecuteTime": {
     "end_time": "2022-03-20T01:26:33.422409Z",
     "start_time": "2022-03-20T01:26:33.408446Z"
    },
    "colab": {
     "base_uri": "https://localhost:8080/"
    },
    "executionInfo": {
     "elapsed": 39,
     "status": "ok",
     "timestamp": 1647927166467,
     "user": {
      "displayName": "강준모",
      "photoUrl": "https://lh3.googleusercontent.com/a/default-user=s64",
      "userId": "14855937078495325719"
     },
     "user_tz": -540
    },
    "id": "n2_0L8KWZ7wH",
    "outputId": "5c46eefe-2933-48ad-9fa9-70638aeeade7"
   },
   "outputs": [
    {
     "name": "stdout",
     "output_type": "stream",
     "text": [
      "[[1 1 1]\n",
      " [4 2 9]\n",
      " [7 8 9]]\n",
      "[[1 1 1]\n",
      " [7 8 9]]\n",
      "[[1 1]\n",
      " [4 9]\n",
      " [7 9]]\n"
     ]
    }
   ],
   "source": [
    "print(a2)\n",
    "b2 = np.delete(a2, 1, axis=0) #1번쨰 행 삭제\n",
    "print(b2)\n",
    "c2 = np.delete(a2, 1, axis=1)\n",
    "print(c2)"
   ]
  },
  {
   "cell_type": "markdown",
   "metadata": {
    "id": "UydkYxV8Z6Fx"
   },
   "source": [
    "### 배열 복사\n",
    "\n",
    "* 리스트 자료형과 달리 배열의 슬라이스는 복사본이 아님"
   ]
  },
  {
   "cell_type": "markdown",
   "metadata": {
    "id": "UrQqOC1Eat5l"
   },
   "source": [
    "\n",
    "* `copy()`: 배열이나 하위 배열 내의 값을 명시적으로 복사"
   ]
  },
  {
   "cell_type": "code",
   "execution_count": 55,
   "metadata": {
    "ExecuteTime": {
     "end_time": "2022-03-20T01:26:33.437401Z",
     "start_time": "2022-03-20T01:26:33.423410Z"
    },
    "colab": {
     "base_uri": "https://localhost:8080/"
    },
    "executionInfo": {
     "elapsed": 733,
     "status": "ok",
     "timestamp": 1647927167166,
     "user": {
      "displayName": "강준모",
      "photoUrl": "https://lh3.googleusercontent.com/a/default-user=s64",
      "userId": "14855937078495325719"
     },
     "user_tz": -540
    },
    "id": "hLBZ7Qn6bAKO",
    "outputId": "6f090518-76aa-48e9-d473-1df478530ceb"
   },
   "outputs": [
    {
     "name": "stdout",
     "output_type": "stream",
     "text": [
      "[[1 1 1]\n",
      " [4 2 9]\n",
      " [7 8 9]]\n",
      "[[1 1]\n",
      " [4 2]] <--a2_sub\n",
      "[[1 0]\n",
      " [4 0]] <--a2_sub=[:, 1] = 0\n",
      "[[1 0 1]\n",
      " [4 0 9]\n",
      " [7 8 9]] <--a2\n"
     ]
    }
   ],
   "source": [
    "print(a2)\n",
    "a2_sub = a2[:2, :2]\n",
    "print(a2_sub, '<--a2_sub')\n",
    "\n",
    "a2_sub[:, 1] = 0\n",
    "print(a2_sub, '<--a2_sub=[:, 1] = 0')\n",
    "print(a2, '<--a2')\n",
    "#원본이 변경되는 것을 볼 수 있음. 슬라이싱은 원본에서 그냥 참조해서 보여주기만 하는 듯."
   ]
  },
  {
   "cell_type": "code",
   "execution_count": 56,
   "metadata": {
    "ExecuteTime": {
     "end_time": "2022-03-20T01:26:33.452336Z",
     "start_time": "2022-03-20T01:26:33.439365Z"
    },
    "colab": {
     "base_uri": "https://localhost:8080/"
    },
    "executionInfo": {
     "elapsed": 212,
     "status": "ok",
     "timestamp": 1647927167166,
     "user": {
      "displayName": "강준모",
      "photoUrl": "https://lh3.googleusercontent.com/a/default-user=s64",
      "userId": "14855937078495325719"
     },
     "user_tz": -540
    },
    "id": "GNlNLnyHLDIM",
    "outputId": "8b6b0bb2-88cc-488f-c8d4-388ba92bb6f2"
   },
   "outputs": [
    {
     "name": "stdout",
     "output_type": "stream",
     "text": [
      "[[1 0 1]\n",
      " [4 0 9]\n",
      " [7 8 9]]\n",
      "[[1 0]\n",
      " [4 0]] <--a2_sub_copy\n",
      "[[1 1]\n",
      " [4 1]] <--a2_sub_copy[:, 1] = 1\n",
      "[[1 0 1]\n",
      " [4 0 9]\n",
      " [7 8 9]] <--a2 바뀌지 않음\n"
     ]
    }
   ],
   "source": [
    "print(a2)\n",
    "a2_sub_copy = a2[:2, :2].copy()\n",
    "print(a2_sub_copy, '<--a2_sub_copy')\n",
    "a2_sub_copy[:, 1] = 1\n",
    "print(a2_sub_copy, '<--a2_sub_copy[:, 1] = 1')\n",
    "print(a2, '<--a2 바뀌지 않음')"
   ]
  },
  {
   "cell_type": "markdown",
   "metadata": {
    "id": "4HTc9FXOGtA7"
   },
   "source": [
    "\n",
    "\n",
    "---\n",
    "\n"
   ]
  },
  {
   "cell_type": "markdown",
   "metadata": {
    "id": "XVZY082__yV6"
   },
   "source": [
    "## 배열 변환"
   ]
  },
  {
   "cell_type": "markdown",
   "metadata": {
    "id": "Ec09aPeBO58M"
   },
   "source": [
    "### 배열 전치 및 축 변경"
   ]
  },
  {
   "cell_type": "code",
   "execution_count": 57,
   "metadata": {
    "ExecuteTime": {
     "end_time": "2022-03-20T01:27:56.664887Z",
     "start_time": "2022-03-20T01:27:56.650925Z"
    },
    "colab": {
     "base_uri": "https://localhost:8080/"
    },
    "executionInfo": {
     "elapsed": 204,
     "status": "ok",
     "timestamp": 1647927167166,
     "user": {
      "displayName": "강준모",
      "photoUrl": "https://lh3.googleusercontent.com/a/default-user=s64",
      "userId": "14855937078495325719"
     },
     "user_tz": -540
    },
    "id": "anYByBpoWZmj",
    "outputId": "f3359597-d435-4745-dfa4-840ba1b1f974"
   },
   "outputs": [
    {
     "name": "stdout",
     "output_type": "stream",
     "text": [
      "[[1 0 1]\n",
      " [4 0 9]\n",
      " [7 8 9]]\n",
      "[[1 4 7]\n",
      " [0 0 8]\n",
      " [1 9 9]] (3, 3)\n"
     ]
    }
   ],
   "source": [
    "print(a2)\n",
    "print(a2.T, a2.T.shape)"
   ]
  },
  {
   "cell_type": "code",
   "execution_count": 58,
   "metadata": {
    "ExecuteTime": {
     "end_time": "2022-03-20T01:27:08.012385Z",
     "start_time": "2022-03-20T01:27:08.003376Z"
    },
    "colab": {
     "base_uri": "https://localhost:8080/"
    },
    "executionInfo": {
     "elapsed": 197,
     "status": "ok",
     "timestamp": 1647927167167,
     "user": {
      "displayName": "강준모",
      "photoUrl": "https://lh3.googleusercontent.com/a/default-user=s64",
      "userId": "14855937078495325719"
     },
     "user_tz": -540
    },
    "id": "wg4XC6kiRnZo",
    "outputId": "afa5620e-2a6c-4a27-ca05-a6cfa0da3baa"
   },
   "outputs": [
    {
     "name": "stdout",
     "output_type": "stream",
     "text": [
      "[[[1 2 3]\n",
      "  [4 5 6]\n",
      "  [7 8 9]]\n",
      "\n",
      " [[1 2 3]\n",
      "  [4 5 6]\n",
      "  [7 8 9]]] (2, 3, 3)\n",
      "[[[1 1]\n",
      "  [4 4]\n",
      "  [7 7]]\n",
      "\n",
      " [[2 2]\n",
      "  [5 5]\n",
      "  [8 8]]\n",
      "\n",
      " [[3 3]\n",
      "  [6 6]\n",
      "  [9 9]]] (3, 3, 2)\n"
     ]
    }
   ],
   "source": [
    "print(a3, a3.shape)\n",
    "print(a3.T, a3.T.shape)"
   ]
  },
  {
   "cell_type": "code",
   "execution_count": 59,
   "metadata": {
    "ExecuteTime": {
     "end_time": "2022-03-20T01:28:59.420465Z",
     "start_time": "2022-03-20T01:28:59.401485Z"
    },
    "colab": {
     "base_uri": "https://localhost:8080/"
    },
    "executionInfo": {
     "elapsed": 187,
     "status": "ok",
     "timestamp": 1647927167167,
     "user": {
      "displayName": "강준모",
      "photoUrl": "https://lh3.googleusercontent.com/a/default-user=s64",
      "userId": "14855937078495325719"
     },
     "user_tz": -540
    },
    "id": "6lPwXL8rRTfI",
    "outputId": "9e6ba780-f6a2-4dac-c1a2-6546a974b81d"
   },
   "outputs": [
    {
     "name": "stdout",
     "output_type": "stream",
     "text": [
      "[[[1 2 3]\n",
      "  [4 5 6]\n",
      "  [7 8 9]]\n",
      "\n",
      " [[1 2 3]\n",
      "  [4 5 6]\n",
      "  [7 8 9]]]\n",
      "[[[1 2 3]\n",
      "  [1 2 3]]\n",
      "\n",
      " [[4 5 6]\n",
      "  [4 5 6]]\n",
      "\n",
      " [[7 8 9]\n",
      "  [7 8 9]]] (3, 2, 3)\n",
      "[[[1 4 7]\n",
      "  [2 5 8]\n",
      "  [3 6 9]]\n",
      "\n",
      " [[1 4 7]\n",
      "  [2 5 8]\n",
      "  [3 6 9]]] (3, 2, 3)\n"
     ]
    }
   ],
   "source": [
    "print(a3)\n",
    "print(a3.swapaxes(1, 0), a3.swapaxes(1, 0).shape)\n",
    "print(a3.swapaxes(1, 2), a3.swapaxes(1, 0).shape)"
   ]
  },
  {
   "cell_type": "markdown",
   "metadata": {
    "id": "M7xN8WdOdb_S"
   },
   "source": [
    "### 배열 재구조화\n"
   ]
  },
  {
   "cell_type": "markdown",
   "metadata": {
    "id": "JwZJMpXGfY0V"
   },
   "source": [
    "* `reshape()`: 배열의 형상을 변경"
   ]
  },
  {
   "cell_type": "code",
   "execution_count": 60,
   "metadata": {
    "ExecuteTime": {
     "end_time": "2022-03-20T01:29:43.357229Z",
     "start_time": "2022-03-20T01:29:43.348255Z"
    },
    "colab": {
     "base_uri": "https://localhost:8080/"
    },
    "executionInfo": {
     "elapsed": 182,
     "status": "ok",
     "timestamp": 1647927167167,
     "user": {
      "displayName": "강준모",
      "photoUrl": "https://lh3.googleusercontent.com/a/default-user=s64",
      "userId": "14855937078495325719"
     },
     "user_tz": -540
    },
    "id": "SlGQ17VQdd8i",
    "outputId": "edcdde21-e52c-4e8a-b054-e43940fc6037"
   },
   "outputs": [
    {
     "name": "stdout",
     "output_type": "stream",
     "text": [
      "[1 2 3 4 5 6 7 8 9]\n",
      "[[1 2 3]\n",
      " [4 5 6]\n",
      " [7 8 9]]\n"
     ]
    }
   ],
   "source": [
    "n1 = np.arange(1, 10)\n",
    "print(n1)\n",
    "print(n1.reshape(3, 3))"
   ]
  },
  {
   "cell_type": "markdown",
   "metadata": {
    "id": "y_U1W-fQfuQY"
   },
   "source": [
    "* `newaxis()`: 새로운 축 추가"
   ]
  },
  {
   "cell_type": "code",
   "execution_count": 61,
   "metadata": {
    "ExecuteTime": {
     "end_time": "2022-03-20T01:30:25.573460Z",
     "start_time": "2022-03-20T01:30:25.554473Z"
    },
    "colab": {
     "base_uri": "https://localhost:8080/"
    },
    "executionInfo": {
     "elapsed": 174,
     "status": "ok",
     "timestamp": 1647927167168,
     "user": {
      "displayName": "강준모",
      "photoUrl": "https://lh3.googleusercontent.com/a/default-user=s64",
      "userId": "14855937078495325719"
     },
     "user_tz": -540
    },
    "id": "COif_weCfkGo",
    "outputId": "b5691285-1e7c-48c6-a417-0c6bfd141d8b"
   },
   "outputs": [
    {
     "name": "stdout",
     "output_type": "stream",
     "text": [
      "[1 2 3 4 5 6 7 8 9]\n",
      "[[1 2 3 4 5]] (1, 5)\n",
      "[[1]\n",
      " [2]\n",
      " [3]\n",
      " [4]\n",
      " [5]] (5, 1)\n"
     ]
    }
   ],
   "source": [
    "print(n1)\n",
    "print(n1[np.newaxis, :5], n1[np.newaxis, :5].shape) #기존 차원을 행으로 만들고, 2차원으로 생성.\n",
    "print(n1[:5, np.newaxis], n1[:5, np.newaxis].shape) #기존 차원을 열로 만들고 2차원으로 생성."
   ]
  },
  {
   "cell_type": "markdown",
   "metadata": {
    "id": "FR82RSDggbcJ"
   },
   "source": [
    "### 배열 크기 변경"
   ]
  },
  {
   "cell_type": "markdown",
   "metadata": {
    "id": "D1LuDMVFl4tc"
   },
   "source": [
    "* 배열 모양만 변경"
   ]
  },
  {
   "cell_type": "code",
   "execution_count": 62,
   "metadata": {
    "ExecuteTime": {
     "end_time": "2022-03-20T01:34:47.449399Z",
     "start_time": "2022-03-20T01:34:47.433455Z"
    },
    "executionInfo": {
     "elapsed": 168,
     "status": "ok",
     "timestamp": 1647927167168,
     "user": {
      "displayName": "강준모",
      "photoUrl": "https://lh3.googleusercontent.com/a/default-user=s64",
      "userId": "14855937078495325719"
     },
     "user_tz": -540
    },
    "id": "DZ9xInmoLDIU"
   },
   "outputs": [],
   "source": [
    "# resize메서드인데, 잘 안쓸거 같은데?"
   ]
  },
  {
   "cell_type": "code",
   "execution_count": 63,
   "metadata": {
    "ExecuteTime": {
     "end_time": "2022-03-20T01:33:12.254076Z",
     "start_time": "2022-03-20T01:33:12.243093Z"
    },
    "colab": {
     "base_uri": "https://localhost:8080/"
    },
    "executionInfo": {
     "elapsed": 168,
     "status": "ok",
     "timestamp": 1647927167169,
     "user": {
      "displayName": "강준모",
      "photoUrl": "https://lh3.googleusercontent.com/a/default-user=s64",
      "userId": "14855937078495325719"
     },
     "user_tz": -540
    },
    "id": "7B6pHlfxgdSJ",
    "outputId": "d845d493-d852-4fff-a3a7-96532c80b0c3"
   },
   "outputs": [
    {
     "name": "stdout",
     "output_type": "stream",
     "text": [
      "[[9 4 3 5 5]\n",
      " [0 6 6 2 6]]\n",
      "[[9 4]\n",
      " [3 5]\n",
      " [5 0]\n",
      " [6 6]\n",
      " [2 6]]\n"
     ]
    }
   ],
   "source": [
    "n2 = np.random.randint(0, 10, (2, 5))\n",
    "print(n2)\n",
    "n2.resize((5, 2))\n",
    "print(n2)"
   ]
  },
  {
   "cell_type": "markdown",
   "metadata": {
    "id": "s0adm-h9l6sv"
   },
   "source": [
    "* 배열 크기 증가\n",
    "* 남은 공간은 0으로 채워짐"
   ]
  },
  {
   "cell_type": "code",
   "execution_count": 64,
   "metadata": {
    "ExecuteTime": {
     "end_time": "2022-03-20T01:33:25.597360Z",
     "start_time": "2022-03-20T01:33:25.587386Z"
    },
    "colab": {
     "base_uri": "https://localhost:8080/"
    },
    "executionInfo": {
     "elapsed": 163,
     "status": "ok",
     "timestamp": 1647927167169,
     "user": {
      "displayName": "강준모",
      "photoUrl": "https://lh3.googleusercontent.com/a/default-user=s64",
      "userId": "14855937078495325719"
     },
     "user_tz": -540
    },
    "id": "IrX0UcjrlWRV",
    "outputId": "f7ebb13e-7521-48dc-af58-6839b938d87f"
   },
   "outputs": [
    {
     "name": "stdout",
     "output_type": "stream",
     "text": [
      "[[9 4 3 5 5]\n",
      " [0 6 6 2 6]\n",
      " [0 0 0 0 0]\n",
      " [0 0 0 0 0]\n",
      " [0 0 0 0 0]]\n"
     ]
    }
   ],
   "source": [
    "n2.resize((5, 5))\n",
    "print(n2)"
   ]
  },
  {
   "cell_type": "markdown",
   "metadata": {
    "id": "78hPDEzfl9JB"
   },
   "source": [
    "* 배열 크기 감소\n",
    "* 포함되지 않은 값은 삭제됨"
   ]
  },
  {
   "cell_type": "code",
   "execution_count": 65,
   "metadata": {
    "ExecuteTime": {
     "end_time": "2022-03-20T01:33:58.644422Z",
     "start_time": "2022-03-20T01:33:58.634450Z"
    },
    "colab": {
     "base_uri": "https://localhost:8080/"
    },
    "executionInfo": {
     "elapsed": 156,
     "status": "ok",
     "timestamp": 1647927167169,
     "user": {
      "displayName": "강준모",
      "photoUrl": "https://lh3.googleusercontent.com/a/default-user=s64",
      "userId": "14855937078495325719"
     },
     "user_tz": -540
    },
    "id": "fJWrwhc6lmjW",
    "outputId": "4b7c0f6f-ba25-4b93-ed74-d7365886c3f2"
   },
   "outputs": [
    {
     "name": "stdout",
     "output_type": "stream",
     "text": [
      "[[9 4 3]\n",
      " [5 5 0]\n",
      " [6 6 2]]\n"
     ]
    }
   ],
   "source": [
    "n2.resize((3, 3))\n",
    "print(n2)"
   ]
  },
  {
   "cell_type": "markdown",
   "metadata": {
    "id": "r9z2gD_pHyx9"
   },
   "source": [
    "### (np.append, np.stack) 배열 추가\n",
    "\n",
    "* `append()`: 배열의 끝에 값 추가"
   ]
  },
  {
   "cell_type": "code",
   "execution_count": 66,
   "metadata": {
    "ExecuteTime": {
     "end_time": "2022-03-20T01:36:19.170110Z",
     "start_time": "2022-03-20T01:36:19.146175Z"
    },
    "colab": {
     "base_uri": "https://localhost:8080/"
    },
    "executionInfo": {
     "elapsed": 152,
     "status": "ok",
     "timestamp": 1647927167170,
     "user": {
      "displayName": "강준모",
      "photoUrl": "https://lh3.googleusercontent.com/a/default-user=s64",
      "userId": "14855937078495325719"
     },
     "user_tz": -540
    },
    "id": "fH4lpQKNH5s1",
    "outputId": "a14a453e-548a-4c47-ba57-9b6fe1a8eff8"
   },
   "outputs": [
    {
     "name": "stdout",
     "output_type": "stream",
     "text": [
      "[[1 2 3]\n",
      " [4 5 6]\n",
      " [7 8 9]]\n",
      "[[10 11 12]\n",
      " [13 14 15]\n",
      " [16 17 18]]\n"
     ]
    }
   ],
   "source": [
    "a2 = np.arange(1, 10).reshape(3, 3)\n",
    "print(a2)\n",
    "b2 = np.arange(10, 19).reshape(3, 3)\n",
    "print(b2)"
   ]
  },
  {
   "cell_type": "markdown",
   "metadata": {
    "id": "n8SMl5VVIquk"
   },
   "source": [
    "* axis 지정이 없으면 1차원 배열 형태로 변형되어 결합"
   ]
  },
  {
   "cell_type": "code",
   "execution_count": 67,
   "metadata": {
    "ExecuteTime": {
     "end_time": "2022-03-20T01:36:44.043015Z",
     "start_time": "2022-03-20T01:36:44.034682Z"
    },
    "colab": {
     "base_uri": "https://localhost:8080/"
    },
    "executionInfo": {
     "elapsed": 145,
     "status": "ok",
     "timestamp": 1647927167170,
     "user": {
      "displayName": "강준모",
      "photoUrl": "https://lh3.googleusercontent.com/a/default-user=s64",
      "userId": "14855937078495325719"
     },
     "user_tz": -540
    },
    "id": "LRltk3yFIVsV",
    "outputId": "5e3d7d1c-a006-4994-a207-cf4dac615905"
   },
   "outputs": [
    {
     "name": "stdout",
     "output_type": "stream",
     "text": [
      "[ 1  2  3  4  5  6  7  8  9 10 11 12 13 14 15 16 17 18]\n"
     ]
    }
   ],
   "source": [
    "c2 = np.append(a2, b2)\n",
    "print(c2)"
   ]
  },
  {
   "cell_type": "markdown",
   "metadata": {
    "id": "sVW2UFVZJfpR"
   },
   "source": [
    "* axis를 0으로 지정\n",
    "* shape[0]을 제외한 나머지 shape은 같아야 함"
   ]
  },
  {
   "cell_type": "code",
   "execution_count": 68,
   "metadata": {
    "ExecuteTime": {
     "end_time": "2022-03-20T01:37:57.859797Z",
     "start_time": "2022-03-20T01:37:57.844838Z"
    },
    "colab": {
     "base_uri": "https://localhost:8080/"
    },
    "executionInfo": {
     "elapsed": 140,
     "status": "ok",
     "timestamp": 1647927167170,
     "user": {
      "displayName": "강준모",
      "photoUrl": "https://lh3.googleusercontent.com/a/default-user=s64",
      "userId": "14855937078495325719"
     },
     "user_tz": -540
    },
    "id": "nwJ4xLOeIbMg",
    "outputId": "78b36c13-c0b6-41ca-e3cf-e5f6329c783f"
   },
   "outputs": [
    {
     "name": "stdout",
     "output_type": "stream",
     "text": [
      "[[ 1  2  3]\n",
      " [ 4  5  6]\n",
      " [ 7  8  9]\n",
      " [10 11 12]\n",
      " [13 14 15]\n",
      " [16 17 18]]\n"
     ]
    }
   ],
   "source": [
    "c2 = np.append(a2, b2, axis=0) #0번째 차원(행)이 변하는 방향으로 합쳐짐(0번째 차원이 가장 고차원으로 생각하는게 나은가?).\n",
    "print(c2)"
   ]
  },
  {
   "cell_type": "markdown",
   "metadata": {
    "id": "4YXxzygaJmj-"
   },
   "source": [
    "* axis를 1로 지정\n",
    "* shape[1]을 제외한 나머지 shape은 같아야 함"
   ]
  },
  {
   "cell_type": "code",
   "execution_count": 69,
   "metadata": {
    "ExecuteTime": {
     "end_time": "2022-03-20T01:40:19.253948Z",
     "start_time": "2022-03-20T01:40:19.239987Z"
    },
    "colab": {
     "base_uri": "https://localhost:8080/"
    },
    "executionInfo": {
     "elapsed": 135,
     "status": "ok",
     "timestamp": 1647927167171,
     "user": {
      "displayName": "강준모",
      "photoUrl": "https://lh3.googleusercontent.com/a/default-user=s64",
      "userId": "14855937078495325719"
     },
     "user_tz": -540
    },
    "id": "JYE4_5gAJmYe",
    "outputId": "00806524-a627-4899-d293-440bea6385a8"
   },
   "outputs": [
    {
     "name": "stdout",
     "output_type": "stream",
     "text": [
      "[[ 1  2  3 10 11 12]\n",
      " [ 4  5  6 13 14 15]\n",
      " [ 7  8  9 16 17 18]]\n"
     ]
    }
   ],
   "source": [
    "c2 = np.append(a2, b2, axis=1)\n",
    "print(c2)"
   ]
  },
  {
   "cell_type": "markdown",
   "metadata": {
    "id": "9sTza3b2hoe4"
   },
   "source": [
    "### (np.concatenate) 배열 연결"
   ]
  },
  {
   "cell_type": "markdown",
   "metadata": {
    "id": "TRun2NPYj8Ct"
   },
   "source": [
    "* `concatenate()`: 튜플이나 배열의 리스트를 인수로 사용해 배열 연결"
   ]
  },
  {
   "cell_type": "code",
   "execution_count": 70,
   "metadata": {
    "ExecuteTime": {
     "end_time": "2022-03-20T01:42:11.354757Z",
     "start_time": "2022-03-20T01:42:11.328863Z"
    },
    "colab": {
     "base_uri": "https://localhost:8080/"
    },
    "executionInfo": {
     "elapsed": 128,
     "status": "ok",
     "timestamp": 1647927167171,
     "user": {
      "displayName": "강준모",
      "photoUrl": "https://lh3.googleusercontent.com/a/default-user=s64",
      "userId": "14855937078495325719"
     },
     "user_tz": -540
    },
    "id": "lmEqdPifhrB_",
    "outputId": "0a79735f-c11f-4c39-da36-f23f0bc527d2"
   },
   "outputs": [
    {
     "data": {
      "text/plain": [
       "array([1, 3, 5, 2, 4, 6])"
      ]
     },
     "execution_count": 70,
     "metadata": {},
     "output_type": "execute_result"
    }
   ],
   "source": [
    "a1 = np.array([1, 3, 5])\n",
    "b1 = np.array([2, 4, 6])\n",
    "np.concatenate([a1, b1])"
   ]
  },
  {
   "cell_type": "code",
   "execution_count": 71,
   "metadata": {
    "ExecuteTime": {
     "end_time": "2022-03-20T01:42:46.779476Z",
     "start_time": "2022-03-20T01:42:46.768028Z"
    },
    "colab": {
     "base_uri": "https://localhost:8080/"
    },
    "executionInfo": {
     "elapsed": 124,
     "status": "ok",
     "timestamp": 1647927167172,
     "user": {
      "displayName": "강준모",
      "photoUrl": "https://lh3.googleusercontent.com/a/default-user=s64",
      "userId": "14855937078495325719"
     },
     "user_tz": -540
    },
    "id": "IkoTNIt2k0tp",
    "outputId": "c83d6dbc-ed20-4160-f93f-6d595f2af8e7"
   },
   "outputs": [
    {
     "data": {
      "text/plain": [
       "array([1, 3, 5, 2, 4, 6, 7, 8, 9])"
      ]
     },
     "execution_count": 71,
     "metadata": {},
     "output_type": "execute_result"
    }
   ],
   "source": [
    "c1 = np.array([7, 8, 9])\n",
    "np.concatenate([a1, b1, c1])"
   ]
  },
  {
   "cell_type": "code",
   "execution_count": 72,
   "metadata": {
    "ExecuteTime": {
     "end_time": "2022-03-20T01:43:26.820211Z",
     "start_time": "2022-03-20T01:43:26.803220Z"
    },
    "colab": {
     "base_uri": "https://localhost:8080/"
    },
    "executionInfo": {
     "elapsed": 118,
     "status": "ok",
     "timestamp": 1647927167172,
     "user": {
      "displayName": "강준모",
      "photoUrl": "https://lh3.googleusercontent.com/a/default-user=s64",
      "userId": "14855937078495325719"
     },
     "user_tz": -540
    },
    "id": "vX0SCYX3lEs2",
    "outputId": "b0d81e82-1c07-4ba2-d058-ac6ae4e794a2"
   },
   "outputs": [
    {
     "data": {
      "text/plain": [
       "array([[1, 2, 3],\n",
       "       [4, 5, 6],\n",
       "       [1, 2, 3],\n",
       "       [4, 5, 6]])"
      ]
     },
     "execution_count": 72,
     "metadata": {},
     "output_type": "execute_result"
    }
   ],
   "source": [
    "a2 = np.array([[1,2,3],\n",
    "              [4, 5, 6]])\n",
    "np.concatenate([a2, a2]) #기본 axis=0"
   ]
  },
  {
   "cell_type": "code",
   "execution_count": 73,
   "metadata": {
    "ExecuteTime": {
     "end_time": "2022-03-20T01:43:43.934626Z",
     "start_time": "2022-03-20T01:43:43.920626Z"
    },
    "colab": {
     "base_uri": "https://localhost:8080/"
    },
    "executionInfo": {
     "elapsed": 112,
     "status": "ok",
     "timestamp": 1647927167173,
     "user": {
      "displayName": "강준모",
      "photoUrl": "https://lh3.googleusercontent.com/a/default-user=s64",
      "userId": "14855937078495325719"
     },
     "user_tz": -540
    },
    "id": "Rv6xGva7lxHP",
    "outputId": "22498ad2-35b4-4b27-8a38-1ae36140b751"
   },
   "outputs": [
    {
     "data": {
      "text/plain": [
       "array([[1, 2, 3, 1, 2, 3],\n",
       "       [4, 5, 6, 4, 5, 6]])"
      ]
     },
     "execution_count": 73,
     "metadata": {},
     "output_type": "execute_result"
    }
   ],
   "source": [
    "a2 = np.array([[1,2,3],\n",
    "              [4, 5, 6]])\n",
    "np.concatenate([a2, a2], axis=1) #현재 2차원구조체이기 때문에 axis=2 에서는 안붙음. 새로운 차원을 추가해야 가능함."
   ]
  },
  {
   "cell_type": "markdown",
   "metadata": {
    "id": "MbiBbx4nl2KD"
   },
   "source": [
    "* `vstack()`: 수직 스택(vertical stack), 1차원으로 연결"
   ]
  },
  {
   "cell_type": "code",
   "execution_count": 74,
   "metadata": {
    "ExecuteTime": {
     "end_time": "2022-03-20T01:44:40.583857Z",
     "start_time": "2022-03-20T01:44:40.576873Z"
    },
    "colab": {
     "base_uri": "https://localhost:8080/"
    },
    "executionInfo": {
     "elapsed": 106,
     "status": "ok",
     "timestamp": 1647927167173,
     "user": {
      "displayName": "강준모",
      "photoUrl": "https://lh3.googleusercontent.com/a/default-user=s64",
      "userId": "14855937078495325719"
     },
     "user_tz": -540
    },
    "id": "HkHJwdBMl_qi",
    "outputId": "6f8907cb-725c-4de7-dfea-9fb3ccd17667"
   },
   "outputs": [
    {
     "data": {
      "text/plain": [
       "array([[1, 2, 3],\n",
       "       [4, 5, 6],\n",
       "       [1, 2, 3],\n",
       "       [4, 5, 6]])"
      ]
     },
     "execution_count": 74,
     "metadata": {},
     "output_type": "execute_result"
    }
   ],
   "source": [
    "np.vstack([a2, a2])"
   ]
  },
  {
   "cell_type": "markdown",
   "metadata": {
    "id": "-hTlAnWxmHA_"
   },
   "source": [
    "* `hstack()`: 수평 스택(horizontal stack), 2차원으로 연결"
   ]
  },
  {
   "cell_type": "code",
   "execution_count": 75,
   "metadata": {
    "ExecuteTime": {
     "end_time": "2022-03-20T01:45:44.830609Z",
     "start_time": "2022-03-20T01:45:44.818613Z"
    },
    "colab": {
     "base_uri": "https://localhost:8080/"
    },
    "executionInfo": {
     "elapsed": 102,
     "status": "ok",
     "timestamp": 1647927167174,
     "user": {
      "displayName": "강준모",
      "photoUrl": "https://lh3.googleusercontent.com/a/default-user=s64",
      "userId": "14855937078495325719"
     },
     "user_tz": -540
    },
    "id": "-HsGlAytmNEz",
    "outputId": "266dd3e6-e94a-4c79-ffe2-3e2070fa97eb"
   },
   "outputs": [
    {
     "data": {
      "text/plain": [
       "(array([[1, 2, 3, 1, 2, 3],\n",
       "        [4, 5, 6, 4, 5, 6]]), (2, 6))"
      ]
     },
     "execution_count": 75,
     "metadata": {},
     "output_type": "execute_result"
    }
   ],
   "source": [
    "np.hstack([a2, a2]), np.hstack([a2, a2]).shape"
   ]
  },
  {
   "cell_type": "markdown",
   "metadata": {
    "id": "CshM6LURmUhV"
   },
   "source": [
    "* `dstack()`: 깊이 스택(depth stack), 3차원으로 연결"
   ]
  },
  {
   "cell_type": "code",
   "execution_count": 76,
   "metadata": {
    "ExecuteTime": {
     "end_time": "2022-03-20T01:45:46.687604Z",
     "start_time": "2022-03-20T01:45:46.667624Z"
    },
    "colab": {
     "base_uri": "https://localhost:8080/"
    },
    "executionInfo": {
     "elapsed": 96,
     "status": "ok",
     "timestamp": 1647927167175,
     "user": {
      "displayName": "강준모",
      "photoUrl": "https://lh3.googleusercontent.com/a/default-user=s64",
      "userId": "14855937078495325719"
     },
     "user_tz": -540
    },
    "id": "TFBdRddpmU4m",
    "outputId": "59e50ef0-77fc-4202-fafb-c4edbf104ded"
   },
   "outputs": [
    {
     "data": {
      "text/plain": [
       "(array([[[1, 1],\n",
       "         [2, 2],\n",
       "         [3, 3]],\n",
       " \n",
       "        [[4, 4],\n",
       "         [5, 5],\n",
       "         [6, 6]]]), (2, 3, 2))"
      ]
     },
     "execution_count": 76,
     "metadata": {},
     "output_type": "execute_result"
    }
   ],
   "source": [
    "np.dstack([a2, a2]), np.dstack([a2, a2]).shape #이건 concat과 달리축이 없어도 붙는구나"
   ]
  },
  {
   "cell_type": "markdown",
   "metadata": {
    "id": "JUBtc4UnpaSz"
   },
   "source": [
    "* `stack()`: 새로운 차원으로 연결"
   ]
  },
  {
   "cell_type": "code",
   "execution_count": 77,
   "metadata": {
    "ExecuteTime": {
     "end_time": "2022-03-20T01:46:59.458162Z",
     "start_time": "2022-03-20T01:46:59.433219Z"
    },
    "colab": {
     "base_uri": "https://localhost:8080/"
    },
    "executionInfo": {
     "elapsed": 91,
     "status": "ok",
     "timestamp": 1647927167176,
     "user": {
      "displayName": "강준모",
      "photoUrl": "https://lh3.googleusercontent.com/a/default-user=s64",
      "userId": "14855937078495325719"
     },
     "user_tz": -540
    },
    "id": "JzoujQ9_pHS5",
    "outputId": "932c63c8-81b1-4e22-f304-8156181a24e6"
   },
   "outputs": [
    {
     "data": {
      "text/plain": [
       "(array([[[1, 2, 3],\n",
       "         [4, 5, 6]],\n",
       " \n",
       "        [[1, 2, 3],\n",
       "         [4, 5, 6]]]), (2, 2, 3))"
      ]
     },
     "execution_count": 77,
     "metadata": {},
     "output_type": "execute_result"
    }
   ],
   "source": [
    "np.stack([a2, a2]), np.stack([a2, a2]).shape"
   ]
  },
  {
   "cell_type": "markdown",
   "metadata": {
    "id": "eYz74NYKo8iH"
   },
   "source": [
    "### (np.split) 배열 분할"
   ]
  },
  {
   "cell_type": "markdown",
   "metadata": {
    "id": "wjt2zku5pBmF"
   },
   "source": [
    "* `split()`: 배열 분할"
   ]
  },
  {
   "cell_type": "code",
   "execution_count": 78,
   "metadata": {
    "ExecuteTime": {
     "end_time": "2022-03-20T01:49:41.102863Z",
     "start_time": "2022-03-20T01:49:41.088898Z"
    },
    "colab": {
     "base_uri": "https://localhost:8080/"
    },
    "executionInfo": {
     "elapsed": 82,
     "status": "ok",
     "timestamp": 1647927167176,
     "user": {
      "displayName": "강준모",
      "photoUrl": "https://lh3.googleusercontent.com/a/default-user=s64",
      "userId": "14855937078495325719"
     },
     "user_tz": -540
    },
    "id": "H_2e71heo-Eq",
    "outputId": "2f147898-8d17-41bf-c1c0-0852935f30f1"
   },
   "outputs": [
    {
     "name": "stdout",
     "output_type": "stream",
     "text": [
      "[0 1 2 3 4 5 6 7 8 9]\n",
      "[0 1 2 3 4] [5 6 7 8 9]\n",
      "=============\n",
      "[0 1] [2 3] [4 5] [6 7] [8 9]\n"
     ]
    }
   ],
   "source": [
    "a1 = np.arange(0, 10)\n",
    "print(a1)\n",
    "b1, c1 = np.split(a1, [5]) #인덱스5 앞지점에서 자른다.\n",
    "print(b1, c1)\n",
    "print('=============')\n",
    "b1, c1, d1, e1, f1 = np.split(a1, [2, 4, 6, 8])\n",
    "print(b1, c1, d1, e1, f1)"
   ]
  },
  {
   "cell_type": "markdown",
   "metadata": {
    "id": "IvvdCQcKsCLn"
   },
   "source": [
    "* `vsplit()`: 수직 분할, 1차원으로 분할"
   ]
  },
  {
   "cell_type": "code",
   "execution_count": 79,
   "metadata": {
    "ExecuteTime": {
     "end_time": "2022-03-20T01:50:41.202926Z",
     "start_time": "2022-03-20T01:50:41.191922Z"
    },
    "colab": {
     "base_uri": "https://localhost:8080/"
    },
    "executionInfo": {
     "elapsed": 77,
     "status": "ok",
     "timestamp": 1647927167176,
     "user": {
      "displayName": "강준모",
      "photoUrl": "https://lh3.googleusercontent.com/a/default-user=s64",
      "userId": "14855937078495325719"
     },
     "user_tz": -540
    },
    "id": "GdMYlsiLsCoe",
    "outputId": "3f7ed3d2-e3a2-48f5-e645-d2aca831869a"
   },
   "outputs": [
    {
     "name": "stdout",
     "output_type": "stream",
     "text": [
      "[[1 2 3]\n",
      " [4 5 6]\n",
      " [7 8 9]]\n",
      "[[1 2 3]\n",
      " [4 5 6]]\n",
      "[[7 8 9]]\n"
     ]
    }
   ],
   "source": [
    "a2 = np.arange(1, 10).reshape(3, 3)\n",
    "print(a2)\n",
    "b2, c2 = np.vsplit(a2, [2]) #3번째행(행2) 앞에서 짜른다.\n",
    "print(b2)\n",
    "print(c2)"
   ]
  },
  {
   "cell_type": "markdown",
   "metadata": {
    "id": "1aC0a034rSXi"
   },
   "source": [
    "* `hsplit()`: 수평 분할, 2차원으로 분할"
   ]
  },
  {
   "cell_type": "code",
   "execution_count": 80,
   "metadata": {
    "ExecuteTime": {
     "end_time": "2022-03-20T01:52:19.880609Z",
     "start_time": "2022-03-20T01:52:19.866648Z"
    },
    "colab": {
     "base_uri": "https://localhost:8080/"
    },
    "executionInfo": {
     "elapsed": 73,
     "status": "ok",
     "timestamp": 1647927167177,
     "user": {
      "displayName": "강준모",
      "photoUrl": "https://lh3.googleusercontent.com/a/default-user=s64",
      "userId": "14855937078495325719"
     },
     "user_tz": -540
    },
    "id": "ShMnE_bnrSBJ",
    "outputId": "80fbebd0-bafe-477c-9609-86e84f02b090"
   },
   "outputs": [
    {
     "name": "stdout",
     "output_type": "stream",
     "text": [
      "[[1 2 3]\n",
      " [4 5 6]\n",
      " [7 8 9]]\n",
      "[[1 2]\n",
      " [4 5]\n",
      " [7 8]]\n",
      "[[3]\n",
      " [6]\n",
      " [9]]\n"
     ]
    }
   ],
   "source": [
    "a2 = np.arange(1, 10).reshape(3, 3)\n",
    "print(a2)\n",
    "b2, c2 = np.hsplit(a2, [2]) #3번째행(행2) 앞에서 짜른다.\n",
    "print(b2)\n",
    "print(c2)"
   ]
  },
  {
   "cell_type": "markdown",
   "metadata": {
    "id": "Pz3BDD8qsQER"
   },
   "source": [
    "* `dsplit()`: 깊이 분할, 3차원으로 분할"
   ]
  },
  {
   "cell_type": "code",
   "execution_count": 81,
   "metadata": {
    "ExecuteTime": {
     "end_time": "2022-03-20T01:52:50.831945Z",
     "start_time": "2022-03-20T01:52:50.819976Z"
    },
    "colab": {
     "base_uri": "https://localhost:8080/"
    },
    "executionInfo": {
     "elapsed": 66,
     "status": "ok",
     "timestamp": 1647927167177,
     "user": {
      "displayName": "강준모",
      "photoUrl": "https://lh3.googleusercontent.com/a/default-user=s64",
      "userId": "14855937078495325719"
     },
     "user_tz": -540
    },
    "id": "DqHFGd43sQYj",
    "outputId": "dfabf574-be1f-4a27-f4c9-b3907fc5cd4f"
   },
   "outputs": [
    {
     "name": "stdout",
     "output_type": "stream",
     "text": [
      "[[1 2 3]\n",
      " [4 5 6]\n",
      " [7 8 9]]\n",
      "[[[ 1  2]\n",
      "  [ 4  5]\n",
      "  [ 7  8]]\n",
      "\n",
      " [[10 11]\n",
      "  [13 14]\n",
      "  [16 17]]\n",
      "\n",
      " [[19 20]\n",
      "  [22 23]\n",
      "  [25 26]]]\n",
      "[[[ 3]\n",
      "  [ 6]\n",
      "  [ 9]]\n",
      "\n",
      " [[12]\n",
      "  [15]\n",
      "  [18]]\n",
      "\n",
      " [[21]\n",
      "  [24]\n",
      "  [27]]]\n"
     ]
    }
   ],
   "source": [
    "a3 = np.arange(1, 28).reshape(3, 3, 3)\n",
    "print(a2)\n",
    "b3, c3 = np.dsplit(a3, [2]) #3번째행(행2) 앞에서 짜른다.\n",
    "print(b3)\n",
    "print(c3)"
   ]
  },
  {
   "cell_type": "markdown",
   "metadata": {
    "id": "rK-zrDZuGoVd"
   },
   "source": [
    "\n",
    "\n",
    "---\n",
    "\n"
   ]
  },
  {
   "cell_type": "markdown",
   "metadata": {
    "id": "Vc-iSWewJ3C1"
   },
   "source": [
    "## 배열 연산\n",
    "\n",
    "* NumPy의 배열 연산은 벡터화(vectorized) 연산을 사용\n",
    "* 일반적으로 NumPy의 범용 함수(universal functions)를 통해 구현\n",
    "* 배열 요소에 대한 반복적인 계산을 효율적으로 수행"
   ]
  },
  {
   "cell_type": "code",
   "execution_count": 82,
   "metadata": {
    "ExecuteTime": {
     "end_time": "2022-03-20T01:54:07.237744Z",
     "start_time": "2022-03-20T01:54:07.208815Z"
    },
    "executionInfo": {
     "elapsed": 61,
     "status": "ok",
     "timestamp": 1647927167178,
     "user": {
      "displayName": "강준모",
      "photoUrl": "https://lh3.googleusercontent.com/a/default-user=s64",
      "userId": "14855937078495325719"
     },
     "user_tz": -540
    },
    "id": "gCmr1XEBLDIv"
   },
   "outputs": [],
   "source": [
    "# [1,2,3] +3 <-- 리스트에서는 이게 안되지."
   ]
  },
  {
   "cell_type": "markdown",
   "metadata": {
    "id": "Pg2er1A2w3cz"
   },
   "source": [
    "### 브로드캐스팅(Broadcasting)"
   ]
  },
  {
   "cell_type": "markdown",
   "metadata": {
    "id": "o2MYQCRULDIv"
   },
   "source": [
    "![image.png](attachment:image.png)"
   ]
  },
  {
   "cell_type": "code",
   "execution_count": 83,
   "metadata": {
    "ExecuteTime": {
     "end_time": "2022-03-20T01:59:08.516860Z",
     "start_time": "2022-03-20T01:59:08.497928Z"
    },
    "colab": {
     "base_uri": "https://localhost:8080/"
    },
    "executionInfo": {
     "elapsed": 60,
     "status": "ok",
     "timestamp": 1647927167178,
     "user": {
      "displayName": "강준모",
      "photoUrl": "https://lh3.googleusercontent.com/a/default-user=s64",
      "userId": "14855937078495325719"
     },
     "user_tz": -540
    },
    "id": "IGU-HRgr20nj",
    "outputId": "a05ce827-c724-47a0-d268-9ea8e46b1e2d"
   },
   "outputs": [
    {
     "name": "stdout",
     "output_type": "stream",
     "text": [
      "[1 2 3]\n",
      "[6 7 8]\n"
     ]
    }
   ],
   "source": [
    "a1 = np.array([1, 2, 3])\n",
    "print(a1)\n",
    "print(a1 + 5)"
   ]
  },
  {
   "cell_type": "code",
   "execution_count": 84,
   "metadata": {
    "ExecuteTime": {
     "end_time": "2022-03-20T01:59:21.526585Z",
     "start_time": "2022-03-20T01:59:21.521557Z"
    },
    "executionInfo": {
     "elapsed": 54,
     "status": "ok",
     "timestamp": 1647927167178,
     "user": {
      "displayName": "강준모",
      "photoUrl": "https://lh3.googleusercontent.com/a/default-user=s64",
      "userId": "14855937078495325719"
     },
     "user_tz": -540
    },
    "id": "IAzsmIAn1HNt"
   },
   "outputs": [],
   "source": [
    "# 귀찮으니 넘어간다."
   ]
  },
  {
   "cell_type": "markdown",
   "metadata": {
    "id": "NZzLHHLmwl_b"
   },
   "source": [
    "### 산술 연산(Arithmetic Operators)"
   ]
  },
  {
   "cell_type": "markdown",
   "metadata": {
    "id": "kU4kqD_ILDIy"
   },
   "source": [
    "![image-2.png](attachment:image-2.png)"
   ]
  },
  {
   "cell_type": "code",
   "execution_count": 85,
   "metadata": {
    "ExecuteTime": {
     "end_time": "2022-03-20T02:04:28.513436Z",
     "start_time": "2022-03-20T02:04:28.503754Z"
    },
    "executionInfo": {
     "elapsed": 55,
     "status": "ok",
     "timestamp": 1647927167179,
     "user": {
      "displayName": "강준모",
      "photoUrl": "https://lh3.googleusercontent.com/a/default-user=s64",
      "userId": "14855937078495325719"
     },
     "user_tz": -540
    },
    "id": "jHrIjHGEi05k"
   },
   "outputs": [],
   "source": [
    "# 귀찮음."
   ]
  },
  {
   "cell_type": "code",
   "execution_count": 86,
   "metadata": {
    "executionInfo": {
     "elapsed": 54,
     "status": "ok",
     "timestamp": 1647927167179,
     "user": {
      "displayName": "강준모",
      "photoUrl": "https://lh3.googleusercontent.com/a/default-user=s64",
      "userId": "14855937078495325719"
     },
     "user_tz": -540
    },
    "id": "sMUYzXk3psgC"
   },
   "outputs": [],
   "source": [
    "# 다차원 + 스칼라\n",
    "# 다차원 + 다차원 (t산술연산끼리는 같은 차원 & 같은 shape이여야함.)"
   ]
  },
  {
   "cell_type": "markdown",
   "metadata": {
    "id": "hxG_aECas3a9"
   },
   "source": [
    "#### (np.abs) 절대값 함수(Absolute Function)\n",
    "\n",
    "* `absolute()`, `abs()`: 내장된 절대값 함수"
   ]
  },
  {
   "cell_type": "code",
   "execution_count": 87,
   "metadata": {
    "ExecuteTime": {
     "end_time": "2022-03-20T02:10:11.931598Z",
     "start_time": "2022-03-20T02:10:11.905693Z"
    },
    "colab": {
     "base_uri": "https://localhost:8080/"
    },
    "executionInfo": {
     "elapsed": 54,
     "status": "ok",
     "timestamp": 1647927167180,
     "user": {
      "displayName": "강준모",
      "photoUrl": "https://lh3.googleusercontent.com/a/default-user=s64",
      "userId": "14855937078495325719"
     },
     "user_tz": -540
    },
    "id": "YmX-0LvWs7qM",
    "outputId": "0633831d-d621-46b6-95b2-97db5a8e1427"
   },
   "outputs": [
    {
     "name": "stdout",
     "output_type": "stream",
     "text": [
      "[-9 -7  5  2  8]\n",
      "[9 7 5 2 8]\n"
     ]
    }
   ],
   "source": [
    "a1 = np.random.randint(-10, 10, size=5)\n",
    "print(a1)\n",
    "print(np.abs(a1))"
   ]
  },
  {
   "cell_type": "markdown",
   "metadata": {
    "id": "U5uE3sVtzRvA"
   },
   "source": [
    "#### (np.square, np.sqrt) 제곱/제곱근 함수\n",
    "\n",
    "* `square`, `sqrt`: 제곱, 제곱근 함수"
   ]
  },
  {
   "cell_type": "code",
   "execution_count": 88,
   "metadata": {
    "ExecuteTime": {
     "end_time": "2022-03-20T02:11:19.483263Z",
     "start_time": "2022-03-20T02:11:19.469303Z"
    },
    "colab": {
     "base_uri": "https://localhost:8080/"
    },
    "executionInfo": {
     "elapsed": 49,
     "status": "ok",
     "timestamp": 1647927167180,
     "user": {
      "displayName": "강준모",
      "photoUrl": "https://lh3.googleusercontent.com/a/default-user=s64",
      "userId": "14855937078495325719"
     },
     "user_tz": -540
    },
    "id": "ggnIxDGzzTfX",
    "outputId": "66f91a6b-06a6-4697-ed25-65939c7ef2b3"
   },
   "outputs": [
    {
     "name": "stdout",
     "output_type": "stream",
     "text": [
      "[-9 -7  5  2  8]\n",
      "[       nan        nan 2.23606798 1.41421356 2.82842712]\n"
     ]
    },
    {
     "name": "stderr",
     "output_type": "stream",
     "text": [
      "/usr/local/lib/python3.7/dist-packages/ipykernel_launcher.py:2: RuntimeWarning: invalid value encountered in sqrt\n",
      "  \n"
     ]
    }
   ],
   "source": [
    "print(a1)\n",
    "print(np.sqrt(a1)) #square root라는데"
   ]
  },
  {
   "cell_type": "markdown",
   "metadata": {
    "id": "tWh1aQ50vRhB"
   },
   "source": [
    "#### (np.exp, exp2, power, log, log2, log10) 지수와 로그 함수 (Exponential and Log Function)"
   ]
  },
  {
   "cell_type": "code",
   "execution_count": 89,
   "metadata": {
    "ExecuteTime": {
     "end_time": "2022-03-20T02:13:15.343061Z",
     "start_time": "2022-03-20T02:13:15.327102Z"
    },
    "colab": {
     "base_uri": "https://localhost:8080/"
    },
    "executionInfo": {
     "elapsed": 45,
     "status": "ok",
     "timestamp": 1647927167181,
     "user": {
      "displayName": "강준모",
      "photoUrl": "https://lh3.googleusercontent.com/a/default-user=s64",
      "userId": "14855937078495325719"
     },
     "user_tz": -540
    },
    "id": "Dygt3AyHvTZz",
    "outputId": "b26326e6-f8f6-4e43-ce12-cbc0357f4e78"
   },
   "outputs": [
    {
     "name": "stdout",
     "output_type": "stream",
     "text": [
      "[1 6 4 9 4]\n",
      "[2.71828183e+00 4.03428793e+02 5.45981500e+01 8.10308393e+03\n",
      " 5.45981500e+01]\n",
      "[  2.  64.  16. 512.  16.]\n",
      "[ 1 36 16 81 16]\n"
     ]
    }
   ],
   "source": [
    "a1 = np.random.randint(1, 10, size=5)\n",
    "print(a1)\n",
    "print(np.exp(a1))\n",
    "print(np.exp2(a1))\n",
    "print(np.power(a1, 2))"
   ]
  },
  {
   "cell_type": "code",
   "execution_count": 90,
   "metadata": {
    "ExecuteTime": {
     "end_time": "2022-03-20T02:14:05.136196Z",
     "start_time": "2022-03-20T02:14:05.121234Z"
    },
    "colab": {
     "base_uri": "https://localhost:8080/"
    },
    "executionInfo": {
     "elapsed": 38,
     "status": "ok",
     "timestamp": 1647927167181,
     "user": {
      "displayName": "강준모",
      "photoUrl": "https://lh3.googleusercontent.com/a/default-user=s64",
      "userId": "14855937078495325719"
     },
     "user_tz": -540
    },
    "id": "YB0BzwxDvnkT",
    "outputId": "402e9e55-6cdf-49db-d98d-076c2c565c80"
   },
   "outputs": [
    {
     "name": "stdout",
     "output_type": "stream",
     "text": [
      "[1 6 4 9 4]\n",
      "[0.         1.79175947 1.38629436 2.19722458 1.38629436]\n",
      "[0.        2.5849625 2.        3.169925  2.       ]\n",
      "[0.         0.77815125 0.60205999 0.95424251 0.60205999]\n"
     ]
    }
   ],
   "source": [
    "print(a1)\n",
    "print(np.log(a1))\n",
    "print(np.log2(a1))\n",
    "print(np.log10(a1))"
   ]
  },
  {
   "cell_type": "markdown",
   "metadata": {
    "id": "wE_p9AxjtdJ9"
   },
   "source": [
    "#### 삼각 함수(Trigonometrical Function)\n",
    "https://rfriend.tistory.com/296"
   ]
  },
  {
   "cell_type": "markdown",
   "metadata": {
    "id": "6bOSPS81tuo5"
   },
   "source": [
    "![image.png](attachment:image.png)"
   ]
  },
  {
   "cell_type": "code",
   "execution_count": 91,
   "metadata": {
    "ExecuteTime": {
     "end_time": "2022-03-20T02:16:08.668605Z",
     "start_time": "2022-03-20T02:16:08.658634Z"
    },
    "colab": {
     "base_uri": "https://localhost:8080/"
    },
    "executionInfo": {
     "elapsed": 31,
     "status": "ok",
     "timestamp": 1647927167181,
     "user": {
      "displayName": "강준모",
      "photoUrl": "https://lh3.googleusercontent.com/a/default-user=s64",
      "userId": "14855937078495325719"
     },
     "user_tz": -540
    },
    "id": "v7m-AQW9uJ9u",
    "outputId": "8f16bd37-2bb2-46f5-9519-d4a9ed5f5200"
   },
   "outputs": [
    {
     "name": "stdout",
     "output_type": "stream",
     "text": [
      "[0.         1.57079633 3.14159265]\n",
      "[0.0000000e+00 1.0000000e+00 1.2246468e-16]\n",
      "[ 1.000000e+00  6.123234e-17 -1.000000e+00]\n",
      "[ 0.00000000e+00  1.63312394e+16 -1.22464680e-16]\n"
     ]
    }
   ],
   "source": [
    "t = np.linspace(0, np.pi, 3)\n",
    "print(t)\n",
    "print(np.sin(t))\n",
    "print(np.cos(t))\n",
    "print(np.tan(t))"
   ]
  },
  {
   "cell_type": "code",
   "execution_count": 92,
   "metadata": {
    "ExecuteTime": {
     "end_time": "2022-03-20T02:16:58.444535Z",
     "start_time": "2022-03-20T02:16:58.432568Z"
    },
    "colab": {
     "base_uri": "https://localhost:8080/"
    },
    "executionInfo": {
     "elapsed": 560,
     "status": "ok",
     "timestamp": 1647927167715,
     "user": {
      "displayName": "강준모",
      "photoUrl": "https://lh3.googleusercontent.com/a/default-user=s64",
      "userId": "14855937078495325719"
     },
     "user_tz": -540
    },
    "id": "QxdWpA66LDI7",
    "outputId": "f1b030a9-ec67-452b-cb28-75be008f6658"
   },
   "outputs": [
    {
     "name": "stdout",
     "output_type": "stream",
     "text": [
      "[-1, 0, 1]\n",
      "[-1.57079633  0.          1.57079633]\n",
      "[-0.78539816  0.          0.78539816]\n",
      "[-0.78539816  0.          0.78539816]\n"
     ]
    }
   ],
   "source": [
    "x = [-1, 0, 1]\n",
    "print(x)\n",
    "print(np.arcsin(x))\n",
    "print(np.arctan(x))\n",
    "print(np.arctan(x))"
   ]
  },
  {
   "cell_type": "markdown",
   "metadata": {
    "id": "hKJtYUVWwxQy"
   },
   "source": [
    "### 집계 함수(Aggregate Functions)"
   ]
  },
  {
   "cell_type": "markdown",
   "metadata": {
    "id": "Ye-T_buFLDI8"
   },
   "source": [
    "![image.png](attachment:image.png)\n",
    "![image-3.png](attachment:image-3.png)\n",
    "\n",
    "- nan이 붙은건 안전모드: 값이없으면 에러를 배출하는게 아닌 null값을 넣어줌"
   ]
  },
  {
   "cell_type": "markdown",
   "metadata": {
    "id": "GdxMrX5l9m6W"
   },
   "source": [
    "#### sum(): 합 계산"
   ]
  },
  {
   "cell_type": "code",
   "execution_count": 93,
   "metadata": {
    "ExecuteTime": {
     "end_time": "2022-03-20T05:15:55.706366Z",
     "start_time": "2022-03-20T05:15:55.693386Z"
    },
    "colab": {
     "base_uri": "https://localhost:8080/"
    },
    "executionInfo": {
     "elapsed": 202,
     "status": "ok",
     "timestamp": 1647927167716,
     "user": {
      "displayName": "강준모",
      "photoUrl": "https://lh3.googleusercontent.com/a/default-user=s64",
      "userId": "14855937078495325719"
     },
     "user_tz": -540
    },
    "id": "AJQ3GjLI0cZU",
    "outputId": "24b31eed-53dd-42cc-fa0c-da5ff16cf276"
   },
   "outputs": [
    {
     "name": "stdout",
     "output_type": "stream",
     "text": [
      "[[2 7 6]\n",
      " [6 5 3]\n",
      " [4 6 9]]\n",
      "48 48\n",
      "[12 18 18] [12 18 18]\n",
      "[15 14 19] [15 14 19]\n"
     ]
    }
   ],
   "source": [
    "a2 = np.random.randint(1, 10, size=(3, 3))\n",
    "print(a2)\n",
    "print(a2.sum(), np.sum(a2))\n",
    "print(a2.sum(axis=0), np.sum(a2, axis=0))\n",
    "print(a2.sum(axis=1), np.sum(a2, axis=1))"
   ]
  },
  {
   "cell_type": "markdown",
   "metadata": {
    "id": "U4W4iIb9J4Zd"
   },
   "source": [
    "#### cumsum(): 누적합 계산"
   ]
  },
  {
   "cell_type": "code",
   "execution_count": 94,
   "metadata": {
    "ExecuteTime": {
     "end_time": "2022-03-20T05:17:06.516766Z",
     "start_time": "2022-03-20T05:17:06.491833Z"
    },
    "colab": {
     "base_uri": "https://localhost:8080/"
    },
    "executionInfo": {
     "elapsed": 196,
     "status": "ok",
     "timestamp": 1647927167716,
     "user": {
      "displayName": "강준모",
      "photoUrl": "https://lh3.googleusercontent.com/a/default-user=s64",
      "userId": "14855937078495325719"
     },
     "user_tz": -540
    },
    "id": "SRZWZD3UJ4wo",
    "outputId": "b3ee4bee-7b36-4f04-8bb2-2e1d4dcea45b"
   },
   "outputs": [
    {
     "name": "stdout",
     "output_type": "stream",
     "text": [
      "[[4 9 8]\n",
      " [4 6 5]\n",
      " [8 1 5]]\n",
      "[ 4 13 21 25 31 36 44 45 50]\n",
      "[[ 4  9  8]\n",
      " [ 8 15 13]\n",
      " [16 16 18]]\n",
      "[[ 4 13 21]\n",
      " [ 4 10 15]\n",
      " [ 8  9 14]]\n"
     ]
    }
   ],
   "source": [
    "a2 = np.random.randint(1, 10, size=(3, 3))\n",
    "print(a2)\n",
    "print(a2.cumsum())\n",
    "print(np.cumsum(a2, axis=0))\n",
    "print(a2.cumsum(axis=1))"
   ]
  },
  {
   "cell_type": "markdown",
   "metadata": {
    "id": "pVaJRWQ-LV0f"
   },
   "source": [
    "#### diff(): 차분 계산-뒤에값을 앞의 값으로 뺀다 = 앞에 값에서 뒤에 값이 되기 위함."
   ]
  },
  {
   "cell_type": "code",
   "execution_count": 95,
   "metadata": {
    "ExecuteTime": {
     "end_time": "2022-03-20T05:18:32.063257Z",
     "start_time": "2022-03-20T05:18:32.056274Z"
    },
    "colab": {
     "base_uri": "https://localhost:8080/"
    },
    "executionInfo": {
     "elapsed": 188,
     "status": "ok",
     "timestamp": 1647927167716,
     "user": {
      "displayName": "강준모",
      "photoUrl": "https://lh3.googleusercontent.com/a/default-user=s64",
      "userId": "14855937078495325719"
     },
     "user_tz": -540
    },
    "id": "yKjnWtGVLWJj",
    "outputId": "5f0d9409-3e30-44a8-9352-9793f5a75726"
   },
   "outputs": [
    {
     "name": "stdout",
     "output_type": "stream",
     "text": [
      "[[4 9 3]\n",
      " [1 8 1]\n",
      " [1 9 6]]\n",
      "[[ 5 -6]\n",
      " [ 7 -7]\n",
      " [ 8 -3]]\n",
      "[[-3 -1 -2]\n",
      " [ 0  1  5]]\n",
      "[[ 5 -6]\n",
      " [ 7 -7]\n",
      " [ 8 -3]]\n"
     ]
    }
   ],
   "source": [
    "a2 = np.random.randint(1, 10, size=(3, 3))\n",
    "print(a2)\n",
    "# print(a2.diff()) <-- 메서드는 존재하지 않는듯.\n",
    "print(np.diff(a2))\n",
    "print(np.diff(a2, axis=0))\n",
    "print(np.diff(a2, axis=1))\n",
    "# print(a2.diff(axis=1))"
   ]
  },
  {
   "cell_type": "markdown",
   "metadata": {
    "id": "b6I38HfA9vGL"
   },
   "source": [
    "#### prod(): element들에 대한 곱 계산"
   ]
  },
  {
   "cell_type": "code",
   "execution_count": 96,
   "metadata": {
    "ExecuteTime": {
     "end_time": "2022-03-20T05:20:32.697785Z",
     "start_time": "2022-03-20T05:20:32.679836Z"
    },
    "colab": {
     "base_uri": "https://localhost:8080/"
    },
    "executionInfo": {
     "elapsed": 184,
     "status": "ok",
     "timestamp": 1647927167717,
     "user": {
      "displayName": "강준모",
      "photoUrl": "https://lh3.googleusercontent.com/a/default-user=s64",
      "userId": "14855937078495325719"
     },
     "user_tz": -540
    },
    "id": "rGPMXGe89y0O",
    "outputId": "3f2d6773-a4fc-461b-dba8-3a7eeaaa2ffd"
   },
   "outputs": [
    {
     "name": "stdout",
     "output_type": "stream",
     "text": [
      "[[1 3 9]\n",
      " [4 5 2]\n",
      " [2 8 9]]\n",
      "155520\n",
      "[  8 120 162]\n",
      "[ 27  40 144]\n"
     ]
    }
   ],
   "source": [
    "a2 = np.random.randint(1, 10, size=(3, 3))\n",
    "print(a2)\n",
    "print(a2.prod())\n",
    "print(np.prod(a2, axis=0))\n",
    "print(a2.prod(axis=1))"
   ]
  },
  {
   "cell_type": "markdown",
   "metadata": {
    "id": "RwaoVUGcKkkE"
   },
   "source": [
    "#### cumprod(): 누적곱 계산"
   ]
  },
  {
   "cell_type": "code",
   "execution_count": 97,
   "metadata": {
    "ExecuteTime": {
     "end_time": "2022-03-20T05:21:03.192414Z",
     "start_time": "2022-03-20T05:21:03.172496Z"
    },
    "colab": {
     "base_uri": "https://localhost:8080/"
    },
    "executionInfo": {
     "elapsed": 179,
     "status": "ok",
     "timestamp": 1647927167717,
     "user": {
      "displayName": "강준모",
      "photoUrl": "https://lh3.googleusercontent.com/a/default-user=s64",
      "userId": "14855937078495325719"
     },
     "user_tz": -540
    },
    "id": "jwYoX9inKk4D",
    "outputId": "13f545e4-b08b-4eb9-e2be-ded3c4b62f7b"
   },
   "outputs": [
    {
     "name": "stdout",
     "output_type": "stream",
     "text": [
      "[[9 5 3]\n",
      " [6 7 5]\n",
      " [3 4 8]]\n",
      "[      9      45     135     810    5670   28350   85050  340200 2721600]\n",
      "[[  9   5   3]\n",
      " [ 54  35  15]\n",
      " [162 140 120]]\n",
      "[[  9  45 135]\n",
      " [  6  42 210]\n",
      " [  3  12  96]]\n"
     ]
    }
   ],
   "source": [
    "a2 = np.random.randint(1, 10, size=(3, 3))\n",
    "print(a2)\n",
    "print(a2.cumprod())\n",
    "print(np.cumprod(a2, axis=0))\n",
    "print(a2.cumprod(axis=1))"
   ]
  },
  {
   "cell_type": "markdown",
   "metadata": {
    "id": "_LMAbL9hMV7T"
   },
   "source": [
    "#### dot()/matmul(): 점곱/행렬곱 계산"
   ]
  },
  {
   "cell_type": "markdown",
   "metadata": {
    "id": "gvkviezZLDJD"
   },
   "source": [
    "* https://m.blog.naver.com/PostView.naver?isHttpsRedirect=true&blogId=cjh226&logNo=221356884894\n",
    "* dot과 matmul의 차이\n",
    "* 2차원까지는 동일한 연산을 수행하나, 3차원부터 용법이 전혀 다르다.\n"
   ]
  },
  {
   "cell_type": "code",
   "execution_count": 98,
   "metadata": {
    "ExecuteTime": {
     "end_time": "2022-03-20T05:21:49.905321Z",
     "start_time": "2022-03-20T05:21:49.889379Z"
    },
    "colab": {
     "base_uri": "https://localhost:8080/"
    },
    "executionInfo": {
     "elapsed": 174,
     "status": "ok",
     "timestamp": 1647927167718,
     "user": {
      "displayName": "강준모",
      "photoUrl": "https://lh3.googleusercontent.com/a/default-user=s64",
      "userId": "14855937078495325719"
     },
     "user_tz": -540
    },
    "id": "xC6FBzF0MWW1",
    "outputId": "3928d016-0028-4bc1-c35b-b8e2cea23942"
   },
   "outputs": [
    {
     "name": "stdout",
     "output_type": "stream",
     "text": [
      "[[9 5 3]\n",
      " [6 7 5]\n",
      " [3 4 8]]\n",
      "[[1 1 1]\n",
      " [1 1 1]\n",
      " [1 1 1]]\n",
      "[[17 17 17]\n",
      " [18 18 18]\n",
      " [15 15 15]]\n",
      "[[17 17 17]\n",
      " [18 18 18]\n",
      " [15 15 15]]\n"
     ]
    }
   ],
   "source": [
    "print(a2)\n",
    "b2 = np.ones_like(a2)\n",
    "print(b2)\n",
    "print(np.dot(a2, b2))\n",
    "print(np.matmul(a2, b2))"
   ]
  },
  {
   "cell_type": "markdown",
   "metadata": {
    "id": "juVk3vnjPu31"
   },
   "source": [
    "#### tensordot(): 텐서곱 계산"
   ]
  },
  {
   "cell_type": "code",
   "execution_count": 99,
   "metadata": {
    "ExecuteTime": {
     "end_time": "2022-03-20T05:26:08.330537Z",
     "start_time": "2022-03-20T05:26:08.321594Z"
    },
    "colab": {
     "base_uri": "https://localhost:8080/"
    },
    "executionInfo": {
     "elapsed": 168,
     "status": "ok",
     "timestamp": 1647927167718,
     "user": {
      "displayName": "강준모",
      "photoUrl": "https://lh3.googleusercontent.com/a/default-user=s64",
      "userId": "14855937078495325719"
     },
     "user_tz": -540
    },
    "id": "3LrcLOcjPvNI",
    "outputId": "22d6b330-5f7a-4509-c0c3-dc546ec9e167"
   },
   "outputs": [
    {
     "name": "stdout",
     "output_type": "stream",
     "text": [
      "[[9 5 3]\n",
      " [6 7 5]\n",
      " [3 4 8]]\n",
      "[[1 1 1]\n",
      " [1 1 1]\n",
      " [1 1 1]]\n",
      "50\n",
      "[[[[9 9 9]\n",
      "   [9 9 9]\n",
      "   [9 9 9]]\n",
      "\n",
      "  [[5 5 5]\n",
      "   [5 5 5]\n",
      "   [5 5 5]]\n",
      "\n",
      "  [[3 3 3]\n",
      "   [3 3 3]\n",
      "   [3 3 3]]]\n",
      "\n",
      "\n",
      " [[[6 6 6]\n",
      "   [6 6 6]\n",
      "   [6 6 6]]\n",
      "\n",
      "  [[7 7 7]\n",
      "   [7 7 7]\n",
      "   [7 7 7]]\n",
      "\n",
      "  [[5 5 5]\n",
      "   [5 5 5]\n",
      "   [5 5 5]]]\n",
      "\n",
      "\n",
      " [[[3 3 3]\n",
      "   [3 3 3]\n",
      "   [3 3 3]]\n",
      "\n",
      "  [[4 4 4]\n",
      "   [4 4 4]\n",
      "   [4 4 4]]\n",
      "\n",
      "  [[8 8 8]\n",
      "   [8 8 8]\n",
      "   [8 8 8]]]]\n",
      "[[17 17 17]\n",
      " [18 18 18]\n",
      " [15 15 15]]\n"
     ]
    }
   ],
   "source": [
    "print(a2)\n",
    "print(b2)\n",
    "print(np.tensordot(a2, b2))\n",
    "print(np.tensordot(a2, b2, axes=0)) #axis가 아닌것을 확인할 수 있음.\n",
    "print(np.tensordot(a2, b2, axes=1))"
   ]
  },
  {
   "cell_type": "markdown",
   "metadata": {
    "id": "UzmZhB5TNRMX"
   },
   "source": [
    "#### cross(): 벡터곱"
   ]
  },
  {
   "cell_type": "code",
   "execution_count": 100,
   "metadata": {
    "ExecuteTime": {
     "end_time": "2022-03-20T05:28:27.566057Z",
     "start_time": "2022-03-20T05:28:27.542121Z"
    },
    "colab": {
     "base_uri": "https://localhost:8080/"
    },
    "executionInfo": {
     "elapsed": 164,
     "status": "ok",
     "timestamp": 1647927167719,
     "user": {
      "displayName": "강준모",
      "photoUrl": "https://lh3.googleusercontent.com/a/default-user=s64",
      "userId": "14855937078495325719"
     },
     "user_tz": -540
    },
    "id": "xvT2hy1FNRkU",
    "outputId": "bcd22d85-b67f-4497-9d4a-eb078c7669a5"
   },
   "outputs": [
    {
     "name": "stdout",
     "output_type": "stream",
     "text": [
      "[-3  6 -3]\n"
     ]
    }
   ],
   "source": [
    "x = [1,2,3]\n",
    "y = [4,5,6]\n",
    "print(np.cross(x, y)) #2*6 - 3*5, 3*5 - 1*6, 1*5- 2*8"
   ]
  },
  {
   "cell_type": "markdown",
   "metadata": {
    "id": "SJVYmtrSO5YL"
   },
   "source": [
    "#### inner()/outer(): 내적/외적"
   ]
  },
  {
   "cell_type": "markdown",
   "metadata": {
    "id": "yHGCgybiLDJH"
   },
   "source": [
    "np.dot()과 np.inner()는 서로 다릅니다. inner의 (i,j)원소는 앞 행렬의 i번째 행과 뒤 행렬의 j번째 행의 내적으로 계산됩니다. dot의 경우는 앞 행렬의 i번째 행과 뒤 행렬의 j번째 열의 내적입니다."
   ]
  },
  {
   "cell_type": "code",
   "execution_count": 101,
   "metadata": {
    "ExecuteTime": {
     "end_time": "2022-03-20T05:30:28.191862Z",
     "start_time": "2022-03-20T05:30:28.182887Z"
    },
    "colab": {
     "base_uri": "https://localhost:8080/"
    },
    "executionInfo": {
     "elapsed": 158,
     "status": "ok",
     "timestamp": 1647927167720,
     "user": {
      "displayName": "강준모",
      "photoUrl": "https://lh3.googleusercontent.com/a/default-user=s64",
      "userId": "14855937078495325719"
     },
     "user_tz": -540
    },
    "id": "HJpomax7O5s6",
    "outputId": "e9a5b6c6-20e2-4c82-afd9-a54d3ec04128"
   },
   "outputs": [
    {
     "name": "stdout",
     "output_type": "stream",
     "text": [
      "[[9 5 3]\n",
      " [6 7 5]\n",
      " [3 4 8]]\n",
      "[[1 1 1]\n",
      " [1 1 1]\n",
      " [1 1 1]]\n",
      "[[17 17 17]\n",
      " [18 18 18]\n",
      " [15 15 15]]\n",
      "[[9 9 9 9 9 9 9 9 9]\n",
      " [5 5 5 5 5 5 5 5 5]\n",
      " [3 3 3 3 3 3 3 3 3]\n",
      " [6 6 6 6 6 6 6 6 6]\n",
      " [7 7 7 7 7 7 7 7 7]\n",
      " [5 5 5 5 5 5 5 5 5]\n",
      " [3 3 3 3 3 3 3 3 3]\n",
      " [4 4 4 4 4 4 4 4 4]\n",
      " [8 8 8 8 8 8 8 8 8]]\n"
     ]
    }
   ],
   "source": [
    "print(a2)\n",
    "print(b2)\n",
    "print(np.inner(a2, b2))\n",
    "print(np.outer(a2, b2))"
   ]
  },
  {
   "cell_type": "markdown",
   "metadata": {
    "id": "9CIotQgI_RQ-"
   },
   "source": [
    "#### mean(): 평균 계산"
   ]
  },
  {
   "cell_type": "code",
   "execution_count": 102,
   "metadata": {
    "ExecuteTime": {
     "end_time": "2022-03-20T05:34:40.416700Z",
     "start_time": "2022-03-20T05:34:40.401697Z"
    },
    "colab": {
     "base_uri": "https://localhost:8080/"
    },
    "executionInfo": {
     "elapsed": 153,
     "status": "ok",
     "timestamp": 1647927167720,
     "user": {
      "displayName": "강준모",
      "photoUrl": "https://lh3.googleusercontent.com/a/default-user=s64",
      "userId": "14855937078495325719"
     },
     "user_tz": -540
    },
    "id": "g96wAEOT_bUk",
    "outputId": "7c6dfc9e-8644-4624-cc14-ce072d3de54d"
   },
   "outputs": [
    {
     "name": "stdout",
     "output_type": "stream",
     "text": [
      "[[9 5 3]\n",
      " [6 7 5]\n",
      " [3 4 8]]\n",
      "5.555555555555555\n",
      "[6.         5.33333333 5.33333333]\n",
      "[5.66666667 6.         5.        ]\n"
     ]
    }
   ],
   "source": [
    "print(a2)\n",
    "print(a2.mean())\n",
    "print(np.mean(a2, axis=0))\n",
    "print(a2.mean(axis=1))"
   ]
  },
  {
   "cell_type": "markdown",
   "metadata": {
    "id": "wAG_zijP_Z5o"
   },
   "source": [
    "#### std(): 표준 편차 계산"
   ]
  },
  {
   "cell_type": "code",
   "execution_count": 103,
   "metadata": {
    "ExecuteTime": {
     "end_time": "2022-03-20T05:34:51.408396Z",
     "start_time": "2022-03-20T05:34:51.401417Z"
    },
    "colab": {
     "base_uri": "https://localhost:8080/"
    },
    "executionInfo": {
     "elapsed": 149,
     "status": "ok",
     "timestamp": 1647927167721,
     "user": {
      "displayName": "강준모",
      "photoUrl": "https://lh3.googleusercontent.com/a/default-user=s64",
      "userId": "14855937078495325719"
     },
     "user_tz": -540
    },
    "id": "hlpnuyug_TXA",
    "outputId": "90c090ed-faf4-4429-bc57-42306dc2fcc0"
   },
   "outputs": [
    {
     "name": "stdout",
     "output_type": "stream",
     "text": [
      "[[9 5 3]\n",
      " [6 7 5]\n",
      " [3 4 8]]\n",
      "2.006163342807532\n",
      "[2.44948974 1.24721913 2.05480467]\n",
      "[2.49443826 0.81649658 2.1602469 ]\n"
     ]
    }
   ],
   "source": [
    "print(a2)\n",
    "print(a2.std())\n",
    "print(np.std(a2, axis=0))\n",
    "print(a2.std(axis=1))"
   ]
  },
  {
   "cell_type": "markdown",
   "metadata": {
    "id": "5FFTCCDaAEhx"
   },
   "source": [
    "#### var(): 분산 계산"
   ]
  },
  {
   "cell_type": "code",
   "execution_count": 104,
   "metadata": {
    "ExecuteTime": {
     "end_time": "2022-03-20T05:34:58.811478Z",
     "start_time": "2022-03-20T05:34:58.787509Z"
    },
    "colab": {
     "base_uri": "https://localhost:8080/"
    },
    "executionInfo": {
     "elapsed": 143,
     "status": "ok",
     "timestamp": 1647927167721,
     "user": {
      "displayName": "강준모",
      "photoUrl": "https://lh3.googleusercontent.com/a/default-user=s64",
      "userId": "14855937078495325719"
     },
     "user_tz": -540
    },
    "id": "CRMNkSdzAGZG",
    "outputId": "111d5c44-ba76-44d8-d5c9-5ef63d3e5dd0"
   },
   "outputs": [
    {
     "name": "stdout",
     "output_type": "stream",
     "text": [
      "[[9 5 3]\n",
      " [6 7 5]\n",
      " [3 4 8]]\n",
      "4.0246913580246915\n",
      "[6.         1.55555556 4.22222222]\n",
      "[6.22222222 0.66666667 4.66666667]\n"
     ]
    }
   ],
   "source": [
    "print(a2)\n",
    "print(a2.var())\n",
    "print(np.var(a2, axis=0))\n",
    "print(a2.var(axis=1))"
   ]
  },
  {
   "cell_type": "markdown",
   "metadata": {
    "id": "QFeh-4tmCCrU"
   },
   "source": [
    "#### min(): 최소값"
   ]
  },
  {
   "cell_type": "code",
   "execution_count": 105,
   "metadata": {
    "ExecuteTime": {
     "end_time": "2022-03-20T05:35:10.344329Z",
     "start_time": "2022-03-20T05:35:10.325379Z"
    },
    "colab": {
     "base_uri": "https://localhost:8080/"
    },
    "executionInfo": {
     "elapsed": 138,
     "status": "ok",
     "timestamp": 1647927167721,
     "user": {
      "displayName": "강준모",
      "photoUrl": "https://lh3.googleusercontent.com/a/default-user=s64",
      "userId": "14855937078495325719"
     },
     "user_tz": -540
    },
    "id": "SMNCfYBQCEtf",
    "outputId": "e0648158-1b9b-46ef-ec43-6136e8d98f47"
   },
   "outputs": [
    {
     "name": "stdout",
     "output_type": "stream",
     "text": [
      "[[9 5 3]\n",
      " [6 7 5]\n",
      " [3 4 8]]\n",
      "3\n",
      "[3 4 3]\n",
      "[3 5 3]\n"
     ]
    }
   ],
   "source": [
    "print(a2)\n",
    "print(a2.min())\n",
    "print(np.min(a2, axis=0))\n",
    "print(a2.min(axis=1))"
   ]
  },
  {
   "cell_type": "markdown",
   "metadata": {
    "id": "A3n_JBnBJ2bo"
   },
   "source": [
    "#### max(): 최대값"
   ]
  },
  {
   "cell_type": "code",
   "execution_count": 106,
   "metadata": {
    "ExecuteTime": {
     "end_time": "2022-03-20T05:35:16.819313Z",
     "start_time": "2022-03-20T05:35:16.799364Z"
    },
    "colab": {
     "base_uri": "https://localhost:8080/"
    },
    "executionInfo": {
     "elapsed": 132,
     "status": "ok",
     "timestamp": 1647927167722,
     "user": {
      "displayName": "강준모",
      "photoUrl": "https://lh3.googleusercontent.com/a/default-user=s64",
      "userId": "14855937078495325719"
     },
     "user_tz": -540
    },
    "id": "FmuOFKGAJ6Pf",
    "outputId": "c194747e-4b7e-4195-a001-f6912cf31875"
   },
   "outputs": [
    {
     "name": "stdout",
     "output_type": "stream",
     "text": [
      "[[9 5 3]\n",
      " [6 7 5]\n",
      " [3 4 8]]\n",
      "9\n",
      "[9 7 8]\n",
      "[9 7 8]\n"
     ]
    }
   ],
   "source": [
    "print(a2)\n",
    "print(a2.max())\n",
    "print(np.max(a2, axis=0))\n",
    "print(a2.max(axis=1))"
   ]
  },
  {
   "cell_type": "markdown",
   "metadata": {
    "id": "PvGOKDP0J_5b"
   },
   "source": [
    "#### argmin(): 최소값 인덱스"
   ]
  },
  {
   "cell_type": "code",
   "execution_count": 107,
   "metadata": {
    "ExecuteTime": {
     "end_time": "2022-03-20T05:35:25.748784Z",
     "start_time": "2022-03-20T05:35:25.734821Z"
    },
    "colab": {
     "base_uri": "https://localhost:8080/"
    },
    "executionInfo": {
     "elapsed": 126,
     "status": "ok",
     "timestamp": 1647927167722,
     "user": {
      "displayName": "강준모",
      "photoUrl": "https://lh3.googleusercontent.com/a/default-user=s64",
      "userId": "14855937078495325719"
     },
     "user_tz": -540
    },
    "id": "1ILP7L3yKCqA",
    "outputId": "ba76cbea-6b37-4437-dcb6-670b1ede29f9"
   },
   "outputs": [
    {
     "name": "stdout",
     "output_type": "stream",
     "text": [
      "[[9 5 3]\n",
      " [6 7 5]\n",
      " [3 4 8]]\n",
      "2\n",
      "[2 2 0]\n",
      "[2 2 0]\n"
     ]
    }
   ],
   "source": [
    "print(a2)\n",
    "print(a2.argmin())\n",
    "print(np.argmin(a2, axis=0))\n",
    "print(a2.argmin(axis=1))"
   ]
  },
  {
   "cell_type": "markdown",
   "metadata": {
    "id": "23IcSctIKbUa"
   },
   "source": [
    "#### argmax(): 최대값 인덱스"
   ]
  },
  {
   "cell_type": "code",
   "execution_count": 108,
   "metadata": {
    "ExecuteTime": {
     "end_time": "2022-03-20T05:35:55.832295Z",
     "start_time": "2022-03-20T05:35:55.823318Z"
    },
    "colab": {
     "base_uri": "https://localhost:8080/"
    },
    "executionInfo": {
     "elapsed": 120,
     "status": "ok",
     "timestamp": 1647927167722,
     "user": {
      "displayName": "강준모",
      "photoUrl": "https://lh3.googleusercontent.com/a/default-user=s64",
      "userId": "14855937078495325719"
     },
     "user_tz": -540
    },
    "id": "2m21cfCFKd-Q",
    "outputId": "8cfc583c-2b58-487f-ec4a-4fb0729752f2"
   },
   "outputs": [
    {
     "name": "stdout",
     "output_type": "stream",
     "text": [
      "[[9 5 3]\n",
      " [6 7 5]\n",
      " [3 4 8]]\n",
      "0\n",
      "[0 1 2]\n",
      "[0 1 2]\n"
     ]
    }
   ],
   "source": [
    "print(a2)\n",
    "print(a2.argmax())\n",
    "print(np.argmax(a2, axis=0))\n",
    "print(a2.argmax(axis=1))"
   ]
  },
  {
   "cell_type": "markdown",
   "metadata": {
    "id": "3TjeNFQLKuZb"
   },
   "source": [
    "#### median(): 중앙값"
   ]
  },
  {
   "cell_type": "code",
   "execution_count": 109,
   "metadata": {
    "ExecuteTime": {
     "end_time": "2022-03-20T05:36:28.063804Z",
     "start_time": "2022-03-20T05:36:28.050839Z"
    },
    "colab": {
     "base_uri": "https://localhost:8080/"
    },
    "executionInfo": {
     "elapsed": 116,
     "status": "ok",
     "timestamp": 1647927167723,
     "user": {
      "displayName": "강준모",
      "photoUrl": "https://lh3.googleusercontent.com/a/default-user=s64",
      "userId": "14855937078495325719"
     },
     "user_tz": -540
    },
    "id": "kSLN17bpKwv6",
    "outputId": "d5cff6e5-15e3-4202-e67e-ad92cc1de4da"
   },
   "outputs": [
    {
     "name": "stdout",
     "output_type": "stream",
     "text": [
      "[[9 5 3]\n",
      " [6 7 5]\n",
      " [3 4 8]]\n",
      "5.0\n",
      "[6. 5. 5.]\n"
     ]
    }
   ],
   "source": [
    "print(a2)\n",
    "# print(a2.median()) #중앙값은 없음\n",
    "print(np.median(a2))\n",
    "print(np.median(a2, axis=0))\n",
    "# print(a2.median(axis=1))"
   ]
  },
  {
   "cell_type": "markdown",
   "metadata": {
    "id": "df-Id-nhLs3L"
   },
   "source": [
    "#### percentile(): 백분위 수\n",
    "\n"
   ]
  },
  {
   "cell_type": "markdown",
   "metadata": {
    "id": "Zn51FA7ZLDJN"
   },
   "source": [
    "![image.png](attachment:image.png)"
   ]
  },
  {
   "cell_type": "code",
   "execution_count": 110,
   "metadata": {
    "ExecuteTime": {
     "end_time": "2022-03-20T05:38:10.329158Z",
     "start_time": "2022-03-20T05:38:10.309224Z"
    },
    "colab": {
     "base_uri": "https://localhost:8080/"
    },
    "executionInfo": {
     "elapsed": 110,
     "status": "ok",
     "timestamp": 1647927167723,
     "user": {
      "displayName": "강준모",
      "photoUrl": "https://lh3.googleusercontent.com/a/default-user=s64",
      "userId": "14855937078495325719"
     },
     "user_tz": -540
    },
    "id": "N-TCx9hnLvhK",
    "outputId": "6cd60d14-e5ef-45b5-a786-7e87320c8b06"
   },
   "outputs": [
    {
     "name": "stdout",
     "output_type": "stream",
     "text": [
      "[0 1 2 3]\n",
      "[0.  0.6 1.2 1.8 2.4 3. ]\n",
      "[0 1 2 2 3 3]\n",
      "[0 0 1 1 2 3]\n",
      "[0 1 1 2 2 3]\n",
      "[0.  0.5 1.5 1.5 2.5 3. ]\n"
     ]
    }
   ],
   "source": [
    "a1 = np.array([0, 1, 2, 3])\n",
    "print(a1)\n",
    "print(np.percentile(a1, [0, 20, 40, 60, 80, 100], interpolation='linear'))\n",
    "print(np.percentile(a1, [0, 20, 40, 60, 80, 100], interpolation='higher'))\n",
    "print(np.percentile(a1, [0, 20, 40, 60, 80, 100], interpolation='lower'))\n",
    "print(np.percentile(a1, [0, 20, 40, 60, 80, 100], interpolation='nearest'))\n",
    "print(np.percentile(a1, [0, 20, 40, 60, 80, 100], interpolation='midpoint'))"
   ]
  },
  {
   "cell_type": "markdown",
   "metadata": {
    "id": "x0NnNsvvNDIs"
   },
   "source": [
    "#### any() : 하나라도 맞으면 True"
   ]
  },
  {
   "cell_type": "code",
   "execution_count": 111,
   "metadata": {
    "ExecuteTime": {
     "end_time": "2022-03-20T05:43:14.368216Z",
     "start_time": "2022-03-20T05:43:14.347216Z"
    },
    "colab": {
     "base_uri": "https://localhost:8080/"
    },
    "executionInfo": {
     "elapsed": 105,
     "status": "ok",
     "timestamp": 1647927167724,
     "user": {
      "displayName": "강준모",
      "photoUrl": "https://lh3.googleusercontent.com/a/default-user=s64",
      "userId": "14855937078495325719"
     },
     "user_tz": -540
    },
    "id": "I1XDqsFxOMvA",
    "outputId": "1157cd53-f8b0-484b-c5a3-ecb0430ad863"
   },
   "outputs": [
    {
     "name": "stdout",
     "output_type": "stream",
     "text": [
      "[[9 5 3]\n",
      " [6 7 5]\n",
      " [3 4 8]]\n",
      "True\n",
      "[False  True  True]\n",
      "[False  True  True]\n"
     ]
    }
   ],
   "source": [
    "n2 = np.array([[False, False, False],\n",
    "              [False, True, True],\n",
    "              [False, True, True]])\n",
    "print(a2)\n",
    "print(np.any(n2))\n",
    "print(np.any(n2, axis=0))\n",
    "print(np.any(n2, axis=1))"
   ]
  },
  {
   "cell_type": "markdown",
   "metadata": {
    "id": "Uw-wjYgyONBZ"
   },
   "source": [
    "#### all() : 전부다 맞으면 True"
   ]
  },
  {
   "cell_type": "code",
   "execution_count": 112,
   "metadata": {
    "ExecuteTime": {
     "end_time": "2022-03-20T05:43:25.084160Z",
     "start_time": "2022-03-20T05:43:25.058233Z"
    },
    "colab": {
     "base_uri": "https://localhost:8080/"
    },
    "executionInfo": {
     "elapsed": 101,
     "status": "ok",
     "timestamp": 1647927167725,
     "user": {
      "displayName": "강준모",
      "photoUrl": "https://lh3.googleusercontent.com/a/default-user=s64",
      "userId": "14855937078495325719"
     },
     "user_tz": -540
    },
    "id": "sXi2AHOHONYq",
    "outputId": "d5e613ed-7946-4e71-9440-4980695fec56"
   },
   "outputs": [
    {
     "name": "stdout",
     "output_type": "stream",
     "text": [
      "[[False False False]\n",
      " [False  True  True]\n",
      " [False  True  True]]\n",
      "False\n",
      "[False False False]\n",
      "[False False False]\n"
     ]
    }
   ],
   "source": [
    "n2 = np.array([[False, False, False],\n",
    "              [False, True, True],\n",
    "              [False, True, True]])\n",
    "print(n2)\n",
    "print(np.all(n2))\n",
    "print(np.all(n2, axis=0))\n",
    "print(np.all(n2, axis=1))"
   ]
  },
  {
   "cell_type": "code",
   "execution_count": 113,
   "metadata": {
    "ExecuteTime": {
     "end_time": "2022-03-20T05:43:58.640926Z",
     "start_time": "2022-03-20T05:43:58.631391Z"
    },
    "colab": {
     "base_uri": "https://localhost:8080/"
    },
    "executionInfo": {
     "elapsed": 96,
     "status": "ok",
     "timestamp": 1647927167726,
     "user": {
      "displayName": "강준모",
      "photoUrl": "https://lh3.googleusercontent.com/a/default-user=s64",
      "userId": "14855937078495325719"
     },
     "user_tz": -540
    },
    "id": "EhYDtTT5LDJP",
    "outputId": "54ccad79-07f6-476a-865b-9ed044f4962f"
   },
   "outputs": [
    {
     "name": "stdout",
     "output_type": "stream",
     "text": [
      "[[ 2  3  4]\n",
      " [ 1  2  3]\n",
      " [33  4  3]]\n",
      "True\n",
      "[ True  True  True]\n",
      "[ True  True  True]\n"
     ]
    }
   ],
   "source": [
    "n2 = np.array([[2, 3, 4],\n",
    "              [1, 2, 3],\n",
    "              [33, 4, 3]]) # 0 = False, 나머지는 true\n",
    "print(n2)\n",
    "print(np.all(n2))\n",
    "print(np.all(n2, axis=0))\n",
    "print(np.all(n2, axis=1))"
   ]
  },
  {
   "cell_type": "markdown",
   "metadata": {
    "id": "0n7lgzmUwqr1"
   },
   "source": [
    "### 비교 연산(Comparison Operators)\n"
   ]
  },
  {
   "cell_type": "markdown",
   "metadata": {
    "id": "_2n1ejFvLDJP"
   },
   "source": [
    "![image.png](attachment:image.png)"
   ]
  },
  {
   "cell_type": "code",
   "execution_count": 114,
   "metadata": {
    "ExecuteTime": {
     "end_time": "2022-03-20T05:45:46.231727Z",
     "start_time": "2022-03-20T05:45:46.211785Z"
    },
    "colab": {
     "base_uri": "https://localhost:8080/"
    },
    "executionInfo": {
     "elapsed": 91,
     "status": "ok",
     "timestamp": 1647927167727,
     "user": {
      "displayName": "강준모",
      "photoUrl": "https://lh3.googleusercontent.com/a/default-user=s64",
      "userId": "14855937078495325719"
     },
     "user_tz": -540
    },
    "id": "E00V-nBTVnCu",
    "outputId": "8fe11fbe-418f-442d-b342-af5b7b56f370"
   },
   "outputs": [
    {
     "name": "stdout",
     "output_type": "stream",
     "text": [
      "[1 2 3 4 5 6 7 8 9]\n",
      "[False False False False  True False False False False]\n"
     ]
    }
   ],
   "source": [
    "a1 = np.arange(1, 10)\n",
    "print(a1)\n",
    "print(a1 == 5) #해당되는 위치에 나옴"
   ]
  },
  {
   "cell_type": "code",
   "execution_count": 115,
   "metadata": {
    "ExecuteTime": {
     "end_time": "2022-03-20T05:46:01.995844Z",
     "start_time": "2022-03-20T05:46:01.984656Z"
    },
    "executionInfo": {
     "elapsed": 85,
     "status": "ok",
     "timestamp": 1647927167727,
     "user": {
      "displayName": "강준모",
      "photoUrl": "https://lh3.googleusercontent.com/a/default-user=s64",
      "userId": "14855937078495325719"
     },
     "user_tz": -540
    },
    "id": "3MwV1CU1WsWS"
   },
   "outputs": [],
   "source": [
    "# 나머지는 귀찮음."
   ]
  },
  {
   "cell_type": "code",
   "execution_count": 116,
   "metadata": {
    "ExecuteTime": {
     "end_time": "2022-03-20T05:48:54.664896Z",
     "start_time": "2022-03-20T05:48:54.644915Z"
    },
    "colab": {
     "base_uri": "https://localhost:8080/"
    },
    "executionInfo": {
     "elapsed": 85,
     "status": "ok",
     "timestamp": 1647927167728,
     "user": {
      "displayName": "강준모",
      "photoUrl": "https://lh3.googleusercontent.com/a/default-user=s64",
      "userId": "14855937078495325719"
     },
     "user_tz": -540
    },
    "id": "D4cuMoyEPn8R",
    "outputId": "1dc629bd-f702-42d0-9eab-227f00fdf0d2"
   },
   "outputs": [
    {
     "name": "stdout",
     "output_type": "stream",
     "text": [
      "[[1 2 3]\n",
      " [4 5 6]\n",
      " [7 8 9]]\n",
      "4\n",
      "4\n",
      "[1 1 2]\n",
      "[0 1 3]\n",
      "True\n"
     ]
    }
   ],
   "source": [
    "# 이런식으로도 사용할 수 있음.\n",
    "a2 = np.arange(1, 10).reshape(3, 3)\n",
    "print(a2)\n",
    "print(np.count_nonzero(a2 > 5))\n",
    "print(np.sum(a2 > 5))\n",
    "print(np.sum(a2 > 5, axis=0))\n",
    "print(np.sum(a2 > 5, axis=1))\n",
    "print(np.any (a2 > 5))"
   ]
  },
  {
   "cell_type": "markdown",
   "metadata": {
    "id": "ILM7lFsPLDJQ"
   },
   "source": [
    "![image.png](attachment:image.png)"
   ]
  },
  {
   "cell_type": "code",
   "execution_count": 117,
   "metadata": {
    "ExecuteTime": {
     "end_time": "2022-03-20T05:51:25.424426Z",
     "start_time": "2022-03-20T05:51:25.413189Z"
    },
    "colab": {
     "base_uri": "https://localhost:8080/"
    },
    "executionInfo": {
     "elapsed": 79,
     "status": "ok",
     "timestamp": 1647927167728,
     "user": {
      "displayName": "강준모",
      "photoUrl": "https://lh3.googleusercontent.com/a/default-user=s64",
      "userId": "14855937078495325719"
     },
     "user_tz": -540
    },
    "id": "8-OpAaWtLDJQ",
    "outputId": "fa11705f-94c1-4840-bb4f-7afe266b890b"
   },
   "outputs": [
    {
     "name": "stdout",
     "output_type": "stream",
     "text": [
      "[1 2 3 4 5]\n",
      "[1 2 3 3 4]\n",
      "[ True  True  True False False]\n"
     ]
    }
   ],
   "source": [
    "a1 = np.array([1, 2, 3, 4, 5])\n",
    "print(a1)\n",
    "b1 = np.array([1, 2, 3, 3, 4])\n",
    "print(b1)\n",
    "print(np.isclose(a1, b1))"
   ]
  },
  {
   "cell_type": "code",
   "execution_count": 118,
   "metadata": {
    "ExecuteTime": {
     "end_time": "2022-03-20T05:57:24.699186Z",
     "start_time": "2022-03-20T05:57:24.683193Z"
    },
    "colab": {
     "base_uri": "https://localhost:8080/"
    },
    "executionInfo": {
     "elapsed": 75,
     "status": "ok",
     "timestamp": 1647927167729,
     "user": {
      "displayName": "강준모",
      "photoUrl": "https://lh3.googleusercontent.com/a/default-user=s64",
      "userId": "14855937078495325719"
     },
     "user_tz": -540
    },
    "id": "cpCSGs3TLDJR",
    "outputId": "477b0fa0-ef5c-454c-a0f7-f5c1162b8642"
   },
   "outputs": [
    {
     "name": "stdout",
     "output_type": "stream",
     "text": [
      "[ nan   2.  inf   4. -inf]\n",
      "[ True False False False False]\n",
      "[False False  True False  True]\n",
      "[False  True False  True False]\n"
     ]
    }
   ],
   "source": [
    "a1 = np.array([np.nan, 2, np.inf, 4, np.NINF])\n",
    "print(a1)\n",
    "print(np.isnan(a1))\n",
    "print(np.isinf(a1))\n",
    "print(np.isfinite(a1)) #무한대가 아닌것만"
   ]
  },
  {
   "cell_type": "markdown",
   "metadata": {
    "id": "4BHMetMlYmt-"
   },
   "source": [
    "#### 불리언 연산자(Boolean Operators)\n"
   ]
  },
  {
   "cell_type": "markdown",
   "metadata": {
    "id": "8uy4YGufLDJR"
   },
   "source": [
    "![image.png](attachment:image.png)"
   ]
  },
  {
   "cell_type": "markdown",
   "metadata": {
    "ExecuteTime": {
     "end_time": "2022-03-20T05:59:47.009813Z",
     "start_time": "2022-03-20T05:59:46.994852Z"
    },
    "id": "ZV1-8DkUHOZq"
   },
   "source": [
    "![image.png](attachment:image.png)# 귀찮으니 생략\n"
   ]
  },
  {
   "cell_type": "markdown",
   "metadata": {},
   "source": [
    "#### isnan(): null값 확인"
   ]
  },
  {
   "cell_type": "code",
   "execution_count": null,
   "metadata": {},
   "outputs": [],
   "source": [
    "np.isnan(n)"
   ]
  },
  {
   "cell_type": "markdown",
   "metadata": {
    "id": "FlQJVeGBxIFw"
   },
   "source": [
    "### (np.sort, argsort)배열 정렬"
   ]
  },
  {
   "cell_type": "code",
   "execution_count": 119,
   "metadata": {
    "ExecuteTime": {
     "end_time": "2022-03-20T06:02:40.343094Z",
     "start_time": "2022-03-20T06:02:40.328117Z"
    },
    "colab": {
     "base_uri": "https://localhost:8080/"
    },
    "executionInfo": {
     "elapsed": 69,
     "status": "ok",
     "timestamp": 1647927167729,
     "user": {
      "displayName": "강준모",
      "photoUrl": "https://lh3.googleusercontent.com/a/default-user=s64",
      "userId": "14855937078495325719"
     },
     "user_tz": -540
    },
    "id": "x0sodUMqLU37",
    "outputId": "007398af-60c3-417a-c618-b1778c3e45c1"
   },
   "outputs": [
    {
     "name": "stdout",
     "output_type": "stream",
     "text": [
      "[9 8 1 9 4 5 9 4 4 8]\n",
      "[1 4 4 4 5 8 8 9 9 9] <-np.sort(a1)\n",
      "[9 8 1 9 4 5 9 4 4 8]\n",
      "[2 4 7 8 5 1 9 0 3 6] <-np.argsort(a1)\n",
      "[9 8 1 9 4 5 9 4 4 8]\n",
      "None <-a1.sort() 실행\n",
      "[1 4 4 4 5 8 8 9 9 9]\n"
     ]
    }
   ],
   "source": [
    "a1 = np.random.randint(1, 10, size=10)\n",
    "print(a1)\n",
    "print(np.sort(a1), '<-np.sort(a1)')\n",
    "print(a1)\n",
    "print(np.argsort(a1), '<-np.argsort(a1)')#인덱스 결과를 보여줌\n",
    "print(a1) #원본 배열은 그대로임\n",
    "print(a1.sort(), '<-a1.sort() 실행') #이건 원본 배열을 바꾸는 메서드임\n",
    "print(a1)"
   ]
  },
  {
   "cell_type": "code",
   "execution_count": 120,
   "metadata": {
    "ExecuteTime": {
     "end_time": "2022-03-20T06:03:14.671716Z",
     "start_time": "2022-03-20T06:03:14.659749Z"
    },
    "colab": {
     "base_uri": "https://localhost:8080/"
    },
    "executionInfo": {
     "elapsed": 64,
     "status": "ok",
     "timestamp": 1647927167729,
     "user": {
      "displayName": "강준모",
      "photoUrl": "https://lh3.googleusercontent.com/a/default-user=s64",
      "userId": "14855937078495325719"
     },
     "user_tz": -540
    },
    "id": "FO_sO5POzeMp",
    "outputId": "4221835b-af85-403d-8c32-209c953ca59a"
   },
   "outputs": [
    {
     "name": "stdout",
     "output_type": "stream",
     "text": [
      "[[7 5 3]\n",
      " [8 1 9]\n",
      " [3 7 3]]\n",
      "[[3 1 3]\n",
      " [7 5 3]\n",
      " [8 7 9]]\n",
      "[[3 5 7]\n",
      " [1 8 9]\n",
      " [3 3 7]]\n"
     ]
    }
   ],
   "source": [
    "a2= np.random.randint(1, 10, size=(3, 3))\n",
    "print(a2)\n",
    "print(np.sort(a2, axis=0))\n",
    "print(np.sort(a2, axis=1))"
   ]
  },
  {
   "cell_type": "markdown",
   "metadata": {
    "id": "yYSItPz_00sZ"
   },
   "source": [
    "#### (np.partition)부분 정렬\n",
    "\n",
    "* `partition()`: 배열에서 k개의 작은 값을 반환"
   ]
  },
  {
   "cell_type": "code",
   "execution_count": 121,
   "metadata": {
    "ExecuteTime": {
     "end_time": "2022-03-20T06:03:49.991500Z",
     "start_time": "2022-03-20T06:03:49.981523Z"
    },
    "colab": {
     "base_uri": "https://localhost:8080/"
    },
    "executionInfo": {
     "elapsed": 58,
     "status": "ok",
     "timestamp": 1647927167730,
     "user": {
      "displayName": "강준모",
      "photoUrl": "https://lh3.googleusercontent.com/a/default-user=s64",
      "userId": "14855937078495325719"
     },
     "user_tz": -540
    },
    "id": "QQwov4N00YFP",
    "outputId": "339dd15c-099c-49aa-a0de-ab052cc822ac"
   },
   "outputs": [
    {
     "name": "stdout",
     "output_type": "stream",
     "text": [
      "[8 5 8 2 4 9 4 2 3 6]\n",
      "[2 2 3 4 4 5 6 9 8 8]\n"
     ]
    }
   ],
   "source": [
    "a1 = np.random.randint(1, 10, size=10)\n",
    "print(a1)\n",
    "print(np.partition(a1, 3)) #가장 작은값 3개를 앞으로 "
   ]
  },
  {
   "cell_type": "code",
   "execution_count": 122,
   "metadata": {
    "ExecuteTime": {
     "end_time": "2022-03-20T06:05:33.096369Z",
     "start_time": "2022-03-20T06:05:33.076449Z"
    },
    "colab": {
     "base_uri": "https://localhost:8080/"
    },
    "executionInfo": {
     "elapsed": 51,
     "status": "ok",
     "timestamp": 1647927167730,
     "user": {
      "displayName": "강준모",
      "photoUrl": "https://lh3.googleusercontent.com/a/default-user=s64",
      "userId": "14855937078495325719"
     },
     "user_tz": -540
    },
    "id": "lWUADRjMLDJU",
    "outputId": "4c60b196-a31f-4367-930b-aa205685c416"
   },
   "outputs": [
    {
     "name": "stdout",
     "output_type": "stream",
     "text": [
      "[[1 2 9 3 4]\n",
      " [6 2 6 6 1]\n",
      " [7 5 8 9 1]\n",
      " [9 9 1 9 7]\n",
      " [9 5 1 6 2]]\n",
      "[[3 1 2 4 9]\n",
      " [2 1 6 6 6]\n",
      " [5 1 7 8 9]\n",
      " [1 7 9 9 9]\n",
      " [1 2 5 6 9]]\n",
      "[[6 2 1 3 1]\n",
      " [1 2 1 6 1]\n",
      " [7 5 6 6 2]\n",
      " [9 5 8 9 4]\n",
      " [9 9 9 9 7]]\n",
      "[[3 1 2 4 9]\n",
      " [2 1 6 6 6]\n",
      " [5 1 7 8 9]\n",
      " [1 7 9 9 9]\n",
      " [1 2 5 6 9]]\n"
     ]
    }
   ],
   "source": [
    "a2 = np.random.randint(1, 10, size=(5, 5))\n",
    "print(a2)\n",
    "print(np.partition(a2, 3))\n",
    "print(np.partition(a2, 3, axis=0))\n",
    "print(np.partition(a2, 3, axis=1))"
   ]
  },
  {
   "cell_type": "markdown",
   "metadata": {
    "id": "77DSA72ML5cI"
   },
   "source": [
    "## 배열 입출력\n"
   ]
  },
  {
   "cell_type": "markdown",
   "metadata": {
    "id": "xWESzxDMLDJV"
   },
   "source": [
    "![image.png](attachment:image.png)"
   ]
  },
  {
   "cell_type": "code",
   "execution_count": 123,
   "metadata": {
    "ExecuteTime": {
     "end_time": "2022-03-20T07:21:53.190152Z",
     "start_time": "2022-03-20T07:21:53.060500Z"
    },
    "colab": {
     "base_uri": "https://localhost:8080/"
    },
    "executionInfo": {
     "elapsed": 44,
     "status": "ok",
     "timestamp": 1647927167730,
     "user": {
      "displayName": "강준모",
      "photoUrl": "https://lh3.googleusercontent.com/a/default-user=s64",
      "userId": "14855937078495325719"
     },
     "user_tz": -540
    },
    "id": "da-Mm_gzIs7U",
    "outputId": "56ad6923-54e2-4c24-d275-6aad19b73c54"
   },
   "outputs": [
    {
     "name": "stdout",
     "output_type": "stream",
     "text": [
      "[[1 2 9 3 4]\n",
      " [6 2 6 6 1]\n",
      " [7 5 8 9 1]\n",
      " [9 9 1 9 7]\n",
      " [9 5 1 6 2]]\n"
     ]
    }
   ],
   "source": [
    "a2 - np.random.randint(1, 10, size=(5, 5))\n",
    "print(a2)\n",
    "np.save('filename.npy', a2)"
   ]
  },
  {
   "cell_type": "code",
   "execution_count": 124,
   "metadata": {
    "ExecuteTime": {
     "end_time": "2022-03-20T07:22:47.448253Z",
     "start_time": "2022-03-20T07:22:47.394363Z"
    },
    "colab": {
     "base_uri": "https://localhost:8080/"
    },
    "executionInfo": {
     "elapsed": 40,
     "status": "ok",
     "timestamp": 1647927167731,
     "user": {
      "displayName": "강준모",
      "photoUrl": "https://lh3.googleusercontent.com/a/default-user=s64",
      "userId": "14855937078495325719"
     },
     "user_tz": -540
    },
    "id": "pFOWyDvAsf11",
    "outputId": "4ce69c24-305e-482f-c5da-f819082d69c3"
   },
   "outputs": [
    {
     "name": "stdout",
     "output_type": "stream",
     "text": [
      "ab.npz\ta.csv  b.csv  filename.npy  sample_data\n"
     ]
    }
   ],
   "source": [
    "!dir\n",
    "#이건 윈도우\n",
    "#!ls #이건 리눅스"
   ]
  },
  {
   "cell_type": "code",
   "execution_count": 125,
   "metadata": {
    "ExecuteTime": {
     "end_time": "2022-03-20T07:23:57.801325Z",
     "start_time": "2022-03-20T07:23:57.747454Z"
    },
    "colab": {
     "base_uri": "https://localhost:8080/"
    },
    "executionInfo": {
     "elapsed": 374,
     "status": "ok",
     "timestamp": 1647927168073,
     "user": {
      "displayName": "강준모",
      "photoUrl": "https://lh3.googleusercontent.com/a/default-user=s64",
      "userId": "14855937078495325719"
     },
     "user_tz": -540
    },
    "id": "Hvb_ilyisoIV",
    "outputId": "5073177b-889c-4c8b-9088-37f93bd84776"
   },
   "outputs": [
    {
     "name": "stdout",
     "output_type": "stream",
     "text": [
      "[[4 5 3 3 3]\n",
      " [5 9 8 2 5]\n",
      " [7 9 2 9 1]\n",
      " [2 2 7 2 4]\n",
      " [9 3 2 2 5]]\n",
      "ab.npz\ta.csv  b.csv  filename.npy  sample_data\n"
     ]
    }
   ],
   "source": [
    "b2 = np.random.randint(1, 10, size=(5, 5))\n",
    "print(b2)\n",
    "np.savez(\"ab.npz\", a2, b2)\n",
    "!dir"
   ]
  },
  {
   "cell_type": "code",
   "execution_count": 126,
   "metadata": {
    "ExecuteTime": {
     "end_time": "2022-03-20T07:24:20.401351Z",
     "start_time": "2022-03-20T07:24:20.388336Z"
    },
    "colab": {
     "base_uri": "https://localhost:8080/"
    },
    "executionInfo": {
     "elapsed": 66,
     "status": "ok",
     "timestamp": 1647927168073,
     "user": {
      "displayName": "강준모",
      "photoUrl": "https://lh3.googleusercontent.com/a/default-user=s64",
      "userId": "14855937078495325719"
     },
     "user_tz": -540
    },
    "id": "ArWZfL31s1wU",
    "outputId": "63e47ee4-e8e6-42f5-8af4-b295df30439a"
   },
   "outputs": [
    {
     "name": "stdout",
     "output_type": "stream",
     "text": [
      "[[1 2 9 3 4]\n",
      " [6 2 6 6 1]\n",
      " [7 5 8 9 1]\n",
      " [9 9 1 9 7]\n",
      " [9 5 1 6 2]]\n"
     ]
    }
   ],
   "source": [
    "npy = np.load('filename.npy')\n",
    "print(npy)"
   ]
  },
  {
   "cell_type": "code",
   "execution_count": 127,
   "metadata": {
    "ExecuteTime": {
     "end_time": "2022-03-20T07:25:00.765454Z",
     "start_time": "2022-03-20T07:25:00.740014Z"
    },
    "colab": {
     "base_uri": "https://localhost:8080/"
    },
    "executionInfo": {
     "elapsed": 60,
     "status": "ok",
     "timestamp": 1647927168074,
     "user": {
      "displayName": "강준모",
      "photoUrl": "https://lh3.googleusercontent.com/a/default-user=s64",
      "userId": "14855937078495325719"
     },
     "user_tz": -540
    },
    "id": "che4cEJEs2Tr",
    "outputId": "d71429b6-0708-409d-cd41-875f72e4140d"
   },
   "outputs": [
    {
     "name": "stdout",
     "output_type": "stream",
     "text": [
      "['arr_0', 'arr_1']\n",
      "[[1 2 9 3 4]\n",
      " [6 2 6 6 1]\n",
      " [7 5 8 9 1]\n",
      " [9 9 1 9 7]\n",
      " [9 5 1 6 2]]\n",
      "[[4 5 3 3 3]\n",
      " [5 9 8 2 5]\n",
      " [7 9 2 9 1]\n",
      " [2 2 7 2 4]\n",
      " [9 3 2 2 5]]\n"
     ]
    }
   ],
   "source": [
    "npz = np.load('ab.npz')\n",
    "print(npz.files)\n",
    "print(npz['arr_0'])\n",
    "print(npz['arr_1'])"
   ]
  },
  {
   "cell_type": "code",
   "execution_count": 128,
   "metadata": {
    "ExecuteTime": {
     "end_time": "2022-03-20T07:25:42.921632Z",
     "start_time": "2022-03-20T07:25:42.867741Z"
    },
    "colab": {
     "base_uri": "https://localhost:8080/"
    },
    "executionInfo": {
     "elapsed": 55,
     "status": "ok",
     "timestamp": 1647927168074,
     "user": {
      "displayName": "강준모",
      "photoUrl": "https://lh3.googleusercontent.com/a/default-user=s64",
      "userId": "14855937078495325719"
     },
     "user_tz": -540
    },
    "id": "X2yIUsYvtMj6",
    "outputId": "4beacce4-b74a-4aea-ab42-7f2bb64a2cee"
   },
   "outputs": [
    {
     "name": "stdout",
     "output_type": "stream",
     "text": [
      "[[1 2 9 3 4]\n",
      " [6 2 6 6 1]\n",
      " [7 5 8 9 1]\n",
      " [9 9 1 9 7]\n",
      " [9 5 1 6 2]]\n"
     ]
    }
   ],
   "source": [
    "print(a2)\n",
    "np.savetxt('a.csv', a2, delimiter=',')"
   ]
  },
  {
   "cell_type": "code",
   "execution_count": 129,
   "metadata": {
    "ExecuteTime": {
     "end_time": "2022-03-20T07:25:48.345740Z",
     "start_time": "2022-03-20T07:25:48.290855Z"
    },
    "colab": {
     "base_uri": "https://localhost:8080/"
    },
    "executionInfo": {
     "elapsed": 50,
     "status": "ok",
     "timestamp": 1647927168075,
     "user": {
      "displayName": "강준모",
      "photoUrl": "https://lh3.googleusercontent.com/a/default-user=s64",
      "userId": "14855937078495325719"
     },
     "user_tz": -540
    },
    "id": "Yj5ec-CYtaH1",
    "outputId": "fe848503-244b-4cee-dc71-cbdbed0dfa24"
   },
   "outputs": [
    {
     "name": "stdout",
     "output_type": "stream",
     "text": [
      "ab.npz\ta.csv  b.csv  filename.npy  sample_data\n"
     ]
    }
   ],
   "source": [
    "!dir"
   ]
  },
  {
   "cell_type": "code",
   "execution_count": 130,
   "metadata": {
    "ExecuteTime": {
     "end_time": "2022-03-20T07:26:45.828161Z",
     "start_time": "2022-03-20T07:26:45.815164Z"
    },
    "executionInfo": {
     "elapsed": 43,
     "status": "ok",
     "timestamp": 1647927168076,
     "user": {
      "displayName": "강준모",
      "photoUrl": "https://lh3.googleusercontent.com/a/default-user=s64",
      "userId": "14855937078495325719"
     },
     "user_tz": -540
    },
    "id": "_NIDrc-VuPmv"
   },
   "outputs": [],
   "source": [
    "# !cat a.csv\n",
    "# 리눅스 명령어임"
   ]
  },
  {
   "cell_type": "code",
   "execution_count": 131,
   "metadata": {
    "ExecuteTime": {
     "end_time": "2022-03-20T07:27:32.599988Z",
     "start_time": "2022-03-20T07:27:32.586985Z"
    },
    "colab": {
     "base_uri": "https://localhost:8080/"
    },
    "executionInfo": {
     "elapsed": 43,
     "status": "ok",
     "timestamp": 1647927168076,
     "user": {
      "displayName": "강준모",
      "photoUrl": "https://lh3.googleusercontent.com/a/default-user=s64",
      "userId": "14855937078495325719"
     },
     "user_tz": -540
    },
    "id": "bPhmIoVBuQMf",
    "outputId": "855e40a6-4e32-49a3-eb0b-aa085ede9e94"
   },
   "outputs": [
    {
     "name": "stdout",
     "output_type": "stream",
     "text": [
      "[[1. 2. 9. 3. 4.]\n",
      " [6. 2. 6. 6. 1.]\n",
      " [7. 5. 8. 9. 1.]\n",
      " [9. 9. 1. 9. 7.]\n",
      " [9. 5. 1. 6. 2.]]\n"
     ]
    }
   ],
   "source": [
    "csv = np.loadtxt('a.csv', delimiter=',')\n",
    "print(csv)"
   ]
  },
  {
   "cell_type": "code",
   "execution_count": 132,
   "metadata": {
    "ExecuteTime": {
     "end_time": "2022-03-20T07:28:27.312402Z",
     "start_time": "2022-03-20T07:28:27.266510Z"
    },
    "colab": {
     "base_uri": "https://localhost:8080/"
    },
    "executionInfo": {
     "elapsed": 39,
     "status": "ok",
     "timestamp": 1647927168077,
     "user": {
      "displayName": "강준모",
      "photoUrl": "https://lh3.googleusercontent.com/a/default-user=s64",
      "userId": "14855937078495325719"
     },
     "user_tz": -540
    },
    "id": "FeB2p4azuTDv",
    "outputId": "0134900f-2ef3-469f-d420-6c1523db4a0f"
   },
   "outputs": [
    {
     "name": "stdout",
     "output_type": "stream",
     "text": [
      "[[4 5 3 3 3]\n",
      " [5 9 8 2 5]\n",
      " [7 9 2 9 1]\n",
      " [2 2 7 2 4]\n",
      " [9 3 2 2 5]]\n"
     ]
    }
   ],
   "source": [
    "print(b2)\n",
    "np.savetxt('b.csv', b2, delimiter=',', fmt='%.2e', header='c1, c2, c3,c4, c5') #소수점 2번째자리까지, 헤더"
   ]
  },
  {
   "cell_type": "code",
   "execution_count": 133,
   "metadata": {
    "ExecuteTime": {
     "end_time": "2022-03-20T07:28:41.458587Z",
     "start_time": "2022-03-20T07:28:41.445106Z"
    },
    "colab": {
     "base_uri": "https://localhost:8080/"
    },
    "executionInfo": {
     "elapsed": 32,
     "status": "ok",
     "timestamp": 1647927168077,
     "user": {
      "displayName": "강준모",
      "photoUrl": "https://lh3.googleusercontent.com/a/default-user=s64",
      "userId": "14855937078495325719"
     },
     "user_tz": -540
    },
    "id": "IUg8Vg4fuxR5",
    "outputId": "7675342f-341a-4c27-cc47-2ca18a98558d"
   },
   "outputs": [
    {
     "name": "stdout",
     "output_type": "stream",
     "text": [
      "[[4. 5. 3. 3. 3.]\n",
      " [5. 9. 8. 2. 5.]\n",
      " [7. 9. 2. 9. 1.]\n",
      " [2. 2. 7. 2. 4.]\n",
      " [9. 3. 2. 2. 5.]]\n"
     ]
    }
   ],
   "source": [
    "csv = np.loadtxt('b.csv', delimiter=',')\n",
    "print(csv)"
   ]
  },
  {
   "cell_type": "markdown",
   "metadata": {
    "id": "F-Gy_Pt8LTiy"
   },
   "source": [
    "## 데이터 처리 관련 추가내용"
   ]
  },
  {
   "cell_type": "markdown",
   "metadata": {
    "id": "tFVTzbYwLYkJ"
   },
   "source": [
    "### (np.bincount) 빈도수 구하기"
   ]
  },
  {
   "cell_type": "markdown",
   "metadata": {
    "id": "bWKFBHBnLe59"
   },
   "source": [
    "- 1차원 배열과 양의 정수형인 객체에 적용함.\n",
    "- 객체의 원소중 0부터 최대값 범위의 정수 값을 오름차순으로 정리한 뒤, 각 원소에 대한 빈도수를 반환함\n",
    "- https://datastory1.blogspot.com/2017/12/blog-post.html\n",
    "- https://numpy.org/doc/stable/reference/generated/numpy.bincount.html"
   ]
  },
  {
   "cell_type": "code",
   "execution_count": 134,
   "metadata": {
    "colab": {
     "base_uri": "https://localhost:8080/"
    },
    "executionInfo": {
     "elapsed": 28,
     "status": "ok",
     "timestamp": 1647927168078,
     "user": {
      "displayName": "강준모",
      "photoUrl": "https://lh3.googleusercontent.com/a/default-user=s64",
      "userId": "14855937078495325719"
     },
     "user_tz": -540
    },
    "id": "6ja2EMlTLTSw",
    "outputId": "cb55b19b-413c-4b07-e18d-a8e29467c7be"
   },
   "outputs": [
    {
     "data": {
      "text/plain": [
       "array([5, 9, 8, 7, 1, 2, 6, 3, 7, 6, 3, 1, 3, 2, 3, 8, 1, 9, 3, 8, 3, 7,\n",
       "       2, 6, 5, 9, 8, 2, 2, 9, 5, 1, 4, 9, 4, 8, 4, 2, 6, 9, 7, 4, 7, 4,\n",
       "       6, 3, 5, 2, 5, 8])"
      ]
     },
     "execution_count": 134,
     "metadata": {},
     "output_type": "execute_result"
    }
   ],
   "source": [
    "x=np.random.randint(1, 10, 50)\n",
    "x"
   ]
  },
  {
   "cell_type": "code",
   "execution_count": 135,
   "metadata": {
    "colab": {
     "base_uri": "https://localhost:8080/"
    },
    "executionInfo": {
     "elapsed": 22,
     "status": "ok",
     "timestamp": 1647927168078,
     "user": {
      "displayName": "강준모",
      "photoUrl": "https://lh3.googleusercontent.com/a/default-user=s64",
      "userId": "14855937078495325719"
     },
     "user_tz": -540
    },
    "id": "lIK5dSv6vtm2",
    "outputId": "0f3a7f38-8471-437f-ddc0-1dde7f39457a"
   },
   "outputs": [
    {
     "data": {
      "text/plain": [
       "(1, 9)"
      ]
     },
     "execution_count": 135,
     "metadata": {},
     "output_type": "execute_result"
    }
   ],
   "source": [
    " min(x), max(x)"
   ]
  },
  {
   "cell_type": "code",
   "execution_count": 136,
   "metadata": {
    "colab": {
     "base_uri": "https://localhost:8080/"
    },
    "executionInfo": {
     "elapsed": 17,
     "status": "ok",
     "timestamp": 1647927168079,
     "user": {
      "displayName": "강준모",
      "photoUrl": "https://lh3.googleusercontent.com/a/default-user=s64",
      "userId": "14855937078495325719"
     },
     "user_tz": -540
    },
    "id": "l4O-gVxdv8-d",
    "outputId": "58d8d4e1-d14e-4d3d-c778-d94de1b8c615"
   },
   "outputs": [
    {
     "data": {
      "text/plain": [
       "array([0, 4, 7, 7, 5, 5, 5, 5, 6, 6])"
      ]
     },
     "execution_count": 136,
     "metadata": {},
     "output_type": "execute_result"
    }
   ],
   "source": [
    "np.bincount(x)"
   ]
  },
  {
   "cell_type": "markdown",
   "metadata": {
    "id": "JM2Ghx2NGloN"
   },
   "source": [
    "\n",
    "\n",
    "---\n",
    "\n"
   ]
  },
  {
   "cell_type": "markdown",
   "metadata": {
    "id": "GDU7j1hSOQdC"
   },
   "source": [
    "### (np.where) 넘파이 if 문 느낌.\n",
    "\n"
   ]
  },
  {
   "cell_type": "code",
   "execution_count": 137,
   "metadata": {
    "executionInfo": {
     "elapsed": 12,
     "status": "ok",
     "timestamp": 1647927168079,
     "user": {
      "displayName": "강준모",
      "photoUrl": "https://lh3.googleusercontent.com/a/default-user=s64",
      "userId": "14855937078495325719"
     },
     "user_tz": -540
    },
    "id": "RI27rkylRFqL"
   },
   "outputs": [],
   "source": [
    "# https://ddolcat.tistory.com/654"
   ]
  },
  {
   "cell_type": "code",
   "execution_count": 137,
   "metadata": {
    "executionInfo": {
     "elapsed": 13,
     "status": "ok",
     "timestamp": 1647927168080,
     "user": {
      "displayName": "강준모",
      "photoUrl": "https://lh3.googleusercontent.com/a/default-user=s64",
      "userId": "14855937078495325719"
     },
     "user_tz": -540
    },
    "id": "qdOx3uw2Q2vk"
   },
   "outputs": [],
   "source": []
  }
 ],
 "metadata": {
  "colab": {
   "collapsed_sections": [],
   "name": "_NumPy_한번에_제대로_배우기.ipynb",
   "provenance": [],
   "toc_visible": true
  },
  "kernelspec": {
   "display_name": "Python 3 (ipykernel)",
   "language": "python",
   "name": "python3"
  },
  "language_info": {
   "codemirror_mode": {
    "name": "ipython",
    "version": 3
   },
   "file_extension": ".py",
   "mimetype": "text/x-python",
   "name": "python",
   "nbconvert_exporter": "python",
   "pygments_lexer": "ipython3",
   "version": "3.9.10"
  },
  "toc": {
   "base_numbering": 1,
   "nav_menu": {},
   "number_sections": true,
   "sideBar": true,
   "skip_h1_title": false,
   "title_cell": "Table of Contents",
   "title_sidebar": "Contents",
   "toc_cell": false,
   "toc_position": {
    "height": "calc(100% - 180px)",
    "left": "10px",
    "top": "150px",
    "width": "362.378px"
   },
   "toc_section_display": true,
   "toc_window_display": true
  },
  "varInspector": {
   "cols": {
    "lenName": 16,
    "lenType": 16,
    "lenVar": 40
   },
   "kernels_config": {
    "python": {
     "delete_cmd_postfix": "",
     "delete_cmd_prefix": "del ",
     "library": "var_list.py",
     "varRefreshCmd": "print(var_dic_list())"
    },
    "r": {
     "delete_cmd_postfix": ") ",
     "delete_cmd_prefix": "rm(",
     "library": "var_list.r",
     "varRefreshCmd": "cat(var_dic_list()) "
    }
   },
   "types_to_exclude": [
    "module",
    "function",
    "builtin_function_or_method",
    "instance",
    "_Feature"
   ],
   "window_display": false
  }
 },
 "nbformat": 4,
 "nbformat_minor": 1
}
