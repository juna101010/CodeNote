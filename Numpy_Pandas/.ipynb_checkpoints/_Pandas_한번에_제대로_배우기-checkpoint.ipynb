{
 "cells": [
  {
   "cell_type": "code",
   "execution_count": 1,
   "metadata": {
    "ExecuteTime": {
     "end_time": "2022-04-02T14:04:51.996126Z",
     "start_time": "2022-04-02T14:04:51.254080Z"
    },
    "id": "xb5Lsw3Qk_6Q"
   },
   "outputs": [
    {
     "data": {
      "text/plain": [
       "'1.4.1'"
      ]
     },
     "execution_count": 1,
     "metadata": {},
     "output_type": "execute_result"
    }
   ],
   "source": [
    "import numpy as np\n",
    "import pandas as pd\n",
    "pd.__version__"
   ]
  },
  {
   "cell_type": "markdown",
   "metadata": {
    "id": "l5jkTeeNjUae"
   },
   "source": [
    "# Pandas 한번에 제대로 배우기\n"
   ]
  },
  {
   "cell_type": "markdown",
   "metadata": {},
   "source": [
    "# 추가"
   ]
  },
  {
   "cell_type": "markdown",
   "metadata": {},
   "source": [
    "## 데이터 전처리"
   ]
  },
  {
   "cell_type": "markdown",
   "metadata": {},
   "source": [
    "### 가변수화"
   ]
  },
  {
   "cell_type": "code",
   "execution_count": 2,
   "metadata": {
    "ExecuteTime": {
     "end_time": "2022-04-02T14:04:52.011057Z",
     "start_time": "2022-04-02T14:04:51.999119Z"
    }
   },
   "outputs": [],
   "source": [
    "dict1 = {'x1':['a','b','a','b','c'], 'x2':[2,6,5,3,4]}\n",
    "dict2 = {'x1':['a','b','b'], 'x2':[7,8,9]}\n",
    "\n",
    "train = pd.DataFrame(dict1)\n",
    "test =  pd.DataFrame(dict2)"
   ]
  },
  {
   "cell_type": "code",
   "execution_count": 3,
   "metadata": {
    "ExecuteTime": {
     "end_time": "2022-04-02T14:04:52.026017Z",
     "start_time": "2022-04-02T14:04:52.013052Z"
    }
   },
   "outputs": [
    {
     "data": {
      "text/html": [
       "<div>\n",
       "<style scoped>\n",
       "    .dataframe tbody tr th:only-of-type {\n",
       "        vertical-align: middle;\n",
       "    }\n",
       "\n",
       "    .dataframe tbody tr th {\n",
       "        vertical-align: top;\n",
       "    }\n",
       "\n",
       "    .dataframe thead th {\n",
       "        text-align: right;\n",
       "    }\n",
       "</style>\n",
       "<table border=\"1\" class=\"dataframe\">\n",
       "  <thead>\n",
       "    <tr style=\"text-align: right;\">\n",
       "      <th></th>\n",
       "      <th>x1</th>\n",
       "      <th>x2</th>\n",
       "    </tr>\n",
       "  </thead>\n",
       "  <tbody>\n",
       "    <tr>\n",
       "      <th>0</th>\n",
       "      <td>a</td>\n",
       "      <td>2</td>\n",
       "    </tr>\n",
       "    <tr>\n",
       "      <th>1</th>\n",
       "      <td>b</td>\n",
       "      <td>6</td>\n",
       "    </tr>\n",
       "    <tr>\n",
       "      <th>2</th>\n",
       "      <td>a</td>\n",
       "      <td>5</td>\n",
       "    </tr>\n",
       "    <tr>\n",
       "      <th>3</th>\n",
       "      <td>b</td>\n",
       "      <td>3</td>\n",
       "    </tr>\n",
       "    <tr>\n",
       "      <th>4</th>\n",
       "      <td>c</td>\n",
       "      <td>4</td>\n",
       "    </tr>\n",
       "  </tbody>\n",
       "</table>\n",
       "</div>"
      ],
      "text/plain": [
       "  x1  x2\n",
       "0  a   2\n",
       "1  b   6\n",
       "2  a   5\n",
       "3  b   3\n",
       "4  c   4"
      ]
     },
     "execution_count": 3,
     "metadata": {},
     "output_type": "execute_result"
    }
   ],
   "source": [
    "train"
   ]
  },
  {
   "cell_type": "code",
   "execution_count": 4,
   "metadata": {
    "ExecuteTime": {
     "end_time": "2022-04-02T14:04:52.041031Z",
     "start_time": "2022-04-02T14:04:52.029008Z"
    }
   },
   "outputs": [
    {
     "data": {
      "text/html": [
       "<div>\n",
       "<style scoped>\n",
       "    .dataframe tbody tr th:only-of-type {\n",
       "        vertical-align: middle;\n",
       "    }\n",
       "\n",
       "    .dataframe tbody tr th {\n",
       "        vertical-align: top;\n",
       "    }\n",
       "\n",
       "    .dataframe thead th {\n",
       "        text-align: right;\n",
       "    }\n",
       "</style>\n",
       "<table border=\"1\" class=\"dataframe\">\n",
       "  <thead>\n",
       "    <tr style=\"text-align: right;\">\n",
       "      <th></th>\n",
       "      <th>x1</th>\n",
       "      <th>x2</th>\n",
       "    </tr>\n",
       "  </thead>\n",
       "  <tbody>\n",
       "    <tr>\n",
       "      <th>0</th>\n",
       "      <td>a</td>\n",
       "      <td>7</td>\n",
       "    </tr>\n",
       "    <tr>\n",
       "      <th>1</th>\n",
       "      <td>b</td>\n",
       "      <td>8</td>\n",
       "    </tr>\n",
       "    <tr>\n",
       "      <th>2</th>\n",
       "      <td>b</td>\n",
       "      <td>9</td>\n",
       "    </tr>\n",
       "  </tbody>\n",
       "</table>\n",
       "</div>"
      ],
      "text/plain": [
       "  x1  x2\n",
       "0  a   7\n",
       "1  b   8\n",
       "2  b   9"
      ]
     },
     "execution_count": 4,
     "metadata": {},
     "output_type": "execute_result"
    }
   ],
   "source": [
    "test"
   ]
  },
  {
   "cell_type": "code",
   "execution_count": 5,
   "metadata": {
    "ExecuteTime": {
     "end_time": "2022-04-02T14:04:52.055935Z",
     "start_time": "2022-04-02T14:04:52.043967Z"
    }
   },
   "outputs": [
    {
     "data": {
      "text/html": [
       "<div>\n",
       "<style scoped>\n",
       "    .dataframe tbody tr th:only-of-type {\n",
       "        vertical-align: middle;\n",
       "    }\n",
       "\n",
       "    .dataframe tbody tr th {\n",
       "        vertical-align: top;\n",
       "    }\n",
       "\n",
       "    .dataframe thead th {\n",
       "        text-align: right;\n",
       "    }\n",
       "</style>\n",
       "<table border=\"1\" class=\"dataframe\">\n",
       "  <thead>\n",
       "    <tr style=\"text-align: right;\">\n",
       "      <th></th>\n",
       "      <th>x2</th>\n",
       "      <th>x1_a</th>\n",
       "      <th>x1_b</th>\n",
       "      <th>x1_c</th>\n",
       "    </tr>\n",
       "  </thead>\n",
       "  <tbody>\n",
       "    <tr>\n",
       "      <th>0</th>\n",
       "      <td>2</td>\n",
       "      <td>1</td>\n",
       "      <td>0</td>\n",
       "      <td>0</td>\n",
       "    </tr>\n",
       "    <tr>\n",
       "      <th>1</th>\n",
       "      <td>6</td>\n",
       "      <td>0</td>\n",
       "      <td>1</td>\n",
       "      <td>0</td>\n",
       "    </tr>\n",
       "    <tr>\n",
       "      <th>2</th>\n",
       "      <td>5</td>\n",
       "      <td>1</td>\n",
       "      <td>0</td>\n",
       "      <td>0</td>\n",
       "    </tr>\n",
       "    <tr>\n",
       "      <th>3</th>\n",
       "      <td>3</td>\n",
       "      <td>0</td>\n",
       "      <td>1</td>\n",
       "      <td>0</td>\n",
       "    </tr>\n",
       "    <tr>\n",
       "      <th>4</th>\n",
       "      <td>4</td>\n",
       "      <td>0</td>\n",
       "      <td>0</td>\n",
       "      <td>1</td>\n",
       "    </tr>\n",
       "  </tbody>\n",
       "</table>\n",
       "</div>"
      ],
      "text/plain": [
       "   x2  x1_a  x1_b  x1_c\n",
       "0   2     1     0     0\n",
       "1   6     0     1     0\n",
       "2   5     1     0     0\n",
       "3   3     0     1     0\n",
       "4   4     0     0     1"
      ]
     },
     "execution_count": 5,
     "metadata": {},
     "output_type": "execute_result"
    }
   ],
   "source": [
    "# get_dummies로 가변수화를 수행해 봅시다.\n",
    "pd.get_dummies(train, columns = ['x1'])"
   ]
  },
  {
   "cell_type": "code",
   "execution_count": 6,
   "metadata": {
    "ExecuteTime": {
     "end_time": "2022-04-02T14:04:52.070914Z",
     "start_time": "2022-04-02T14:04:52.059938Z"
    }
   },
   "outputs": [
    {
     "data": {
      "text/html": [
       "<div>\n",
       "<style scoped>\n",
       "    .dataframe tbody tr th:only-of-type {\n",
       "        vertical-align: middle;\n",
       "    }\n",
       "\n",
       "    .dataframe tbody tr th {\n",
       "        vertical-align: top;\n",
       "    }\n",
       "\n",
       "    .dataframe thead th {\n",
       "        text-align: right;\n",
       "    }\n",
       "</style>\n",
       "<table border=\"1\" class=\"dataframe\">\n",
       "  <thead>\n",
       "    <tr style=\"text-align: right;\">\n",
       "      <th></th>\n",
       "      <th>x2</th>\n",
       "      <th>x1_a</th>\n",
       "      <th>x1_b</th>\n",
       "    </tr>\n",
       "  </thead>\n",
       "  <tbody>\n",
       "    <tr>\n",
       "      <th>0</th>\n",
       "      <td>7</td>\n",
       "      <td>1</td>\n",
       "      <td>0</td>\n",
       "    </tr>\n",
       "    <tr>\n",
       "      <th>1</th>\n",
       "      <td>8</td>\n",
       "      <td>0</td>\n",
       "      <td>1</td>\n",
       "    </tr>\n",
       "    <tr>\n",
       "      <th>2</th>\n",
       "      <td>9</td>\n",
       "      <td>0</td>\n",
       "      <td>1</td>\n",
       "    </tr>\n",
       "  </tbody>\n",
       "</table>\n",
       "</div>"
      ],
      "text/plain": [
       "   x2  x1_a  x1_b\n",
       "0   7     1     0\n",
       "1   8     0     1\n",
       "2   9     0     1"
      ]
     },
     "execution_count": 6,
     "metadata": {},
     "output_type": "execute_result"
    }
   ],
   "source": [
    "pd.get_dummies(test, columns = ['x1']) # 모든 범주가 있는것이 아니라서 반영이 안됨."
   ]
  },
  {
   "cell_type": "code",
   "execution_count": 7,
   "metadata": {
    "ExecuteTime": {
     "end_time": "2022-04-02T14:04:52.100816Z",
     "start_time": "2022-04-02T14:04:52.072896Z"
    }
   },
   "outputs": [
    {
     "name": "stdout",
     "output_type": "stream",
     "text": [
      "<class 'pandas.core.frame.DataFrame'>\n",
      "RangeIndex: 5 entries, 0 to 4\n",
      "Data columns (total 2 columns):\n",
      " #   Column  Non-Null Count  Dtype   \n",
      "---  ------  --------------  -----   \n",
      " 0   x1      5 non-null      category\n",
      " 1   x2      5 non-null      int64   \n",
      "dtypes: category(1), int64(1)\n",
      "memory usage: 305.0 bytes\n"
     ]
    }
   ],
   "source": [
    "train['x1'] = pd.Categorical(train['x1'], categories=[\"a\", \"b\", \"c\"], ordered=False)\n",
    "test['x1'] = pd.Categorical(test['x1'], categories=[\"a\", \"b\", \"c\"], ordered=False)\n",
    "\n",
    "train.info() # object => category 데이터타입으로 바뀐다."
   ]
  },
  {
   "cell_type": "code",
   "execution_count": 8,
   "metadata": {
    "ExecuteTime": {
     "end_time": "2022-04-02T14:04:52.130735Z",
     "start_time": "2022-04-02T14:04:52.102812Z"
    }
   },
   "outputs": [
    {
     "data": {
      "text/html": [
       "<div>\n",
       "<style scoped>\n",
       "    .dataframe tbody tr th:only-of-type {\n",
       "        vertical-align: middle;\n",
       "    }\n",
       "\n",
       "    .dataframe tbody tr th {\n",
       "        vertical-align: top;\n",
       "    }\n",
       "\n",
       "    .dataframe thead th {\n",
       "        text-align: right;\n",
       "    }\n",
       "</style>\n",
       "<table border=\"1\" class=\"dataframe\">\n",
       "  <thead>\n",
       "    <tr style=\"text-align: right;\">\n",
       "      <th></th>\n",
       "      <th>x2</th>\n",
       "      <th>x1_a</th>\n",
       "      <th>x1_b</th>\n",
       "      <th>x1_c</th>\n",
       "    </tr>\n",
       "  </thead>\n",
       "  <tbody>\n",
       "    <tr>\n",
       "      <th>0</th>\n",
       "      <td>7</td>\n",
       "      <td>1</td>\n",
       "      <td>0</td>\n",
       "      <td>0</td>\n",
       "    </tr>\n",
       "    <tr>\n",
       "      <th>1</th>\n",
       "      <td>8</td>\n",
       "      <td>0</td>\n",
       "      <td>1</td>\n",
       "      <td>0</td>\n",
       "    </tr>\n",
       "    <tr>\n",
       "      <th>2</th>\n",
       "      <td>9</td>\n",
       "      <td>0</td>\n",
       "      <td>1</td>\n",
       "      <td>0</td>\n",
       "    </tr>\n",
       "  </tbody>\n",
       "</table>\n",
       "</div>"
      ],
      "text/plain": [
       "   x2  x1_a  x1_b  x1_c\n",
       "0   7     1     0     0\n",
       "1   8     0     1     0\n",
       "2   9     0     1     0"
      ]
     },
     "execution_count": 8,
     "metadata": {},
     "output_type": "execute_result"
    }
   ],
   "source": [
    "pd.get_dummies(test, columns = ['x1'])"
   ]
  },
  {
   "cell_type": "markdown",
   "metadata": {
    "id": "063zrZmgk8Gx"
   },
   "source": [
    "\n",
    "\n",
    "---\n",
    "\n"
   ]
  },
  {
   "cell_type": "markdown",
   "metadata": {
    "id": "yse0ihPdjJbw"
   },
   "source": [
    "## pandas 특징"
   ]
  },
  {
   "cell_type": "markdown",
   "metadata": {},
   "source": [
    "* 부동 소수점이 아닌 데이터 뿐만 아니라 부동 소수점 데이터에서도 결측데이터(NaN으로 표시됨)를 쉽게 처리.\n",
    "* 크기 변이성(Size mutability): DataFrame 및 고차원 객체에서 열을 삽입 및 삭제 가능\n",
    "* 자동 및 명시적(explicit) 데이터 정렬: 객체를 라벨 집합에 명시적으로 정렬하거나, 사용자가 라벨을 무시하고 Series, DataFrame등의 계산에서 자동으로 데이터 조정 가능\n",
    "* 데이터 세트에서 집꼐 및 변환을 위한 분할(split), 작용(apply), 결합(combine)작업을 수행할 수 있는 유연한 group-by 함수 제공\n",
    "* 누락된 데이터 또는 다른 Python 및 Numpy 데이터 구조에서 서로 다른 인덱싱 데이터를 DataFrame 개체로 쉽게 변환\n",
    "* 대용량 데이터 세트의 지능형 라벨 기반 슬라이싱, 고급 인덱싱 및 부분 집합 구하기 가능\n",
    "* 직관적인 데이터 세트 병합 및 결합\n",
    "* 데이터 세트의 유연한 재구성 및 피벗\n",
    "* 축의 계층적 라벨링(눈금당 여러 개의 라벨을 가질 수 있음)\n",
    "* 플랫 파일(csv 및 구분), Excel파일, 데이터베이스 로딩 및 초고속 HDF5 형식의 데이터 저장/로드에 사용되는 강력한 IO 도구\n",
    "* 시계열 특정 기능: 날짜 범위 생성 및 주파수 변환, 무빙 윈도우(moving window) 통계, 날짜 이동 및 지연"
   ]
  },
  {
   "cell_type": "markdown",
   "metadata": {
    "id": "CsH0REQfuLu2"
   },
   "source": [
    "## Pandas 객체\n"
   ]
  },
  {
   "cell_type": "markdown",
   "metadata": {
    "id": "J4u_-QUtwsKq"
   },
   "source": [
    "### Series 객체"
   ]
  },
  {
   "cell_type": "code",
   "execution_count": 9,
   "metadata": {
    "ExecuteTime": {
     "end_time": "2022-04-02T14:04:52.145696Z",
     "start_time": "2022-04-02T14:04:52.133728Z"
    },
    "id": "kU9VyUV6uiNx"
   },
   "outputs": [
    {
     "data": {
      "text/plain": [
       "0    0.00\n",
       "1    0.25\n",
       "2    0.50\n",
       "3    0.75\n",
       "4    1.00\n",
       "dtype: float64"
      ]
     },
     "execution_count": 9,
     "metadata": {},
     "output_type": "execute_result"
    }
   ],
   "source": [
    "s = pd.Series([0, 0.25, 0.5, 0.75, 1.0])\n",
    "s"
   ]
  },
  {
   "cell_type": "code",
   "execution_count": 10,
   "metadata": {
    "ExecuteTime": {
     "end_time": "2022-04-02T14:04:52.160659Z",
     "start_time": "2022-04-02T14:04:52.150682Z"
    },
    "id": "4fRQDuG2une6"
   },
   "outputs": [
    {
     "data": {
      "text/plain": [
       "array([0.  , 0.25, 0.5 , 0.75, 1.  ])"
      ]
     },
     "execution_count": 10,
     "metadata": {},
     "output_type": "execute_result"
    }
   ],
   "source": [
    "s.values"
   ]
  },
  {
   "cell_type": "code",
   "execution_count": 11,
   "metadata": {
    "ExecuteTime": {
     "end_time": "2022-04-02T14:04:52.175617Z",
     "start_time": "2022-04-02T14:04:52.163647Z"
    },
    "id": "TYahWVDa5QHX"
   },
   "outputs": [
    {
     "data": {
      "text/plain": [
       "RangeIndex(start=0, stop=5, step=1)"
      ]
     },
     "execution_count": 11,
     "metadata": {},
     "output_type": "execute_result"
    }
   ],
   "source": [
    "s.index"
   ]
  },
  {
   "cell_type": "code",
   "execution_count": 12,
   "metadata": {
    "ExecuteTime": {
     "end_time": "2022-04-02T14:04:52.190575Z",
     "start_time": "2022-04-02T14:04:52.177611Z"
    },
    "id": "YSLBo7xOuw4X"
   },
   "outputs": [
    {
     "data": {
      "text/plain": [
       "0.25"
      ]
     },
     "execution_count": 12,
     "metadata": {},
     "output_type": "execute_result"
    }
   ],
   "source": [
    "s[1]"
   ]
  },
  {
   "cell_type": "code",
   "execution_count": 13,
   "metadata": {
    "ExecuteTime": {
     "end_time": "2022-04-02T14:04:52.205535Z",
     "start_time": "2022-04-02T14:04:52.193567Z"
    },
    "id": "9cZUdDGdvKMs"
   },
   "outputs": [
    {
     "data": {
      "text/plain": [
       "1    0.25\n",
       "2    0.50\n",
       "3    0.75\n",
       "dtype: float64"
      ]
     },
     "execution_count": 13,
     "metadata": {},
     "output_type": "execute_result"
    }
   ],
   "source": [
    "s[1:4]"
   ]
  },
  {
   "cell_type": "code",
   "execution_count": 14,
   "metadata": {
    "ExecuteTime": {
     "end_time": "2022-04-02T14:04:52.220496Z",
     "start_time": "2022-04-02T14:04:52.208527Z"
    },
    "id": "YME6WAvUnvAE"
   },
   "outputs": [
    {
     "data": {
      "text/plain": [
       "a    0.00\n",
       "b    0.25\n",
       "c    0.50\n",
       "d    0.75\n",
       "e    1.00\n",
       "dtype: float64"
      ]
     },
     "execution_count": 14,
     "metadata": {},
     "output_type": "execute_result"
    }
   ],
   "source": [
    "s = pd.Series([0, 0.25, 0.5, 0.75, 1],\n",
    "             index=['a', 'b', 'c', 'd', 'e'])\n",
    "s"
   ]
  },
  {
   "cell_type": "code",
   "execution_count": 15,
   "metadata": {
    "ExecuteTime": {
     "end_time": "2022-04-02T14:04:52.235456Z",
     "start_time": "2022-04-02T14:04:52.221507Z"
    },
    "id": "ICRZfCe1o9SO"
   },
   "outputs": [
    {
     "data": {
      "text/plain": [
       "0.5"
      ]
     },
     "execution_count": 15,
     "metadata": {},
     "output_type": "execute_result"
    }
   ],
   "source": [
    "s['c']"
   ]
  },
  {
   "cell_type": "code",
   "execution_count": 16,
   "metadata": {
    "ExecuteTime": {
     "end_time": "2022-04-02T14:04:52.266373Z",
     "start_time": "2022-04-02T14:04:52.237466Z"
    },
    "id": "fk7JuV4yvLUO"
   },
   "outputs": [
    {
     "data": {
      "text/plain": [
       "c    0.50\n",
       "d    0.75\n",
       "e    1.00\n",
       "dtype: float64"
      ]
     },
     "execution_count": 16,
     "metadata": {},
     "output_type": "execute_result"
    }
   ],
   "source": [
    "s[['c', 'd', 'e']]"
   ]
  },
  {
   "cell_type": "code",
   "execution_count": 17,
   "metadata": {
    "ExecuteTime": {
     "end_time": "2022-04-02T14:04:52.282330Z",
     "start_time": "2022-04-02T14:04:52.269364Z"
    },
    "id": "z8X3HamnxweS"
   },
   "outputs": [
    {
     "data": {
      "text/plain": [
       "True"
      ]
     },
     "execution_count": 17,
     "metadata": {},
     "output_type": "execute_result"
    }
   ],
   "source": [
    "'b' in s"
   ]
  },
  {
   "cell_type": "code",
   "execution_count": 18,
   "metadata": {
    "ExecuteTime": {
     "end_time": "2022-04-02T14:04:52.297291Z",
     "start_time": "2022-04-02T14:04:52.285322Z"
    },
    "id": "BPIhn89Tn_wd"
   },
   "outputs": [
    {
     "data": {
      "text/plain": [
       "2     0.00\n",
       "4     0.25\n",
       "6     0.50\n",
       "8     0.75\n",
       "10    1.00\n",
       "dtype: float64"
      ]
     },
     "execution_count": 18,
     "metadata": {},
     "output_type": "execute_result"
    }
   ],
   "source": [
    "s = pd.Series([0, 0.25, 0.5, 0.75, 1.0],\n",
    "             index=[2, 4, 6, 8, 10])\n",
    "s"
   ]
  },
  {
   "cell_type": "code",
   "execution_count": 19,
   "metadata": {
    "ExecuteTime": {
     "end_time": "2022-04-02T14:04:52.313246Z",
     "start_time": "2022-04-02T14:04:52.300282Z"
    },
    "id": "bJjXA4YLrRUK"
   },
   "outputs": [
    {
     "data": {
      "text/plain": [
       "0.25"
      ]
     },
     "execution_count": 19,
     "metadata": {},
     "output_type": "execute_result"
    }
   ],
   "source": [
    "s[4]"
   ]
  },
  {
   "cell_type": "code",
   "execution_count": 20,
   "metadata": {
    "ExecuteTime": {
     "end_time": "2022-04-02T14:04:52.328212Z",
     "start_time": "2022-04-02T14:04:52.315242Z"
    },
    "id": "e77ZJdhtrejE"
   },
   "outputs": [
    {
     "data": {
      "text/plain": [
       "6     0.50\n",
       "8     0.75\n",
       "10    1.00\n",
       "dtype: float64"
      ]
     },
     "execution_count": 20,
     "metadata": {},
     "output_type": "execute_result"
    }
   ],
   "source": [
    "s[2:]"
   ]
  },
  {
   "cell_type": "code",
   "execution_count": 21,
   "metadata": {
    "ExecuteTime": {
     "end_time": "2022-04-02T14:04:52.343168Z",
     "start_time": "2022-04-02T14:04:52.330202Z"
    },
    "id": "5M0yujydruQv"
   },
   "outputs": [
    {
     "data": {
      "text/plain": [
       "array([0.  , 0.25, 0.5 , 0.75, 1.  ])"
      ]
     },
     "execution_count": 21,
     "metadata": {},
     "output_type": "execute_result"
    }
   ],
   "source": [
    "s.unique()"
   ]
  },
  {
   "cell_type": "code",
   "execution_count": 22,
   "metadata": {
    "ExecuteTime": {
     "end_time": "2022-04-02T14:04:52.358126Z",
     "start_time": "2022-04-02T14:04:52.345161Z"
    },
    "id": "4Ys3lrybxyz4"
   },
   "outputs": [
    {
     "data": {
      "text/plain": [
       "0.00    1\n",
       "0.25    1\n",
       "0.50    1\n",
       "0.75    1\n",
       "1.00    1\n",
       "dtype: int64"
      ]
     },
     "execution_count": 22,
     "metadata": {},
     "output_type": "execute_result"
    }
   ],
   "source": [
    "s.value_counts()"
   ]
  },
  {
   "cell_type": "code",
   "execution_count": 23,
   "metadata": {
    "ExecuteTime": {
     "end_time": "2022-04-02T14:04:52.373087Z",
     "start_time": "2022-04-02T14:04:52.360122Z"
    },
    "id": "6colocsazpUm"
   },
   "outputs": [
    {
     "data": {
      "text/plain": [
       "2     False\n",
       "4      True\n",
       "6     False\n",
       "8      True\n",
       "10    False\n",
       "dtype: bool"
      ]
     },
     "execution_count": 23,
     "metadata": {},
     "output_type": "execute_result"
    }
   ],
   "source": [
    "s.isin([0.25, 0.75])"
   ]
  },
  {
   "cell_type": "code",
   "execution_count": 24,
   "metadata": {
    "ExecuteTime": {
     "end_time": "2022-04-02T14:04:52.388082Z",
     "start_time": "2022-04-02T14:04:52.376079Z"
    },
    "id": "3Vrk6g0bz2pP"
   },
   "outputs": [
    {
     "data": {
      "text/plain": [
       "서울특별시    9720846\n",
       "부산광역시    3404423\n",
       "인천광역시    2947217\n",
       "대구광역시    2427954\n",
       "대전광역시    1471040\n",
       "광주광역시    1455048\n",
       "dtype: int64"
      ]
     },
     "execution_count": 24,
     "metadata": {},
     "output_type": "execute_result"
    }
   ],
   "source": [
    "pop_tuple = {'서울특별시':9720846,\n",
    "            '부산광역시': 3404423,\n",
    "            '인천광역시': 2947217,\n",
    "            '대구광역시': 2427954,\n",
    "            '대전광역시': 1471040,\n",
    "            '광주광역시': 1455048}\n",
    "population = pd.Series(pop_tuple)\n",
    "population"
   ]
  },
  {
   "cell_type": "code",
   "execution_count": 25,
   "metadata": {
    "ExecuteTime": {
     "end_time": "2022-04-02T14:04:52.403041Z",
     "start_time": "2022-04-02T14:04:52.390043Z"
    }
   },
   "outputs": [
    {
     "data": {
      "text/plain": [
       "서울특별시    9720846\n",
       "부산광역시    3404423\n",
       "인천광역시    2947217\n",
       "dtype: int64"
      ]
     },
     "execution_count": 25,
     "metadata": {},
     "output_type": "execute_result"
    }
   ],
   "source": [
    "population['서울특별시':'인천광역시']"
   ]
  },
  {
   "cell_type": "markdown",
   "metadata": {
    "id": "2oGWT2Kd0JV0"
   },
   "source": [
    "### DataFrame 객체"
   ]
  },
  {
   "cell_type": "code",
   "execution_count": 26,
   "metadata": {
    "ExecuteTime": {
     "end_time": "2022-04-02T14:04:52.417967Z",
     "start_time": "2022-04-02T14:04:52.405014Z"
    },
    "id": "BWi3ow9C3N5c"
   },
   "outputs": [
    {
     "data": {
      "text/html": [
       "<div>\n",
       "<style scoped>\n",
       "    .dataframe tbody tr th:only-of-type {\n",
       "        vertical-align: middle;\n",
       "    }\n",
       "\n",
       "    .dataframe tbody tr th {\n",
       "        vertical-align: top;\n",
       "    }\n",
       "\n",
       "    .dataframe thead th {\n",
       "        text-align: right;\n",
       "    }\n",
       "</style>\n",
       "<table border=\"1\" class=\"dataframe\">\n",
       "  <thead>\n",
       "    <tr style=\"text-align: right;\">\n",
       "      <th></th>\n",
       "      <th>A</th>\n",
       "      <th>B</th>\n",
       "      <th>D</th>\n",
       "      <th>C</th>\n",
       "    </tr>\n",
       "  </thead>\n",
       "  <tbody>\n",
       "    <tr>\n",
       "      <th>0</th>\n",
       "      <td>2</td>\n",
       "      <td>4</td>\n",
       "      <td>3.0</td>\n",
       "      <td>NaN</td>\n",
       "    </tr>\n",
       "    <tr>\n",
       "      <th>1</th>\n",
       "      <td>4</td>\n",
       "      <td>5</td>\n",
       "      <td>NaN</td>\n",
       "      <td>7.0</td>\n",
       "    </tr>\n",
       "  </tbody>\n",
       "</table>\n",
       "</div>"
      ],
      "text/plain": [
       "   A  B    D    C\n",
       "0  2  4  3.0  NaN\n",
       "1  4  5  NaN  7.0"
      ]
     },
     "execution_count": 26,
     "metadata": {},
     "output_type": "execute_result"
    }
   ],
   "source": [
    "pd.DataFrame([{'A':2, 'B':4, 'D':3},\n",
    "             {'A':4, 'B':5, 'C':7}])"
   ]
  },
  {
   "cell_type": "code",
   "execution_count": 27,
   "metadata": {
    "ExecuteTime": {
     "end_time": "2022-04-02T14:04:52.447886Z",
     "start_time": "2022-04-02T14:04:52.419962Z"
    },
    "id": "KSeay5dT35eH"
   },
   "outputs": [
    {
     "data": {
      "text/html": [
       "<div>\n",
       "<style scoped>\n",
       "    .dataframe tbody tr th:only-of-type {\n",
       "        vertical-align: middle;\n",
       "    }\n",
       "\n",
       "    .dataframe tbody tr th {\n",
       "        vertical-align: top;\n",
       "    }\n",
       "\n",
       "    .dataframe thead th {\n",
       "        text-align: right;\n",
       "    }\n",
       "</style>\n",
       "<table border=\"1\" class=\"dataframe\">\n",
       "  <thead>\n",
       "    <tr style=\"text-align: right;\">\n",
       "      <th></th>\n",
       "      <th>A</th>\n",
       "      <th>B</th>\n",
       "      <th>C</th>\n",
       "      <th>D</th>\n",
       "      <th>E</th>\n",
       "    </tr>\n",
       "  </thead>\n",
       "  <tbody>\n",
       "    <tr>\n",
       "      <th>1</th>\n",
       "      <td>0.893251</td>\n",
       "      <td>0.901911</td>\n",
       "      <td>0.228617</td>\n",
       "      <td>0.087438</td>\n",
       "      <td>0.589655</td>\n",
       "    </tr>\n",
       "    <tr>\n",
       "      <th>2</th>\n",
       "      <td>0.319865</td>\n",
       "      <td>0.877994</td>\n",
       "      <td>0.920555</td>\n",
       "      <td>0.964779</td>\n",
       "      <td>0.064664</td>\n",
       "    </tr>\n",
       "    <tr>\n",
       "      <th>3</th>\n",
       "      <td>0.064838</td>\n",
       "      <td>0.586957</td>\n",
       "      <td>0.762655</td>\n",
       "      <td>0.734138</td>\n",
       "      <td>0.012601</td>\n",
       "    </tr>\n",
       "    <tr>\n",
       "      <th>4</th>\n",
       "      <td>0.458702</td>\n",
       "      <td>0.922308</td>\n",
       "      <td>0.354773</td>\n",
       "      <td>0.104827</td>\n",
       "      <td>0.930064</td>\n",
       "    </tr>\n",
       "    <tr>\n",
       "      <th>5</th>\n",
       "      <td>0.746329</td>\n",
       "      <td>0.446019</td>\n",
       "      <td>0.234693</td>\n",
       "      <td>0.636979</td>\n",
       "      <td>0.532794</td>\n",
       "    </tr>\n",
       "  </tbody>\n",
       "</table>\n",
       "</div>"
      ],
      "text/plain": [
       "          A         B         C         D         E\n",
       "1  0.893251  0.901911  0.228617  0.087438  0.589655\n",
       "2  0.319865  0.877994  0.920555  0.964779  0.064664\n",
       "3  0.064838  0.586957  0.762655  0.734138  0.012601\n",
       "4  0.458702  0.922308  0.354773  0.104827  0.930064\n",
       "5  0.746329  0.446019  0.234693  0.636979  0.532794"
      ]
     },
     "execution_count": 27,
     "metadata": {},
     "output_type": "execute_result"
    }
   ],
   "source": [
    "pd.DataFrame(np.random.rand(5, 5),\n",
    "            columns=['A','B','C','D','E'],\n",
    "            index=[1,2,3,4,5])"
   ]
  },
  {
   "cell_type": "code",
   "execution_count": 28,
   "metadata": {
    "ExecuteTime": {
     "end_time": "2022-04-02T14:04:52.462847Z",
     "start_time": "2022-04-02T14:04:52.454868Z"
    },
    "id": "LF5SPGK5z7PA"
   },
   "outputs": [
    {
     "data": {
      "text/plain": [
       "서울특별시    4732275\n",
       "부산광역시    1668618\n",
       "인천광역시    1476813\n",
       "대구광역시    1198815\n",
       "대전광역시     734441\n",
       "광주광역시     720060\n",
       "dtype: int64"
      ]
     },
     "execution_count": 28,
     "metadata": {},
     "output_type": "execute_result"
    }
   ],
   "source": [
    "male_tuple = {'서울특별시':4732275,\n",
    "            '부산광역시': 1668618,\n",
    "            '인천광역시': 1476813,\n",
    "            '대구광역시': 1198815,\n",
    "            '대전광역시': 734441,\n",
    "            '광주광역시': 720060}\n",
    "male = pd.Series(male_tuple)\n",
    "male"
   ]
  },
  {
   "cell_type": "code",
   "execution_count": 29,
   "metadata": {
    "ExecuteTime": {
     "end_time": "2022-04-02T14:04:52.477807Z",
     "start_time": "2022-04-02T14:04:52.464842Z"
    },
    "id": "1XAK9yR91tyy"
   },
   "outputs": [
    {
     "data": {
      "text/plain": [
       "서울특별시    4988571\n",
       "부산광역시    1735805\n",
       "인천광역시    1470404\n",
       "대구광역시    1229139\n",
       "대전광역시     736599\n",
       "광주광역시     720060\n",
       "dtype: int64"
      ]
     },
     "execution_count": 29,
     "metadata": {},
     "output_type": "execute_result"
    }
   ],
   "source": [
    "female_tuple = {'서울특별시':4988571,\n",
    "            '부산광역시': 1735805,\n",
    "            '인천광역시': 1470404,\n",
    "            '대구광역시': 1229139,\n",
    "            '대전광역시': 736599,\n",
    "            '광주광역시': 720060}\n",
    "female = pd.Series(female_tuple)\n",
    "female"
   ]
  },
  {
   "cell_type": "code",
   "execution_count": 30,
   "metadata": {
    "ExecuteTime": {
     "end_time": "2022-04-02T14:04:52.492767Z",
     "start_time": "2022-04-02T14:04:52.479803Z"
    },
    "id": "gpOOL8zh2EI-"
   },
   "outputs": [
    {
     "data": {
      "text/html": [
       "<div>\n",
       "<style scoped>\n",
       "    .dataframe tbody tr th:only-of-type {\n",
       "        vertical-align: middle;\n",
       "    }\n",
       "\n",
       "    .dataframe tbody tr th {\n",
       "        vertical-align: top;\n",
       "    }\n",
       "\n",
       "    .dataframe thead th {\n",
       "        text-align: right;\n",
       "    }\n",
       "</style>\n",
       "<table border=\"1\" class=\"dataframe\">\n",
       "  <thead>\n",
       "    <tr style=\"text-align: right;\">\n",
       "      <th></th>\n",
       "      <th>인구수</th>\n",
       "      <th>남자인구수</th>\n",
       "      <th>여자인구수</th>\n",
       "    </tr>\n",
       "  </thead>\n",
       "  <tbody>\n",
       "    <tr>\n",
       "      <th>서울특별시</th>\n",
       "      <td>9720846</td>\n",
       "      <td>4732275</td>\n",
       "      <td>4988571</td>\n",
       "    </tr>\n",
       "    <tr>\n",
       "      <th>부산광역시</th>\n",
       "      <td>3404423</td>\n",
       "      <td>1668618</td>\n",
       "      <td>1735805</td>\n",
       "    </tr>\n",
       "    <tr>\n",
       "      <th>인천광역시</th>\n",
       "      <td>2947217</td>\n",
       "      <td>1476813</td>\n",
       "      <td>1470404</td>\n",
       "    </tr>\n",
       "    <tr>\n",
       "      <th>대구광역시</th>\n",
       "      <td>2427954</td>\n",
       "      <td>1198815</td>\n",
       "      <td>1229139</td>\n",
       "    </tr>\n",
       "    <tr>\n",
       "      <th>대전광역시</th>\n",
       "      <td>1471040</td>\n",
       "      <td>734441</td>\n",
       "      <td>736599</td>\n",
       "    </tr>\n",
       "    <tr>\n",
       "      <th>광주광역시</th>\n",
       "      <td>1455048</td>\n",
       "      <td>720060</td>\n",
       "      <td>720060</td>\n",
       "    </tr>\n",
       "  </tbody>\n",
       "</table>\n",
       "</div>"
      ],
      "text/plain": [
       "           인구수    남자인구수    여자인구수\n",
       "서울특별시  9720846  4732275  4988571\n",
       "부산광역시  3404423  1668618  1735805\n",
       "인천광역시  2947217  1476813  1470404\n",
       "대구광역시  2427954  1198815  1229139\n",
       "대전광역시  1471040   734441   736599\n",
       "광주광역시  1455048   720060   720060"
      ]
     },
     "execution_count": 30,
     "metadata": {},
     "output_type": "execute_result"
    }
   ],
   "source": [
    "korea_df = pd.DataFrame({'인구수':population,\n",
    "                        '남자인구수':male,\n",
    "                        '여자인구수':female})\n",
    "korea_df"
   ]
  },
  {
   "cell_type": "code",
   "execution_count": 31,
   "metadata": {
    "ExecuteTime": {
     "end_time": "2022-04-02T14:04:52.507764Z",
     "start_time": "2022-04-02T14:04:52.494761Z"
    }
   },
   "outputs": [
    {
     "data": {
      "text/plain": [
       "Index(['서울특별시', '부산광역시', '인천광역시', '대구광역시', '대전광역시', '광주광역시'], dtype='object')"
      ]
     },
     "execution_count": 31,
     "metadata": {},
     "output_type": "execute_result"
    }
   ],
   "source": [
    "korea_df.index"
   ]
  },
  {
   "cell_type": "code",
   "execution_count": 32,
   "metadata": {
    "ExecuteTime": {
     "end_time": "2022-04-02T14:04:52.522722Z",
     "start_time": "2022-04-02T14:04:52.510721Z"
    },
    "id": "qCRB-v6w2Xmt"
   },
   "outputs": [
    {
     "data": {
      "text/plain": [
       "Index(['인구수', '남자인구수', '여자인구수'], dtype='object')"
      ]
     },
     "execution_count": 32,
     "metadata": {},
     "output_type": "execute_result"
    }
   ],
   "source": [
    "korea_df.columns"
   ]
  },
  {
   "cell_type": "code",
   "execution_count": 33,
   "metadata": {
    "ExecuteTime": {
     "end_time": "2022-04-02T14:04:52.537654Z",
     "start_time": "2022-04-02T14:04:52.525679Z"
    },
    "id": "I86OnLLj2bSf"
   },
   "outputs": [
    {
     "data": {
      "text/plain": [
       "서울특별시    4988571\n",
       "부산광역시    1735805\n",
       "인천광역시    1470404\n",
       "대구광역시    1229139\n",
       "대전광역시     736599\n",
       "광주광역시     720060\n",
       "Name: 여자인구수, dtype: int64"
      ]
     },
     "execution_count": 33,
     "metadata": {},
     "output_type": "execute_result"
    }
   ],
   "source": [
    "korea_df['여자인구수']"
   ]
  },
  {
   "cell_type": "code",
   "execution_count": 34,
   "metadata": {
    "ExecuteTime": {
     "end_time": "2022-04-02T14:04:52.552643Z",
     "start_time": "2022-04-02T14:04:52.539643Z"
    },
    "id": "I2Cx16L42gSj"
   },
   "outputs": [
    {
     "data": {
      "text/html": [
       "<div>\n",
       "<style scoped>\n",
       "    .dataframe tbody tr th:only-of-type {\n",
       "        vertical-align: middle;\n",
       "    }\n",
       "\n",
       "    .dataframe tbody tr th {\n",
       "        vertical-align: top;\n",
       "    }\n",
       "\n",
       "    .dataframe thead th {\n",
       "        text-align: right;\n",
       "    }\n",
       "</style>\n",
       "<table border=\"1\" class=\"dataframe\">\n",
       "  <thead>\n",
       "    <tr style=\"text-align: right;\">\n",
       "      <th></th>\n",
       "      <th>인구수</th>\n",
       "      <th>남자인구수</th>\n",
       "      <th>여자인구수</th>\n",
       "    </tr>\n",
       "  </thead>\n",
       "  <tbody>\n",
       "    <tr>\n",
       "      <th>서울특별시</th>\n",
       "      <td>9720846</td>\n",
       "      <td>4732275</td>\n",
       "      <td>4988571</td>\n",
       "    </tr>\n",
       "    <tr>\n",
       "      <th>부산광역시</th>\n",
       "      <td>3404423</td>\n",
       "      <td>1668618</td>\n",
       "      <td>1735805</td>\n",
       "    </tr>\n",
       "    <tr>\n",
       "      <th>인천광역시</th>\n",
       "      <td>2947217</td>\n",
       "      <td>1476813</td>\n",
       "      <td>1470404</td>\n",
       "    </tr>\n",
       "  </tbody>\n",
       "</table>\n",
       "</div>"
      ],
      "text/plain": [
       "           인구수    남자인구수    여자인구수\n",
       "서울특별시  9720846  4732275  4988571\n",
       "부산광역시  3404423  1668618  1735805\n",
       "인천광역시  2947217  1476813  1470404"
      ]
     },
     "execution_count": 34,
     "metadata": {},
     "output_type": "execute_result"
    }
   ],
   "source": [
    "korea_df['서울특별시':'인천광역시']"
   ]
  },
  {
   "cell_type": "markdown",
   "metadata": {
    "id": "YLyCNxg45qyN"
   },
   "source": [
    "### Index 객체\n"
   ]
  },
  {
   "cell_type": "markdown",
   "metadata": {},
   "source": [
    "|클래스|설명|\n",
    "|---|---|\n",
    "|Index|일반적인 index 객체이며, Numpy배열 형식으로 축의 이름 표현 |\n",
    "|Int64Index|정수 값을 위한 Index|\n",
    "|MultiIndex|단일 축에 여러 단계 색인을 표현하는 계층적 Index 객체(튜플의 배열과 유사)|\n",
    "|DatetimeIndex|Numpy의 datetime64 타입으로 타임스탬프 저장|\n",
    "|PeriodIndex|기간 데이터를 위한 Index|"
   ]
  },
  {
   "cell_type": "code",
   "execution_count": 35,
   "metadata": {
    "ExecuteTime": {
     "end_time": "2022-04-02T14:04:52.567568Z",
     "start_time": "2022-04-02T14:04:52.554611Z"
    },
    "id": "sveOOZiM4dDu"
   },
   "outputs": [
    {
     "data": {
      "text/plain": [
       "Int64Index([2, 4, 6, 8, 10], dtype='int64')"
      ]
     },
     "execution_count": 35,
     "metadata": {},
     "output_type": "execute_result"
    }
   ],
   "source": [
    "idx = pd.Index([2, 4, 6, 8, 10])\n",
    "idx"
   ]
  },
  {
   "cell_type": "code",
   "execution_count": 36,
   "metadata": {
    "ExecuteTime": {
     "end_time": "2022-04-02T14:04:52.582557Z",
     "start_time": "2022-04-02T14:04:52.569562Z"
    },
    "id": "wq3KUCST5yDP"
   },
   "outputs": [
    {
     "data": {
      "text/plain": [
       "4"
      ]
     },
     "execution_count": 36,
     "metadata": {},
     "output_type": "execute_result"
    }
   ],
   "source": [
    "idx[1]"
   ]
  },
  {
   "cell_type": "code",
   "execution_count": 37,
   "metadata": {
    "ExecuteTime": {
     "end_time": "2022-04-02T14:04:52.597488Z",
     "start_time": "2022-04-02T14:04:52.584521Z"
    },
    "id": "4MZR1LaP500X"
   },
   "outputs": [
    {
     "data": {
      "text/plain": [
       "Int64Index([4], dtype='int64')"
      ]
     },
     "execution_count": 37,
     "metadata": {},
     "output_type": "execute_result"
    }
   ],
   "source": [
    "idx[1:2:2]"
   ]
  },
  {
   "cell_type": "code",
   "execution_count": 38,
   "metadata": {
    "ExecuteTime": {
     "end_time": "2022-04-02T14:04:52.612447Z",
     "start_time": "2022-04-02T14:04:52.599482Z"
    },
    "id": "NcGmnV_H52uy"
   },
   "outputs": [
    {
     "data": {
      "text/plain": [
       "Int64Index([10], dtype='int64')"
      ]
     },
     "execution_count": 38,
     "metadata": {},
     "output_type": "execute_result"
    }
   ],
   "source": [
    "idx[-1::]"
   ]
  },
  {
   "cell_type": "code",
   "execution_count": 39,
   "metadata": {
    "ExecuteTime": {
     "end_time": "2022-04-02T14:04:52.627443Z",
     "start_time": "2022-04-02T14:04:52.614441Z"
    },
    "id": "0mtbfeYY54Jk"
   },
   "outputs": [
    {
     "data": {
      "text/plain": [
       "Int64Index([2, 6, 10], dtype='int64')"
      ]
     },
     "execution_count": 39,
     "metadata": {},
     "output_type": "execute_result"
    }
   ],
   "source": [
    "idx[::2]"
   ]
  },
  {
   "cell_type": "code",
   "execution_count": 40,
   "metadata": {
    "ExecuteTime": {
     "end_time": "2022-04-02T14:04:52.642368Z",
     "start_time": "2022-04-02T14:04:52.629402Z"
    },
    "id": "CB_BwH3G57c9"
   },
   "outputs": [
    {
     "name": "stdout",
     "output_type": "stream",
     "text": [
      "Int64Index([2, 4, 6, 8, 10], dtype='int64')\n",
      "5\n",
      "(5,)\n",
      "1\n",
      "int64\n"
     ]
    }
   ],
   "source": [
    "print(idx)\n",
    "print(idx.size)\n",
    "print(idx.shape)\n",
    "print(idx.ndim)\n",
    "print(idx.dtype)"
   ]
  },
  {
   "cell_type": "markdown",
   "metadata": {
    "id": "M2xlGdrok22S"
   },
   "source": [
    "#### Index 연산"
   ]
  },
  {
   "cell_type": "markdown",
   "metadata": {},
   "source": [
    "|연산자|메소드|설명|\n",
    "|---|---|---|\n",
    "| |`append`|색인 객체를 추가한 새로운 색인 반환|\n",
    "| |`diffenrence`|색인의 차집합 반환|\n",
    "|`&`|intersection|색인의 교집합 반환|\n",
    "|$\\mid$|`union`|색인의 합집합 반환|\n",
    "| |`isin`|색인이 존재하는지 여부를 불리언 배열로 반환|\n",
    "| |`delete`|색인이 삭제된 새로운 색인 반환|\n",
    "| |`drop`|값이 삭제된 새로운 색인 반환|\n",
    "| |`insert`|색인이 추가된 새로운 색인 반환|\n",
    "| |`is_monotonic`|색인이 단조성을 가지면 True|\n",
    "| |`is_unique`|중복되는 색인이 없다면 True|\n",
    "| |`unique`|색인에서 중복되는 요소를  제거하고 유일한 값만 반환|\n",
    "\n",
    "* 연산자는 추후에 사라지므로 메소드로만 사용할 것."
   ]
  },
  {
   "cell_type": "code",
   "execution_count": 41,
   "metadata": {
    "ExecuteTime": {
     "end_time": "2022-04-02T14:04:53.016366Z",
     "start_time": "2022-04-02T14:04:52.644361Z"
    },
    "id": "e2yx1bpE6B3_"
   },
   "outputs": [
    {
     "name": "stdout",
     "output_type": "stream",
     "text": [
      "Int64Index([1, 2, 4, 6, 8, 2, 4, 5, 6, 7], dtype='int64')\n",
      "Int64Index([1, 8], dtype='int64')\n",
      "Int64Index([-1, -2, -1, 0, 1], dtype='int64')\n",
      "Int64Index([2, 4, 6], dtype='int64')\n",
      "Int64Index([2, 4, 6], dtype='int64')\n"
     ]
    },
    {
     "name": "stderr",
     "output_type": "stream",
     "text": [
      "C:\\Users\\User\\AppData\\Local\\Temp\\ipykernel_8908\\2735944507.py:7: FutureWarning: Index.__and__ operating as a set operation is deprecated, in the future this will be a logical operation matching Series.__and__.  Use index.intersection(other) instead.\n",
      "  print(idx1 & idx2)\n"
     ]
    }
   ],
   "source": [
    "idx1 = pd.Index([1, 2, 4, 6, 8])\n",
    "idx2 = pd.Index([2, 4, 5, 6, 7])\n",
    "print(idx1.append(idx2))\n",
    "print(idx1.difference(idx2))\n",
    "print(idx1 - idx2)\n",
    "print(idx1.intersection(idx2))\n",
    "print(idx1 & idx2)\n",
    "\n",
    "# C:\\Users\\User\\AppData\\Local\\Temp\\ipykernel_9188\\803639308.py:7: FutureWarning: Index.__and__ operating as a set operation is deprecated, in the future this will be a logical operation matching Series.__and__.  Use index.intersection(other) instead.\n",
    "#   print(idx1 & idx2)"
   ]
  },
  {
   "cell_type": "markdown",
   "metadata": {
    "id": "kd8eQIoYHoaS"
   },
   "source": [
    "\n",
    "\n",
    "---\n",
    "\n"
   ]
  },
  {
   "cell_type": "markdown",
   "metadata": {
    "id": "KZLKu-HM6yEm"
   },
   "source": [
    "## 인덱싱(Indexing)"
   ]
  },
  {
   "cell_type": "code",
   "execution_count": 42,
   "metadata": {
    "ExecuteTime": {
     "end_time": "2022-04-02T14:04:53.046828Z",
     "start_time": "2022-04-02T14:04:53.018361Z"
    },
    "id": "2kLDyvXi60-A"
   },
   "outputs": [
    {
     "data": {
      "text/plain": [
       "a    0.00\n",
       "b    0.25\n",
       "c    0.50\n",
       "d    0.75\n",
       "e    1.00\n",
       "dtype: float64"
      ]
     },
     "execution_count": 42,
     "metadata": {},
     "output_type": "execute_result"
    }
   ],
   "source": [
    "s = pd.Series([0, 0.25, 0.5, 0.75, 1.0],\n",
    "             index=['a','b','c','d','e'])\n",
    "s\n"
   ]
  },
  {
   "cell_type": "code",
   "execution_count": 43,
   "metadata": {
    "ExecuteTime": {
     "end_time": "2022-04-02T14:04:53.061759Z",
     "start_time": "2022-04-02T14:04:53.049788Z"
    },
    "id": "5oXPBg2kHqMH"
   },
   "outputs": [
    {
     "data": {
      "text/plain": [
       "0.25"
      ]
     },
     "execution_count": 43,
     "metadata": {},
     "output_type": "execute_result"
    }
   ],
   "source": [
    "s['b']"
   ]
  },
  {
   "cell_type": "code",
   "execution_count": 44,
   "metadata": {
    "ExecuteTime": {
     "end_time": "2022-04-02T14:04:53.076717Z",
     "start_time": "2022-04-02T14:04:53.064750Z"
    },
    "id": "msZ7pmajIgiR"
   },
   "outputs": [
    {
     "data": {
      "text/plain": [
       "True"
      ]
     },
     "execution_count": 44,
     "metadata": {},
     "output_type": "execute_result"
    }
   ],
   "source": [
    "'b' in s"
   ]
  },
  {
   "cell_type": "code",
   "execution_count": 45,
   "metadata": {
    "ExecuteTime": {
     "end_time": "2022-04-02T14:04:53.091708Z",
     "start_time": "2022-04-02T14:04:53.078715Z"
    },
    "id": "lyi7cVYbIjPF"
   },
   "outputs": [
    {
     "data": {
      "text/plain": [
       "Index(['a', 'b', 'c', 'd', 'e'], dtype='object')"
      ]
     },
     "execution_count": 45,
     "metadata": {},
     "output_type": "execute_result"
    }
   ],
   "source": [
    "s.keys()"
   ]
  },
  {
   "cell_type": "code",
   "execution_count": 46,
   "metadata": {
    "ExecuteTime": {
     "end_time": "2022-04-02T14:04:53.106668Z",
     "start_time": "2022-04-02T14:04:53.093672Z"
    }
   },
   "outputs": [
    {
     "data": {
      "text/plain": [
       "<zip at 0x17bb44eaf40>"
      ]
     },
     "execution_count": 46,
     "metadata": {},
     "output_type": "execute_result"
    }
   ],
   "source": [
    "s.items()"
   ]
  },
  {
   "cell_type": "code",
   "execution_count": 47,
   "metadata": {
    "ExecuteTime": {
     "end_time": "2022-04-02T14:04:53.121628Z",
     "start_time": "2022-04-02T14:04:53.109630Z"
    },
    "id": "AQc6QXxBIj9m"
   },
   "outputs": [
    {
     "data": {
      "text/plain": [
       "[('a', 0.0), ('b', 0.25), ('c', 0.5), ('d', 0.75), ('e', 1.0)]"
      ]
     },
     "execution_count": 47,
     "metadata": {},
     "output_type": "execute_result"
    }
   ],
   "source": [
    "list(s.items())"
   ]
  },
  {
   "cell_type": "code",
   "execution_count": 48,
   "metadata": {
    "ExecuteTime": {
     "end_time": "2022-04-02T14:04:53.136587Z",
     "start_time": "2022-04-02T14:04:53.123591Z"
    },
    "id": "ZwWy7NqlImoZ"
   },
   "outputs": [
    {
     "data": {
      "text/plain": [
       "a    0.00\n",
       "b    0.25\n",
       "c    0.50\n",
       "d    0.75\n",
       "e    1.00\n",
       "f    1.25\n",
       "dtype: float64"
      ]
     },
     "execution_count": 48,
     "metadata": {},
     "output_type": "execute_result"
    }
   ],
   "source": [
    "s['f'] = 1.25\n",
    "s"
   ]
  },
  {
   "cell_type": "code",
   "execution_count": 49,
   "metadata": {
    "ExecuteTime": {
     "end_time": "2022-04-02T14:04:53.151548Z",
     "start_time": "2022-04-02T14:04:53.138551Z"
    },
    "id": "r_q7ScSMIu4C"
   },
   "outputs": [
    {
     "data": {
      "text/plain": [
       "a    0.00\n",
       "b    0.25\n",
       "c    0.50\n",
       "d    0.75\n",
       "dtype: float64"
      ]
     },
     "execution_count": 49,
     "metadata": {},
     "output_type": "execute_result"
    }
   ],
   "source": [
    "s['a':'d']"
   ]
  },
  {
   "cell_type": "code",
   "execution_count": 50,
   "metadata": {
    "ExecuteTime": {
     "end_time": "2022-04-02T14:04:53.166476Z",
     "start_time": "2022-04-02T14:04:53.153511Z"
    },
    "id": "1EPBjuijIzhX"
   },
   "outputs": [
    {
     "data": {
      "text/plain": [
       "a    0.00\n",
       "b    0.25\n",
       "c    0.50\n",
       "d    0.75\n",
       "dtype: float64"
      ]
     },
     "execution_count": 50,
     "metadata": {},
     "output_type": "execute_result"
    }
   ],
   "source": [
    "s[0:4]"
   ]
  },
  {
   "cell_type": "code",
   "execution_count": 51,
   "metadata": {
    "ExecuteTime": {
     "end_time": "2022-04-02T14:04:53.181468Z",
     "start_time": "2022-04-02T14:04:53.168470Z"
    },
    "id": "3O4Cm0fXI1sZ"
   },
   "outputs": [
    {
     "data": {
      "text/plain": [
       "d    0.75\n",
       "dtype: float64"
      ]
     },
     "execution_count": 51,
     "metadata": {},
     "output_type": "execute_result"
    }
   ],
   "source": [
    "s[(s > 0.5) & (s < 0.8)]"
   ]
  },
  {
   "cell_type": "code",
   "execution_count": 52,
   "metadata": {
    "ExecuteTime": {
     "end_time": "2022-04-02T14:04:53.196398Z",
     "start_time": "2022-04-02T14:04:53.183432Z"
    },
    "id": "i9DDqXO0I9wo"
   },
   "outputs": [
    {
     "data": {
      "text/plain": [
       "a    0.00\n",
       "c    0.50\n",
       "b    0.25\n",
       "dtype: float64"
      ]
     },
     "execution_count": 52,
     "metadata": {},
     "output_type": "execute_result"
    }
   ],
   "source": [
    "s[['a', 'c', 'b']]"
   ]
  },
  {
   "cell_type": "markdown",
   "metadata": {
    "id": "NoRP6_bPrViW"
   },
   "source": [
    "### Series 인덱싱"
   ]
  },
  {
   "cell_type": "code",
   "execution_count": 53,
   "metadata": {
    "ExecuteTime": {
     "end_time": "2022-04-02T14:04:53.211358Z",
     "start_time": "2022-04-02T14:04:53.198404Z"
    },
    "id": "lf8mRyNeI_b_"
   },
   "outputs": [
    {
     "data": {
      "text/plain": [
       "1    a\n",
       "3    b\n",
       "5    c\n",
       "7    d\n",
       "9    e\n",
       "dtype: object"
      ]
     },
     "execution_count": 53,
     "metadata": {},
     "output_type": "execute_result"
    }
   ],
   "source": [
    "s = pd.Series(['a','b','c','d','e'],\n",
    "             index=[1, 3, 5, 7, 9])\n",
    "s"
   ]
  },
  {
   "cell_type": "code",
   "execution_count": 54,
   "metadata": {
    "ExecuteTime": {
     "end_time": "2022-04-02T14:04:53.226337Z",
     "start_time": "2022-04-02T14:04:53.213355Z"
    },
    "id": "5H1JoKlKLjsw"
   },
   "outputs": [
    {
     "data": {
      "text/plain": [
       "'a'"
      ]
     },
     "execution_count": 54,
     "metadata": {},
     "output_type": "execute_result"
    }
   ],
   "source": [
    "s[1]"
   ]
  },
  {
   "cell_type": "code",
   "execution_count": 55,
   "metadata": {
    "ExecuteTime": {
     "end_time": "2022-04-02T14:04:53.241277Z",
     "start_time": "2022-04-02T14:04:53.228313Z"
    },
    "id": "hVSHrsMzLln2"
   },
   "outputs": [
    {
     "data": {
      "text/plain": [
       "5    c\n",
       "7    d\n",
       "dtype: object"
      ]
     },
     "execution_count": 55,
     "metadata": {},
     "output_type": "execute_result"
    }
   ],
   "source": [
    "s[2:4]"
   ]
  },
  {
   "cell_type": "code",
   "execution_count": 56,
   "metadata": {
    "ExecuteTime": {
     "end_time": "2022-04-02T14:04:53.256239Z",
     "start_time": "2022-04-02T14:04:53.243272Z"
    },
    "id": "qtpxKX78Lmlm"
   },
   "outputs": [
    {
     "data": {
      "text/plain": [
       "'b'"
      ]
     },
     "execution_count": 56,
     "metadata": {},
     "output_type": "execute_result"
    }
   ],
   "source": [
    "s.iloc[1]"
   ]
  },
  {
   "cell_type": "code",
   "execution_count": 57,
   "metadata": {
    "ExecuteTime": {
     "end_time": "2022-04-02T14:04:53.271227Z",
     "start_time": "2022-04-02T14:04:53.258233Z"
    },
    "id": "gy5ShWM4LqMU"
   },
   "outputs": [
    {
     "data": {
      "text/plain": [
       "5    c\n",
       "7    d\n",
       "dtype: object"
      ]
     },
     "execution_count": 57,
     "metadata": {},
     "output_type": "execute_result"
    }
   ],
   "source": [
    "s.iloc[2:4]"
   ]
  },
  {
   "cell_type": "code",
   "execution_count": 58,
   "metadata": {
    "ExecuteTime": {
     "end_time": "2022-04-02T14:04:53.286188Z",
     "start_time": "2022-04-02T14:04:53.273191Z"
    }
   },
   "outputs": [
    {
     "data": {
      "text/html": [
       "<div>\n",
       "<style scoped>\n",
       "    .dataframe tbody tr th:only-of-type {\n",
       "        vertical-align: middle;\n",
       "    }\n",
       "\n",
       "    .dataframe tbody tr th {\n",
       "        vertical-align: top;\n",
       "    }\n",
       "\n",
       "    .dataframe thead th {\n",
       "        text-align: right;\n",
       "    }\n",
       "</style>\n",
       "<table border=\"1\" class=\"dataframe\">\n",
       "  <thead>\n",
       "    <tr style=\"text-align: right;\">\n",
       "      <th></th>\n",
       "      <th>index</th>\n",
       "      <th>0</th>\n",
       "    </tr>\n",
       "  </thead>\n",
       "  <tbody>\n",
       "    <tr>\n",
       "      <th>0</th>\n",
       "      <td>1</td>\n",
       "      <td>a</td>\n",
       "    </tr>\n",
       "    <tr>\n",
       "      <th>1</th>\n",
       "      <td>3</td>\n",
       "      <td>b</td>\n",
       "    </tr>\n",
       "    <tr>\n",
       "      <th>2</th>\n",
       "      <td>5</td>\n",
       "      <td>c</td>\n",
       "    </tr>\n",
       "    <tr>\n",
       "      <th>3</th>\n",
       "      <td>7</td>\n",
       "      <td>d</td>\n",
       "    </tr>\n",
       "    <tr>\n",
       "      <th>4</th>\n",
       "      <td>9</td>\n",
       "      <td>e</td>\n",
       "    </tr>\n",
       "  </tbody>\n",
       "</table>\n",
       "</div>"
      ],
      "text/plain": [
       "   index  0\n",
       "0      1  a\n",
       "1      3  b\n",
       "2      5  c\n",
       "3      7  d\n",
       "4      9  e"
      ]
     },
     "execution_count": 58,
     "metadata": {},
     "output_type": "execute_result"
    }
   ],
   "source": [
    "s.reset_index()"
   ]
  },
  {
   "cell_type": "code",
   "execution_count": 59,
   "metadata": {
    "ExecuteTime": {
     "end_time": "2022-04-02T14:04:53.301116Z",
     "start_time": "2022-04-02T14:04:53.288150Z"
    },
    "id": "utldkXViqAfQ"
   },
   "outputs": [
    {
     "data": {
      "text/plain": [
       "0    NaN\n",
       "1      a\n",
       "2    NaN\n",
       "3      b\n",
       "4    NaN\n",
       "5      c\n",
       "6    NaN\n",
       "7      d\n",
       "8    NaN\n",
       "9      e\n",
       "dtype: object"
      ]
     },
     "execution_count": 59,
     "metadata": {},
     "output_type": "execute_result"
    }
   ],
   "source": [
    "s.reindex(range(10))\n",
    "## 없는 값들은 null값으로 들어감"
   ]
  },
  {
   "cell_type": "code",
   "execution_count": 60,
   "metadata": {
    "ExecuteTime": {
     "end_time": "2022-04-02T14:04:53.316108Z",
     "start_time": "2022-04-02T14:04:53.303111Z"
    },
    "id": "-4jACtEQqm2o"
   },
   "outputs": [
    {
     "data": {
      "text/plain": [
       "0    a\n",
       "1    a\n",
       "2    b\n",
       "3    b\n",
       "4    c\n",
       "5    c\n",
       "6    d\n",
       "7    d\n",
       "8    e\n",
       "9    e\n",
       "dtype: object"
      ]
     },
     "execution_count": 60,
     "metadata": {},
     "output_type": "execute_result"
    }
   ],
   "source": [
    "s.reindex(range(10), method='bfill') #null값을 채워줄 수 있음"
   ]
  },
  {
   "cell_type": "markdown",
   "metadata": {
    "id": "aOLEal9Hrli0"
   },
   "source": [
    "### DataFrame 인덱싱\n"
   ]
  },
  {
   "cell_type": "markdown",
   "metadata": {},
   "source": [
    "|사용방법|설명|\n",
    "|---|---|\n",
    "|`df[val]`|하나의 컬럼 또는 여러 컬럼을 선택|\n",
    "|`df.loc[val]`|라벨값으로 로우의 부분집합 선택|\n",
    "|`df.loc[: val]`|라벨값으로 컬럼의 부분집합 선택|\n",
    "|`df.loc[val1, val2`|라벨값으로 로우와 컬럼의 부분집합 선택|\n",
    "|`df.iloc[where]`|정수 색인으로 로우의 부분집합 선택|\n",
    "|`df.iloc[:, where]`|정수 색인으로 컬럼의 부분집합 선택|\n",
    "|`df.iloc[where_i, where_j`|정수 색인으로 로우와 컬럼의 부분집합 선택|\n",
    "|`df.at[label_i, label_j]`|로우와 컬럼의 라벨로 단일 값 선택|\n",
    "|`df.iat[i, j]`|로우와 컬럼의 정수 색인으로 단일 값 선택|\n",
    "|`reindex`|하나 이상의 축을 새로운 색인으로 재색인|\n",
    "|`get_value, set_value`|로우와 컬럼의 이름으로 값 선택|"
   ]
  },
  {
   "cell_type": "code",
   "execution_count": 61,
   "metadata": {
    "ExecuteTime": {
     "end_time": "2022-04-02T14:04:53.331067Z",
     "start_time": "2022-04-02T14:04:53.318102Z"
    },
    "id": "77aifW07LsTZ"
   },
   "outputs": [
    {
     "data": {
      "text/html": [
       "<div>\n",
       "<style scoped>\n",
       "    .dataframe tbody tr th:only-of-type {\n",
       "        vertical-align: middle;\n",
       "    }\n",
       "\n",
       "    .dataframe tbody tr th {\n",
       "        vertical-align: top;\n",
       "    }\n",
       "\n",
       "    .dataframe thead th {\n",
       "        text-align: right;\n",
       "    }\n",
       "</style>\n",
       "<table border=\"1\" class=\"dataframe\">\n",
       "  <thead>\n",
       "    <tr style=\"text-align: right;\">\n",
       "      <th></th>\n",
       "      <th>인구수</th>\n",
       "      <th>남자인구수</th>\n",
       "      <th>여자인구수</th>\n",
       "    </tr>\n",
       "  </thead>\n",
       "  <tbody>\n",
       "    <tr>\n",
       "      <th>서울특별시</th>\n",
       "      <td>9720846</td>\n",
       "      <td>4732275</td>\n",
       "      <td>4988571</td>\n",
       "    </tr>\n",
       "    <tr>\n",
       "      <th>부산광역시</th>\n",
       "      <td>3404423</td>\n",
       "      <td>1668618</td>\n",
       "      <td>1735805</td>\n",
       "    </tr>\n",
       "    <tr>\n",
       "      <th>인천광역시</th>\n",
       "      <td>2947217</td>\n",
       "      <td>1476813</td>\n",
       "      <td>1470404</td>\n",
       "    </tr>\n",
       "    <tr>\n",
       "      <th>대구광역시</th>\n",
       "      <td>2427954</td>\n",
       "      <td>1198815</td>\n",
       "      <td>1229139</td>\n",
       "    </tr>\n",
       "    <tr>\n",
       "      <th>대전광역시</th>\n",
       "      <td>1471040</td>\n",
       "      <td>734441</td>\n",
       "      <td>736599</td>\n",
       "    </tr>\n",
       "    <tr>\n",
       "      <th>광주광역시</th>\n",
       "      <td>1455048</td>\n",
       "      <td>720060</td>\n",
       "      <td>720060</td>\n",
       "    </tr>\n",
       "  </tbody>\n",
       "</table>\n",
       "</div>"
      ],
      "text/plain": [
       "           인구수    남자인구수    여자인구수\n",
       "서울특별시  9720846  4732275  4988571\n",
       "부산광역시  3404423  1668618  1735805\n",
       "인천광역시  2947217  1476813  1470404\n",
       "대구광역시  2427954  1198815  1229139\n",
       "대전광역시  1471040   734441   736599\n",
       "광주광역시  1455048   720060   720060"
      ]
     },
     "execution_count": 61,
     "metadata": {},
     "output_type": "execute_result"
    }
   ],
   "source": [
    "korea_df"
   ]
  },
  {
   "cell_type": "code",
   "execution_count": 62,
   "metadata": {
    "ExecuteTime": {
     "end_time": "2022-04-02T14:04:53.346027Z",
     "start_time": "2022-04-02T14:04:53.333030Z"
    },
    "id": "Gqv2LvUsL_hy"
   },
   "outputs": [
    {
     "data": {
      "text/plain": [
       "서울특별시    4732275\n",
       "부산광역시    1668618\n",
       "인천광역시    1476813\n",
       "대구광역시    1198815\n",
       "대전광역시     734441\n",
       "광주광역시     720060\n",
       "Name: 남자인구수, dtype: int64"
      ]
     },
     "execution_count": 62,
     "metadata": {},
     "output_type": "execute_result"
    }
   ],
   "source": [
    "korea_df['남자인구수']"
   ]
  },
  {
   "cell_type": "code",
   "execution_count": 63,
   "metadata": {
    "ExecuteTime": {
     "end_time": "2022-04-02T14:04:53.360982Z",
     "start_time": "2022-04-02T14:04:53.348024Z"
    },
    "id": "ASLLVKjxOCaq"
   },
   "outputs": [
    {
     "data": {
      "text/plain": [
       "서울특별시    4732275\n",
       "부산광역시    1668618\n",
       "인천광역시    1476813\n",
       "대구광역시    1198815\n",
       "대전광역시     734441\n",
       "광주광역시     720060\n",
       "Name: 남자인구수, dtype: int64"
      ]
     },
     "execution_count": 63,
     "metadata": {},
     "output_type": "execute_result"
    }
   ],
   "source": [
    "korea_df.남자인구수"
   ]
  },
  {
   "cell_type": "code",
   "execution_count": 64,
   "metadata": {
    "ExecuteTime": {
     "end_time": "2022-04-02T14:04:53.375921Z",
     "start_time": "2022-04-02T14:04:53.362961Z"
    },
    "id": "HwAFfjLBOEp5"
   },
   "outputs": [
    {
     "data": {
      "text/plain": [
       "서울특별시     94.862336\n",
       "부산광역시     96.129346\n",
       "인천광역시    100.435867\n",
       "대구광역시     97.532907\n",
       "대전광역시     99.707032\n",
       "광주광역시    100.000000\n",
       "Name: 남여비율, dtype: float64"
      ]
     },
     "execution_count": 64,
     "metadata": {},
     "output_type": "execute_result"
    }
   ],
   "source": [
    "korea_df['남여비율'] = (korea_df['남자인구수'] * 100 / korea_df['여자인구수'])\n",
    "korea_df.남여비율"
   ]
  },
  {
   "cell_type": "code",
   "execution_count": 65,
   "metadata": {
    "ExecuteTime": {
     "end_time": "2022-04-02T14:04:53.390878Z",
     "start_time": "2022-04-02T14:04:53.377912Z"
    },
    "id": "pECRBE1iOJqe"
   },
   "outputs": [
    {
     "data": {
      "text/plain": [
       "array([[9.72084600e+06, 4.73227500e+06, 4.98857100e+06, 9.48623363e+01],\n",
       "       [3.40442300e+06, 1.66861800e+06, 1.73580500e+06, 9.61293463e+01],\n",
       "       [2.94721700e+06, 1.47681300e+06, 1.47040400e+06, 1.00435867e+02],\n",
       "       [2.42795400e+06, 1.19881500e+06, 1.22913900e+06, 9.75329072e+01],\n",
       "       [1.47104000e+06, 7.34441000e+05, 7.36599000e+05, 9.97070319e+01],\n",
       "       [1.45504800e+06, 7.20060000e+05, 7.20060000e+05, 1.00000000e+02]])"
      ]
     },
     "execution_count": 65,
     "metadata": {},
     "output_type": "execute_result"
    }
   ],
   "source": [
    "korea_df.values"
   ]
  },
  {
   "cell_type": "code",
   "execution_count": 66,
   "metadata": {
    "ExecuteTime": {
     "end_time": "2022-04-02T14:04:53.420828Z",
     "start_time": "2022-04-02T14:04:53.393879Z"
    },
    "id": "MYpzQMFiOrGC"
   },
   "outputs": [
    {
     "data": {
      "text/html": [
       "<div>\n",
       "<style scoped>\n",
       "    .dataframe tbody tr th:only-of-type {\n",
       "        vertical-align: middle;\n",
       "    }\n",
       "\n",
       "    .dataframe tbody tr th {\n",
       "        vertical-align: top;\n",
       "    }\n",
       "\n",
       "    .dataframe thead th {\n",
       "        text-align: right;\n",
       "    }\n",
       "</style>\n",
       "<table border=\"1\" class=\"dataframe\">\n",
       "  <thead>\n",
       "    <tr style=\"text-align: right;\">\n",
       "      <th></th>\n",
       "      <th>서울특별시</th>\n",
       "      <th>부산광역시</th>\n",
       "      <th>인천광역시</th>\n",
       "      <th>대구광역시</th>\n",
       "      <th>대전광역시</th>\n",
       "      <th>광주광역시</th>\n",
       "    </tr>\n",
       "  </thead>\n",
       "  <tbody>\n",
       "    <tr>\n",
       "      <th>인구수</th>\n",
       "      <td>9.720846e+06</td>\n",
       "      <td>3.404423e+06</td>\n",
       "      <td>2.947217e+06</td>\n",
       "      <td>2.427954e+06</td>\n",
       "      <td>1.471040e+06</td>\n",
       "      <td>1455048.0</td>\n",
       "    </tr>\n",
       "    <tr>\n",
       "      <th>남자인구수</th>\n",
       "      <td>4.732275e+06</td>\n",
       "      <td>1.668618e+06</td>\n",
       "      <td>1.476813e+06</td>\n",
       "      <td>1.198815e+06</td>\n",
       "      <td>7.344410e+05</td>\n",
       "      <td>720060.0</td>\n",
       "    </tr>\n",
       "    <tr>\n",
       "      <th>여자인구수</th>\n",
       "      <td>4.988571e+06</td>\n",
       "      <td>1.735805e+06</td>\n",
       "      <td>1.470404e+06</td>\n",
       "      <td>1.229139e+06</td>\n",
       "      <td>7.365990e+05</td>\n",
       "      <td>720060.0</td>\n",
       "    </tr>\n",
       "    <tr>\n",
       "      <th>남여비율</th>\n",
       "      <td>9.486234e+01</td>\n",
       "      <td>9.612935e+01</td>\n",
       "      <td>1.004359e+02</td>\n",
       "      <td>9.753291e+01</td>\n",
       "      <td>9.970703e+01</td>\n",
       "      <td>100.0</td>\n",
       "    </tr>\n",
       "  </tbody>\n",
       "</table>\n",
       "</div>"
      ],
      "text/plain": [
       "              서울특별시         부산광역시         인천광역시         대구광역시         대전광역시  \\\n",
       "인구수    9.720846e+06  3.404423e+06  2.947217e+06  2.427954e+06  1.471040e+06   \n",
       "남자인구수  4.732275e+06  1.668618e+06  1.476813e+06  1.198815e+06  7.344410e+05   \n",
       "여자인구수  4.988571e+06  1.735805e+06  1.470404e+06  1.229139e+06  7.365990e+05   \n",
       "남여비율   9.486234e+01  9.612935e+01  1.004359e+02  9.753291e+01  9.970703e+01   \n",
       "\n",
       "           광주광역시  \n",
       "인구수    1455048.0  \n",
       "남자인구수   720060.0  \n",
       "여자인구수   720060.0  \n",
       "남여비율       100.0  "
      ]
     },
     "execution_count": 66,
     "metadata": {},
     "output_type": "execute_result"
    }
   ],
   "source": [
    "korea_df.T"
   ]
  },
  {
   "cell_type": "code",
   "execution_count": 67,
   "metadata": {
    "ExecuteTime": {
     "end_time": "2022-04-02T14:04:53.435757Z",
     "start_time": "2022-04-02T14:04:53.423788Z"
    },
    "id": "wVpY62uBOs9E"
   },
   "outputs": [
    {
     "data": {
      "text/plain": [
       "array([9.72084600e+06, 4.73227500e+06, 4.98857100e+06, 9.48623363e+01])"
      ]
     },
     "execution_count": 67,
     "metadata": {},
     "output_type": "execute_result"
    }
   ],
   "source": [
    "korea_df.values[0] #r가장 첫 행이 뽑힘."
   ]
  },
  {
   "cell_type": "code",
   "execution_count": 68,
   "metadata": {
    "ExecuteTime": {
     "end_time": "2022-04-02T14:04:53.450717Z",
     "start_time": "2022-04-02T14:04:53.438748Z"
    },
    "id": "RRce4iuBO30i"
   },
   "outputs": [
    {
     "data": {
      "text/html": [
       "<div>\n",
       "<style scoped>\n",
       "    .dataframe tbody tr th:only-of-type {\n",
       "        vertical-align: middle;\n",
       "    }\n",
       "\n",
       "    .dataframe tbody tr th {\n",
       "        vertical-align: top;\n",
       "    }\n",
       "\n",
       "    .dataframe thead th {\n",
       "        text-align: right;\n",
       "    }\n",
       "</style>\n",
       "<table border=\"1\" class=\"dataframe\">\n",
       "  <thead>\n",
       "    <tr style=\"text-align: right;\">\n",
       "      <th></th>\n",
       "      <th>인구수</th>\n",
       "      <th>남자인구수</th>\n",
       "    </tr>\n",
       "  </thead>\n",
       "  <tbody>\n",
       "    <tr>\n",
       "      <th>서울특별시</th>\n",
       "      <td>9720846</td>\n",
       "      <td>4732275</td>\n",
       "    </tr>\n",
       "    <tr>\n",
       "      <th>부산광역시</th>\n",
       "      <td>3404423</td>\n",
       "      <td>1668618</td>\n",
       "    </tr>\n",
       "    <tr>\n",
       "      <th>인천광역시</th>\n",
       "      <td>2947217</td>\n",
       "      <td>1476813</td>\n",
       "    </tr>\n",
       "  </tbody>\n",
       "</table>\n",
       "</div>"
      ],
      "text/plain": [
       "           인구수    남자인구수\n",
       "서울특별시  9720846  4732275\n",
       "부산광역시  3404423  1668618\n",
       "인천광역시  2947217  1476813"
      ]
     },
     "execution_count": 68,
     "metadata": {},
     "output_type": "execute_result"
    }
   ],
   "source": [
    "korea_df.loc[:'인천광역시', :'남자인구수']"
   ]
  },
  {
   "cell_type": "code",
   "execution_count": 69,
   "metadata": {
    "ExecuteTime": {
     "end_time": "2022-04-02T14:04:53.480636Z",
     "start_time": "2022-04-02T14:04:53.453711Z"
    },
    "id": "4kgf30KQO_s3"
   },
   "outputs": [
    {
     "data": {
      "text/html": [
       "<div>\n",
       "<style scoped>\n",
       "    .dataframe tbody tr th:only-of-type {\n",
       "        vertical-align: middle;\n",
       "    }\n",
       "\n",
       "    .dataframe tbody tr th {\n",
       "        vertical-align: top;\n",
       "    }\n",
       "\n",
       "    .dataframe thead th {\n",
       "        text-align: right;\n",
       "    }\n",
       "</style>\n",
       "<table border=\"1\" class=\"dataframe\">\n",
       "  <thead>\n",
       "    <tr style=\"text-align: right;\">\n",
       "      <th></th>\n",
       "      <th>인구수</th>\n",
       "      <th>남자인구수</th>\n",
       "      <th>여자인구수</th>\n",
       "      <th>남여비율</th>\n",
       "    </tr>\n",
       "  </thead>\n",
       "  <tbody>\n",
       "    <tr>\n",
       "      <th>서울특별시</th>\n",
       "      <td>9720846</td>\n",
       "      <td>4732275</td>\n",
       "      <td>4988571</td>\n",
       "      <td>94.862336</td>\n",
       "    </tr>\n",
       "    <tr>\n",
       "      <th>부산광역시</th>\n",
       "      <td>3404423</td>\n",
       "      <td>1668618</td>\n",
       "      <td>1735805</td>\n",
       "      <td>96.129346</td>\n",
       "    </tr>\n",
       "    <tr>\n",
       "      <th>인천광역시</th>\n",
       "      <td>2947217</td>\n",
       "      <td>1476813</td>\n",
       "      <td>1470404</td>\n",
       "      <td>100.435867</td>\n",
       "    </tr>\n",
       "    <tr>\n",
       "      <th>대구광역시</th>\n",
       "      <td>2427954</td>\n",
       "      <td>1198815</td>\n",
       "      <td>1229139</td>\n",
       "      <td>97.532907</td>\n",
       "    </tr>\n",
       "  </tbody>\n",
       "</table>\n",
       "</div>"
      ],
      "text/plain": [
       "           인구수    남자인구수    여자인구수        남여비율\n",
       "서울특별시  9720846  4732275  4988571   94.862336\n",
       "부산광역시  3404423  1668618  1735805   96.129346\n",
       "인천광역시  2947217  1476813  1470404  100.435867\n",
       "대구광역시  2427954  1198815  1229139   97.532907"
      ]
     },
     "execution_count": 69,
     "metadata": {},
     "output_type": "execute_result"
    }
   ],
   "source": [
    "korea_df.loc[(korea_df.여자인구수 > 1000000)]"
   ]
  },
  {
   "cell_type": "code",
   "execution_count": 70,
   "metadata": {
    "ExecuteTime": {
     "end_time": "2022-04-02T14:04:53.495597Z",
     "start_time": "2022-04-02T14:04:53.482631Z"
    },
    "id": "QmM75FOUPBgH"
   },
   "outputs": [
    {
     "data": {
      "text/html": [
       "<div>\n",
       "<style scoped>\n",
       "    .dataframe tbody tr th:only-of-type {\n",
       "        vertical-align: middle;\n",
       "    }\n",
       "\n",
       "    .dataframe tbody tr th {\n",
       "        vertical-align: top;\n",
       "    }\n",
       "\n",
       "    .dataframe thead th {\n",
       "        text-align: right;\n",
       "    }\n",
       "</style>\n",
       "<table border=\"1\" class=\"dataframe\">\n",
       "  <thead>\n",
       "    <tr style=\"text-align: right;\">\n",
       "      <th></th>\n",
       "      <th>인구수</th>\n",
       "      <th>남자인구수</th>\n",
       "      <th>여자인구수</th>\n",
       "      <th>남여비율</th>\n",
       "    </tr>\n",
       "  </thead>\n",
       "  <tbody>\n",
       "    <tr>\n",
       "      <th>인천광역시</th>\n",
       "      <td>2947217</td>\n",
       "      <td>1476813</td>\n",
       "      <td>1470404</td>\n",
       "      <td>100.435867</td>\n",
       "    </tr>\n",
       "  </tbody>\n",
       "</table>\n",
       "</div>"
      ],
      "text/plain": [
       "           인구수    남자인구수    여자인구수        남여비율\n",
       "인천광역시  2947217  1476813  1470404  100.435867"
      ]
     },
     "execution_count": 70,
     "metadata": {},
     "output_type": "execute_result"
    }
   ],
   "source": [
    "korea_df.loc[(korea_df.인구수 > 2500000) & (korea_df.남여비율 > 100)]"
   ]
  },
  {
   "cell_type": "code",
   "execution_count": 71,
   "metadata": {
    "ExecuteTime": {
     "end_time": "2022-04-02T14:04:53.525515Z",
     "start_time": "2022-04-02T14:04:53.497592Z"
    },
    "id": "s752djzTPNiY"
   },
   "outputs": [
    {
     "data": {
      "text/html": [
       "<div>\n",
       "<style scoped>\n",
       "    .dataframe tbody tr th:only-of-type {\n",
       "        vertical-align: middle;\n",
       "    }\n",
       "\n",
       "    .dataframe tbody tr th {\n",
       "        vertical-align: top;\n",
       "    }\n",
       "\n",
       "    .dataframe thead th {\n",
       "        text-align: right;\n",
       "    }\n",
       "</style>\n",
       "<table border=\"1\" class=\"dataframe\">\n",
       "  <thead>\n",
       "    <tr style=\"text-align: right;\">\n",
       "      <th></th>\n",
       "      <th>인구수</th>\n",
       "      <th>남자인구수</th>\n",
       "    </tr>\n",
       "  </thead>\n",
       "  <tbody>\n",
       "    <tr>\n",
       "      <th>서울특별시</th>\n",
       "      <td>9720846</td>\n",
       "      <td>4732275</td>\n",
       "    </tr>\n",
       "    <tr>\n",
       "      <th>부산광역시</th>\n",
       "      <td>3404423</td>\n",
       "      <td>1668618</td>\n",
       "    </tr>\n",
       "    <tr>\n",
       "      <th>인천광역시</th>\n",
       "      <td>2947217</td>\n",
       "      <td>1476813</td>\n",
       "    </tr>\n",
       "  </tbody>\n",
       "</table>\n",
       "</div>"
      ],
      "text/plain": [
       "           인구수    남자인구수\n",
       "서울특별시  9720846  4732275\n",
       "부산광역시  3404423  1668618\n",
       "인천광역시  2947217  1476813"
      ]
     },
     "execution_count": 71,
     "metadata": {},
     "output_type": "execute_result"
    }
   ],
   "source": [
    "korea_df.iloc[:3, :2]"
   ]
  },
  {
   "cell_type": "markdown",
   "metadata": {
    "id": "KJfzYxtksAMb"
   },
   "source": [
    "### 다중 인덱싱(Multi Indexing)\n",
    "\n",
    "* 1차원의 Series와 2차원의 DataFrame 객체를 넘어 3차원, 4차원 이상의 고차원 데이터 처리\n",
    "* 단일 인덱스 내에 여러 인덱스를 포함하는 다중 인덱싱"
   ]
  },
  {
   "cell_type": "markdown",
   "metadata": {
    "id": "K2c8rSnJ0NZx"
   },
   "source": [
    "#### 다중 인덱스 Series"
   ]
  },
  {
   "cell_type": "code",
   "execution_count": 72,
   "metadata": {
    "ExecuteTime": {
     "end_time": "2022-04-02T14:04:53.540508Z",
     "start_time": "2022-04-02T14:04:53.528564Z"
    },
    "id": "kEA1qtgWtJcG"
   },
   "outputs": [
    {
     "data": {
      "text/html": [
       "<div>\n",
       "<style scoped>\n",
       "    .dataframe tbody tr th:only-of-type {\n",
       "        vertical-align: middle;\n",
       "    }\n",
       "\n",
       "    .dataframe tbody tr th {\n",
       "        vertical-align: top;\n",
       "    }\n",
       "\n",
       "    .dataframe thead th {\n",
       "        text-align: right;\n",
       "    }\n",
       "</style>\n",
       "<table border=\"1\" class=\"dataframe\">\n",
       "  <thead>\n",
       "    <tr style=\"text-align: right;\">\n",
       "      <th></th>\n",
       "      <th>인구수</th>\n",
       "      <th>남자인구수</th>\n",
       "      <th>여자인구수</th>\n",
       "      <th>남여비율</th>\n",
       "    </tr>\n",
       "  </thead>\n",
       "  <tbody>\n",
       "    <tr>\n",
       "      <th>서울특별시</th>\n",
       "      <td>9720846</td>\n",
       "      <td>4732275</td>\n",
       "      <td>4988571</td>\n",
       "      <td>94.862336</td>\n",
       "    </tr>\n",
       "    <tr>\n",
       "      <th>부산광역시</th>\n",
       "      <td>3404423</td>\n",
       "      <td>1668618</td>\n",
       "      <td>1735805</td>\n",
       "      <td>96.129346</td>\n",
       "    </tr>\n",
       "    <tr>\n",
       "      <th>인천광역시</th>\n",
       "      <td>2947217</td>\n",
       "      <td>1476813</td>\n",
       "      <td>1470404</td>\n",
       "      <td>100.435867</td>\n",
       "    </tr>\n",
       "    <tr>\n",
       "      <th>대구광역시</th>\n",
       "      <td>2427954</td>\n",
       "      <td>1198815</td>\n",
       "      <td>1229139</td>\n",
       "      <td>97.532907</td>\n",
       "    </tr>\n",
       "    <tr>\n",
       "      <th>대전광역시</th>\n",
       "      <td>1471040</td>\n",
       "      <td>734441</td>\n",
       "      <td>736599</td>\n",
       "      <td>99.707032</td>\n",
       "    </tr>\n",
       "    <tr>\n",
       "      <th>광주광역시</th>\n",
       "      <td>1455048</td>\n",
       "      <td>720060</td>\n",
       "      <td>720060</td>\n",
       "      <td>100.000000</td>\n",
       "    </tr>\n",
       "  </tbody>\n",
       "</table>\n",
       "</div>"
      ],
      "text/plain": [
       "           인구수    남자인구수    여자인구수        남여비율\n",
       "서울특별시  9720846  4732275  4988571   94.862336\n",
       "부산광역시  3404423  1668618  1735805   96.129346\n",
       "인천광역시  2947217  1476813  1470404  100.435867\n",
       "대구광역시  2427954  1198815  1229139   97.532907\n",
       "대전광역시  1471040   734441   736599   99.707032\n",
       "광주광역시  1455048   720060   720060  100.000000"
      ]
     },
     "execution_count": 72,
     "metadata": {},
     "output_type": "execute_result"
    }
   ],
   "source": [
    "korea_df"
   ]
  },
  {
   "cell_type": "code",
   "execution_count": 73,
   "metadata": {
    "ExecuteTime": {
     "end_time": "2022-04-02T14:04:53.555436Z",
     "start_time": "2022-04-02T14:04:53.542470Z"
    },
    "id": "3nO23L67vKpP"
   },
   "outputs": [
    {
     "data": {
      "text/plain": [
       "[('서울특별시', 2010),\n",
       " ('서울특별시', 2020),\n",
       " ('부산광역시', 2010),\n",
       " ('부산광역시', 2020),\n",
       " ('인천광역시', 2010),\n",
       " ('인천광역시', 2020),\n",
       " ('대구광역시', 2010),\n",
       " ('대구광역시', 2020),\n",
       " ('대전광역시', 2010),\n",
       " ('대전광역시', 2020),\n",
       " ('광주광역시', 2010),\n",
       " ('광주광역시', 2020)]"
      ]
     },
     "execution_count": 73,
     "metadata": {},
     "output_type": "execute_result"
    }
   ],
   "source": [
    "idx_tuples = [('서울특별시', 2010), ('서울특별시',2020),\n",
    "             ('부산광역시', 2010), ('부산광역시',2020),\n",
    "             ('인천광역시', 2010), ('인천광역시',2020),\n",
    "             ('대구광역시', 2010), ('대구광역시',2020),\n",
    "             ('대전광역시', 2010), ('대전광역시',2020),\n",
    "             ('광주광역시', 2010), ('광주광역시',2020)]\n",
    "idx_tuples"
   ]
  },
  {
   "cell_type": "code",
   "execution_count": 74,
   "metadata": {
    "ExecuteTime": {
     "end_time": "2022-04-02T14:04:53.570421Z",
     "start_time": "2022-04-02T14:04:53.557457Z"
    },
    "id": "FWw04oTC36Gy"
   },
   "outputs": [
    {
     "data": {
      "text/plain": [
       "(서울특별시, 2010)    10312545\n",
       "(서울특별시, 2020)     9720846\n",
       "(부산광역시, 2010)     2567910\n",
       "(부산광역시, 2020)     3404423\n",
       "(인천광역시, 2010)     2758296\n",
       "(인천광역시, 2020)     2947217\n",
       "(대구광역시, 2010)     2511676\n",
       "(대구광역시, 2020)     2427954\n",
       "(대전광역시, 2010)     1503664\n",
       "(대전광역시, 2020)     1471040\n",
       "(광주광역시, 2010)     1454636\n",
       "(광주광역시, 2020)     1455048\n",
       "dtype: int64"
      ]
     },
     "execution_count": 74,
     "metadata": {},
     "output_type": "execute_result"
    }
   ],
   "source": [
    "pop_tuples = [10312545, 9720846,\n",
    "             2567910, 3404423,\n",
    "             2758296, 2947217,\n",
    "             2511676, 2427954,\n",
    "             1503664, 1471040,\n",
    "             1454636, 1455048]\n",
    "population = pd.Series(pop_tuples, index=idx_tuples)\n",
    "population\n",
    "## 이 상태는 튜플이 인덱스로 들어간 것.\n",
    "## 멀티인덱싱이 아님."
   ]
  },
  {
   "cell_type": "code",
   "execution_count": 75,
   "metadata": {
    "ExecuteTime": {
     "end_time": "2022-04-02T14:04:53.585357Z",
     "start_time": "2022-04-02T14:04:53.572391Z"
    },
    "id": "1cOc-3Da1kGZ"
   },
   "outputs": [
    {
     "data": {
      "text/plain": [
       "MultiIndex([('서울특별시', 2010),\n",
       "            ('서울특별시', 2020),\n",
       "            ('부산광역시', 2010),\n",
       "            ('부산광역시', 2020),\n",
       "            ('인천광역시', 2010),\n",
       "            ('인천광역시', 2020),\n",
       "            ('대구광역시', 2010),\n",
       "            ('대구광역시', 2020),\n",
       "            ('대전광역시', 2010),\n",
       "            ('대전광역시', 2020),\n",
       "            ('광주광역시', 2010),\n",
       "            ('광주광역시', 2020)],\n",
       "           )"
      ]
     },
     "execution_count": 75,
     "metadata": {},
     "output_type": "execute_result"
    }
   ],
   "source": [
    "midx = pd.MultiIndex.from_tuples(idx_tuples)\n",
    "midx"
   ]
  },
  {
   "cell_type": "code",
   "execution_count": 76,
   "metadata": {
    "ExecuteTime": {
     "end_time": "2022-04-02T14:04:53.600317Z",
     "start_time": "2022-04-02T14:04:53.587352Z"
    }
   },
   "outputs": [
    {
     "data": {
      "text/plain": [
       "(서울특별시, 2010)    10312545\n",
       "(서울특별시, 2020)     9720846\n",
       "(부산광역시, 2010)     2567910\n",
       "(부산광역시, 2020)     3404423\n",
       "(인천광역시, 2010)     2758296\n",
       "(인천광역시, 2020)     2947217\n",
       "(대구광역시, 2010)     2511676\n",
       "(대구광역시, 2020)     2427954\n",
       "(대전광역시, 2010)     1503664\n",
       "(대전광역시, 2020)     1471040\n",
       "(광주광역시, 2010)     1454636\n",
       "(광주광역시, 2020)     1455048\n",
       "dtype: int64"
      ]
     },
     "execution_count": 76,
     "metadata": {},
     "output_type": "execute_result"
    }
   ],
   "source": [
    "population"
   ]
  },
  {
   "cell_type": "code",
   "execution_count": 77,
   "metadata": {
    "ExecuteTime": {
     "end_time": "2022-04-02T14:04:53.615307Z",
     "start_time": "2022-04-02T14:04:53.601316Z"
    },
    "id": "q_dEok8s5yLx"
   },
   "outputs": [
    {
     "data": {
      "text/plain": [
       "서울특별시  2010    10312545\n",
       "       2020     9720846\n",
       "부산광역시  2010     2567910\n",
       "       2020     3404423\n",
       "인천광역시  2010     2758296\n",
       "       2020     2947217\n",
       "대구광역시  2010     2511676\n",
       "       2020     2427954\n",
       "대전광역시  2010     1503664\n",
       "       2020     1471040\n",
       "광주광역시  2010     1454636\n",
       "       2020     1455048\n",
       "dtype: int64"
      ]
     },
     "execution_count": 77,
     "metadata": {},
     "output_type": "execute_result"
    }
   ],
   "source": [
    "population = population.reindex(midx)\n",
    "population\n",
    "## 해당 형태가 튜플의 멀티인덱싱 된 것임."
   ]
  },
  {
   "cell_type": "code",
   "execution_count": 78,
   "metadata": {
    "ExecuteTime": {
     "end_time": "2022-04-02T14:04:53.630260Z",
     "start_time": "2022-04-02T14:04:53.617305Z"
    }
   },
   "outputs": [
    {
     "data": {
      "text/plain": [
       "pandas.core.series.Series"
      ]
     },
     "execution_count": 78,
     "metadata": {},
     "output_type": "execute_result"
    }
   ],
   "source": [
    "type(population)"
   ]
  },
  {
   "cell_type": "code",
   "execution_count": 79,
   "metadata": {
    "ExecuteTime": {
     "end_time": "2022-04-02T14:04:53.645225Z",
     "start_time": "2022-04-02T14:04:53.632263Z"
    },
    "id": "NmhgBRyI5-W0"
   },
   "outputs": [
    {
     "data": {
      "text/plain": [
       "서울특별시    10312545\n",
       "부산광역시     2567910\n",
       "인천광역시     2758296\n",
       "대구광역시     2511676\n",
       "대전광역시     1503664\n",
       "광주광역시     1454636\n",
       "dtype: int64"
      ]
     },
     "execution_count": 79,
     "metadata": {},
     "output_type": "execute_result"
    }
   ],
   "source": [
    "population[:, 2010]"
   ]
  },
  {
   "cell_type": "code",
   "execution_count": 80,
   "metadata": {
    "ExecuteTime": {
     "end_time": "2022-04-02T14:04:53.660156Z",
     "start_time": "2022-04-02T14:04:53.647190Z"
    },
    "id": "-t0tJ1mh6hkn"
   },
   "outputs": [
    {
     "data": {
      "text/plain": [
       "2010    1503664\n",
       "2020    1471040\n",
       "dtype: int64"
      ]
     },
     "execution_count": 80,
     "metadata": {},
     "output_type": "execute_result"
    }
   ],
   "source": [
    "population['대전광역시', :]"
   ]
  },
  {
   "cell_type": "code",
   "execution_count": 81,
   "metadata": {
    "ExecuteTime": {
     "end_time": "2022-04-02T14:04:53.675147Z",
     "start_time": "2022-04-02T14:04:53.662170Z"
    },
    "id": "ppSy2UMT-LY-"
   },
   "outputs": [
    {
     "data": {
      "text/html": [
       "<div>\n",
       "<style scoped>\n",
       "    .dataframe tbody tr th:only-of-type {\n",
       "        vertical-align: middle;\n",
       "    }\n",
       "\n",
       "    .dataframe tbody tr th {\n",
       "        vertical-align: top;\n",
       "    }\n",
       "\n",
       "    .dataframe thead th {\n",
       "        text-align: right;\n",
       "    }\n",
       "</style>\n",
       "<table border=\"1\" class=\"dataframe\">\n",
       "  <thead>\n",
       "    <tr style=\"text-align: right;\">\n",
       "      <th></th>\n",
       "      <th>2010</th>\n",
       "      <th>2020</th>\n",
       "    </tr>\n",
       "  </thead>\n",
       "  <tbody>\n",
       "    <tr>\n",
       "      <th>광주광역시</th>\n",
       "      <td>1454636</td>\n",
       "      <td>1455048</td>\n",
       "    </tr>\n",
       "    <tr>\n",
       "      <th>대구광역시</th>\n",
       "      <td>2511676</td>\n",
       "      <td>2427954</td>\n",
       "    </tr>\n",
       "    <tr>\n",
       "      <th>대전광역시</th>\n",
       "      <td>1503664</td>\n",
       "      <td>1471040</td>\n",
       "    </tr>\n",
       "    <tr>\n",
       "      <th>부산광역시</th>\n",
       "      <td>2567910</td>\n",
       "      <td>3404423</td>\n",
       "    </tr>\n",
       "    <tr>\n",
       "      <th>서울특별시</th>\n",
       "      <td>10312545</td>\n",
       "      <td>9720846</td>\n",
       "    </tr>\n",
       "    <tr>\n",
       "      <th>인천광역시</th>\n",
       "      <td>2758296</td>\n",
       "      <td>2947217</td>\n",
       "    </tr>\n",
       "  </tbody>\n",
       "</table>\n",
       "</div>"
      ],
      "text/plain": [
       "           2010     2020\n",
       "광주광역시   1454636  1455048\n",
       "대구광역시   2511676  2427954\n",
       "대전광역시   1503664  1471040\n",
       "부산광역시   2567910  3404423\n",
       "서울특별시  10312545  9720846\n",
       "인천광역시   2758296  2947217"
      ]
     },
     "execution_count": 81,
     "metadata": {},
     "output_type": "execute_result"
    }
   ],
   "source": [
    "# srs.unstack(): 시리즈를 데이터프레임 구조로 변환할 수 있음.\n",
    "korea_mdf = population.unstack()\n",
    "korea_mdf"
   ]
  },
  {
   "cell_type": "code",
   "execution_count": 82,
   "metadata": {
    "ExecuteTime": {
     "end_time": "2022-04-02T14:04:53.705066Z",
     "start_time": "2022-04-02T14:04:53.689113Z"
    },
    "id": "SCDTvAeL-SDk"
   },
   "outputs": [
    {
     "data": {
      "text/plain": [
       "광주광역시  2010     1454636\n",
       "       2020     1455048\n",
       "대구광역시  2010     2511676\n",
       "       2020     2427954\n",
       "대전광역시  2010     1503664\n",
       "       2020     1471040\n",
       "부산광역시  2010     2567910\n",
       "       2020     3404423\n",
       "서울특별시  2010    10312545\n",
       "       2020     9720846\n",
       "인천광역시  2010     2758296\n",
       "       2020     2947217\n",
       "dtype: int64"
      ]
     },
     "execution_count": 82,
     "metadata": {},
     "output_type": "execute_result"
    }
   ],
   "source": [
    "# df.stack(): 데이터프레임을 다중인덱싱 시리즈로 변환\n",
    "korea_mdf.stack()"
   ]
  },
  {
   "cell_type": "code",
   "execution_count": 83,
   "metadata": {
    "ExecuteTime": {
     "end_time": "2022-04-02T14:04:53.719995Z",
     "start_time": "2022-04-02T14:04:53.708037Z"
    },
    "id": "0MYobeuhBp92"
   },
   "outputs": [
    {
     "data": {
      "text/plain": [
       "[5111259,\n",
       " 4732275,\n",
       " 1773170,\n",
       " 1668618,\n",
       " 1390356,\n",
       " 1476813,\n",
       " 1255245,\n",
       " 1198815,\n",
       " 753648,\n",
       " 734441,\n",
       " 721780,\n",
       " 720060]"
      ]
     },
     "execution_count": 83,
     "metadata": {},
     "output_type": "execute_result"
    }
   ],
   "source": [
    "male_tuples = [5111259, 4732275,\n",
    "             1773170, 1668618,\n",
    "             1390356, 1476813,\n",
    "             1255245, 1198815,\n",
    "             753648, 734441,\n",
    "             721780, 720060]\n",
    "male_tuples"
   ]
  },
  {
   "cell_type": "code",
   "execution_count": 84,
   "metadata": {
    "ExecuteTime": {
     "end_time": "2022-04-02T14:04:53.734956Z",
     "start_time": "2022-04-02T14:04:53.721991Z"
    },
    "id": "x8Y7Z77sF6Jf"
   },
   "outputs": [
    {
     "data": {
      "text/html": [
       "<div>\n",
       "<style scoped>\n",
       "    .dataframe tbody tr th:only-of-type {\n",
       "        vertical-align: middle;\n",
       "    }\n",
       "\n",
       "    .dataframe tbody tr th {\n",
       "        vertical-align: top;\n",
       "    }\n",
       "\n",
       "    .dataframe thead th {\n",
       "        text-align: right;\n",
       "    }\n",
       "</style>\n",
       "<table border=\"1\" class=\"dataframe\">\n",
       "  <thead>\n",
       "    <tr style=\"text-align: right;\">\n",
       "      <th></th>\n",
       "      <th></th>\n",
       "      <th>총인구수</th>\n",
       "      <th>남자인구수</th>\n",
       "    </tr>\n",
       "  </thead>\n",
       "  <tbody>\n",
       "    <tr>\n",
       "      <th rowspan=\"2\" valign=\"top\">서울특별시</th>\n",
       "      <th>2010</th>\n",
       "      <td>10312545</td>\n",
       "      <td>5111259</td>\n",
       "    </tr>\n",
       "    <tr>\n",
       "      <th>2020</th>\n",
       "      <td>9720846</td>\n",
       "      <td>4732275</td>\n",
       "    </tr>\n",
       "    <tr>\n",
       "      <th rowspan=\"2\" valign=\"top\">부산광역시</th>\n",
       "      <th>2010</th>\n",
       "      <td>2567910</td>\n",
       "      <td>1773170</td>\n",
       "    </tr>\n",
       "    <tr>\n",
       "      <th>2020</th>\n",
       "      <td>3404423</td>\n",
       "      <td>1668618</td>\n",
       "    </tr>\n",
       "    <tr>\n",
       "      <th rowspan=\"2\" valign=\"top\">인천광역시</th>\n",
       "      <th>2010</th>\n",
       "      <td>2758296</td>\n",
       "      <td>1390356</td>\n",
       "    </tr>\n",
       "    <tr>\n",
       "      <th>2020</th>\n",
       "      <td>2947217</td>\n",
       "      <td>1476813</td>\n",
       "    </tr>\n",
       "    <tr>\n",
       "      <th rowspan=\"2\" valign=\"top\">대구광역시</th>\n",
       "      <th>2010</th>\n",
       "      <td>2511676</td>\n",
       "      <td>1255245</td>\n",
       "    </tr>\n",
       "    <tr>\n",
       "      <th>2020</th>\n",
       "      <td>2427954</td>\n",
       "      <td>1198815</td>\n",
       "    </tr>\n",
       "    <tr>\n",
       "      <th rowspan=\"2\" valign=\"top\">대전광역시</th>\n",
       "      <th>2010</th>\n",
       "      <td>1503664</td>\n",
       "      <td>753648</td>\n",
       "    </tr>\n",
       "    <tr>\n",
       "      <th>2020</th>\n",
       "      <td>1471040</td>\n",
       "      <td>734441</td>\n",
       "    </tr>\n",
       "    <tr>\n",
       "      <th rowspan=\"2\" valign=\"top\">광주광역시</th>\n",
       "      <th>2010</th>\n",
       "      <td>1454636</td>\n",
       "      <td>721780</td>\n",
       "    </tr>\n",
       "    <tr>\n",
       "      <th>2020</th>\n",
       "      <td>1455048</td>\n",
       "      <td>720060</td>\n",
       "    </tr>\n",
       "  </tbody>\n",
       "</table>\n",
       "</div>"
      ],
      "text/plain": [
       "                총인구수    남자인구수\n",
       "서울특별시 2010  10312545  5111259\n",
       "      2020   9720846  4732275\n",
       "부산광역시 2010   2567910  1773170\n",
       "      2020   3404423  1668618\n",
       "인천광역시 2010   2758296  1390356\n",
       "      2020   2947217  1476813\n",
       "대구광역시 2010   2511676  1255245\n",
       "      2020   2427954  1198815\n",
       "대전광역시 2010   1503664   753648\n",
       "      2020   1471040   734441\n",
       "광주광역시 2010   1454636   721780\n",
       "      2020   1455048   720060"
      ]
     },
     "execution_count": 84,
     "metadata": {},
     "output_type": "execute_result"
    }
   ],
   "source": [
    "korea_mdf = pd.DataFrame({'총인구수': population,\n",
    "                        '남자인구수': male_tuples})\n",
    "korea_mdf"
   ]
  },
  {
   "cell_type": "code",
   "execution_count": 85,
   "metadata": {
    "ExecuteTime": {
     "end_time": "2022-04-02T14:04:53.749947Z",
     "start_time": "2022-04-02T14:04:53.736950Z"
    },
    "id": "mtXvWQcMGwCo"
   },
   "outputs": [
    {
     "data": {
      "text/plain": [
       "[5201286,\n",
       " 4988571,\n",
       " 1794740,\n",
       " 1735805,\n",
       " 1367940,\n",
       " 1470404,\n",
       " 1256431,\n",
       " 1229139,\n",
       " 750016,\n",
       " 736599,\n",
       " 732856,\n",
       " 734988]"
      ]
     },
     "execution_count": 85,
     "metadata": {},
     "output_type": "execute_result"
    }
   ],
   "source": [
    "female_tuples = [5201286, 4988571,\n",
    "                1794740, 1735805,\n",
    "                1367940, 1470404,\n",
    "                1256431, 1229139,\n",
    "                750016, 736599,\n",
    "                732856, 734988]\n",
    "female_tuples"
   ]
  },
  {
   "cell_type": "code",
   "execution_count": 86,
   "metadata": {
    "ExecuteTime": {
     "end_time": "2022-04-02T14:04:53.764878Z",
     "start_time": "2022-04-02T14:04:53.751946Z"
    },
    "id": "iihD5i0hHZJl"
   },
   "outputs": [
    {
     "data": {
      "text/html": [
       "<div>\n",
       "<style scoped>\n",
       "    .dataframe tbody tr th:only-of-type {\n",
       "        vertical-align: middle;\n",
       "    }\n",
       "\n",
       "    .dataframe tbody tr th {\n",
       "        vertical-align: top;\n",
       "    }\n",
       "\n",
       "    .dataframe thead th {\n",
       "        text-align: right;\n",
       "    }\n",
       "</style>\n",
       "<table border=\"1\" class=\"dataframe\">\n",
       "  <thead>\n",
       "    <tr style=\"text-align: right;\">\n",
       "      <th></th>\n",
       "      <th></th>\n",
       "      <th>총인구수</th>\n",
       "      <th>남자인구수</th>\n",
       "      <th>여자인구수</th>\n",
       "    </tr>\n",
       "  </thead>\n",
       "  <tbody>\n",
       "    <tr>\n",
       "      <th rowspan=\"2\" valign=\"top\">서울특별시</th>\n",
       "      <th>2010</th>\n",
       "      <td>10312545</td>\n",
       "      <td>5111259</td>\n",
       "      <td>5201286</td>\n",
       "    </tr>\n",
       "    <tr>\n",
       "      <th>2020</th>\n",
       "      <td>9720846</td>\n",
       "      <td>4732275</td>\n",
       "      <td>4988571</td>\n",
       "    </tr>\n",
       "    <tr>\n",
       "      <th rowspan=\"2\" valign=\"top\">부산광역시</th>\n",
       "      <th>2010</th>\n",
       "      <td>2567910</td>\n",
       "      <td>1773170</td>\n",
       "      <td>1794740</td>\n",
       "    </tr>\n",
       "    <tr>\n",
       "      <th>2020</th>\n",
       "      <td>3404423</td>\n",
       "      <td>1668618</td>\n",
       "      <td>1735805</td>\n",
       "    </tr>\n",
       "    <tr>\n",
       "      <th rowspan=\"2\" valign=\"top\">인천광역시</th>\n",
       "      <th>2010</th>\n",
       "      <td>2758296</td>\n",
       "      <td>1390356</td>\n",
       "      <td>1367940</td>\n",
       "    </tr>\n",
       "    <tr>\n",
       "      <th>2020</th>\n",
       "      <td>2947217</td>\n",
       "      <td>1476813</td>\n",
       "      <td>1470404</td>\n",
       "    </tr>\n",
       "    <tr>\n",
       "      <th rowspan=\"2\" valign=\"top\">대구광역시</th>\n",
       "      <th>2010</th>\n",
       "      <td>2511676</td>\n",
       "      <td>1255245</td>\n",
       "      <td>1256431</td>\n",
       "    </tr>\n",
       "    <tr>\n",
       "      <th>2020</th>\n",
       "      <td>2427954</td>\n",
       "      <td>1198815</td>\n",
       "      <td>1229139</td>\n",
       "    </tr>\n",
       "    <tr>\n",
       "      <th rowspan=\"2\" valign=\"top\">대전광역시</th>\n",
       "      <th>2010</th>\n",
       "      <td>1503664</td>\n",
       "      <td>753648</td>\n",
       "      <td>750016</td>\n",
       "    </tr>\n",
       "    <tr>\n",
       "      <th>2020</th>\n",
       "      <td>1471040</td>\n",
       "      <td>734441</td>\n",
       "      <td>736599</td>\n",
       "    </tr>\n",
       "    <tr>\n",
       "      <th rowspan=\"2\" valign=\"top\">광주광역시</th>\n",
       "      <th>2010</th>\n",
       "      <td>1454636</td>\n",
       "      <td>721780</td>\n",
       "      <td>732856</td>\n",
       "    </tr>\n",
       "    <tr>\n",
       "      <th>2020</th>\n",
       "      <td>1455048</td>\n",
       "      <td>720060</td>\n",
       "      <td>734988</td>\n",
       "    </tr>\n",
       "  </tbody>\n",
       "</table>\n",
       "</div>"
      ],
      "text/plain": [
       "                총인구수    남자인구수    여자인구수\n",
       "서울특별시 2010  10312545  5111259  5201286\n",
       "      2020   9720846  4732275  4988571\n",
       "부산광역시 2010   2567910  1773170  1794740\n",
       "      2020   3404423  1668618  1735805\n",
       "인천광역시 2010   2758296  1390356  1367940\n",
       "      2020   2947217  1476813  1470404\n",
       "대구광역시 2010   2511676  1255245  1256431\n",
       "      2020   2427954  1198815  1229139\n",
       "대전광역시 2010   1503664   753648   750016\n",
       "      2020   1471040   734441   736599\n",
       "광주광역시 2010   1454636   721780   732856\n",
       "      2020   1455048   720060   734988"
      ]
     },
     "execution_count": 86,
     "metadata": {},
     "output_type": "execute_result"
    }
   ],
   "source": [
    "korea_mdf = pd.DataFrame({'총인구수': population,\n",
    "                        '남자인구수': male_tuples,\n",
    "                         '여자인구수':female_tuples})\n",
    "korea_mdf"
   ]
  },
  {
   "cell_type": "markdown",
   "metadata": {
    "id": "dwMPxdAYzN2-"
   },
   "source": [
    "#### 다중 인덱스 생성"
   ]
  },
  {
   "cell_type": "code",
   "execution_count": 87,
   "metadata": {
    "ExecuteTime": {
     "end_time": "2022-04-02T14:04:53.794827Z",
     "start_time": "2022-04-02T14:04:53.767868Z"
    },
    "id": "0AWJ--PgyQ9_"
   },
   "outputs": [
    {
     "data": {
      "text/html": [
       "<div>\n",
       "<style scoped>\n",
       "    .dataframe tbody tr th:only-of-type {\n",
       "        vertical-align: middle;\n",
       "    }\n",
       "\n",
       "    .dataframe tbody tr th {\n",
       "        vertical-align: top;\n",
       "    }\n",
       "\n",
       "    .dataframe thead th {\n",
       "        text-align: right;\n",
       "    }\n",
       "</style>\n",
       "<table border=\"1\" class=\"dataframe\">\n",
       "  <thead>\n",
       "    <tr style=\"text-align: right;\">\n",
       "      <th></th>\n",
       "      <th></th>\n",
       "      <th>c1</th>\n",
       "      <th>c2</th>\n",
       "      <th>c3</th>\n",
       "    </tr>\n",
       "  </thead>\n",
       "  <tbody>\n",
       "    <tr>\n",
       "      <th rowspan=\"2\" valign=\"top\">a</th>\n",
       "      <th>1</th>\n",
       "      <td>0.075540</td>\n",
       "      <td>0.628422</td>\n",
       "      <td>0.862345</td>\n",
       "    </tr>\n",
       "    <tr>\n",
       "      <th>2</th>\n",
       "      <td>0.100989</td>\n",
       "      <td>0.278656</td>\n",
       "      <td>0.642732</td>\n",
       "    </tr>\n",
       "    <tr>\n",
       "      <th rowspan=\"2\" valign=\"top\">b</th>\n",
       "      <th>1</th>\n",
       "      <td>0.022690</td>\n",
       "      <td>0.068810</td>\n",
       "      <td>0.997534</td>\n",
       "    </tr>\n",
       "    <tr>\n",
       "      <th>2</th>\n",
       "      <td>0.109975</td>\n",
       "      <td>0.222777</td>\n",
       "      <td>0.746074</td>\n",
       "    </tr>\n",
       "    <tr>\n",
       "      <th rowspan=\"2\" valign=\"top\">c</th>\n",
       "      <th>1</th>\n",
       "      <td>0.748487</td>\n",
       "      <td>0.829178</td>\n",
       "      <td>0.502182</td>\n",
       "    </tr>\n",
       "    <tr>\n",
       "      <th>2</th>\n",
       "      <td>0.353640</td>\n",
       "      <td>0.168321</td>\n",
       "      <td>0.655563</td>\n",
       "    </tr>\n",
       "  </tbody>\n",
       "</table>\n",
       "</div>"
      ],
      "text/plain": [
       "           c1        c2        c3\n",
       "a 1  0.075540  0.628422  0.862345\n",
       "  2  0.100989  0.278656  0.642732\n",
       "b 1  0.022690  0.068810  0.997534\n",
       "  2  0.109975  0.222777  0.746074\n",
       "c 1  0.748487  0.829178  0.502182\n",
       "  2  0.353640  0.168321  0.655563"
      ]
     },
     "execution_count": 87,
     "metadata": {},
     "output_type": "execute_result"
    }
   ],
   "source": [
    "df = pd.DataFrame(np.random.rand(6, 3),\n",
    "                 index=[['a', 'a', 'b', 'b', 'c', 'c'], [1, 2, 1, 2, 1, 2,]],\n",
    "                 columns=['c1', 'c2', 'c3'])\n",
    "df"
   ]
  },
  {
   "cell_type": "code",
   "execution_count": 88,
   "metadata": {
    "ExecuteTime": {
     "end_time": "2022-04-02T14:04:53.809756Z",
     "start_time": "2022-04-02T14:04:53.796808Z"
    },
    "id": "b9lRLS_l0tr8"
   },
   "outputs": [
    {
     "data": {
      "text/plain": [
       "MultiIndex([('a', 1),\n",
       "            ('a', 2),\n",
       "            ('b', 1),\n",
       "            ('b', 2),\n",
       "            ('c', 1),\n",
       "            ('c', 2)],\n",
       "           )"
      ]
     },
     "execution_count": 88,
     "metadata": {},
     "output_type": "execute_result"
    }
   ],
   "source": [
    "pd.MultiIndex.from_arrays([['a', 'a', 'b', 'b', 'c', 'c'], [1, 2, 1, 2, 1, 2,]])"
   ]
  },
  {
   "cell_type": "code",
   "execution_count": 89,
   "metadata": {
    "ExecuteTime": {
     "end_time": "2022-04-02T14:04:53.824749Z",
     "start_time": "2022-04-02T14:04:53.811752Z"
    },
    "id": "IkjKulZW2Ocr"
   },
   "outputs": [
    {
     "data": {
      "text/plain": [
       "MultiIndex([('a', 1),\n",
       "            ('a', 2),\n",
       "            ('b', 1),\n",
       "            ('b', 2),\n",
       "            ('c', 1),\n",
       "            ('c', 2)],\n",
       "           )"
      ]
     },
     "execution_count": 89,
     "metadata": {},
     "output_type": "execute_result"
    }
   ],
   "source": [
    "pd.MultiIndex.from_tuples([('a', 1), ('a', 2), ('b', 1), ('b', 2), ('c', 1), ('c', 2)])"
   ]
  },
  {
   "cell_type": "code",
   "execution_count": 90,
   "metadata": {
    "ExecuteTime": {
     "end_time": "2022-04-02T14:04:53.839678Z",
     "start_time": "2022-04-02T14:04:53.827710Z"
    },
    "id": "xfQ8edOF2eN_"
   },
   "outputs": [
    {
     "data": {
      "text/plain": [
       "MultiIndex([('a', 1),\n",
       "            ('a', 2),\n",
       "            ('b', 1),\n",
       "            ('b', 2),\n",
       "            ('c', 1),\n",
       "            ('c', 2)],\n",
       "           )"
      ]
     },
     "execution_count": 90,
     "metadata": {},
     "output_type": "execute_result"
    }
   ],
   "source": [
    "# 모든 경우의 수를 사용하여 인덱스를 만들어 줄 수 있음.\n",
    "pd.MultiIndex.from_product([['a', 'b', 'c'], [1, 2]])"
   ]
  },
  {
   "cell_type": "code",
   "execution_count": 91,
   "metadata": {
    "ExecuteTime": {
     "end_time": "2022-04-02T14:04:53.854667Z",
     "start_time": "2022-04-02T14:04:53.841674Z"
    },
    "id": "bK3cXvJy3Bhg"
   },
   "outputs": [
    {
     "data": {
      "text/plain": [
       "MultiIndex([('a', 1),\n",
       "            ('a', 2),\n",
       "            ('b', 1),\n",
       "            ('b', 2),\n",
       "            ('c', 1),\n",
       "            ('c', 2)],\n",
       "           )"
      ]
     },
     "execution_count": 91,
     "metadata": {},
     "output_type": "execute_result"
    }
   ],
   "source": [
    "# levels에 넣어두고 levels의 위치값을 지정하여 인덱스를 만들 수 있음.\n",
    "pd.MultiIndex(levels=[['a', 'b', 'c'], [1, 2]],\n",
    "             codes=[[0, 0, 1, 1, 2, 2], [0, 1, 0, 1, 0, 1]])"
   ]
  },
  {
   "cell_type": "code",
   "execution_count": 92,
   "metadata": {
    "ExecuteTime": {
     "end_time": "2022-04-02T14:04:53.869595Z",
     "start_time": "2022-04-02T14:04:53.856630Z"
    },
    "id": "hWJShVRj5RFP"
   },
   "outputs": [
    {
     "data": {
      "text/plain": [
       "서울특별시  2010    10312545\n",
       "       2020     9720846\n",
       "부산광역시  2010     2567910\n",
       "       2020     3404423\n",
       "인천광역시  2010     2758296\n",
       "       2020     2947217\n",
       "대구광역시  2010     2511676\n",
       "       2020     2427954\n",
       "대전광역시  2010     1503664\n",
       "       2020     1471040\n",
       "광주광역시  2010     1454636\n",
       "       2020     1455048\n",
       "dtype: int64"
      ]
     },
     "execution_count": 92,
     "metadata": {},
     "output_type": "execute_result"
    }
   ],
   "source": [
    "population"
   ]
  },
  {
   "cell_type": "code",
   "execution_count": 93,
   "metadata": {
    "ExecuteTime": {
     "end_time": "2022-04-02T14:04:53.884593Z",
     "start_time": "2022-04-02T14:04:53.871590Z"
    },
    "id": "KNos70_J5ZjD"
   },
   "outputs": [
    {
     "data": {
      "text/plain": [
       "행정구역   년도  \n",
       "서울특별시  2010    10312545\n",
       "       2020     9720846\n",
       "부산광역시  2010     2567910\n",
       "       2020     3404423\n",
       "인천광역시  2010     2758296\n",
       "       2020     2947217\n",
       "대구광역시  2010     2511676\n",
       "       2020     2427954\n",
       "대전광역시  2010     1503664\n",
       "       2020     1471040\n",
       "광주광역시  2010     1454636\n",
       "       2020     1455048\n",
       "dtype: int64"
      ]
     },
     "execution_count": 93,
     "metadata": {},
     "output_type": "execute_result"
    }
   ],
   "source": [
    "# 인덱스에도 이름을 붙일 수 있음.\n",
    "population.index.names = ['행정구역', '년도']\n",
    "population"
   ]
  },
  {
   "cell_type": "code",
   "execution_count": 94,
   "metadata": {
    "ExecuteTime": {
     "end_time": "2022-04-02T14:04:53.914476Z",
     "start_time": "2022-04-02T14:04:53.886550Z"
    },
    "id": "Th-G-FAn6z-j"
   },
   "outputs": [
    {
     "data": {
      "text/html": [
       "<div>\n",
       "<style scoped>\n",
       "    .dataframe tbody tr th:only-of-type {\n",
       "        vertical-align: middle;\n",
       "    }\n",
       "\n",
       "    .dataframe tbody tr th {\n",
       "        vertical-align: top;\n",
       "    }\n",
       "\n",
       "    .dataframe thead tr th {\n",
       "        text-align: left;\n",
       "    }\n",
       "\n",
       "    .dataframe thead tr:last-of-type th {\n",
       "        text-align: right;\n",
       "    }\n",
       "</style>\n",
       "<table border=\"1\" class=\"dataframe\">\n",
       "  <thead>\n",
       "    <tr>\n",
       "      <th></th>\n",
       "      <th>col_name</th>\n",
       "      <th colspan=\"2\" halign=\"left\">c1</th>\n",
       "      <th colspan=\"2\" halign=\"left\">c2</th>\n",
       "      <th colspan=\"2\" halign=\"left\">c3</th>\n",
       "    </tr>\n",
       "    <tr>\n",
       "      <th></th>\n",
       "      <th>col_name2</th>\n",
       "      <th>1</th>\n",
       "      <th>2</th>\n",
       "      <th>1</th>\n",
       "      <th>2</th>\n",
       "      <th>1</th>\n",
       "      <th>2</th>\n",
       "    </tr>\n",
       "    <tr>\n",
       "      <th>name1</th>\n",
       "      <th>name2</th>\n",
       "      <th></th>\n",
       "      <th></th>\n",
       "      <th></th>\n",
       "      <th></th>\n",
       "      <th></th>\n",
       "      <th></th>\n",
       "    </tr>\n",
       "  </thead>\n",
       "  <tbody>\n",
       "    <tr>\n",
       "      <th rowspan=\"2\" valign=\"top\">a</th>\n",
       "      <th>1</th>\n",
       "      <td>0.23</td>\n",
       "      <td>0.69</td>\n",
       "      <td>0.20</td>\n",
       "      <td>-0.21</td>\n",
       "      <td>0.05</td>\n",
       "      <td>-0.52</td>\n",
       "    </tr>\n",
       "    <tr>\n",
       "      <th>2</th>\n",
       "      <td>0.93</td>\n",
       "      <td>1.70</td>\n",
       "      <td>-0.12</td>\n",
       "      <td>1.64</td>\n",
       "      <td>2.13</td>\n",
       "      <td>0.73</td>\n",
       "    </tr>\n",
       "    <tr>\n",
       "      <th rowspan=\"2\" valign=\"top\">b</th>\n",
       "      <th>1</th>\n",
       "      <td>2.08</td>\n",
       "      <td>1.47</td>\n",
       "      <td>1.13</td>\n",
       "      <td>0.68</td>\n",
       "      <td>-0.40</td>\n",
       "      <td>-0.41</td>\n",
       "    </tr>\n",
       "    <tr>\n",
       "      <th>2</th>\n",
       "      <td>1.04</td>\n",
       "      <td>1.13</td>\n",
       "      <td>0.43</td>\n",
       "      <td>-1.09</td>\n",
       "      <td>-0.08</td>\n",
       "      <td>0.33</td>\n",
       "    </tr>\n",
       "    <tr>\n",
       "      <th rowspan=\"2\" valign=\"top\">c</th>\n",
       "      <th>1</th>\n",
       "      <td>0.41</td>\n",
       "      <td>0.12</td>\n",
       "      <td>-0.70</td>\n",
       "      <td>0.00</td>\n",
       "      <td>-1.73</td>\n",
       "      <td>-2.07</td>\n",
       "    </tr>\n",
       "    <tr>\n",
       "      <th>2</th>\n",
       "      <td>-0.47</td>\n",
       "      <td>0.54</td>\n",
       "      <td>1.57</td>\n",
       "      <td>-0.63</td>\n",
       "      <td>1.55</td>\n",
       "      <td>0.86</td>\n",
       "    </tr>\n",
       "  </tbody>\n",
       "</table>\n",
       "</div>"
      ],
      "text/plain": [
       "col_name       c1          c2          c3      \n",
       "col_name2       1     2     1     2     1     2\n",
       "name1 name2                                    \n",
       "a     1      0.23  0.69  0.20 -0.21  0.05 -0.52\n",
       "      2      0.93  1.70 -0.12  1.64  2.13  0.73\n",
       "b     1      2.08  1.47  1.13  0.68 -0.40 -0.41\n",
       "      2      1.04  1.13  0.43 -1.09 -0.08  0.33\n",
       "c     1      0.41  0.12 -0.70  0.00 -1.73 -2.07\n",
       "      2     -0.47  0.54  1.57 -0.63  1.55  0.86"
      ]
     },
     "execution_count": 94,
     "metadata": {},
     "output_type": "execute_result"
    }
   ],
   "source": [
    "# 컬럼도 인덱스와 같이 멀티컬럼을 할 수 있음.\n",
    "idx = pd.MultiIndex.from_product([['a', 'b', 'c'], [1, 2]],\n",
    "                                  names=['name1', 'name2'])\n",
    "cols = pd.MultiIndex.from_product([['c1', 'c2', 'c3'], [1, 2]],\n",
    "                                 names=['col_name', 'col_name2'])\n",
    "data = np.round(np.random.randn(6, 6), 2)\n",
    "mdf = pd.DataFrame(data, index=idx, columns=cols)\n",
    "mdf"
   ]
  },
  {
   "cell_type": "code",
   "execution_count": 95,
   "metadata": {
    "ExecuteTime": {
     "end_time": "2022-04-02T14:04:53.929435Z",
     "start_time": "2022-04-02T14:04:53.916474Z"
    },
    "id": "ooMpG3MG8nhc"
   },
   "outputs": [
    {
     "data": {
      "text/html": [
       "<div>\n",
       "<style scoped>\n",
       "    .dataframe tbody tr th:only-of-type {\n",
       "        vertical-align: middle;\n",
       "    }\n",
       "\n",
       "    .dataframe tbody tr th {\n",
       "        vertical-align: top;\n",
       "    }\n",
       "\n",
       "    .dataframe thead th {\n",
       "        text-align: right;\n",
       "    }\n",
       "</style>\n",
       "<table border=\"1\" class=\"dataframe\">\n",
       "  <thead>\n",
       "    <tr style=\"text-align: right;\">\n",
       "      <th></th>\n",
       "      <th>col_name2</th>\n",
       "      <th>1</th>\n",
       "      <th>2</th>\n",
       "    </tr>\n",
       "    <tr>\n",
       "      <th>name1</th>\n",
       "      <th>name2</th>\n",
       "      <th></th>\n",
       "      <th></th>\n",
       "    </tr>\n",
       "  </thead>\n",
       "  <tbody>\n",
       "    <tr>\n",
       "      <th rowspan=\"2\" valign=\"top\">a</th>\n",
       "      <th>1</th>\n",
       "      <td>0.23</td>\n",
       "      <td>0.69</td>\n",
       "    </tr>\n",
       "    <tr>\n",
       "      <th>2</th>\n",
       "      <td>0.93</td>\n",
       "      <td>1.70</td>\n",
       "    </tr>\n",
       "    <tr>\n",
       "      <th rowspan=\"2\" valign=\"top\">b</th>\n",
       "      <th>1</th>\n",
       "      <td>2.08</td>\n",
       "      <td>1.47</td>\n",
       "    </tr>\n",
       "    <tr>\n",
       "      <th>2</th>\n",
       "      <td>1.04</td>\n",
       "      <td>1.13</td>\n",
       "    </tr>\n",
       "    <tr>\n",
       "      <th rowspan=\"2\" valign=\"top\">c</th>\n",
       "      <th>1</th>\n",
       "      <td>0.41</td>\n",
       "      <td>0.12</td>\n",
       "    </tr>\n",
       "    <tr>\n",
       "      <th>2</th>\n",
       "      <td>-0.47</td>\n",
       "      <td>0.54</td>\n",
       "    </tr>\n",
       "  </tbody>\n",
       "</table>\n",
       "</div>"
      ],
      "text/plain": [
       "col_name2       1     2\n",
       "name1 name2            \n",
       "a     1      0.23  0.69\n",
       "      2      0.93  1.70\n",
       "b     1      2.08  1.47\n",
       "      2      1.04  1.13\n",
       "c     1      0.41  0.12\n",
       "      2     -0.47  0.54"
      ]
     },
     "execution_count": 95,
     "metadata": {},
     "output_type": "execute_result"
    }
   ],
   "source": [
    "mdf['c1']"
   ]
  },
  {
   "cell_type": "code",
   "execution_count": 96,
   "metadata": {
    "ExecuteTime": {
     "end_time": "2022-04-02T14:04:53.944395Z",
     "start_time": "2022-04-02T14:04:53.931431Z"
    }
   },
   "outputs": [
    {
     "data": {
      "text/plain": [
       "name1  name2\n",
       "a      1        0.23\n",
       "       2        0.93\n",
       "b      1        2.08\n",
       "       2        1.04\n",
       "c      1        0.41\n",
       "       2       -0.47\n",
       "Name: (c1, 1), dtype: float64"
      ]
     },
     "execution_count": 96,
     "metadata": {},
     "output_type": "execute_result"
    }
   ],
   "source": [
    "mdf['c1', 1]"
   ]
  },
  {
   "cell_type": "markdown",
   "metadata": {
    "id": "d2jFmy1x837m"
   },
   "source": [
    "#### 인덱싱 및 슬라이싱"
   ]
  },
  {
   "cell_type": "code",
   "execution_count": 97,
   "metadata": {
    "ExecuteTime": {
     "end_time": "2022-04-02T14:04:53.959355Z",
     "start_time": "2022-04-02T14:04:53.946391Z"
    },
    "id": "5qDexsN98_3V"
   },
   "outputs": [
    {
     "data": {
      "text/plain": [
       "행정구역   년도  \n",
       "서울특별시  2010    10312545\n",
       "       2020     9720846\n",
       "부산광역시  2010     2567910\n",
       "       2020     3404423\n",
       "인천광역시  2010     2758296\n",
       "       2020     2947217\n",
       "대구광역시  2010     2511676\n",
       "       2020     2427954\n",
       "대전광역시  2010     1503664\n",
       "       2020     1471040\n",
       "광주광역시  2010     1454636\n",
       "       2020     1455048\n",
       "dtype: int64"
      ]
     },
     "execution_count": 97,
     "metadata": {},
     "output_type": "execute_result"
    }
   ],
   "source": [
    "population"
   ]
  },
  {
   "cell_type": "code",
   "execution_count": 98,
   "metadata": {
    "ExecuteTime": {
     "end_time": "2022-04-02T14:04:53.974316Z",
     "start_time": "2022-04-02T14:04:53.962349Z"
    },
    "id": "daJEr_c_9EGT"
   },
   "outputs": [
    {
     "data": {
      "text/plain": [
       "2758296"
      ]
     },
     "execution_count": 98,
     "metadata": {},
     "output_type": "execute_result"
    }
   ],
   "source": [
    "population['인천광역시', 2010]"
   ]
  },
  {
   "cell_type": "code",
   "execution_count": 99,
   "metadata": {
    "ExecuteTime": {
     "end_time": "2022-04-02T14:04:53.989311Z",
     "start_time": "2022-04-02T14:04:53.976312Z"
    },
    "id": "AqPBvowq9YY3"
   },
   "outputs": [
    {
     "data": {
      "text/plain": [
       "행정구역   년도  \n",
       "서울특별시  2010    10312545\n",
       "       2020     9720846\n",
       "부산광역시  2020     3404423\n",
       "dtype: int64"
      ]
     },
     "execution_count": 99,
     "metadata": {},
     "output_type": "execute_result"
    }
   ],
   "source": [
    "population[population > 3000000]"
   ]
  },
  {
   "cell_type": "code",
   "execution_count": 100,
   "metadata": {
    "ExecuteTime": {
     "end_time": "2022-04-02T14:04:54.004235Z",
     "start_time": "2022-04-02T14:04:53.992268Z"
    },
    "id": "zkMhB7q1-DlM"
   },
   "outputs": [
    {
     "data": {
      "text/plain": [
       "행정구역   년도  \n",
       "대구광역시  2010    2511676\n",
       "       2020    2427954\n",
       "대전광역시  2010    1503664\n",
       "       2020    1471040\n",
       "dtype: int64"
      ]
     },
     "execution_count": 100,
     "metadata": {},
     "output_type": "execute_result"
    }
   ],
   "source": [
    "population[['대구광역시', '대전광역시']]"
   ]
  },
  {
   "cell_type": "code",
   "execution_count": 101,
   "metadata": {
    "ExecuteTime": {
     "end_time": "2022-04-02T14:04:54.019196Z",
     "start_time": "2022-04-02T14:04:54.006262Z"
    },
    "id": "tcQ-jXF--Q0m"
   },
   "outputs": [
    {
     "data": {
      "text/plain": [
       "행정구역   년도  \n",
       "대구광역시  2010    2511676\n",
       "       2020    2427954\n",
       "대전광역시  2010    1503664\n",
       "       2020    1471040\n",
       "dtype: int64"
      ]
     },
     "execution_count": 101,
     "metadata": {},
     "output_type": "execute_result"
    }
   ],
   "source": [
    "population[['대구광역시', '대전광역시']]"
   ]
  },
  {
   "cell_type": "code",
   "execution_count": 102,
   "metadata": {
    "ExecuteTime": {
     "end_time": "2022-04-02T14:04:54.049142Z",
     "start_time": "2022-04-02T14:04:54.022190Z"
    }
   },
   "outputs": [
    {
     "data": {
      "text/html": [
       "<div>\n",
       "<style scoped>\n",
       "    .dataframe tbody tr th:only-of-type {\n",
       "        vertical-align: middle;\n",
       "    }\n",
       "\n",
       "    .dataframe tbody tr th {\n",
       "        vertical-align: top;\n",
       "    }\n",
       "\n",
       "    .dataframe thead tr th {\n",
       "        text-align: left;\n",
       "    }\n",
       "\n",
       "    .dataframe thead tr:last-of-type th {\n",
       "        text-align: right;\n",
       "    }\n",
       "</style>\n",
       "<table border=\"1\" class=\"dataframe\">\n",
       "  <thead>\n",
       "    <tr>\n",
       "      <th></th>\n",
       "      <th>col_name</th>\n",
       "      <th colspan=\"2\" halign=\"left\">c1</th>\n",
       "      <th colspan=\"2\" halign=\"left\">c2</th>\n",
       "      <th colspan=\"2\" halign=\"left\">c3</th>\n",
       "    </tr>\n",
       "    <tr>\n",
       "      <th></th>\n",
       "      <th>col_name2</th>\n",
       "      <th>1</th>\n",
       "      <th>2</th>\n",
       "      <th>1</th>\n",
       "      <th>2</th>\n",
       "      <th>1</th>\n",
       "      <th>2</th>\n",
       "    </tr>\n",
       "    <tr>\n",
       "      <th>name1</th>\n",
       "      <th>name2</th>\n",
       "      <th></th>\n",
       "      <th></th>\n",
       "      <th></th>\n",
       "      <th></th>\n",
       "      <th></th>\n",
       "      <th></th>\n",
       "    </tr>\n",
       "  </thead>\n",
       "  <tbody>\n",
       "    <tr>\n",
       "      <th rowspan=\"2\" valign=\"top\">a</th>\n",
       "      <th>1</th>\n",
       "      <td>0.23</td>\n",
       "      <td>0.69</td>\n",
       "      <td>0.20</td>\n",
       "      <td>-0.21</td>\n",
       "      <td>0.05</td>\n",
       "      <td>-0.52</td>\n",
       "    </tr>\n",
       "    <tr>\n",
       "      <th>2</th>\n",
       "      <td>0.93</td>\n",
       "      <td>1.70</td>\n",
       "      <td>-0.12</td>\n",
       "      <td>1.64</td>\n",
       "      <td>2.13</td>\n",
       "      <td>0.73</td>\n",
       "    </tr>\n",
       "    <tr>\n",
       "      <th rowspan=\"2\" valign=\"top\">b</th>\n",
       "      <th>1</th>\n",
       "      <td>2.08</td>\n",
       "      <td>1.47</td>\n",
       "      <td>1.13</td>\n",
       "      <td>0.68</td>\n",
       "      <td>-0.40</td>\n",
       "      <td>-0.41</td>\n",
       "    </tr>\n",
       "    <tr>\n",
       "      <th>2</th>\n",
       "      <td>1.04</td>\n",
       "      <td>1.13</td>\n",
       "      <td>0.43</td>\n",
       "      <td>-1.09</td>\n",
       "      <td>-0.08</td>\n",
       "      <td>0.33</td>\n",
       "    </tr>\n",
       "    <tr>\n",
       "      <th rowspan=\"2\" valign=\"top\">c</th>\n",
       "      <th>1</th>\n",
       "      <td>0.41</td>\n",
       "      <td>0.12</td>\n",
       "      <td>-0.70</td>\n",
       "      <td>0.00</td>\n",
       "      <td>-1.73</td>\n",
       "      <td>-2.07</td>\n",
       "    </tr>\n",
       "    <tr>\n",
       "      <th>2</th>\n",
       "      <td>-0.47</td>\n",
       "      <td>0.54</td>\n",
       "      <td>1.57</td>\n",
       "      <td>-0.63</td>\n",
       "      <td>1.55</td>\n",
       "      <td>0.86</td>\n",
       "    </tr>\n",
       "  </tbody>\n",
       "</table>\n",
       "</div>"
      ],
      "text/plain": [
       "col_name       c1          c2          c3      \n",
       "col_name2       1     2     1     2     1     2\n",
       "name1 name2                                    \n",
       "a     1      0.23  0.69  0.20 -0.21  0.05 -0.52\n",
       "      2      0.93  1.70 -0.12  1.64  2.13  0.73\n",
       "b     1      2.08  1.47  1.13  0.68 -0.40 -0.41\n",
       "      2      1.04  1.13  0.43 -1.09 -0.08  0.33\n",
       "c     1      0.41  0.12 -0.70  0.00 -1.73 -2.07\n",
       "      2     -0.47  0.54  1.57 -0.63  1.55  0.86"
      ]
     },
     "execution_count": 102,
     "metadata": {},
     "output_type": "execute_result"
    }
   ],
   "source": [
    "mdf"
   ]
  },
  {
   "cell_type": "code",
   "execution_count": 103,
   "metadata": {
    "ExecuteTime": {
     "end_time": "2022-04-02T14:04:54.064106Z",
     "start_time": "2022-04-02T14:04:54.051110Z"
    },
    "id": "88uFVbPP-Z4g"
   },
   "outputs": [
    {
     "data": {
      "text/plain": [
       "name1  name2\n",
       "a      1        0.20\n",
       "       2       -0.12\n",
       "b      1        1.13\n",
       "       2        0.43\n",
       "c      1       -0.70\n",
       "       2        1.57\n",
       "Name: (c2, 1), dtype: float64"
      ]
     },
     "execution_count": 103,
     "metadata": {},
     "output_type": "execute_result"
    }
   ],
   "source": [
    "mdf['c2', 1]"
   ]
  },
  {
   "cell_type": "code",
   "execution_count": 104,
   "metadata": {
    "ExecuteTime": {
     "end_time": "2022-04-02T14:04:54.093995Z",
     "start_time": "2022-04-02T14:04:54.066070Z"
    },
    "id": "RwkBWRU_-fHW"
   },
   "outputs": [
    {
     "data": {
      "text/html": [
       "<div>\n",
       "<style scoped>\n",
       "    .dataframe tbody tr th:only-of-type {\n",
       "        vertical-align: middle;\n",
       "    }\n",
       "\n",
       "    .dataframe tbody tr th {\n",
       "        vertical-align: top;\n",
       "    }\n",
       "\n",
       "    .dataframe thead tr th {\n",
       "        text-align: left;\n",
       "    }\n",
       "\n",
       "    .dataframe thead tr:last-of-type th {\n",
       "        text-align: right;\n",
       "    }\n",
       "</style>\n",
       "<table border=\"1\" class=\"dataframe\">\n",
       "  <thead>\n",
       "    <tr>\n",
       "      <th></th>\n",
       "      <th>col_name</th>\n",
       "      <th colspan=\"2\" halign=\"left\">c1</th>\n",
       "      <th colspan=\"2\" halign=\"left\">c2</th>\n",
       "    </tr>\n",
       "    <tr>\n",
       "      <th></th>\n",
       "      <th>col_name2</th>\n",
       "      <th>1</th>\n",
       "      <th>2</th>\n",
       "      <th>1</th>\n",
       "      <th>2</th>\n",
       "    </tr>\n",
       "    <tr>\n",
       "      <th>name1</th>\n",
       "      <th>name2</th>\n",
       "      <th></th>\n",
       "      <th></th>\n",
       "      <th></th>\n",
       "      <th></th>\n",
       "    </tr>\n",
       "  </thead>\n",
       "  <tbody>\n",
       "    <tr>\n",
       "      <th rowspan=\"2\" valign=\"top\">a</th>\n",
       "      <th>1</th>\n",
       "      <td>0.23</td>\n",
       "      <td>0.69</td>\n",
       "      <td>0.20</td>\n",
       "      <td>-0.21</td>\n",
       "    </tr>\n",
       "    <tr>\n",
       "      <th>2</th>\n",
       "      <td>0.93</td>\n",
       "      <td>1.70</td>\n",
       "      <td>-0.12</td>\n",
       "      <td>1.64</td>\n",
       "    </tr>\n",
       "    <tr>\n",
       "      <th>b</th>\n",
       "      <th>1</th>\n",
       "      <td>2.08</td>\n",
       "      <td>1.47</td>\n",
       "      <td>1.13</td>\n",
       "      <td>0.68</td>\n",
       "    </tr>\n",
       "  </tbody>\n",
       "</table>\n",
       "</div>"
      ],
      "text/plain": [
       "col_name       c1          c2      \n",
       "col_name2       1     2     1     2\n",
       "name1 name2                        \n",
       "a     1      0.23  0.69  0.20 -0.21\n",
       "      2      0.93  1.70 -0.12  1.64\n",
       "b     1      2.08  1.47  1.13  0.68"
      ]
     },
     "execution_count": 104,
     "metadata": {},
     "output_type": "execute_result"
    }
   ],
   "source": [
    "mdf.iloc[:3, :4]"
   ]
  },
  {
   "cell_type": "code",
   "execution_count": 105,
   "metadata": {
    "ExecuteTime": {
     "end_time": "2022-04-02T14:04:54.108957Z",
     "start_time": "2022-04-02T14:04:54.095990Z"
    },
    "id": "GVqzxZcq-tiq"
   },
   "outputs": [
    {
     "data": {
      "text/plain": [
       "name1  name2\n",
       "a      1        0.20\n",
       "       2       -0.12\n",
       "b      1        1.13\n",
       "       2        0.43\n",
       "c      1       -0.70\n",
       "       2        1.57\n",
       "Name: (c2, 1), dtype: float64"
      ]
     },
     "execution_count": 105,
     "metadata": {},
     "output_type": "execute_result"
    }
   ],
   "source": [
    "mdf.loc[:, ('c2', 1)]\n",
    "# mdf.loc[:, ['c2', 1]] 튜플대신 리스트가 들어가면 안됨.....!"
   ]
  },
  {
   "cell_type": "code",
   "execution_count": 106,
   "metadata": {
    "ExecuteTime": {
     "end_time": "2022-04-02T14:04:54.138876Z",
     "start_time": "2022-04-02T14:04:54.110952Z"
    },
    "id": "Ywhin1Dc--st"
   },
   "outputs": [
    {
     "data": {
      "text/html": [
       "<div>\n",
       "<style scoped>\n",
       "    .dataframe tbody tr th:only-of-type {\n",
       "        vertical-align: middle;\n",
       "    }\n",
       "\n",
       "    .dataframe tbody tr th {\n",
       "        vertical-align: top;\n",
       "    }\n",
       "\n",
       "    .dataframe thead tr th {\n",
       "        text-align: left;\n",
       "    }\n",
       "\n",
       "    .dataframe thead tr:last-of-type th {\n",
       "        text-align: right;\n",
       "    }\n",
       "</style>\n",
       "<table border=\"1\" class=\"dataframe\">\n",
       "  <thead>\n",
       "    <tr>\n",
       "      <th></th>\n",
       "      <th>col_name</th>\n",
       "      <th>c1</th>\n",
       "      <th>c2</th>\n",
       "      <th>c3</th>\n",
       "    </tr>\n",
       "    <tr>\n",
       "      <th></th>\n",
       "      <th>col_name2</th>\n",
       "      <th>2</th>\n",
       "      <th>2</th>\n",
       "      <th>2</th>\n",
       "    </tr>\n",
       "    <tr>\n",
       "      <th>name1</th>\n",
       "      <th>name2</th>\n",
       "      <th></th>\n",
       "      <th></th>\n",
       "      <th></th>\n",
       "    </tr>\n",
       "  </thead>\n",
       "  <tbody>\n",
       "    <tr>\n",
       "      <th>a</th>\n",
       "      <th>2</th>\n",
       "      <td>1.70</td>\n",
       "      <td>1.64</td>\n",
       "      <td>0.73</td>\n",
       "    </tr>\n",
       "    <tr>\n",
       "      <th>b</th>\n",
       "      <th>2</th>\n",
       "      <td>1.13</td>\n",
       "      <td>-1.09</td>\n",
       "      <td>0.33</td>\n",
       "    </tr>\n",
       "    <tr>\n",
       "      <th>c</th>\n",
       "      <th>2</th>\n",
       "      <td>0.54</td>\n",
       "      <td>-0.63</td>\n",
       "      <td>0.86</td>\n",
       "    </tr>\n",
       "  </tbody>\n",
       "</table>\n",
       "</div>"
      ],
      "text/plain": [
       "col_name       c1    c2    c3\n",
       "col_name2       2     2     2\n",
       "name1 name2                  \n",
       "a     2      1.70  1.64  0.73\n",
       "b     2      1.13 -1.09  0.33\n",
       "c     2      0.54 -0.63  0.86"
      ]
     },
     "execution_count": 106,
     "metadata": {},
     "output_type": "execute_result"
    }
   ],
   "source": [
    "#IndexSlice: iloc랑 다르다.\n",
    "idx_slice = pd.IndexSlice\n",
    "mdf.loc[idx_slice[:, 2], idx_slice[:, 2]]\n",
    "#(첫 번째 인덱스 전부 & 두 번째 인덱스에서 2에 해당하는 것)\n",
    "#(첫 번째 컬럼 전부 & 두 번째 컬럼에서 2에 해당하는 것)"
   ]
  },
  {
   "cell_type": "markdown",
   "metadata": {
    "id": "Nt4Rby0LA9M0"
   },
   "source": [
    "#### 다중 인덱스 재정렬"
   ]
  },
  {
   "cell_type": "code",
   "execution_count": 107,
   "metadata": {
    "ExecuteTime": {
     "end_time": "2022-04-02T14:04:54.153868Z",
     "start_time": "2022-04-02T14:04:54.140871Z"
    },
    "id": "NgpfPvpaBBHR"
   },
   "outputs": [
    {
     "data": {
      "text/html": [
       "<div>\n",
       "<style scoped>\n",
       "    .dataframe tbody tr th:only-of-type {\n",
       "        vertical-align: middle;\n",
       "    }\n",
       "\n",
       "    .dataframe tbody tr th {\n",
       "        vertical-align: top;\n",
       "    }\n",
       "\n",
       "    .dataframe thead th {\n",
       "        text-align: right;\n",
       "    }\n",
       "</style>\n",
       "<table border=\"1\" class=\"dataframe\">\n",
       "  <thead>\n",
       "    <tr style=\"text-align: right;\">\n",
       "      <th></th>\n",
       "      <th></th>\n",
       "      <th>총인구수</th>\n",
       "      <th>남자인구수</th>\n",
       "      <th>여자인구수</th>\n",
       "    </tr>\n",
       "    <tr>\n",
       "      <th>행정구역</th>\n",
       "      <th>년도</th>\n",
       "      <th></th>\n",
       "      <th></th>\n",
       "      <th></th>\n",
       "    </tr>\n",
       "  </thead>\n",
       "  <tbody>\n",
       "    <tr>\n",
       "      <th rowspan=\"2\" valign=\"top\">서울특별시</th>\n",
       "      <th>2010</th>\n",
       "      <td>10312545</td>\n",
       "      <td>5111259</td>\n",
       "      <td>5201286</td>\n",
       "    </tr>\n",
       "    <tr>\n",
       "      <th>2020</th>\n",
       "      <td>9720846</td>\n",
       "      <td>4732275</td>\n",
       "      <td>4988571</td>\n",
       "    </tr>\n",
       "    <tr>\n",
       "      <th rowspan=\"2\" valign=\"top\">부산광역시</th>\n",
       "      <th>2010</th>\n",
       "      <td>2567910</td>\n",
       "      <td>1773170</td>\n",
       "      <td>1794740</td>\n",
       "    </tr>\n",
       "    <tr>\n",
       "      <th>2020</th>\n",
       "      <td>3404423</td>\n",
       "      <td>1668618</td>\n",
       "      <td>1735805</td>\n",
       "    </tr>\n",
       "    <tr>\n",
       "      <th rowspan=\"2\" valign=\"top\">인천광역시</th>\n",
       "      <th>2010</th>\n",
       "      <td>2758296</td>\n",
       "      <td>1390356</td>\n",
       "      <td>1367940</td>\n",
       "    </tr>\n",
       "    <tr>\n",
       "      <th>2020</th>\n",
       "      <td>2947217</td>\n",
       "      <td>1476813</td>\n",
       "      <td>1470404</td>\n",
       "    </tr>\n",
       "    <tr>\n",
       "      <th rowspan=\"2\" valign=\"top\">대구광역시</th>\n",
       "      <th>2010</th>\n",
       "      <td>2511676</td>\n",
       "      <td>1255245</td>\n",
       "      <td>1256431</td>\n",
       "    </tr>\n",
       "    <tr>\n",
       "      <th>2020</th>\n",
       "      <td>2427954</td>\n",
       "      <td>1198815</td>\n",
       "      <td>1229139</td>\n",
       "    </tr>\n",
       "    <tr>\n",
       "      <th rowspan=\"2\" valign=\"top\">대전광역시</th>\n",
       "      <th>2010</th>\n",
       "      <td>1503664</td>\n",
       "      <td>753648</td>\n",
       "      <td>750016</td>\n",
       "    </tr>\n",
       "    <tr>\n",
       "      <th>2020</th>\n",
       "      <td>1471040</td>\n",
       "      <td>734441</td>\n",
       "      <td>736599</td>\n",
       "    </tr>\n",
       "    <tr>\n",
       "      <th rowspan=\"2\" valign=\"top\">광주광역시</th>\n",
       "      <th>2010</th>\n",
       "      <td>1454636</td>\n",
       "      <td>721780</td>\n",
       "      <td>732856</td>\n",
       "    </tr>\n",
       "    <tr>\n",
       "      <th>2020</th>\n",
       "      <td>1455048</td>\n",
       "      <td>720060</td>\n",
       "      <td>734988</td>\n",
       "    </tr>\n",
       "  </tbody>\n",
       "</table>\n",
       "</div>"
      ],
      "text/plain": [
       "                총인구수    남자인구수    여자인구수\n",
       "행정구역  년도                              \n",
       "서울특별시 2010  10312545  5111259  5201286\n",
       "      2020   9720846  4732275  4988571\n",
       "부산광역시 2010   2567910  1773170  1794740\n",
       "      2020   3404423  1668618  1735805\n",
       "인천광역시 2010   2758296  1390356  1367940\n",
       "      2020   2947217  1476813  1470404\n",
       "대구광역시 2010   2511676  1255245  1256431\n",
       "      2020   2427954  1198815  1229139\n",
       "대전광역시 2010   1503664   753648   750016\n",
       "      2020   1471040   734441   736599\n",
       "광주광역시 2010   1454636   721780   732856\n",
       "      2020   1455048   720060   734988"
      ]
     },
     "execution_count": 107,
     "metadata": {},
     "output_type": "execute_result"
    }
   ],
   "source": [
    "korea_mdf"
   ]
  },
  {
   "cell_type": "code",
   "execution_count": 108,
   "metadata": {
    "ExecuteTime": {
     "end_time": "2022-04-02T14:04:54.168820Z",
     "start_time": "2022-04-02T14:04:54.155857Z"
    },
    "id": "uniTQ5qIBMfP"
   },
   "outputs": [],
   "source": [
    "# korea_mdf.loc['서울특별시':'인천광역시']\n",
    "# korea_mdf['서울특별시':'인천광역시']\n",
    "# +-> 정렬이 안 된 상태라서, 이런 식으로 사용 불가."
   ]
  },
  {
   "cell_type": "code",
   "execution_count": 109,
   "metadata": {
    "ExecuteTime": {
     "end_time": "2022-04-02T14:04:54.198751Z",
     "start_time": "2022-04-02T14:04:54.170790Z"
    },
    "id": "zilkRp8RBm87"
   },
   "outputs": [
    {
     "data": {
      "text/html": [
       "<div>\n",
       "<style scoped>\n",
       "    .dataframe tbody tr th:only-of-type {\n",
       "        vertical-align: middle;\n",
       "    }\n",
       "\n",
       "    .dataframe tbody tr th {\n",
       "        vertical-align: top;\n",
       "    }\n",
       "\n",
       "    .dataframe thead th {\n",
       "        text-align: right;\n",
       "    }\n",
       "</style>\n",
       "<table border=\"1\" class=\"dataframe\">\n",
       "  <thead>\n",
       "    <tr style=\"text-align: right;\">\n",
       "      <th></th>\n",
       "      <th></th>\n",
       "      <th>총인구수</th>\n",
       "      <th>남자인구수</th>\n",
       "      <th>여자인구수</th>\n",
       "    </tr>\n",
       "    <tr>\n",
       "      <th>행정구역</th>\n",
       "      <th>년도</th>\n",
       "      <th></th>\n",
       "      <th></th>\n",
       "      <th></th>\n",
       "    </tr>\n",
       "  </thead>\n",
       "  <tbody>\n",
       "    <tr>\n",
       "      <th rowspan=\"2\" valign=\"top\">광주광역시</th>\n",
       "      <th>2010</th>\n",
       "      <td>1454636</td>\n",
       "      <td>721780</td>\n",
       "      <td>732856</td>\n",
       "    </tr>\n",
       "    <tr>\n",
       "      <th>2020</th>\n",
       "      <td>1455048</td>\n",
       "      <td>720060</td>\n",
       "      <td>734988</td>\n",
       "    </tr>\n",
       "    <tr>\n",
       "      <th rowspan=\"2\" valign=\"top\">대구광역시</th>\n",
       "      <th>2010</th>\n",
       "      <td>2511676</td>\n",
       "      <td>1255245</td>\n",
       "      <td>1256431</td>\n",
       "    </tr>\n",
       "    <tr>\n",
       "      <th>2020</th>\n",
       "      <td>2427954</td>\n",
       "      <td>1198815</td>\n",
       "      <td>1229139</td>\n",
       "    </tr>\n",
       "    <tr>\n",
       "      <th rowspan=\"2\" valign=\"top\">대전광역시</th>\n",
       "      <th>2010</th>\n",
       "      <td>1503664</td>\n",
       "      <td>753648</td>\n",
       "      <td>750016</td>\n",
       "    </tr>\n",
       "    <tr>\n",
       "      <th>2020</th>\n",
       "      <td>1471040</td>\n",
       "      <td>734441</td>\n",
       "      <td>736599</td>\n",
       "    </tr>\n",
       "    <tr>\n",
       "      <th rowspan=\"2\" valign=\"top\">부산광역시</th>\n",
       "      <th>2010</th>\n",
       "      <td>2567910</td>\n",
       "      <td>1773170</td>\n",
       "      <td>1794740</td>\n",
       "    </tr>\n",
       "    <tr>\n",
       "      <th>2020</th>\n",
       "      <td>3404423</td>\n",
       "      <td>1668618</td>\n",
       "      <td>1735805</td>\n",
       "    </tr>\n",
       "    <tr>\n",
       "      <th rowspan=\"2\" valign=\"top\">서울특별시</th>\n",
       "      <th>2010</th>\n",
       "      <td>10312545</td>\n",
       "      <td>5111259</td>\n",
       "      <td>5201286</td>\n",
       "    </tr>\n",
       "    <tr>\n",
       "      <th>2020</th>\n",
       "      <td>9720846</td>\n",
       "      <td>4732275</td>\n",
       "      <td>4988571</td>\n",
       "    </tr>\n",
       "    <tr>\n",
       "      <th rowspan=\"2\" valign=\"top\">인천광역시</th>\n",
       "      <th>2010</th>\n",
       "      <td>2758296</td>\n",
       "      <td>1390356</td>\n",
       "      <td>1367940</td>\n",
       "    </tr>\n",
       "    <tr>\n",
       "      <th>2020</th>\n",
       "      <td>2947217</td>\n",
       "      <td>1476813</td>\n",
       "      <td>1470404</td>\n",
       "    </tr>\n",
       "  </tbody>\n",
       "</table>\n",
       "</div>"
      ],
      "text/plain": [
       "                총인구수    남자인구수    여자인구수\n",
       "행정구역  년도                              \n",
       "광주광역시 2010   1454636   721780   732856\n",
       "      2020   1455048   720060   734988\n",
       "대구광역시 2010   2511676  1255245  1256431\n",
       "      2020   2427954  1198815  1229139\n",
       "대전광역시 2010   1503664   753648   750016\n",
       "      2020   1471040   734441   736599\n",
       "부산광역시 2010   2567910  1773170  1794740\n",
       "      2020   3404423  1668618  1735805\n",
       "서울특별시 2010  10312545  5111259  5201286\n",
       "      2020   9720846  4732275  4988571\n",
       "인천광역시 2010   2758296  1390356  1367940\n",
       "      2020   2947217  1476813  1470404"
      ]
     },
     "execution_count": 109,
     "metadata": {},
     "output_type": "execute_result"
    }
   ],
   "source": [
    "# 인덱스 정렬\n",
    "korea_mdf = korea_mdf.sort_index()\n",
    "korea_mdf"
   ]
  },
  {
   "cell_type": "code",
   "execution_count": 110,
   "metadata": {
    "ExecuteTime": {
     "end_time": "2022-04-02T14:04:54.213725Z",
     "start_time": "2022-04-02T14:04:54.201739Z"
    },
    "id": "4928t860U-Ot"
   },
   "outputs": [
    {
     "data": {
      "text/html": [
       "<div>\n",
       "<style scoped>\n",
       "    .dataframe tbody tr th:only-of-type {\n",
       "        vertical-align: middle;\n",
       "    }\n",
       "\n",
       "    .dataframe tbody tr th {\n",
       "        vertical-align: top;\n",
       "    }\n",
       "\n",
       "    .dataframe thead th {\n",
       "        text-align: right;\n",
       "    }\n",
       "</style>\n",
       "<table border=\"1\" class=\"dataframe\">\n",
       "  <thead>\n",
       "    <tr style=\"text-align: right;\">\n",
       "      <th></th>\n",
       "      <th></th>\n",
       "      <th>총인구수</th>\n",
       "      <th>남자인구수</th>\n",
       "      <th>여자인구수</th>\n",
       "    </tr>\n",
       "    <tr>\n",
       "      <th>행정구역</th>\n",
       "      <th>년도</th>\n",
       "      <th></th>\n",
       "      <th></th>\n",
       "      <th></th>\n",
       "    </tr>\n",
       "  </thead>\n",
       "  <tbody>\n",
       "    <tr>\n",
       "      <th rowspan=\"2\" valign=\"top\">서울특별시</th>\n",
       "      <th>2010</th>\n",
       "      <td>10312545</td>\n",
       "      <td>5111259</td>\n",
       "      <td>5201286</td>\n",
       "    </tr>\n",
       "    <tr>\n",
       "      <th>2020</th>\n",
       "      <td>9720846</td>\n",
       "      <td>4732275</td>\n",
       "      <td>4988571</td>\n",
       "    </tr>\n",
       "    <tr>\n",
       "      <th rowspan=\"2\" valign=\"top\">인천광역시</th>\n",
       "      <th>2010</th>\n",
       "      <td>2758296</td>\n",
       "      <td>1390356</td>\n",
       "      <td>1367940</td>\n",
       "    </tr>\n",
       "    <tr>\n",
       "      <th>2020</th>\n",
       "      <td>2947217</td>\n",
       "      <td>1476813</td>\n",
       "      <td>1470404</td>\n",
       "    </tr>\n",
       "  </tbody>\n",
       "</table>\n",
       "</div>"
      ],
      "text/plain": [
       "                총인구수    남자인구수    여자인구수\n",
       "행정구역  년도                              \n",
       "서울특별시 2010  10312545  5111259  5201286\n",
       "      2020   9720846  4732275  4988571\n",
       "인천광역시 2010   2758296  1390356  1367940\n",
       "      2020   2947217  1476813  1470404"
      ]
     },
     "execution_count": 110,
     "metadata": {},
     "output_type": "execute_result"
    }
   ],
   "source": [
    "# 정렬된 상태에서는 이런식으로 할 수 있음.\n",
    "# 아래 둘 다 사용가능.\n",
    "korea_mdf['서울특별시':'인천광역시']\n",
    "korea_mdf.loc['서울특별시':'인천광역시']"
   ]
  },
  {
   "cell_type": "code",
   "execution_count": 111,
   "metadata": {
    "ExecuteTime": {
     "end_time": "2022-04-02T14:04:54.243609Z",
     "start_time": "2022-04-02T14:04:54.215670Z"
    },
    "id": "x0XfqiPwVaId"
   },
   "outputs": [
    {
     "data": {
      "text/html": [
       "<div>\n",
       "<style scoped>\n",
       "    .dataframe tbody tr th:only-of-type {\n",
       "        vertical-align: middle;\n",
       "    }\n",
       "\n",
       "    .dataframe tbody tr th {\n",
       "        vertical-align: top;\n",
       "    }\n",
       "\n",
       "    .dataframe thead tr th {\n",
       "        text-align: left;\n",
       "    }\n",
       "\n",
       "    .dataframe thead tr:last-of-type th {\n",
       "        text-align: right;\n",
       "    }\n",
       "</style>\n",
       "<table border=\"1\" class=\"dataframe\">\n",
       "  <thead>\n",
       "    <tr>\n",
       "      <th></th>\n",
       "      <th colspan=\"6\" halign=\"left\">총인구수</th>\n",
       "      <th colspan=\"6\" halign=\"left\">남자인구수</th>\n",
       "      <th colspan=\"6\" halign=\"left\">여자인구수</th>\n",
       "    </tr>\n",
       "    <tr>\n",
       "      <th>행정구역</th>\n",
       "      <th>광주광역시</th>\n",
       "      <th>대구광역시</th>\n",
       "      <th>대전광역시</th>\n",
       "      <th>부산광역시</th>\n",
       "      <th>서울특별시</th>\n",
       "      <th>인천광역시</th>\n",
       "      <th>광주광역시</th>\n",
       "      <th>대구광역시</th>\n",
       "      <th>대전광역시</th>\n",
       "      <th>부산광역시</th>\n",
       "      <th>서울특별시</th>\n",
       "      <th>인천광역시</th>\n",
       "      <th>광주광역시</th>\n",
       "      <th>대구광역시</th>\n",
       "      <th>대전광역시</th>\n",
       "      <th>부산광역시</th>\n",
       "      <th>서울특별시</th>\n",
       "      <th>인천광역시</th>\n",
       "    </tr>\n",
       "    <tr>\n",
       "      <th>년도</th>\n",
       "      <th></th>\n",
       "      <th></th>\n",
       "      <th></th>\n",
       "      <th></th>\n",
       "      <th></th>\n",
       "      <th></th>\n",
       "      <th></th>\n",
       "      <th></th>\n",
       "      <th></th>\n",
       "      <th></th>\n",
       "      <th></th>\n",
       "      <th></th>\n",
       "      <th></th>\n",
       "      <th></th>\n",
       "      <th></th>\n",
       "      <th></th>\n",
       "      <th></th>\n",
       "      <th></th>\n",
       "    </tr>\n",
       "  </thead>\n",
       "  <tbody>\n",
       "    <tr>\n",
       "      <th>2010</th>\n",
       "      <td>1454636</td>\n",
       "      <td>2511676</td>\n",
       "      <td>1503664</td>\n",
       "      <td>2567910</td>\n",
       "      <td>10312545</td>\n",
       "      <td>2758296</td>\n",
       "      <td>721780</td>\n",
       "      <td>1255245</td>\n",
       "      <td>753648</td>\n",
       "      <td>1773170</td>\n",
       "      <td>5111259</td>\n",
       "      <td>1390356</td>\n",
       "      <td>732856</td>\n",
       "      <td>1256431</td>\n",
       "      <td>750016</td>\n",
       "      <td>1794740</td>\n",
       "      <td>5201286</td>\n",
       "      <td>1367940</td>\n",
       "    </tr>\n",
       "    <tr>\n",
       "      <th>2020</th>\n",
       "      <td>1455048</td>\n",
       "      <td>2427954</td>\n",
       "      <td>1471040</td>\n",
       "      <td>3404423</td>\n",
       "      <td>9720846</td>\n",
       "      <td>2947217</td>\n",
       "      <td>720060</td>\n",
       "      <td>1198815</td>\n",
       "      <td>734441</td>\n",
       "      <td>1668618</td>\n",
       "      <td>4732275</td>\n",
       "      <td>1476813</td>\n",
       "      <td>734988</td>\n",
       "      <td>1229139</td>\n",
       "      <td>736599</td>\n",
       "      <td>1735805</td>\n",
       "      <td>4988571</td>\n",
       "      <td>1470404</td>\n",
       "    </tr>\n",
       "  </tbody>\n",
       "</table>\n",
       "</div>"
      ],
      "text/plain": [
       "         총인구수                                                 남자인구수           \\\n",
       "행정구역    광주광역시    대구광역시    대전광역시    부산광역시     서울특별시    인천광역시   광주광역시    대구광역시   \n",
       "년도                                                                             \n",
       "2010  1454636  2511676  1503664  2567910  10312545  2758296  721780  1255245   \n",
       "2020  1455048  2427954  1471040  3404423   9720846  2947217  720060  1198815   \n",
       "\n",
       "                                          여자인구수                            \\\n",
       "행정구역   대전광역시    부산광역시    서울특별시    인천광역시   광주광역시    대구광역시   대전광역시    부산광역시   \n",
       "년도                                                                          \n",
       "2010  753648  1773170  5111259  1390356  732856  1256431  750016  1794740   \n",
       "2020  734441  1668618  4732275  1476813  734988  1229139  736599  1735805   \n",
       "\n",
       "                        \n",
       "행정구역    서울특별시    인천광역시  \n",
       "년도                      \n",
       "2010  5201286  1367940  \n",
       "2020  4988571  1470404  "
      ]
     },
     "execution_count": 111,
     "metadata": {},
     "output_type": "execute_result"
    }
   ],
   "source": [
    "# 인덱스 중 하나를 컬럼으로 올려서 사용함.\n",
    "korea_mdf.unstack(level=0)"
   ]
  },
  {
   "cell_type": "code",
   "execution_count": 112,
   "metadata": {
    "ExecuteTime": {
     "end_time": "2022-04-02T14:04:54.273555Z",
     "start_time": "2022-04-02T14:04:54.246587Z"
    },
    "id": "K-x8Kr_lVpUC"
   },
   "outputs": [
    {
     "data": {
      "text/html": [
       "<div>\n",
       "<style scoped>\n",
       "    .dataframe tbody tr th:only-of-type {\n",
       "        vertical-align: middle;\n",
       "    }\n",
       "\n",
       "    .dataframe tbody tr th {\n",
       "        vertical-align: top;\n",
       "    }\n",
       "\n",
       "    .dataframe thead tr th {\n",
       "        text-align: left;\n",
       "    }\n",
       "\n",
       "    .dataframe thead tr:last-of-type th {\n",
       "        text-align: right;\n",
       "    }\n",
       "</style>\n",
       "<table border=\"1\" class=\"dataframe\">\n",
       "  <thead>\n",
       "    <tr>\n",
       "      <th></th>\n",
       "      <th colspan=\"2\" halign=\"left\">총인구수</th>\n",
       "      <th colspan=\"2\" halign=\"left\">남자인구수</th>\n",
       "      <th colspan=\"2\" halign=\"left\">여자인구수</th>\n",
       "    </tr>\n",
       "    <tr>\n",
       "      <th>년도</th>\n",
       "      <th>2010</th>\n",
       "      <th>2020</th>\n",
       "      <th>2010</th>\n",
       "      <th>2020</th>\n",
       "      <th>2010</th>\n",
       "      <th>2020</th>\n",
       "    </tr>\n",
       "    <tr>\n",
       "      <th>행정구역</th>\n",
       "      <th></th>\n",
       "      <th></th>\n",
       "      <th></th>\n",
       "      <th></th>\n",
       "      <th></th>\n",
       "      <th></th>\n",
       "    </tr>\n",
       "  </thead>\n",
       "  <tbody>\n",
       "    <tr>\n",
       "      <th>광주광역시</th>\n",
       "      <td>1454636</td>\n",
       "      <td>1455048</td>\n",
       "      <td>721780</td>\n",
       "      <td>720060</td>\n",
       "      <td>732856</td>\n",
       "      <td>734988</td>\n",
       "    </tr>\n",
       "    <tr>\n",
       "      <th>대구광역시</th>\n",
       "      <td>2511676</td>\n",
       "      <td>2427954</td>\n",
       "      <td>1255245</td>\n",
       "      <td>1198815</td>\n",
       "      <td>1256431</td>\n",
       "      <td>1229139</td>\n",
       "    </tr>\n",
       "    <tr>\n",
       "      <th>대전광역시</th>\n",
       "      <td>1503664</td>\n",
       "      <td>1471040</td>\n",
       "      <td>753648</td>\n",
       "      <td>734441</td>\n",
       "      <td>750016</td>\n",
       "      <td>736599</td>\n",
       "    </tr>\n",
       "    <tr>\n",
       "      <th>부산광역시</th>\n",
       "      <td>2567910</td>\n",
       "      <td>3404423</td>\n",
       "      <td>1773170</td>\n",
       "      <td>1668618</td>\n",
       "      <td>1794740</td>\n",
       "      <td>1735805</td>\n",
       "    </tr>\n",
       "    <tr>\n",
       "      <th>서울특별시</th>\n",
       "      <td>10312545</td>\n",
       "      <td>9720846</td>\n",
       "      <td>5111259</td>\n",
       "      <td>4732275</td>\n",
       "      <td>5201286</td>\n",
       "      <td>4988571</td>\n",
       "    </tr>\n",
       "    <tr>\n",
       "      <th>인천광역시</th>\n",
       "      <td>2758296</td>\n",
       "      <td>2947217</td>\n",
       "      <td>1390356</td>\n",
       "      <td>1476813</td>\n",
       "      <td>1367940</td>\n",
       "      <td>1470404</td>\n",
       "    </tr>\n",
       "  </tbody>\n",
       "</table>\n",
       "</div>"
      ],
      "text/plain": [
       "           총인구수             남자인구수             여자인구수         \n",
       "년도         2010     2020     2010     2020     2010     2020\n",
       "행정구역                                                        \n",
       "광주광역시   1454636  1455048   721780   720060   732856   734988\n",
       "대구광역시   2511676  2427954  1255245  1198815  1256431  1229139\n",
       "대전광역시   1503664  1471040   753648   734441   750016   736599\n",
       "부산광역시   2567910  3404423  1773170  1668618  1794740  1735805\n",
       "서울특별시  10312545  9720846  5111259  4732275  5201286  4988571\n",
       "인천광역시   2758296  2947217  1390356  1476813  1367940  1470404"
      ]
     },
     "execution_count": 112,
     "metadata": {},
     "output_type": "execute_result"
    }
   ],
   "source": [
    "korea_mdf.unstack(level=1)"
   ]
  },
  {
   "cell_type": "code",
   "execution_count": 113,
   "metadata": {
    "ExecuteTime": {
     "end_time": "2022-04-02T14:04:54.288476Z",
     "start_time": "2022-04-02T14:04:54.275510Z"
    },
    "id": "rWxg_YXIVw6x"
   },
   "outputs": [
    {
     "data": {
      "text/plain": [
       "행정구역   년도         \n",
       "광주광역시  2010  총인구수      1454636\n",
       "             남자인구수      721780\n",
       "             여자인구수      732856\n",
       "       2020  총인구수      1455048\n",
       "             남자인구수      720060\n",
       "             여자인구수      734988\n",
       "대구광역시  2010  총인구수      2511676\n",
       "             남자인구수     1255245\n",
       "             여자인구수     1256431\n",
       "       2020  총인구수      2427954\n",
       "             남자인구수     1198815\n",
       "             여자인구수     1229139\n",
       "대전광역시  2010  총인구수      1503664\n",
       "             남자인구수      753648\n",
       "             여자인구수      750016\n",
       "       2020  총인구수      1471040\n",
       "             남자인구수      734441\n",
       "             여자인구수      736599\n",
       "부산광역시  2010  총인구수      2567910\n",
       "             남자인구수     1773170\n",
       "             여자인구수     1794740\n",
       "       2020  총인구수      3404423\n",
       "             남자인구수     1668618\n",
       "             여자인구수     1735805\n",
       "서울특별시  2010  총인구수     10312545\n",
       "             남자인구수     5111259\n",
       "             여자인구수     5201286\n",
       "       2020  총인구수      9720846\n",
       "             남자인구수     4732275\n",
       "             여자인구수     4988571\n",
       "인천광역시  2010  총인구수      2758296\n",
       "             남자인구수     1390356\n",
       "             여자인구수     1367940\n",
       "       2020  총인구수      2947217\n",
       "             남자인구수     1476813\n",
       "             여자인구수     1470404\n",
       "dtype: int64"
      ]
     },
     "execution_count": 113,
     "metadata": {},
     "output_type": "execute_result"
    }
   ],
   "source": [
    "# 하나의 시리즈로 만듬.\n",
    "korea_mdf.stack()"
   ]
  },
  {
   "cell_type": "code",
   "execution_count": 114,
   "metadata": {
    "ExecuteTime": {
     "end_time": "2022-04-02T14:04:54.318394Z",
     "start_time": "2022-04-02T14:04:54.291468Z"
    },
    "id": "tSCUmYovYiAA"
   },
   "outputs": [
    {
     "data": {
      "text/html": [
       "<div>\n",
       "<style scoped>\n",
       "    .dataframe tbody tr th:only-of-type {\n",
       "        vertical-align: middle;\n",
       "    }\n",
       "\n",
       "    .dataframe tbody tr th {\n",
       "        vertical-align: top;\n",
       "    }\n",
       "\n",
       "    .dataframe thead th {\n",
       "        text-align: right;\n",
       "    }\n",
       "</style>\n",
       "<table border=\"1\" class=\"dataframe\">\n",
       "  <thead>\n",
       "    <tr style=\"text-align: right;\">\n",
       "      <th></th>\n",
       "      <th>행정구역</th>\n",
       "      <th>총인구수</th>\n",
       "      <th>남자인구수</th>\n",
       "      <th>여자인구수</th>\n",
       "    </tr>\n",
       "    <tr>\n",
       "      <th>년도</th>\n",
       "      <th></th>\n",
       "      <th></th>\n",
       "      <th></th>\n",
       "      <th></th>\n",
       "    </tr>\n",
       "  </thead>\n",
       "  <tbody>\n",
       "    <tr>\n",
       "      <th>2010</th>\n",
       "      <td>광주광역시</td>\n",
       "      <td>1454636</td>\n",
       "      <td>721780</td>\n",
       "      <td>732856</td>\n",
       "    </tr>\n",
       "    <tr>\n",
       "      <th>2020</th>\n",
       "      <td>광주광역시</td>\n",
       "      <td>1455048</td>\n",
       "      <td>720060</td>\n",
       "      <td>734988</td>\n",
       "    </tr>\n",
       "    <tr>\n",
       "      <th>2010</th>\n",
       "      <td>대구광역시</td>\n",
       "      <td>2511676</td>\n",
       "      <td>1255245</td>\n",
       "      <td>1256431</td>\n",
       "    </tr>\n",
       "    <tr>\n",
       "      <th>2020</th>\n",
       "      <td>대구광역시</td>\n",
       "      <td>2427954</td>\n",
       "      <td>1198815</td>\n",
       "      <td>1229139</td>\n",
       "    </tr>\n",
       "    <tr>\n",
       "      <th>2010</th>\n",
       "      <td>대전광역시</td>\n",
       "      <td>1503664</td>\n",
       "      <td>753648</td>\n",
       "      <td>750016</td>\n",
       "    </tr>\n",
       "    <tr>\n",
       "      <th>2020</th>\n",
       "      <td>대전광역시</td>\n",
       "      <td>1471040</td>\n",
       "      <td>734441</td>\n",
       "      <td>736599</td>\n",
       "    </tr>\n",
       "    <tr>\n",
       "      <th>2010</th>\n",
       "      <td>부산광역시</td>\n",
       "      <td>2567910</td>\n",
       "      <td>1773170</td>\n",
       "      <td>1794740</td>\n",
       "    </tr>\n",
       "    <tr>\n",
       "      <th>2020</th>\n",
       "      <td>부산광역시</td>\n",
       "      <td>3404423</td>\n",
       "      <td>1668618</td>\n",
       "      <td>1735805</td>\n",
       "    </tr>\n",
       "    <tr>\n",
       "      <th>2010</th>\n",
       "      <td>서울특별시</td>\n",
       "      <td>10312545</td>\n",
       "      <td>5111259</td>\n",
       "      <td>5201286</td>\n",
       "    </tr>\n",
       "    <tr>\n",
       "      <th>2020</th>\n",
       "      <td>서울특별시</td>\n",
       "      <td>9720846</td>\n",
       "      <td>4732275</td>\n",
       "      <td>4988571</td>\n",
       "    </tr>\n",
       "    <tr>\n",
       "      <th>2010</th>\n",
       "      <td>인천광역시</td>\n",
       "      <td>2758296</td>\n",
       "      <td>1390356</td>\n",
       "      <td>1367940</td>\n",
       "    </tr>\n",
       "    <tr>\n",
       "      <th>2020</th>\n",
       "      <td>인천광역시</td>\n",
       "      <td>2947217</td>\n",
       "      <td>1476813</td>\n",
       "      <td>1470404</td>\n",
       "    </tr>\n",
       "  </tbody>\n",
       "</table>\n",
       "</div>"
      ],
      "text/plain": [
       "       행정구역      총인구수    남자인구수    여자인구수\n",
       "년도                                     \n",
       "2010  광주광역시   1454636   721780   732856\n",
       "2020  광주광역시   1455048   720060   734988\n",
       "2010  대구광역시   2511676  1255245  1256431\n",
       "2020  대구광역시   2427954  1198815  1229139\n",
       "2010  대전광역시   1503664   753648   750016\n",
       "2020  대전광역시   1471040   734441   736599\n",
       "2010  부산광역시   2567910  1773170  1794740\n",
       "2020  부산광역시   3404423  1668618  1735805\n",
       "2010  서울특별시  10312545  5111259  5201286\n",
       "2020  서울특별시   9720846  4732275  4988571\n",
       "2010  인천광역시   2758296  1390356  1367940\n",
       "2020  인천광역시   2947217  1476813  1470404"
      ]
     },
     "execution_count": 114,
     "metadata": {},
     "output_type": "execute_result"
    }
   ],
   "source": [
    "# 첫번째 인덱스의 할당을 리셋 시킨다. 즉, 하나의 컬럼으로 할당하도록 한다.\n",
    "idx_flat = korea_mdf.reset_index(level=0)\n",
    "idx_flat"
   ]
  },
  {
   "cell_type": "code",
   "execution_count": 115,
   "metadata": {
    "ExecuteTime": {
     "end_time": "2022-04-02T14:04:54.348316Z",
     "start_time": "2022-04-02T14:04:54.321387Z"
    },
    "id": "wdWqvOFZWJPf"
   },
   "outputs": [
    {
     "data": {
      "text/html": [
       "<div>\n",
       "<style scoped>\n",
       "    .dataframe tbody tr th:only-of-type {\n",
       "        vertical-align: middle;\n",
       "    }\n",
       "\n",
       "    .dataframe tbody tr th {\n",
       "        vertical-align: top;\n",
       "    }\n",
       "\n",
       "    .dataframe thead th {\n",
       "        text-align: right;\n",
       "    }\n",
       "</style>\n",
       "<table border=\"1\" class=\"dataframe\">\n",
       "  <thead>\n",
       "    <tr style=\"text-align: right;\">\n",
       "      <th></th>\n",
       "      <th>행정구역</th>\n",
       "      <th>년도</th>\n",
       "      <th>총인구수</th>\n",
       "      <th>남자인구수</th>\n",
       "      <th>여자인구수</th>\n",
       "    </tr>\n",
       "  </thead>\n",
       "  <tbody>\n",
       "    <tr>\n",
       "      <th>0</th>\n",
       "      <td>광주광역시</td>\n",
       "      <td>2010</td>\n",
       "      <td>1454636</td>\n",
       "      <td>721780</td>\n",
       "      <td>732856</td>\n",
       "    </tr>\n",
       "    <tr>\n",
       "      <th>1</th>\n",
       "      <td>광주광역시</td>\n",
       "      <td>2020</td>\n",
       "      <td>1455048</td>\n",
       "      <td>720060</td>\n",
       "      <td>734988</td>\n",
       "    </tr>\n",
       "    <tr>\n",
       "      <th>2</th>\n",
       "      <td>대구광역시</td>\n",
       "      <td>2010</td>\n",
       "      <td>2511676</td>\n",
       "      <td>1255245</td>\n",
       "      <td>1256431</td>\n",
       "    </tr>\n",
       "    <tr>\n",
       "      <th>3</th>\n",
       "      <td>대구광역시</td>\n",
       "      <td>2020</td>\n",
       "      <td>2427954</td>\n",
       "      <td>1198815</td>\n",
       "      <td>1229139</td>\n",
       "    </tr>\n",
       "    <tr>\n",
       "      <th>4</th>\n",
       "      <td>대전광역시</td>\n",
       "      <td>2010</td>\n",
       "      <td>1503664</td>\n",
       "      <td>753648</td>\n",
       "      <td>750016</td>\n",
       "    </tr>\n",
       "    <tr>\n",
       "      <th>5</th>\n",
       "      <td>대전광역시</td>\n",
       "      <td>2020</td>\n",
       "      <td>1471040</td>\n",
       "      <td>734441</td>\n",
       "      <td>736599</td>\n",
       "    </tr>\n",
       "    <tr>\n",
       "      <th>6</th>\n",
       "      <td>부산광역시</td>\n",
       "      <td>2010</td>\n",
       "      <td>2567910</td>\n",
       "      <td>1773170</td>\n",
       "      <td>1794740</td>\n",
       "    </tr>\n",
       "    <tr>\n",
       "      <th>7</th>\n",
       "      <td>부산광역시</td>\n",
       "      <td>2020</td>\n",
       "      <td>3404423</td>\n",
       "      <td>1668618</td>\n",
       "      <td>1735805</td>\n",
       "    </tr>\n",
       "    <tr>\n",
       "      <th>8</th>\n",
       "      <td>서울특별시</td>\n",
       "      <td>2010</td>\n",
       "      <td>10312545</td>\n",
       "      <td>5111259</td>\n",
       "      <td>5201286</td>\n",
       "    </tr>\n",
       "    <tr>\n",
       "      <th>9</th>\n",
       "      <td>서울특별시</td>\n",
       "      <td>2020</td>\n",
       "      <td>9720846</td>\n",
       "      <td>4732275</td>\n",
       "      <td>4988571</td>\n",
       "    </tr>\n",
       "    <tr>\n",
       "      <th>10</th>\n",
       "      <td>인천광역시</td>\n",
       "      <td>2010</td>\n",
       "      <td>2758296</td>\n",
       "      <td>1390356</td>\n",
       "      <td>1367940</td>\n",
       "    </tr>\n",
       "    <tr>\n",
       "      <th>11</th>\n",
       "      <td>인천광역시</td>\n",
       "      <td>2020</td>\n",
       "      <td>2947217</td>\n",
       "      <td>1476813</td>\n",
       "      <td>1470404</td>\n",
       "    </tr>\n",
       "  </tbody>\n",
       "</table>\n",
       "</div>"
      ],
      "text/plain": [
       "     행정구역    년도      총인구수    남자인구수    여자인구수\n",
       "0   광주광역시  2010   1454636   721780   732856\n",
       "1   광주광역시  2020   1455048   720060   734988\n",
       "2   대구광역시  2010   2511676  1255245  1256431\n",
       "3   대구광역시  2020   2427954  1198815  1229139\n",
       "4   대전광역시  2010   1503664   753648   750016\n",
       "5   대전광역시  2020   1471040   734441   736599\n",
       "6   부산광역시  2010   2567910  1773170  1794740\n",
       "7   부산광역시  2020   3404423  1668618  1735805\n",
       "8   서울특별시  2010  10312545  5111259  5201286\n",
       "9   서울특별시  2020   9720846  4732275  4988571\n",
       "10  인천광역시  2010   2758296  1390356  1367940\n",
       "11  인천광역시  2020   2947217  1476813  1470404"
      ]
     },
     "execution_count": 115,
     "metadata": {},
     "output_type": "execute_result"
    }
   ],
   "source": [
    "idx_flat = korea_mdf.reset_index(level=(0, 1))\n",
    "idx_flat"
   ]
  },
  {
   "cell_type": "code",
   "execution_count": 116,
   "metadata": {
    "ExecuteTime": {
     "end_time": "2022-04-02T14:04:54.378235Z",
     "start_time": "2022-04-02T14:04:54.351307Z"
    },
    "id": "6LozVYW-W_Rx"
   },
   "outputs": [
    {
     "data": {
      "text/html": [
       "<div>\n",
       "<style scoped>\n",
       "    .dataframe tbody tr th:only-of-type {\n",
       "        vertical-align: middle;\n",
       "    }\n",
       "\n",
       "    .dataframe tbody tr th {\n",
       "        vertical-align: top;\n",
       "    }\n",
       "\n",
       "    .dataframe thead th {\n",
       "        text-align: right;\n",
       "    }\n",
       "</style>\n",
       "<table border=\"1\" class=\"dataframe\">\n",
       "  <thead>\n",
       "    <tr style=\"text-align: right;\">\n",
       "      <th></th>\n",
       "      <th></th>\n",
       "      <th>총인구수</th>\n",
       "      <th>남자인구수</th>\n",
       "      <th>여자인구수</th>\n",
       "    </tr>\n",
       "    <tr>\n",
       "      <th>행정구역</th>\n",
       "      <th>년도</th>\n",
       "      <th></th>\n",
       "      <th></th>\n",
       "      <th></th>\n",
       "    </tr>\n",
       "  </thead>\n",
       "  <tbody>\n",
       "    <tr>\n",
       "      <th rowspan=\"2\" valign=\"top\">광주광역시</th>\n",
       "      <th>2010</th>\n",
       "      <td>1454636</td>\n",
       "      <td>721780</td>\n",
       "      <td>732856</td>\n",
       "    </tr>\n",
       "    <tr>\n",
       "      <th>2020</th>\n",
       "      <td>1455048</td>\n",
       "      <td>720060</td>\n",
       "      <td>734988</td>\n",
       "    </tr>\n",
       "    <tr>\n",
       "      <th rowspan=\"2\" valign=\"top\">대구광역시</th>\n",
       "      <th>2010</th>\n",
       "      <td>2511676</td>\n",
       "      <td>1255245</td>\n",
       "      <td>1256431</td>\n",
       "    </tr>\n",
       "    <tr>\n",
       "      <th>2020</th>\n",
       "      <td>2427954</td>\n",
       "      <td>1198815</td>\n",
       "      <td>1229139</td>\n",
       "    </tr>\n",
       "    <tr>\n",
       "      <th rowspan=\"2\" valign=\"top\">대전광역시</th>\n",
       "      <th>2010</th>\n",
       "      <td>1503664</td>\n",
       "      <td>753648</td>\n",
       "      <td>750016</td>\n",
       "    </tr>\n",
       "    <tr>\n",
       "      <th>2020</th>\n",
       "      <td>1471040</td>\n",
       "      <td>734441</td>\n",
       "      <td>736599</td>\n",
       "    </tr>\n",
       "    <tr>\n",
       "      <th rowspan=\"2\" valign=\"top\">부산광역시</th>\n",
       "      <th>2010</th>\n",
       "      <td>2567910</td>\n",
       "      <td>1773170</td>\n",
       "      <td>1794740</td>\n",
       "    </tr>\n",
       "    <tr>\n",
       "      <th>2020</th>\n",
       "      <td>3404423</td>\n",
       "      <td>1668618</td>\n",
       "      <td>1735805</td>\n",
       "    </tr>\n",
       "    <tr>\n",
       "      <th rowspan=\"2\" valign=\"top\">서울특별시</th>\n",
       "      <th>2010</th>\n",
       "      <td>10312545</td>\n",
       "      <td>5111259</td>\n",
       "      <td>5201286</td>\n",
       "    </tr>\n",
       "    <tr>\n",
       "      <th>2020</th>\n",
       "      <td>9720846</td>\n",
       "      <td>4732275</td>\n",
       "      <td>4988571</td>\n",
       "    </tr>\n",
       "    <tr>\n",
       "      <th rowspan=\"2\" valign=\"top\">인천광역시</th>\n",
       "      <th>2010</th>\n",
       "      <td>2758296</td>\n",
       "      <td>1390356</td>\n",
       "      <td>1367940</td>\n",
       "    </tr>\n",
       "    <tr>\n",
       "      <th>2020</th>\n",
       "      <td>2947217</td>\n",
       "      <td>1476813</td>\n",
       "      <td>1470404</td>\n",
       "    </tr>\n",
       "  </tbody>\n",
       "</table>\n",
       "</div>"
      ],
      "text/plain": [
       "                총인구수    남자인구수    여자인구수\n",
       "행정구역  년도                              \n",
       "광주광역시 2010   1454636   721780   732856\n",
       "      2020   1455048   720060   734988\n",
       "대구광역시 2010   2511676  1255245  1256431\n",
       "      2020   2427954  1198815  1229139\n",
       "대전광역시 2010   1503664   753648   750016\n",
       "      2020   1471040   734441   736599\n",
       "부산광역시 2010   2567910  1773170  1794740\n",
       "      2020   3404423  1668618  1735805\n",
       "서울특별시 2010  10312545  5111259  5201286\n",
       "      2020   9720846  4732275  4988571\n",
       "인천광역시 2010   2758296  1390356  1367940\n",
       "      2020   2947217  1476813  1470404"
      ]
     },
     "execution_count": 116,
     "metadata": {},
     "output_type": "execute_result"
    }
   ],
   "source": [
    "# df.set_index(): 지정한 컬럼을 인덱스로 할당함.\n",
    "idx_flat.set_index(['행정구역', '년도'])"
   ]
  },
  {
   "cell_type": "markdown",
   "metadata": {
    "id": "iTw6ejGdZuiw"
   },
   "source": [
    "## 데이터 연산"
   ]
  },
  {
   "cell_type": "code",
   "execution_count": 117,
   "metadata": {
    "ExecuteTime": {
     "end_time": "2022-04-02T14:04:54.393195Z",
     "start_time": "2022-04-02T14:04:54.380229Z"
    },
    "id": "s89AjfxyYp2u"
   },
   "outputs": [
    {
     "data": {
      "text/plain": [
       "0    1\n",
       "1    5\n",
       "2    4\n",
       "3    3\n",
       "4    5\n",
       "dtype: int32"
      ]
     },
     "execution_count": 117,
     "metadata": {},
     "output_type": "execute_result"
    }
   ],
   "source": [
    "s = pd.Series(np.random.randint(0, 10, 5))\n",
    "s"
   ]
  },
  {
   "cell_type": "code",
   "execution_count": 118,
   "metadata": {
    "ExecuteTime": {
     "end_time": "2022-04-02T14:04:54.408156Z",
     "start_time": "2022-04-02T14:04:54.395191Z"
    },
    "id": "EGXDMOzgZ8EW"
   },
   "outputs": [
    {
     "data": {
      "text/html": [
       "<div>\n",
       "<style scoped>\n",
       "    .dataframe tbody tr th:only-of-type {\n",
       "        vertical-align: middle;\n",
       "    }\n",
       "\n",
       "    .dataframe tbody tr th {\n",
       "        vertical-align: top;\n",
       "    }\n",
       "\n",
       "    .dataframe thead th {\n",
       "        text-align: right;\n",
       "    }\n",
       "</style>\n",
       "<table border=\"1\" class=\"dataframe\">\n",
       "  <thead>\n",
       "    <tr style=\"text-align: right;\">\n",
       "      <th></th>\n",
       "      <th>A</th>\n",
       "      <th>B</th>\n",
       "      <th>C</th>\n",
       "    </tr>\n",
       "  </thead>\n",
       "  <tbody>\n",
       "    <tr>\n",
       "      <th>0</th>\n",
       "      <td>6</td>\n",
       "      <td>4</td>\n",
       "      <td>6</td>\n",
       "    </tr>\n",
       "    <tr>\n",
       "      <th>1</th>\n",
       "      <td>5</td>\n",
       "      <td>4</td>\n",
       "      <td>5</td>\n",
       "    </tr>\n",
       "    <tr>\n",
       "      <th>2</th>\n",
       "      <td>5</td>\n",
       "      <td>5</td>\n",
       "      <td>6</td>\n",
       "    </tr>\n",
       "  </tbody>\n",
       "</table>\n",
       "</div>"
      ],
      "text/plain": [
       "   A  B  C\n",
       "0  6  4  6\n",
       "1  5  4  5\n",
       "2  5  5  6"
      ]
     },
     "execution_count": 118,
     "metadata": {},
     "output_type": "execute_result"
    }
   ],
   "source": [
    "df = pd.DataFrame(np.random.randint(0, 10, (3, 3)),\n",
    "                 columns=['A', 'B', 'C'])\n",
    "df"
   ]
  },
  {
   "cell_type": "code",
   "execution_count": 119,
   "metadata": {
    "ExecuteTime": {
     "end_time": "2022-04-02T14:04:54.423115Z",
     "start_time": "2022-04-02T14:04:54.411149Z"
    },
    "id": "iBbFzDqFabQv"
   },
   "outputs": [
    {
     "data": {
      "text/plain": [
       "0      2.718282\n",
       "1    148.413159\n",
       "2     54.598150\n",
       "3     20.085537\n",
       "4    148.413159\n",
       "dtype: float64"
      ]
     },
     "execution_count": 119,
     "metadata": {},
     "output_type": "execute_result"
    }
   ],
   "source": [
    "np.exp(s)"
   ]
  },
  {
   "cell_type": "code",
   "execution_count": 120,
   "metadata": {
    "ExecuteTime": {
     "end_time": "2022-04-02T14:04:54.438076Z",
     "start_time": "2022-04-02T14:04:54.425111Z"
    },
    "id": "LGsnlcjfagUv"
   },
   "outputs": [
    {
     "data": {
      "text/html": [
       "<div>\n",
       "<style scoped>\n",
       "    .dataframe tbody tr th:only-of-type {\n",
       "        vertical-align: middle;\n",
       "    }\n",
       "\n",
       "    .dataframe tbody tr th {\n",
       "        vertical-align: top;\n",
       "    }\n",
       "\n",
       "    .dataframe thead th {\n",
       "        text-align: right;\n",
       "    }\n",
       "</style>\n",
       "<table border=\"1\" class=\"dataframe\">\n",
       "  <thead>\n",
       "    <tr style=\"text-align: right;\">\n",
       "      <th></th>\n",
       "      <th>A</th>\n",
       "      <th>B</th>\n",
       "      <th>C</th>\n",
       "    </tr>\n",
       "  </thead>\n",
       "  <tbody>\n",
       "    <tr>\n",
       "      <th>0</th>\n",
       "      <td>-1.836970e-16</td>\n",
       "      <td>-1.000000</td>\n",
       "      <td>-1.836970e-16</td>\n",
       "    </tr>\n",
       "    <tr>\n",
       "      <th>1</th>\n",
       "      <td>-7.071068e-01</td>\n",
       "      <td>-1.000000</td>\n",
       "      <td>-7.071068e-01</td>\n",
       "    </tr>\n",
       "    <tr>\n",
       "      <th>2</th>\n",
       "      <td>-7.071068e-01</td>\n",
       "      <td>-0.707107</td>\n",
       "      <td>-1.836970e-16</td>\n",
       "    </tr>\n",
       "  </tbody>\n",
       "</table>\n",
       "</div>"
      ],
      "text/plain": [
       "              A         B             C\n",
       "0 -1.836970e-16 -1.000000 -1.836970e-16\n",
       "1 -7.071068e-01 -1.000000 -7.071068e-01\n",
       "2 -7.071068e-01 -0.707107 -1.836970e-16"
      ]
     },
     "execution_count": 120,
     "metadata": {},
     "output_type": "execute_result"
    }
   ],
   "source": [
    "np.cos(df * np.pi / 4)"
   ]
  },
  {
   "cell_type": "code",
   "execution_count": 121,
   "metadata": {
    "ExecuteTime": {
     "end_time": "2022-04-02T14:04:54.453072Z",
     "start_time": "2022-04-02T14:04:54.440070Z"
    },
    "id": "lUpXJh0uajOg"
   },
   "outputs": [
    {
     "data": {
      "text/plain": [
       "0     NaN\n",
       "1     5.0\n",
       "2     9.0\n",
       "3    13.0\n",
       "4    17.0\n",
       "5     NaN\n",
       "dtype: float64"
      ]
     },
     "execution_count": 121,
     "metadata": {},
     "output_type": "execute_result"
    }
   ],
   "source": [
    "# 연산시에는 인덱스가 기준임. 연산 불가능한 경우 null 반환하는 듯.\n",
    "s1 = pd.Series([1, 3, 5, 7, 9], index=[0, 1, 2, 3, 4])\n",
    "s2 = pd.Series([2, 4, 6, 8, 10], index=[1, 2, 3, 4, 5])\n",
    "s1 +s2"
   ]
  },
  {
   "cell_type": "code",
   "execution_count": 122,
   "metadata": {
    "ExecuteTime": {
     "end_time": "2022-04-02T14:04:54.467994Z",
     "start_time": "2022-04-02T14:04:54.455030Z"
    },
    "id": "UMNfm7S7caJd"
   },
   "outputs": [
    {
     "data": {
      "text/plain": [
       "0     1.0\n",
       "1     5.0\n",
       "2     9.0\n",
       "3    13.0\n",
       "4    17.0\n",
       "5    10.0\n",
       "dtype: float64"
      ]
     },
     "execution_count": 122,
     "metadata": {},
     "output_type": "execute_result"
    }
   ],
   "source": [
    "# 비어있는 곳에 0을 넣고 연산하는 방식임.\n",
    "s1.add(s2, fill_value=0)"
   ]
  },
  {
   "cell_type": "code",
   "execution_count": 123,
   "metadata": {
    "ExecuteTime": {
     "end_time": "2022-04-02T14:04:54.482955Z",
     "start_time": "2022-04-02T14:04:54.469989Z"
    },
    "id": "7gQjdKNYdHl4"
   },
   "outputs": [
    {
     "data": {
      "text/html": [
       "<div>\n",
       "<style scoped>\n",
       "    .dataframe tbody tr th:only-of-type {\n",
       "        vertical-align: middle;\n",
       "    }\n",
       "\n",
       "    .dataframe tbody tr th {\n",
       "        vertical-align: top;\n",
       "    }\n",
       "\n",
       "    .dataframe thead th {\n",
       "        text-align: right;\n",
       "    }\n",
       "</style>\n",
       "<table border=\"1\" class=\"dataframe\">\n",
       "  <thead>\n",
       "    <tr style=\"text-align: right;\">\n",
       "      <th></th>\n",
       "      <th>A</th>\n",
       "      <th>C</th>\n",
       "      <th>D</th>\n",
       "    </tr>\n",
       "  </thead>\n",
       "  <tbody>\n",
       "    <tr>\n",
       "      <th>0</th>\n",
       "      <td>12</td>\n",
       "      <td>16</td>\n",
       "      <td>4</td>\n",
       "    </tr>\n",
       "    <tr>\n",
       "      <th>1</th>\n",
       "      <td>3</td>\n",
       "      <td>4</td>\n",
       "      <td>17</td>\n",
       "    </tr>\n",
       "    <tr>\n",
       "      <th>2</th>\n",
       "      <td>7</td>\n",
       "      <td>13</td>\n",
       "      <td>0</td>\n",
       "    </tr>\n",
       "  </tbody>\n",
       "</table>\n",
       "</div>"
      ],
      "text/plain": [
       "    A   C   D\n",
       "0  12  16   4\n",
       "1   3   4  17\n",
       "2   7  13   0"
      ]
     },
     "execution_count": 123,
     "metadata": {},
     "output_type": "execute_result"
    }
   ],
   "source": [
    "df1 = pd.DataFrame(np.random.randint(0, 20, (3, 3)),\n",
    "                  columns=list('ACD')) #이런식으로 리스트 함수를 사용할 수 있구나?\n",
    "df1"
   ]
  },
  {
   "cell_type": "code",
   "execution_count": 124,
   "metadata": {
    "ExecuteTime": {
     "end_time": "2022-04-02T14:04:54.497915Z",
     "start_time": "2022-04-02T14:04:54.484958Z"
    },
    "id": "RFDnK7BHdUGM"
   },
   "outputs": [
    {
     "data": {
      "text/html": [
       "<div>\n",
       "<style scoped>\n",
       "    .dataframe tbody tr th:only-of-type {\n",
       "        vertical-align: middle;\n",
       "    }\n",
       "\n",
       "    .dataframe tbody tr th {\n",
       "        vertical-align: top;\n",
       "    }\n",
       "\n",
       "    .dataframe thead th {\n",
       "        text-align: right;\n",
       "    }\n",
       "</style>\n",
       "<table border=\"1\" class=\"dataframe\">\n",
       "  <thead>\n",
       "    <tr style=\"text-align: right;\">\n",
       "      <th></th>\n",
       "      <th>B</th>\n",
       "      <th>A</th>\n",
       "      <th>E</th>\n",
       "      <th>C</th>\n",
       "      <th>D</th>\n",
       "    </tr>\n",
       "  </thead>\n",
       "  <tbody>\n",
       "    <tr>\n",
       "      <th>0</th>\n",
       "      <td>17</td>\n",
       "      <td>9</td>\n",
       "      <td>18</td>\n",
       "      <td>0</td>\n",
       "      <td>13</td>\n",
       "    </tr>\n",
       "    <tr>\n",
       "      <th>1</th>\n",
       "      <td>10</td>\n",
       "      <td>12</td>\n",
       "      <td>1</td>\n",
       "      <td>9</td>\n",
       "      <td>0</td>\n",
       "    </tr>\n",
       "    <tr>\n",
       "      <th>2</th>\n",
       "      <td>1</td>\n",
       "      <td>14</td>\n",
       "      <td>13</td>\n",
       "      <td>18</td>\n",
       "      <td>1</td>\n",
       "    </tr>\n",
       "    <tr>\n",
       "      <th>3</th>\n",
       "      <td>3</td>\n",
       "      <td>6</td>\n",
       "      <td>10</td>\n",
       "      <td>14</td>\n",
       "      <td>18</td>\n",
       "    </tr>\n",
       "    <tr>\n",
       "      <th>4</th>\n",
       "      <td>3</td>\n",
       "      <td>8</td>\n",
       "      <td>3</td>\n",
       "      <td>5</td>\n",
       "      <td>16</td>\n",
       "    </tr>\n",
       "  </tbody>\n",
       "</table>\n",
       "</div>"
      ],
      "text/plain": [
       "    B   A   E   C   D\n",
       "0  17   9  18   0  13\n",
       "1  10  12   1   9   0\n",
       "2   1  14  13  18   1\n",
       "3   3   6  10  14  18\n",
       "4   3   8   3   5  16"
      ]
     },
     "execution_count": 124,
     "metadata": {},
     "output_type": "execute_result"
    }
   ],
   "source": [
    "df2 = pd.DataFrame(np.random.randint(0, 20, (5, 5)),\n",
    "                  columns=list('BAECD')) #이런식으로 리스트 함수를 사용할 수 있구나?\n",
    "df2"
   ]
  },
  {
   "cell_type": "code",
   "execution_count": 125,
   "metadata": {
    "ExecuteTime": {
     "end_time": "2022-04-02T14:04:54.527838Z",
     "start_time": "2022-04-02T14:04:54.499910Z"
    },
    "id": "2ZtF9SKVdeuy"
   },
   "outputs": [
    {
     "data": {
      "text/html": [
       "<div>\n",
       "<style scoped>\n",
       "    .dataframe tbody tr th:only-of-type {\n",
       "        vertical-align: middle;\n",
       "    }\n",
       "\n",
       "    .dataframe tbody tr th {\n",
       "        vertical-align: top;\n",
       "    }\n",
       "\n",
       "    .dataframe thead th {\n",
       "        text-align: right;\n",
       "    }\n",
       "</style>\n",
       "<table border=\"1\" class=\"dataframe\">\n",
       "  <thead>\n",
       "    <tr style=\"text-align: right;\">\n",
       "      <th></th>\n",
       "      <th>A</th>\n",
       "      <th>B</th>\n",
       "      <th>C</th>\n",
       "      <th>D</th>\n",
       "      <th>E</th>\n",
       "    </tr>\n",
       "  </thead>\n",
       "  <tbody>\n",
       "    <tr>\n",
       "      <th>0</th>\n",
       "      <td>21.0</td>\n",
       "      <td>NaN</td>\n",
       "      <td>16.0</td>\n",
       "      <td>17.0</td>\n",
       "      <td>NaN</td>\n",
       "    </tr>\n",
       "    <tr>\n",
       "      <th>1</th>\n",
       "      <td>15.0</td>\n",
       "      <td>NaN</td>\n",
       "      <td>13.0</td>\n",
       "      <td>17.0</td>\n",
       "      <td>NaN</td>\n",
       "    </tr>\n",
       "    <tr>\n",
       "      <th>2</th>\n",
       "      <td>21.0</td>\n",
       "      <td>NaN</td>\n",
       "      <td>31.0</td>\n",
       "      <td>1.0</td>\n",
       "      <td>NaN</td>\n",
       "    </tr>\n",
       "    <tr>\n",
       "      <th>3</th>\n",
       "      <td>NaN</td>\n",
       "      <td>NaN</td>\n",
       "      <td>NaN</td>\n",
       "      <td>NaN</td>\n",
       "      <td>NaN</td>\n",
       "    </tr>\n",
       "    <tr>\n",
       "      <th>4</th>\n",
       "      <td>NaN</td>\n",
       "      <td>NaN</td>\n",
       "      <td>NaN</td>\n",
       "      <td>NaN</td>\n",
       "      <td>NaN</td>\n",
       "    </tr>\n",
       "  </tbody>\n",
       "</table>\n",
       "</div>"
      ],
      "text/plain": [
       "      A   B     C     D   E\n",
       "0  21.0 NaN  16.0  17.0 NaN\n",
       "1  15.0 NaN  13.0  17.0 NaN\n",
       "2  21.0 NaN  31.0   1.0 NaN\n",
       "3   NaN NaN   NaN   NaN NaN\n",
       "4   NaN NaN   NaN   NaN NaN"
      ]
     },
     "execution_count": 125,
     "metadata": {},
     "output_type": "execute_result"
    }
   ],
   "source": [
    "df1 + df2"
   ]
  },
  {
   "cell_type": "code",
   "execution_count": 126,
   "metadata": {
    "ExecuteTime": {
     "end_time": "2022-04-02T14:04:54.557781Z",
     "start_time": "2022-04-02T14:04:54.529830Z"
    },
    "id": "jHQflTypdq7U"
   },
   "outputs": [
    {
     "name": "stdout",
     "output_type": "stream",
     "text": [
      "0  A    12\n",
      "   C    16\n",
      "   D     4\n",
      "1  A     3\n",
      "   C     4\n",
      "   D    17\n",
      "2  A     7\n",
      "   C    13\n",
      "   D     0\n",
      "dtype: int32\n",
      "fvalue: 8.444444444444445\n",
      "df1.mean().mean(): 8.444444444444445\n"
     ]
    },
    {
     "data": {
      "text/html": [
       "<div>\n",
       "<style scoped>\n",
       "    .dataframe tbody tr th:only-of-type {\n",
       "        vertical-align: middle;\n",
       "    }\n",
       "\n",
       "    .dataframe tbody tr th {\n",
       "        vertical-align: top;\n",
       "    }\n",
       "\n",
       "    .dataframe thead th {\n",
       "        text-align: right;\n",
       "    }\n",
       "</style>\n",
       "<table border=\"1\" class=\"dataframe\">\n",
       "  <thead>\n",
       "    <tr style=\"text-align: right;\">\n",
       "      <th></th>\n",
       "      <th>A</th>\n",
       "      <th>B</th>\n",
       "      <th>C</th>\n",
       "      <th>D</th>\n",
       "      <th>E</th>\n",
       "    </tr>\n",
       "  </thead>\n",
       "  <tbody>\n",
       "    <tr>\n",
       "      <th>0</th>\n",
       "      <td>21.000000</td>\n",
       "      <td>25.444444</td>\n",
       "      <td>16.000000</td>\n",
       "      <td>17.000000</td>\n",
       "      <td>26.444444</td>\n",
       "    </tr>\n",
       "    <tr>\n",
       "      <th>1</th>\n",
       "      <td>15.000000</td>\n",
       "      <td>18.444444</td>\n",
       "      <td>13.000000</td>\n",
       "      <td>17.000000</td>\n",
       "      <td>9.444444</td>\n",
       "    </tr>\n",
       "    <tr>\n",
       "      <th>2</th>\n",
       "      <td>21.000000</td>\n",
       "      <td>9.444444</td>\n",
       "      <td>31.000000</td>\n",
       "      <td>1.000000</td>\n",
       "      <td>21.444444</td>\n",
       "    </tr>\n",
       "    <tr>\n",
       "      <th>3</th>\n",
       "      <td>14.444444</td>\n",
       "      <td>11.444444</td>\n",
       "      <td>22.444444</td>\n",
       "      <td>26.444444</td>\n",
       "      <td>18.444444</td>\n",
       "    </tr>\n",
       "    <tr>\n",
       "      <th>4</th>\n",
       "      <td>16.444444</td>\n",
       "      <td>11.444444</td>\n",
       "      <td>13.444444</td>\n",
       "      <td>24.444444</td>\n",
       "      <td>11.444444</td>\n",
       "    </tr>\n",
       "  </tbody>\n",
       "</table>\n",
       "</div>"
      ],
      "text/plain": [
       "           A          B          C          D          E\n",
       "0  21.000000  25.444444  16.000000  17.000000  26.444444\n",
       "1  15.000000  18.444444  13.000000  17.000000   9.444444\n",
       "2  21.000000   9.444444  31.000000   1.000000  21.444444\n",
       "3  14.444444  11.444444  22.444444  26.444444  18.444444\n",
       "4  16.444444  11.444444  13.444444  24.444444  11.444444"
      ]
     },
     "execution_count": 126,
     "metadata": {},
     "output_type": "execute_result"
    }
   ],
   "source": [
    "fvalue = df1.stack().mean() #하나의 시리즈로 만들기 위해서 이런식으로 해놓은 듯.\n",
    "print(df1.stack())\n",
    "print('fvalue:', fvalue)\n",
    "print('df1.mean().mean():', df1.mean().mean())\n",
    "df1.add(df2, fill_value=fvalue)"
   ]
  },
  {
   "cell_type": "markdown",
   "metadata": {
    "id": "zAl0KQLGfOGu"
   },
   "source": [
    "### 연산자 범용 함수\n"
   ]
  },
  {
   "cell_type": "markdown",
   "metadata": {
    "id": "rtf6di7UxZm-"
   },
   "source": [
    "#### add(): 더하기"
   ]
  },
  {
   "cell_type": "markdown",
   "metadata": {},
   "source": [
    "* 넘파이에서 동작하는 것과 유사함."
   ]
  },
  {
   "cell_type": "code",
   "execution_count": 127,
   "metadata": {
    "ExecuteTime": {
     "end_time": "2022-04-02T14:04:54.572715Z",
     "start_time": "2022-04-02T14:04:54.559750Z"
    },
    "id": "S0ZrcMDNevbl"
   },
   "outputs": [
    {
     "data": {
      "text/plain": [
       "array([[1, 1, 9],\n",
       "       [8, 6, 4],\n",
       "       [4, 1, 3]])"
      ]
     },
     "execution_count": 127,
     "metadata": {},
     "output_type": "execute_result"
    }
   ],
   "source": [
    "a = np.random.randint(1, 10, size=(3, 3))\n",
    "a"
   ]
  },
  {
   "cell_type": "code",
   "execution_count": 128,
   "metadata": {
    "ExecuteTime": {
     "end_time": "2022-04-02T14:04:54.587707Z",
     "start_time": "2022-04-02T14:04:54.574709Z"
    },
    "id": "XwyOkCCRiJUJ"
   },
   "outputs": [
    {
     "data": {
      "text/plain": [
       "array([[ 2,  2, 18],\n",
       "       [ 9,  7, 13],\n",
       "       [ 5,  2, 12]])"
      ]
     },
     "execution_count": 128,
     "metadata": {},
     "output_type": "execute_result"
    }
   ],
   "source": [
    "a + a[0]"
   ]
  },
  {
   "cell_type": "code",
   "execution_count": 129,
   "metadata": {
    "ExecuteTime": {
     "end_time": "2022-04-02T14:04:54.602670Z",
     "start_time": "2022-04-02T14:04:54.589674Z"
    },
    "id": "qIZRHvYqhnb4"
   },
   "outputs": [
    {
     "data": {
      "text/html": [
       "<div>\n",
       "<style scoped>\n",
       "    .dataframe tbody tr th:only-of-type {\n",
       "        vertical-align: middle;\n",
       "    }\n",
       "\n",
       "    .dataframe tbody tr th {\n",
       "        vertical-align: top;\n",
       "    }\n",
       "\n",
       "    .dataframe thead th {\n",
       "        text-align: right;\n",
       "    }\n",
       "</style>\n",
       "<table border=\"1\" class=\"dataframe\">\n",
       "  <thead>\n",
       "    <tr style=\"text-align: right;\">\n",
       "      <th></th>\n",
       "      <th>A</th>\n",
       "      <th>B</th>\n",
       "      <th>C</th>\n",
       "    </tr>\n",
       "  </thead>\n",
       "  <tbody>\n",
       "    <tr>\n",
       "      <th>0</th>\n",
       "      <td>1</td>\n",
       "      <td>1</td>\n",
       "      <td>9</td>\n",
       "    </tr>\n",
       "    <tr>\n",
       "      <th>1</th>\n",
       "      <td>8</td>\n",
       "      <td>6</td>\n",
       "      <td>4</td>\n",
       "    </tr>\n",
       "    <tr>\n",
       "      <th>2</th>\n",
       "      <td>4</td>\n",
       "      <td>1</td>\n",
       "      <td>3</td>\n",
       "    </tr>\n",
       "  </tbody>\n",
       "</table>\n",
       "</div>"
      ],
      "text/plain": [
       "   A  B  C\n",
       "0  1  1  9\n",
       "1  8  6  4\n",
       "2  4  1  3"
      ]
     },
     "execution_count": 129,
     "metadata": {},
     "output_type": "execute_result"
    }
   ],
   "source": [
    "df = pd.DataFrame(a, columns=list('ABC'))\n",
    "df"
   ]
  },
  {
   "cell_type": "code",
   "execution_count": 130,
   "metadata": {
    "ExecuteTime": {
     "end_time": "2022-04-02T14:04:54.617638Z",
     "start_time": "2022-04-02T14:04:54.604629Z"
    },
    "id": "wJVgHWuVxpMJ"
   },
   "outputs": [
    {
     "data": {
      "text/html": [
       "<div>\n",
       "<style scoped>\n",
       "    .dataframe tbody tr th:only-of-type {\n",
       "        vertical-align: middle;\n",
       "    }\n",
       "\n",
       "    .dataframe tbody tr th {\n",
       "        vertical-align: top;\n",
       "    }\n",
       "\n",
       "    .dataframe thead th {\n",
       "        text-align: right;\n",
       "    }\n",
       "</style>\n",
       "<table border=\"1\" class=\"dataframe\">\n",
       "  <thead>\n",
       "    <tr style=\"text-align: right;\">\n",
       "      <th></th>\n",
       "      <th>A</th>\n",
       "      <th>B</th>\n",
       "      <th>C</th>\n",
       "    </tr>\n",
       "  </thead>\n",
       "  <tbody>\n",
       "    <tr>\n",
       "      <th>0</th>\n",
       "      <td>2</td>\n",
       "      <td>2</td>\n",
       "      <td>18</td>\n",
       "    </tr>\n",
       "    <tr>\n",
       "      <th>1</th>\n",
       "      <td>9</td>\n",
       "      <td>7</td>\n",
       "      <td>13</td>\n",
       "    </tr>\n",
       "    <tr>\n",
       "      <th>2</th>\n",
       "      <td>5</td>\n",
       "      <td>2</td>\n",
       "      <td>12</td>\n",
       "    </tr>\n",
       "  </tbody>\n",
       "</table>\n",
       "</div>"
      ],
      "text/plain": [
       "   A  B   C\n",
       "0  2  2  18\n",
       "1  9  7  13\n",
       "2  5  2  12"
      ]
     },
     "execution_count": 130,
     "metadata": {},
     "output_type": "execute_result"
    }
   ],
   "source": [
    "df + df.iloc[0]"
   ]
  },
  {
   "cell_type": "code",
   "execution_count": 131,
   "metadata": {
    "ExecuteTime": {
     "end_time": "2022-04-02T14:04:54.632556Z",
     "start_time": "2022-04-02T14:04:54.619591Z"
    },
    "id": "O_OF4OrGq5Cl"
   },
   "outputs": [
    {
     "data": {
      "text/html": [
       "<div>\n",
       "<style scoped>\n",
       "    .dataframe tbody tr th:only-of-type {\n",
       "        vertical-align: middle;\n",
       "    }\n",
       "\n",
       "    .dataframe tbody tr th {\n",
       "        vertical-align: top;\n",
       "    }\n",
       "\n",
       "    .dataframe thead th {\n",
       "        text-align: right;\n",
       "    }\n",
       "</style>\n",
       "<table border=\"1\" class=\"dataframe\">\n",
       "  <thead>\n",
       "    <tr style=\"text-align: right;\">\n",
       "      <th></th>\n",
       "      <th>A</th>\n",
       "      <th>B</th>\n",
       "      <th>C</th>\n",
       "    </tr>\n",
       "  </thead>\n",
       "  <tbody>\n",
       "    <tr>\n",
       "      <th>0</th>\n",
       "      <td>2</td>\n",
       "      <td>2</td>\n",
       "      <td>18</td>\n",
       "    </tr>\n",
       "    <tr>\n",
       "      <th>1</th>\n",
       "      <td>9</td>\n",
       "      <td>7</td>\n",
       "      <td>13</td>\n",
       "    </tr>\n",
       "    <tr>\n",
       "      <th>2</th>\n",
       "      <td>5</td>\n",
       "      <td>2</td>\n",
       "      <td>12</td>\n",
       "    </tr>\n",
       "  </tbody>\n",
       "</table>\n",
       "</div>"
      ],
      "text/plain": [
       "   A  B   C\n",
       "0  2  2  18\n",
       "1  9  7  13\n",
       "2  5  2  12"
      ]
     },
     "execution_count": 131,
     "metadata": {},
     "output_type": "execute_result"
    }
   ],
   "source": [
    "df.add(df.iloc[0])"
   ]
  },
  {
   "cell_type": "markdown",
   "metadata": {
    "id": "b32g_aLTxriU"
   },
   "source": [
    "#### sub() / subtract(): 빼기"
   ]
  },
  {
   "cell_type": "code",
   "execution_count": 132,
   "metadata": {
    "ExecuteTime": {
     "end_time": "2022-04-02T14:04:54.647516Z",
     "start_time": "2022-04-02T14:04:54.634552Z"
    },
    "id": "_eJ9wpPKM8Ue"
   },
   "outputs": [
    {
     "data": {
      "text/plain": [
       "array([[1, 1, 9],\n",
       "       [8, 6, 4],\n",
       "       [4, 1, 3]])"
      ]
     },
     "execution_count": 132,
     "metadata": {},
     "output_type": "execute_result"
    }
   ],
   "source": [
    "a"
   ]
  },
  {
   "cell_type": "code",
   "execution_count": 133,
   "metadata": {
    "ExecuteTime": {
     "end_time": "2022-04-02T14:04:54.662476Z",
     "start_time": "2022-04-02T14:04:54.649513Z"
    },
    "id": "d2kvlPJRhj05"
   },
   "outputs": [
    {
     "data": {
      "text/plain": [
       "array([[ 0,  0,  0],\n",
       "       [ 7,  5, -5],\n",
       "       [ 3,  0, -6]])"
      ]
     },
     "execution_count": 133,
     "metadata": {},
     "output_type": "execute_result"
    }
   ],
   "source": [
    "a - a[0]"
   ]
  },
  {
   "cell_type": "code",
   "execution_count": 134,
   "metadata": {
    "ExecuteTime": {
     "end_time": "2022-04-02T14:04:54.677436Z",
     "start_time": "2022-04-02T14:04:54.663474Z"
    },
    "id": "4_BYRrbnxzxV"
   },
   "outputs": [
    {
     "data": {
      "text/html": [
       "<div>\n",
       "<style scoped>\n",
       "    .dataframe tbody tr th:only-of-type {\n",
       "        vertical-align: middle;\n",
       "    }\n",
       "\n",
       "    .dataframe tbody tr th {\n",
       "        vertical-align: top;\n",
       "    }\n",
       "\n",
       "    .dataframe thead th {\n",
       "        text-align: right;\n",
       "    }\n",
       "</style>\n",
       "<table border=\"1\" class=\"dataframe\">\n",
       "  <thead>\n",
       "    <tr style=\"text-align: right;\">\n",
       "      <th></th>\n",
       "      <th>A</th>\n",
       "      <th>B</th>\n",
       "      <th>C</th>\n",
       "    </tr>\n",
       "  </thead>\n",
       "  <tbody>\n",
       "    <tr>\n",
       "      <th>0</th>\n",
       "      <td>1</td>\n",
       "      <td>1</td>\n",
       "      <td>9</td>\n",
       "    </tr>\n",
       "    <tr>\n",
       "      <th>1</th>\n",
       "      <td>8</td>\n",
       "      <td>6</td>\n",
       "      <td>4</td>\n",
       "    </tr>\n",
       "    <tr>\n",
       "      <th>2</th>\n",
       "      <td>4</td>\n",
       "      <td>1</td>\n",
       "      <td>3</td>\n",
       "    </tr>\n",
       "  </tbody>\n",
       "</table>\n",
       "</div>"
      ],
      "text/plain": [
       "   A  B  C\n",
       "0  1  1  9\n",
       "1  8  6  4\n",
       "2  4  1  3"
      ]
     },
     "execution_count": 134,
     "metadata": {},
     "output_type": "execute_result"
    }
   ],
   "source": [
    "df "
   ]
  },
  {
   "cell_type": "code",
   "execution_count": 135,
   "metadata": {
    "ExecuteTime": {
     "end_time": "2022-04-02T14:04:54.692396Z",
     "start_time": "2022-04-02T14:04:54.679433Z"
    },
    "id": "u2AUSDI8q9z3"
   },
   "outputs": [
    {
     "data": {
      "text/html": [
       "<div>\n",
       "<style scoped>\n",
       "    .dataframe tbody tr th:only-of-type {\n",
       "        vertical-align: middle;\n",
       "    }\n",
       "\n",
       "    .dataframe tbody tr th {\n",
       "        vertical-align: top;\n",
       "    }\n",
       "\n",
       "    .dataframe thead th {\n",
       "        text-align: right;\n",
       "    }\n",
       "</style>\n",
       "<table border=\"1\" class=\"dataframe\">\n",
       "  <thead>\n",
       "    <tr style=\"text-align: right;\">\n",
       "      <th></th>\n",
       "      <th>A</th>\n",
       "      <th>B</th>\n",
       "      <th>C</th>\n",
       "    </tr>\n",
       "  </thead>\n",
       "  <tbody>\n",
       "    <tr>\n",
       "      <th>0</th>\n",
       "      <td>0</td>\n",
       "      <td>0</td>\n",
       "      <td>0</td>\n",
       "    </tr>\n",
       "    <tr>\n",
       "      <th>1</th>\n",
       "      <td>7</td>\n",
       "      <td>5</td>\n",
       "      <td>-5</td>\n",
       "    </tr>\n",
       "    <tr>\n",
       "      <th>2</th>\n",
       "      <td>3</td>\n",
       "      <td>0</td>\n",
       "      <td>-6</td>\n",
       "    </tr>\n",
       "  </tbody>\n",
       "</table>\n",
       "</div>"
      ],
      "text/plain": [
       "   A  B  C\n",
       "0  0  0  0\n",
       "1  7  5 -5\n",
       "2  3  0 -6"
      ]
     },
     "execution_count": 135,
     "metadata": {},
     "output_type": "execute_result"
    }
   ],
   "source": [
    "df - df.iloc[0]"
   ]
  },
  {
   "cell_type": "code",
   "execution_count": 136,
   "metadata": {
    "ExecuteTime": {
     "end_time": "2022-04-02T14:04:54.707354Z",
     "start_time": "2022-04-02T14:04:54.694393Z"
    },
    "id": "JTtB-d7lxKCj"
   },
   "outputs": [
    {
     "data": {
      "text/html": [
       "<div>\n",
       "<style scoped>\n",
       "    .dataframe tbody tr th:only-of-type {\n",
       "        vertical-align: middle;\n",
       "    }\n",
       "\n",
       "    .dataframe tbody tr th {\n",
       "        vertical-align: top;\n",
       "    }\n",
       "\n",
       "    .dataframe thead th {\n",
       "        text-align: right;\n",
       "    }\n",
       "</style>\n",
       "<table border=\"1\" class=\"dataframe\">\n",
       "  <thead>\n",
       "    <tr style=\"text-align: right;\">\n",
       "      <th></th>\n",
       "      <th>A</th>\n",
       "      <th>B</th>\n",
       "      <th>C</th>\n",
       "    </tr>\n",
       "  </thead>\n",
       "  <tbody>\n",
       "    <tr>\n",
       "      <th>0</th>\n",
       "      <td>0</td>\n",
       "      <td>0</td>\n",
       "      <td>0</td>\n",
       "    </tr>\n",
       "    <tr>\n",
       "      <th>1</th>\n",
       "      <td>7</td>\n",
       "      <td>5</td>\n",
       "      <td>-5</td>\n",
       "    </tr>\n",
       "    <tr>\n",
       "      <th>2</th>\n",
       "      <td>3</td>\n",
       "      <td>0</td>\n",
       "      <td>-6</td>\n",
       "    </tr>\n",
       "  </tbody>\n",
       "</table>\n",
       "</div>"
      ],
      "text/plain": [
       "   A  B  C\n",
       "0  0  0  0\n",
       "1  7  5 -5\n",
       "2  3  0 -6"
      ]
     },
     "execution_count": 136,
     "metadata": {},
     "output_type": "execute_result"
    }
   ],
   "source": [
    "df.sub(df.iloc[0])"
   ]
  },
  {
   "cell_type": "code",
   "execution_count": 137,
   "metadata": {
    "ExecuteTime": {
     "end_time": "2022-04-02T14:04:54.722350Z",
     "start_time": "2022-04-02T14:04:54.709349Z"
    },
    "id": "fLHUViwohvsr"
   },
   "outputs": [
    {
     "data": {
      "text/html": [
       "<div>\n",
       "<style scoped>\n",
       "    .dataframe tbody tr th:only-of-type {\n",
       "        vertical-align: middle;\n",
       "    }\n",
       "\n",
       "    .dataframe tbody tr th {\n",
       "        vertical-align: top;\n",
       "    }\n",
       "\n",
       "    .dataframe thead th {\n",
       "        text-align: right;\n",
       "    }\n",
       "</style>\n",
       "<table border=\"1\" class=\"dataframe\">\n",
       "  <thead>\n",
       "    <tr style=\"text-align: right;\">\n",
       "      <th></th>\n",
       "      <th>A</th>\n",
       "      <th>B</th>\n",
       "      <th>C</th>\n",
       "    </tr>\n",
       "  </thead>\n",
       "  <tbody>\n",
       "    <tr>\n",
       "      <th>0</th>\n",
       "      <td>0</td>\n",
       "      <td>0</td>\n",
       "      <td>8</td>\n",
       "    </tr>\n",
       "    <tr>\n",
       "      <th>1</th>\n",
       "      <td>2</td>\n",
       "      <td>0</td>\n",
       "      <td>-2</td>\n",
       "    </tr>\n",
       "    <tr>\n",
       "      <th>2</th>\n",
       "      <td>3</td>\n",
       "      <td>0</td>\n",
       "      <td>2</td>\n",
       "    </tr>\n",
       "  </tbody>\n",
       "</table>\n",
       "</div>"
      ],
      "text/plain": [
       "   A  B  C\n",
       "0  0  0  8\n",
       "1  2  0 -2\n",
       "2  3  0  2"
      ]
     },
     "execution_count": 137,
     "metadata": {},
     "output_type": "execute_result"
    }
   ],
   "source": [
    "# 줄여서 sub로 사용하는 것임.\n",
    "# 시리즈를 가지고, 컬럼별로 빼는 것임. 즉, 대상 행의 개수와, 뺄 시리즈의 길이는 같아야 함.\n",
    "df.subtract(df['B'], axis=0)"
   ]
  },
  {
   "cell_type": "markdown",
   "metadata": {
    "id": "k57PyNCpzN0e"
   },
   "source": [
    "#### mul() / multply(): 곱하기\n",
    "\n",
    "\n"
   ]
  },
  {
   "cell_type": "code",
   "execution_count": 138,
   "metadata": {
    "ExecuteTime": {
     "end_time": "2022-04-02T14:04:54.737306Z",
     "start_time": "2022-04-02T14:04:54.724309Z"
    },
    "id": "oeNX64mMzl8X"
   },
   "outputs": [
    {
     "data": {
      "text/plain": [
       "array([[1, 1, 9],\n",
       "       [8, 6, 4],\n",
       "       [4, 1, 3]])"
      ]
     },
     "execution_count": 138,
     "metadata": {},
     "output_type": "execute_result"
    }
   ],
   "source": [
    "a"
   ]
  },
  {
   "cell_type": "code",
   "execution_count": 139,
   "metadata": {
    "ExecuteTime": {
     "end_time": "2022-04-02T14:04:54.752236Z",
     "start_time": "2022-04-02T14:04:54.739270Z"
    },
    "id": "9XwcE7ySiMvS"
   },
   "outputs": [
    {
     "data": {
      "text/plain": [
       "array([[ 1,  1, 81],\n",
       "       [ 8,  6, 36],\n",
       "       [ 4,  1, 27]])"
      ]
     },
     "execution_count": 139,
     "metadata": {},
     "output_type": "execute_result"
    }
   ],
   "source": [
    "a * a[0]"
   ]
  },
  {
   "cell_type": "code",
   "execution_count": 140,
   "metadata": {
    "ExecuteTime": {
     "end_time": "2022-04-02T14:04:54.767227Z",
     "start_time": "2022-04-02T14:04:54.754234Z"
    },
    "id": "42xISoWmzm8M"
   },
   "outputs": [
    {
     "data": {
      "text/html": [
       "<div>\n",
       "<style scoped>\n",
       "    .dataframe tbody tr th:only-of-type {\n",
       "        vertical-align: middle;\n",
       "    }\n",
       "\n",
       "    .dataframe tbody tr th {\n",
       "        vertical-align: top;\n",
       "    }\n",
       "\n",
       "    .dataframe thead th {\n",
       "        text-align: right;\n",
       "    }\n",
       "</style>\n",
       "<table border=\"1\" class=\"dataframe\">\n",
       "  <thead>\n",
       "    <tr style=\"text-align: right;\">\n",
       "      <th></th>\n",
       "      <th>A</th>\n",
       "      <th>B</th>\n",
       "      <th>C</th>\n",
       "    </tr>\n",
       "  </thead>\n",
       "  <tbody>\n",
       "    <tr>\n",
       "      <th>0</th>\n",
       "      <td>1</td>\n",
       "      <td>1</td>\n",
       "      <td>9</td>\n",
       "    </tr>\n",
       "    <tr>\n",
       "      <th>1</th>\n",
       "      <td>8</td>\n",
       "      <td>6</td>\n",
       "      <td>4</td>\n",
       "    </tr>\n",
       "    <tr>\n",
       "      <th>2</th>\n",
       "      <td>4</td>\n",
       "      <td>1</td>\n",
       "      <td>3</td>\n",
       "    </tr>\n",
       "  </tbody>\n",
       "</table>\n",
       "</div>"
      ],
      "text/plain": [
       "   A  B  C\n",
       "0  1  1  9\n",
       "1  8  6  4\n",
       "2  4  1  3"
      ]
     },
     "execution_count": 140,
     "metadata": {},
     "output_type": "execute_result"
    }
   ],
   "source": [
    "df"
   ]
  },
  {
   "cell_type": "code",
   "execution_count": 141,
   "metadata": {
    "ExecuteTime": {
     "end_time": "2022-04-02T14:04:54.782156Z",
     "start_time": "2022-04-02T14:04:54.769190Z"
    },
    "id": "aS6XjFjCh2Jn"
   },
   "outputs": [
    {
     "data": {
      "text/html": [
       "<div>\n",
       "<style scoped>\n",
       "    .dataframe tbody tr th:only-of-type {\n",
       "        vertical-align: middle;\n",
       "    }\n",
       "\n",
       "    .dataframe tbody tr th {\n",
       "        vertical-align: top;\n",
       "    }\n",
       "\n",
       "    .dataframe thead th {\n",
       "        text-align: right;\n",
       "    }\n",
       "</style>\n",
       "<table border=\"1\" class=\"dataframe\">\n",
       "  <thead>\n",
       "    <tr style=\"text-align: right;\">\n",
       "      <th></th>\n",
       "      <th>A</th>\n",
       "      <th>B</th>\n",
       "      <th>C</th>\n",
       "    </tr>\n",
       "  </thead>\n",
       "  <tbody>\n",
       "    <tr>\n",
       "      <th>0</th>\n",
       "      <td>8</td>\n",
       "      <td>6</td>\n",
       "      <td>36</td>\n",
       "    </tr>\n",
       "    <tr>\n",
       "      <th>1</th>\n",
       "      <td>64</td>\n",
       "      <td>36</td>\n",
       "      <td>16</td>\n",
       "    </tr>\n",
       "    <tr>\n",
       "      <th>2</th>\n",
       "      <td>32</td>\n",
       "      <td>6</td>\n",
       "      <td>12</td>\n",
       "    </tr>\n",
       "  </tbody>\n",
       "</table>\n",
       "</div>"
      ],
      "text/plain": [
       "    A   B   C\n",
       "0   8   6  36\n",
       "1  64  36  16\n",
       "2  32   6  12"
      ]
     },
     "execution_count": 141,
     "metadata": {},
     "output_type": "execute_result"
    }
   ],
   "source": [
    "df * df.iloc[1]"
   ]
  },
  {
   "cell_type": "code",
   "execution_count": 142,
   "metadata": {
    "ExecuteTime": {
     "end_time": "2022-04-02T14:04:54.797116Z",
     "start_time": "2022-04-02T14:04:54.784151Z"
    },
    "id": "GxIj27xmrGAR"
   },
   "outputs": [
    {
     "data": {
      "text/html": [
       "<div>\n",
       "<style scoped>\n",
       "    .dataframe tbody tr th:only-of-type {\n",
       "        vertical-align: middle;\n",
       "    }\n",
       "\n",
       "    .dataframe tbody tr th {\n",
       "        vertical-align: top;\n",
       "    }\n",
       "\n",
       "    .dataframe thead th {\n",
       "        text-align: right;\n",
       "    }\n",
       "</style>\n",
       "<table border=\"1\" class=\"dataframe\">\n",
       "  <thead>\n",
       "    <tr style=\"text-align: right;\">\n",
       "      <th></th>\n",
       "      <th>A</th>\n",
       "      <th>B</th>\n",
       "      <th>C</th>\n",
       "    </tr>\n",
       "  </thead>\n",
       "  <tbody>\n",
       "    <tr>\n",
       "      <th>0</th>\n",
       "      <td>8</td>\n",
       "      <td>6</td>\n",
       "      <td>36</td>\n",
       "    </tr>\n",
       "    <tr>\n",
       "      <th>1</th>\n",
       "      <td>64</td>\n",
       "      <td>36</td>\n",
       "      <td>16</td>\n",
       "    </tr>\n",
       "    <tr>\n",
       "      <th>2</th>\n",
       "      <td>32</td>\n",
       "      <td>6</td>\n",
       "      <td>12</td>\n",
       "    </tr>\n",
       "  </tbody>\n",
       "</table>\n",
       "</div>"
      ],
      "text/plain": [
       "    A   B   C\n",
       "0   8   6  36\n",
       "1  64  36  16\n",
       "2  32   6  12"
      ]
     },
     "execution_count": 142,
     "metadata": {},
     "output_type": "execute_result"
    }
   ],
   "source": [
    "df.mul(df.iloc[1])"
   ]
  },
  {
   "cell_type": "code",
   "execution_count": 143,
   "metadata": {
    "ExecuteTime": {
     "end_time": "2022-04-02T14:04:54.812076Z",
     "start_time": "2022-04-02T14:04:54.799110Z"
    },
    "id": "HpE8CYBVvUML"
   },
   "outputs": [
    {
     "data": {
      "text/html": [
       "<div>\n",
       "<style scoped>\n",
       "    .dataframe tbody tr th:only-of-type {\n",
       "        vertical-align: middle;\n",
       "    }\n",
       "\n",
       "    .dataframe tbody tr th {\n",
       "        vertical-align: top;\n",
       "    }\n",
       "\n",
       "    .dataframe thead th {\n",
       "        text-align: right;\n",
       "    }\n",
       "</style>\n",
       "<table border=\"1\" class=\"dataframe\">\n",
       "  <thead>\n",
       "    <tr style=\"text-align: right;\">\n",
       "      <th></th>\n",
       "      <th>A</th>\n",
       "      <th>B</th>\n",
       "      <th>C</th>\n",
       "    </tr>\n",
       "  </thead>\n",
       "  <tbody>\n",
       "    <tr>\n",
       "      <th>0</th>\n",
       "      <td>8</td>\n",
       "      <td>6</td>\n",
       "      <td>36</td>\n",
       "    </tr>\n",
       "    <tr>\n",
       "      <th>1</th>\n",
       "      <td>64</td>\n",
       "      <td>36</td>\n",
       "      <td>16</td>\n",
       "    </tr>\n",
       "    <tr>\n",
       "      <th>2</th>\n",
       "      <td>32</td>\n",
       "      <td>6</td>\n",
       "      <td>12</td>\n",
       "    </tr>\n",
       "  </tbody>\n",
       "</table>\n",
       "</div>"
      ],
      "text/plain": [
       "    A   B   C\n",
       "0   8   6  36\n",
       "1  64  36  16\n",
       "2  32   6  12"
      ]
     },
     "execution_count": 143,
     "metadata": {},
     "output_type": "execute_result"
    }
   ],
   "source": [
    "df.multiply(df.iloc[1])"
   ]
  },
  {
   "cell_type": "markdown",
   "metadata": {
    "id": "hFAaKfw2zpFE"
   },
   "source": [
    "#### truediv() /  div() / divide() / floordiv(): 나누기, 몫"
   ]
  },
  {
   "cell_type": "code",
   "execution_count": 144,
   "metadata": {
    "ExecuteTime": {
     "end_time": "2022-04-02T14:04:54.827035Z",
     "start_time": "2022-04-02T14:04:54.814072Z"
    },
    "id": "BQ56Fdtyzyvp"
   },
   "outputs": [
    {
     "data": {
      "text/plain": [
       "array([[1, 1, 9],\n",
       "       [8, 6, 4],\n",
       "       [4, 1, 3]])"
      ]
     },
     "execution_count": 144,
     "metadata": {},
     "output_type": "execute_result"
    }
   ],
   "source": [
    "a"
   ]
  },
  {
   "cell_type": "code",
   "execution_count": 145,
   "metadata": {
    "ExecuteTime": {
     "end_time": "2022-04-02T14:04:54.841994Z",
     "start_time": "2022-04-02T14:04:54.829032Z"
    }
   },
   "outputs": [
    {
     "data": {
      "text/plain": [
       "array([[1.        , 1.        , 1.        ],\n",
       "       [8.        , 6.        , 0.44444444],\n",
       "       [4.        , 1.        , 0.33333333]])"
      ]
     },
     "execution_count": 145,
     "metadata": {},
     "output_type": "execute_result"
    }
   ],
   "source": [
    "a / a[0]"
   ]
  },
  {
   "cell_type": "code",
   "execution_count": 146,
   "metadata": {
    "ExecuteTime": {
     "end_time": "2022-04-02T14:04:54.856956Z",
     "start_time": "2022-04-02T14:04:54.843989Z"
    },
    "id": "fgKLOKM5iQMu"
   },
   "outputs": [
    {
     "data": {
      "text/html": [
       "<div>\n",
       "<style scoped>\n",
       "    .dataframe tbody tr th:only-of-type {\n",
       "        vertical-align: middle;\n",
       "    }\n",
       "\n",
       "    .dataframe tbody tr th {\n",
       "        vertical-align: top;\n",
       "    }\n",
       "\n",
       "    .dataframe thead th {\n",
       "        text-align: right;\n",
       "    }\n",
       "</style>\n",
       "<table border=\"1\" class=\"dataframe\">\n",
       "  <thead>\n",
       "    <tr style=\"text-align: right;\">\n",
       "      <th></th>\n",
       "      <th>A</th>\n",
       "      <th>B</th>\n",
       "      <th>C</th>\n",
       "    </tr>\n",
       "  </thead>\n",
       "  <tbody>\n",
       "    <tr>\n",
       "      <th>0</th>\n",
       "      <td>1</td>\n",
       "      <td>1</td>\n",
       "      <td>9</td>\n",
       "    </tr>\n",
       "    <tr>\n",
       "      <th>1</th>\n",
       "      <td>8</td>\n",
       "      <td>6</td>\n",
       "      <td>4</td>\n",
       "    </tr>\n",
       "    <tr>\n",
       "      <th>2</th>\n",
       "      <td>4</td>\n",
       "      <td>1</td>\n",
       "      <td>3</td>\n",
       "    </tr>\n",
       "  </tbody>\n",
       "</table>\n",
       "</div>"
      ],
      "text/plain": [
       "   A  B  C\n",
       "0  1  1  9\n",
       "1  8  6  4\n",
       "2  4  1  3"
      ]
     },
     "execution_count": 146,
     "metadata": {},
     "output_type": "execute_result"
    }
   ],
   "source": [
    "df"
   ]
  },
  {
   "cell_type": "code",
   "execution_count": 147,
   "metadata": {
    "ExecuteTime": {
     "end_time": "2022-04-02T14:04:54.871948Z",
     "start_time": "2022-04-02T14:04:54.858951Z"
    },
    "id": "HjYXWxgfz5WD"
   },
   "outputs": [
    {
     "data": {
      "text/html": [
       "<div>\n",
       "<style scoped>\n",
       "    .dataframe tbody tr th:only-of-type {\n",
       "        vertical-align: middle;\n",
       "    }\n",
       "\n",
       "    .dataframe tbody tr th {\n",
       "        vertical-align: top;\n",
       "    }\n",
       "\n",
       "    .dataframe thead th {\n",
       "        text-align: right;\n",
       "    }\n",
       "</style>\n",
       "<table border=\"1\" class=\"dataframe\">\n",
       "  <thead>\n",
       "    <tr style=\"text-align: right;\">\n",
       "      <th></th>\n",
       "      <th>A</th>\n",
       "      <th>B</th>\n",
       "      <th>C</th>\n",
       "    </tr>\n",
       "  </thead>\n",
       "  <tbody>\n",
       "    <tr>\n",
       "      <th>0</th>\n",
       "      <td>1.0</td>\n",
       "      <td>1.0</td>\n",
       "      <td>1.000000</td>\n",
       "    </tr>\n",
       "    <tr>\n",
       "      <th>1</th>\n",
       "      <td>8.0</td>\n",
       "      <td>6.0</td>\n",
       "      <td>0.444444</td>\n",
       "    </tr>\n",
       "    <tr>\n",
       "      <th>2</th>\n",
       "      <td>4.0</td>\n",
       "      <td>1.0</td>\n",
       "      <td>0.333333</td>\n",
       "    </tr>\n",
       "  </tbody>\n",
       "</table>\n",
       "</div>"
      ],
      "text/plain": [
       "     A    B         C\n",
       "0  1.0  1.0  1.000000\n",
       "1  8.0  6.0  0.444444\n",
       "2  4.0  1.0  0.333333"
      ]
     },
     "execution_count": 147,
     "metadata": {},
     "output_type": "execute_result"
    }
   ],
   "source": [
    "df / df.iloc[0]"
   ]
  },
  {
   "cell_type": "code",
   "execution_count": 148,
   "metadata": {
    "ExecuteTime": {
     "end_time": "2022-04-02T14:04:54.886906Z",
     "start_time": "2022-04-02T14:04:54.873910Z"
    },
    "id": "Nw0xsKsAz9XV"
   },
   "outputs": [
    {
     "data": {
      "text/html": [
       "<div>\n",
       "<style scoped>\n",
       "    .dataframe tbody tr th:only-of-type {\n",
       "        vertical-align: middle;\n",
       "    }\n",
       "\n",
       "    .dataframe tbody tr th {\n",
       "        vertical-align: top;\n",
       "    }\n",
       "\n",
       "    .dataframe thead th {\n",
       "        text-align: right;\n",
       "    }\n",
       "</style>\n",
       "<table border=\"1\" class=\"dataframe\">\n",
       "  <thead>\n",
       "    <tr style=\"text-align: right;\">\n",
       "      <th></th>\n",
       "      <th>A</th>\n",
       "      <th>B</th>\n",
       "      <th>C</th>\n",
       "    </tr>\n",
       "  </thead>\n",
       "  <tbody>\n",
       "    <tr>\n",
       "      <th>0</th>\n",
       "      <td>1.0</td>\n",
       "      <td>1.0</td>\n",
       "      <td>1.000000</td>\n",
       "    </tr>\n",
       "    <tr>\n",
       "      <th>1</th>\n",
       "      <td>8.0</td>\n",
       "      <td>6.0</td>\n",
       "      <td>0.444444</td>\n",
       "    </tr>\n",
       "    <tr>\n",
       "      <th>2</th>\n",
       "      <td>4.0</td>\n",
       "      <td>1.0</td>\n",
       "      <td>0.333333</td>\n",
       "    </tr>\n",
       "  </tbody>\n",
       "</table>\n",
       "</div>"
      ],
      "text/plain": [
       "     A    B         C\n",
       "0  1.0  1.0  1.000000\n",
       "1  8.0  6.0  0.444444\n",
       "2  4.0  1.0  0.333333"
      ]
     },
     "execution_count": 148,
     "metadata": {},
     "output_type": "execute_result"
    }
   ],
   "source": [
    "df.truediv(df.iloc[0]) #이건 div랑 뭐가 다른거지?"
   ]
  },
  {
   "cell_type": "code",
   "execution_count": 149,
   "metadata": {
    "ExecuteTime": {
     "end_time": "2022-04-02T14:04:54.901866Z",
     "start_time": "2022-04-02T14:04:54.888870Z"
    },
    "id": "ZoSaKROE0Ab_"
   },
   "outputs": [
    {
     "data": {
      "text/html": [
       "<div>\n",
       "<style scoped>\n",
       "    .dataframe tbody tr th:only-of-type {\n",
       "        vertical-align: middle;\n",
       "    }\n",
       "\n",
       "    .dataframe tbody tr th {\n",
       "        vertical-align: top;\n",
       "    }\n",
       "\n",
       "    .dataframe thead th {\n",
       "        text-align: right;\n",
       "    }\n",
       "</style>\n",
       "<table border=\"1\" class=\"dataframe\">\n",
       "  <thead>\n",
       "    <tr style=\"text-align: right;\">\n",
       "      <th></th>\n",
       "      <th>A</th>\n",
       "      <th>B</th>\n",
       "      <th>C</th>\n",
       "    </tr>\n",
       "  </thead>\n",
       "  <tbody>\n",
       "    <tr>\n",
       "      <th>0</th>\n",
       "      <td>1.0</td>\n",
       "      <td>1.0</td>\n",
       "      <td>1.000000</td>\n",
       "    </tr>\n",
       "    <tr>\n",
       "      <th>1</th>\n",
       "      <td>8.0</td>\n",
       "      <td>6.0</td>\n",
       "      <td>0.444444</td>\n",
       "    </tr>\n",
       "    <tr>\n",
       "      <th>2</th>\n",
       "      <td>4.0</td>\n",
       "      <td>1.0</td>\n",
       "      <td>0.333333</td>\n",
       "    </tr>\n",
       "  </tbody>\n",
       "</table>\n",
       "</div>"
      ],
      "text/plain": [
       "     A    B         C\n",
       "0  1.0  1.0  1.000000\n",
       "1  8.0  6.0  0.444444\n",
       "2  4.0  1.0  0.333333"
      ]
     },
     "execution_count": 149,
     "metadata": {},
     "output_type": "execute_result"
    }
   ],
   "source": [
    "df.div(df.iloc[0])"
   ]
  },
  {
   "cell_type": "code",
   "execution_count": 150,
   "metadata": {
    "ExecuteTime": {
     "end_time": "2022-04-02T14:04:54.916796Z",
     "start_time": "2022-04-02T14:04:54.903830Z"
    },
    "id": "Q21li5Sk0TJw"
   },
   "outputs": [
    {
     "data": {
      "text/html": [
       "<div>\n",
       "<style scoped>\n",
       "    .dataframe tbody tr th:only-of-type {\n",
       "        vertical-align: middle;\n",
       "    }\n",
       "\n",
       "    .dataframe tbody tr th {\n",
       "        vertical-align: top;\n",
       "    }\n",
       "\n",
       "    .dataframe thead th {\n",
       "        text-align: right;\n",
       "    }\n",
       "</style>\n",
       "<table border=\"1\" class=\"dataframe\">\n",
       "  <thead>\n",
       "    <tr style=\"text-align: right;\">\n",
       "      <th></th>\n",
       "      <th>A</th>\n",
       "      <th>B</th>\n",
       "      <th>C</th>\n",
       "    </tr>\n",
       "  </thead>\n",
       "  <tbody>\n",
       "    <tr>\n",
       "      <th>0</th>\n",
       "      <td>1.0</td>\n",
       "      <td>1.0</td>\n",
       "      <td>1.000000</td>\n",
       "    </tr>\n",
       "    <tr>\n",
       "      <th>1</th>\n",
       "      <td>8.0</td>\n",
       "      <td>6.0</td>\n",
       "      <td>0.444444</td>\n",
       "    </tr>\n",
       "    <tr>\n",
       "      <th>2</th>\n",
       "      <td>4.0</td>\n",
       "      <td>1.0</td>\n",
       "      <td>0.333333</td>\n",
       "    </tr>\n",
       "  </tbody>\n",
       "</table>\n",
       "</div>"
      ],
      "text/plain": [
       "     A    B         C\n",
       "0  1.0  1.0  1.000000\n",
       "1  8.0  6.0  0.444444\n",
       "2  4.0  1.0  0.333333"
      ]
     },
     "execution_count": 150,
     "metadata": {},
     "output_type": "execute_result"
    }
   ],
   "source": [
    "df.divide(df.iloc[0])"
   ]
  },
  {
   "cell_type": "code",
   "execution_count": 151,
   "metadata": {
    "ExecuteTime": {
     "end_time": "2022-04-02T14:04:54.931787Z",
     "start_time": "2022-04-02T14:04:54.918791Z"
    },
    "id": "ct4NWN-rp4Gp"
   },
   "outputs": [
    {
     "data": {
      "text/plain": [
       "array([[1, 1, 1],\n",
       "       [8, 6, 0],\n",
       "       [4, 1, 0]])"
      ]
     },
     "execution_count": 151,
     "metadata": {},
     "output_type": "execute_result"
    }
   ],
   "source": [
    "a // a[0]"
   ]
  },
  {
   "cell_type": "code",
   "execution_count": 152,
   "metadata": {
    "ExecuteTime": {
     "end_time": "2022-04-02T14:04:54.946746Z",
     "start_time": "2022-04-02T14:04:54.933750Z"
    },
    "id": "2ShseE-LiYxb"
   },
   "outputs": [
    {
     "data": {
      "text/html": [
       "<div>\n",
       "<style scoped>\n",
       "    .dataframe tbody tr th:only-of-type {\n",
       "        vertical-align: middle;\n",
       "    }\n",
       "\n",
       "    .dataframe tbody tr th {\n",
       "        vertical-align: top;\n",
       "    }\n",
       "\n",
       "    .dataframe thead th {\n",
       "        text-align: right;\n",
       "    }\n",
       "</style>\n",
       "<table border=\"1\" class=\"dataframe\">\n",
       "  <thead>\n",
       "    <tr style=\"text-align: right;\">\n",
       "      <th></th>\n",
       "      <th>A</th>\n",
       "      <th>B</th>\n",
       "      <th>C</th>\n",
       "    </tr>\n",
       "  </thead>\n",
       "  <tbody>\n",
       "    <tr>\n",
       "      <th>0</th>\n",
       "      <td>1</td>\n",
       "      <td>1</td>\n",
       "      <td>1</td>\n",
       "    </tr>\n",
       "    <tr>\n",
       "      <th>1</th>\n",
       "      <td>8</td>\n",
       "      <td>6</td>\n",
       "      <td>0</td>\n",
       "    </tr>\n",
       "    <tr>\n",
       "      <th>2</th>\n",
       "      <td>4</td>\n",
       "      <td>1</td>\n",
       "      <td>0</td>\n",
       "    </tr>\n",
       "  </tbody>\n",
       "</table>\n",
       "</div>"
      ],
      "text/plain": [
       "   A  B  C\n",
       "0  1  1  1\n",
       "1  8  6  0\n",
       "2  4  1  0"
      ]
     },
     "execution_count": 152,
     "metadata": {},
     "output_type": "execute_result"
    }
   ],
   "source": [
    "df.floordiv(df.iloc[0])"
   ]
  },
  {
   "cell_type": "markdown",
   "metadata": {
    "id": "kd9HSQ6y0SwS"
   },
   "source": [
    "#### mod(): 나머지"
   ]
  },
  {
   "cell_type": "code",
   "execution_count": 153,
   "metadata": {
    "ExecuteTime": {
     "end_time": "2022-04-02T14:04:54.961674Z",
     "start_time": "2022-04-02T14:04:54.949746Z"
    },
    "id": "EzEbDy4iqOFR"
   },
   "outputs": [
    {
     "data": {
      "text/plain": [
       "array([[1, 1, 9],\n",
       "       [8, 6, 4],\n",
       "       [4, 1, 3]])"
      ]
     },
     "execution_count": 153,
     "metadata": {},
     "output_type": "execute_result"
    }
   ],
   "source": [
    "a"
   ]
  },
  {
   "cell_type": "code",
   "execution_count": 154,
   "metadata": {
    "ExecuteTime": {
     "end_time": "2022-04-02T14:04:54.976634Z",
     "start_time": "2022-04-02T14:04:54.963669Z"
    }
   },
   "outputs": [
    {
     "data": {
      "text/plain": [
       "array([[0, 0, 0],\n",
       "       [0, 0, 4],\n",
       "       [0, 0, 3]])"
      ]
     },
     "execution_count": 154,
     "metadata": {},
     "output_type": "execute_result"
    }
   ],
   "source": [
    "a % a[0]"
   ]
  },
  {
   "cell_type": "code",
   "execution_count": 155,
   "metadata": {
    "ExecuteTime": {
     "end_time": "2022-04-02T14:04:54.991594Z",
     "start_time": "2022-04-02T14:04:54.978630Z"
    },
    "id": "twDUry6dipns"
   },
   "outputs": [
    {
     "data": {
      "text/html": [
       "<div>\n",
       "<style scoped>\n",
       "    .dataframe tbody tr th:only-of-type {\n",
       "        vertical-align: middle;\n",
       "    }\n",
       "\n",
       "    .dataframe tbody tr th {\n",
       "        vertical-align: top;\n",
       "    }\n",
       "\n",
       "    .dataframe thead th {\n",
       "        text-align: right;\n",
       "    }\n",
       "</style>\n",
       "<table border=\"1\" class=\"dataframe\">\n",
       "  <thead>\n",
       "    <tr style=\"text-align: right;\">\n",
       "      <th></th>\n",
       "      <th>A</th>\n",
       "      <th>B</th>\n",
       "      <th>C</th>\n",
       "    </tr>\n",
       "  </thead>\n",
       "  <tbody>\n",
       "    <tr>\n",
       "      <th>0</th>\n",
       "      <td>1</td>\n",
       "      <td>1</td>\n",
       "      <td>9</td>\n",
       "    </tr>\n",
       "    <tr>\n",
       "      <th>1</th>\n",
       "      <td>8</td>\n",
       "      <td>6</td>\n",
       "      <td>4</td>\n",
       "    </tr>\n",
       "    <tr>\n",
       "      <th>2</th>\n",
       "      <td>4</td>\n",
       "      <td>1</td>\n",
       "      <td>3</td>\n",
       "    </tr>\n",
       "  </tbody>\n",
       "</table>\n",
       "</div>"
      ],
      "text/plain": [
       "   A  B  C\n",
       "0  1  1  9\n",
       "1  8  6  4\n",
       "2  4  1  3"
      ]
     },
     "execution_count": 155,
     "metadata": {},
     "output_type": "execute_result"
    }
   ],
   "source": [
    "df"
   ]
  },
  {
   "cell_type": "code",
   "execution_count": 156,
   "metadata": {
    "ExecuteTime": {
     "end_time": "2022-04-02T14:04:55.006554Z",
     "start_time": "2022-04-02T14:04:54.992604Z"
    },
    "id": "aqQMEZTdqPUN"
   },
   "outputs": [
    {
     "data": {
      "text/html": [
       "<div>\n",
       "<style scoped>\n",
       "    .dataframe tbody tr th:only-of-type {\n",
       "        vertical-align: middle;\n",
       "    }\n",
       "\n",
       "    .dataframe tbody tr th {\n",
       "        vertical-align: top;\n",
       "    }\n",
       "\n",
       "    .dataframe thead th {\n",
       "        text-align: right;\n",
       "    }\n",
       "</style>\n",
       "<table border=\"1\" class=\"dataframe\">\n",
       "  <thead>\n",
       "    <tr style=\"text-align: right;\">\n",
       "      <th></th>\n",
       "      <th>A</th>\n",
       "      <th>B</th>\n",
       "      <th>C</th>\n",
       "    </tr>\n",
       "  </thead>\n",
       "  <tbody>\n",
       "    <tr>\n",
       "      <th>0</th>\n",
       "      <td>0</td>\n",
       "      <td>0</td>\n",
       "      <td>0</td>\n",
       "    </tr>\n",
       "    <tr>\n",
       "      <th>1</th>\n",
       "      <td>0</td>\n",
       "      <td>0</td>\n",
       "      <td>4</td>\n",
       "    </tr>\n",
       "    <tr>\n",
       "      <th>2</th>\n",
       "      <td>0</td>\n",
       "      <td>0</td>\n",
       "      <td>3</td>\n",
       "    </tr>\n",
       "  </tbody>\n",
       "</table>\n",
       "</div>"
      ],
      "text/plain": [
       "   A  B  C\n",
       "0  0  0  0\n",
       "1  0  0  4\n",
       "2  0  0  3"
      ]
     },
     "execution_count": 156,
     "metadata": {},
     "output_type": "execute_result"
    }
   ],
   "source": [
    "df.mod(df.iloc[0])"
   ]
  },
  {
   "cell_type": "markdown",
   "metadata": {
    "id": "U7ZuwbTDp9Se"
   },
   "source": [
    "#### pow(): 제곱"
   ]
  },
  {
   "cell_type": "code",
   "execution_count": 157,
   "metadata": {
    "ExecuteTime": {
     "end_time": "2022-04-02T14:04:55.021514Z",
     "start_time": "2022-04-02T14:04:55.008549Z"
    },
    "id": "zHZfX4K5qU0Y"
   },
   "outputs": [
    {
     "data": {
      "text/plain": [
       "array([[1, 1, 9],\n",
       "       [8, 6, 4],\n",
       "       [4, 1, 3]])"
      ]
     },
     "execution_count": 157,
     "metadata": {},
     "output_type": "execute_result"
    }
   ],
   "source": [
    "a"
   ]
  },
  {
   "cell_type": "code",
   "execution_count": 158,
   "metadata": {
    "ExecuteTime": {
     "end_time": "2022-04-02T14:04:55.036475Z",
     "start_time": "2022-04-02T14:04:55.023519Z"
    },
    "id": "KpA3rMqAispd"
   },
   "outputs": [
    {
     "data": {
      "text/plain": [
       "array([[        1,         1, 387420489],\n",
       "       [        8,         6,    262144],\n",
       "       [        4,         1,     19683]])"
      ]
     },
     "execution_count": 158,
     "metadata": {},
     "output_type": "execute_result"
    }
   ],
   "source": [
    "a ** a[0]"
   ]
  },
  {
   "cell_type": "code",
   "execution_count": 159,
   "metadata": {
    "ExecuteTime": {
     "end_time": "2022-04-02T14:04:55.051435Z",
     "start_time": "2022-04-02T14:04:55.038471Z"
    },
    "id": "E0kXJgdWqWcw"
   },
   "outputs": [
    {
     "data": {
      "text/html": [
       "<div>\n",
       "<style scoped>\n",
       "    .dataframe tbody tr th:only-of-type {\n",
       "        vertical-align: middle;\n",
       "    }\n",
       "\n",
       "    .dataframe tbody tr th {\n",
       "        vertical-align: top;\n",
       "    }\n",
       "\n",
       "    .dataframe thead th {\n",
       "        text-align: right;\n",
       "    }\n",
       "</style>\n",
       "<table border=\"1\" class=\"dataframe\">\n",
       "  <thead>\n",
       "    <tr style=\"text-align: right;\">\n",
       "      <th></th>\n",
       "      <th>A</th>\n",
       "      <th>B</th>\n",
       "      <th>C</th>\n",
       "    </tr>\n",
       "  </thead>\n",
       "  <tbody>\n",
       "    <tr>\n",
       "      <th>0</th>\n",
       "      <td>1</td>\n",
       "      <td>1</td>\n",
       "      <td>9</td>\n",
       "    </tr>\n",
       "    <tr>\n",
       "      <th>1</th>\n",
       "      <td>8</td>\n",
       "      <td>6</td>\n",
       "      <td>4</td>\n",
       "    </tr>\n",
       "    <tr>\n",
       "      <th>2</th>\n",
       "      <td>4</td>\n",
       "      <td>1</td>\n",
       "      <td>3</td>\n",
       "    </tr>\n",
       "  </tbody>\n",
       "</table>\n",
       "</div>"
      ],
      "text/plain": [
       "   A  B  C\n",
       "0  1  1  9\n",
       "1  8  6  4\n",
       "2  4  1  3"
      ]
     },
     "execution_count": 159,
     "metadata": {},
     "output_type": "execute_result"
    }
   ],
   "source": [
    "df"
   ]
  },
  {
   "cell_type": "code",
   "execution_count": 160,
   "metadata": {
    "ExecuteTime": {
     "end_time": "2022-04-02T14:04:55.066394Z",
     "start_time": "2022-04-02T14:04:55.053430Z"
    },
    "id": "x3QIEcXoqW27"
   },
   "outputs": [
    {
     "data": {
      "text/html": [
       "<div>\n",
       "<style scoped>\n",
       "    .dataframe tbody tr th:only-of-type {\n",
       "        vertical-align: middle;\n",
       "    }\n",
       "\n",
       "    .dataframe tbody tr th {\n",
       "        vertical-align: top;\n",
       "    }\n",
       "\n",
       "    .dataframe thead th {\n",
       "        text-align: right;\n",
       "    }\n",
       "</style>\n",
       "<table border=\"1\" class=\"dataframe\">\n",
       "  <thead>\n",
       "    <tr style=\"text-align: right;\">\n",
       "      <th></th>\n",
       "      <th>A</th>\n",
       "      <th>B</th>\n",
       "      <th>C</th>\n",
       "    </tr>\n",
       "  </thead>\n",
       "  <tbody>\n",
       "    <tr>\n",
       "      <th>0</th>\n",
       "      <td>1</td>\n",
       "      <td>1</td>\n",
       "      <td>387420489</td>\n",
       "    </tr>\n",
       "    <tr>\n",
       "      <th>1</th>\n",
       "      <td>8</td>\n",
       "      <td>6</td>\n",
       "      <td>262144</td>\n",
       "    </tr>\n",
       "    <tr>\n",
       "      <th>2</th>\n",
       "      <td>4</td>\n",
       "      <td>1</td>\n",
       "      <td>19683</td>\n",
       "    </tr>\n",
       "  </tbody>\n",
       "</table>\n",
       "</div>"
      ],
      "text/plain": [
       "   A  B          C\n",
       "0  1  1  387420489\n",
       "1  8  6     262144\n",
       "2  4  1      19683"
      ]
     },
     "execution_count": 160,
     "metadata": {},
     "output_type": "execute_result"
    }
   ],
   "source": [
    "df.pow(df.iloc[0])"
   ]
  },
  {
   "cell_type": "code",
   "execution_count": 161,
   "metadata": {
    "ExecuteTime": {
     "end_time": "2022-04-02T14:04:55.081387Z",
     "start_time": "2022-04-02T14:04:55.068390Z"
    },
    "id": "CAZBCAMLqyLz"
   },
   "outputs": [
    {
     "data": {
      "text/plain": [
       "A    1\n",
       "C    9\n",
       "Name: 0, dtype: int32"
      ]
     },
     "execution_count": 161,
     "metadata": {},
     "output_type": "execute_result"
    }
   ],
   "source": [
    "row = df.iloc[0, ::2]\n",
    "row"
   ]
  },
  {
   "cell_type": "code",
   "execution_count": 162,
   "metadata": {
    "ExecuteTime": {
     "end_time": "2022-04-02T14:04:55.096315Z",
     "start_time": "2022-04-02T14:04:55.083350Z"
    },
    "id": "s8fiykE0q5WM"
   },
   "outputs": [
    {
     "data": {
      "text/html": [
       "<div>\n",
       "<style scoped>\n",
       "    .dataframe tbody tr th:only-of-type {\n",
       "        vertical-align: middle;\n",
       "    }\n",
       "\n",
       "    .dataframe tbody tr th {\n",
       "        vertical-align: top;\n",
       "    }\n",
       "\n",
       "    .dataframe thead th {\n",
       "        text-align: right;\n",
       "    }\n",
       "</style>\n",
       "<table border=\"1\" class=\"dataframe\">\n",
       "  <thead>\n",
       "    <tr style=\"text-align: right;\">\n",
       "      <th></th>\n",
       "      <th>A</th>\n",
       "      <th>B</th>\n",
       "      <th>C</th>\n",
       "    </tr>\n",
       "  </thead>\n",
       "  <tbody>\n",
       "    <tr>\n",
       "      <th>0</th>\n",
       "      <td>0.0</td>\n",
       "      <td>NaN</td>\n",
       "      <td>0.0</td>\n",
       "    </tr>\n",
       "    <tr>\n",
       "      <th>1</th>\n",
       "      <td>7.0</td>\n",
       "      <td>NaN</td>\n",
       "      <td>-5.0</td>\n",
       "    </tr>\n",
       "    <tr>\n",
       "      <th>2</th>\n",
       "      <td>3.0</td>\n",
       "      <td>NaN</td>\n",
       "      <td>-6.0</td>\n",
       "    </tr>\n",
       "  </tbody>\n",
       "</table>\n",
       "</div>"
      ],
      "text/plain": [
       "     A   B    C\n",
       "0  0.0 NaN  0.0\n",
       "1  7.0 NaN -5.0\n",
       "2  3.0 NaN -6.0"
      ]
     },
     "execution_count": 162,
     "metadata": {},
     "output_type": "execute_result"
    }
   ],
   "source": [
    "# 이것도 뭘 의미하는지 모르겠네?\n",
    "df - row #B는 누락이 되어 null값이 들어감."
   ]
  },
  {
   "cell_type": "markdown",
   "metadata": {
    "id": "olpJULJ5x1KI"
   },
   "source": [
    "### 정렬(Sort)"
   ]
  },
  {
   "cell_type": "code",
   "execution_count": 163,
   "metadata": {
    "ExecuteTime": {
     "end_time": "2022-04-02T14:04:55.111275Z",
     "start_time": "2022-04-02T14:04:55.099310Z"
    },
    "id": "Wplj3Uw00Isa"
   },
   "outputs": [
    {
     "data": {
      "text/plain": [
       "A    0\n",
       "B    1\n",
       "C    2\n",
       "D    3\n",
       "E    4\n",
       "dtype: int64"
      ]
     },
     "execution_count": 163,
     "metadata": {},
     "output_type": "execute_result"
    }
   ],
   "source": [
    "s = pd.Series(range(5), index=['A', 'B','C', 'D', 'E'])\n",
    "s"
   ]
  },
  {
   "cell_type": "code",
   "execution_count": 164,
   "metadata": {
    "ExecuteTime": {
     "end_time": "2022-04-02T14:04:55.126236Z",
     "start_time": "2022-04-02T14:04:55.113270Z"
    },
    "id": "6teCdpge0Xp6"
   },
   "outputs": [
    {
     "data": {
      "text/plain": [
       "A    0\n",
       "B    1\n",
       "C    2\n",
       "D    3\n",
       "E    4\n",
       "dtype: int64"
      ]
     },
     "execution_count": 164,
     "metadata": {},
     "output_type": "execute_result"
    }
   ],
   "source": [
    "s.sort_index()"
   ]
  },
  {
   "cell_type": "code",
   "execution_count": 165,
   "metadata": {
    "ExecuteTime": {
     "end_time": "2022-04-02T14:04:55.141195Z",
     "start_time": "2022-04-02T14:04:55.128230Z"
    },
    "id": "l77lqhu71Nd4"
   },
   "outputs": [
    {
     "data": {
      "text/plain": [
       "A    0\n",
       "B    1\n",
       "C    2\n",
       "D    3\n",
       "E    4\n",
       "dtype: int64"
      ]
     },
     "execution_count": 165,
     "metadata": {},
     "output_type": "execute_result"
    }
   ],
   "source": [
    "s.sort_values()"
   ]
  },
  {
   "cell_type": "code",
   "execution_count": 166,
   "metadata": {
    "ExecuteTime": {
     "end_time": "2022-04-02T14:04:55.156155Z",
     "start_time": "2022-04-02T14:04:55.143189Z"
    },
    "id": "HXw87Eo0x3tZ"
   },
   "outputs": [
    {
     "data": {
      "text/html": [
       "<div>\n",
       "<style scoped>\n",
       "    .dataframe tbody tr th:only-of-type {\n",
       "        vertical-align: middle;\n",
       "    }\n",
       "\n",
       "    .dataframe tbody tr th {\n",
       "        vertical-align: top;\n",
       "    }\n",
       "\n",
       "    .dataframe thead th {\n",
       "        text-align: right;\n",
       "    }\n",
       "</style>\n",
       "<table border=\"1\" class=\"dataframe\">\n",
       "  <thead>\n",
       "    <tr style=\"text-align: right;\">\n",
       "      <th></th>\n",
       "      <th>B</th>\n",
       "      <th>D</th>\n",
       "      <th>A</th>\n",
       "      <th>C</th>\n",
       "    </tr>\n",
       "  </thead>\n",
       "  <tbody>\n",
       "    <tr>\n",
       "      <th>2</th>\n",
       "      <td>9</td>\n",
       "      <td>5</td>\n",
       "      <td>9</td>\n",
       "      <td>2</td>\n",
       "    </tr>\n",
       "    <tr>\n",
       "      <th>4</th>\n",
       "      <td>5</td>\n",
       "      <td>6</td>\n",
       "      <td>8</td>\n",
       "      <td>1</td>\n",
       "    </tr>\n",
       "    <tr>\n",
       "      <th>1</th>\n",
       "      <td>3</td>\n",
       "      <td>9</td>\n",
       "      <td>7</td>\n",
       "      <td>8</td>\n",
       "    </tr>\n",
       "    <tr>\n",
       "      <th>3</th>\n",
       "      <td>6</td>\n",
       "      <td>6</td>\n",
       "      <td>0</td>\n",
       "      <td>6</td>\n",
       "    </tr>\n",
       "  </tbody>\n",
       "</table>\n",
       "</div>"
      ],
      "text/plain": [
       "   B  D  A  C\n",
       "2  9  5  9  2\n",
       "4  5  6  8  1\n",
       "1  3  9  7  8\n",
       "3  6  6  0  6"
      ]
     },
     "execution_count": 166,
     "metadata": {},
     "output_type": "execute_result"
    }
   ],
   "source": [
    "df = pd.DataFrame(np.random.randint(0, 10, (4, 4)),\n",
    "                 index=[2, 4, 1, 3],\n",
    "                 columns=list('BDAC'))\n",
    "df"
   ]
  },
  {
   "cell_type": "code",
   "execution_count": 167,
   "metadata": {
    "ExecuteTime": {
     "end_time": "2022-04-02T14:04:55.171115Z",
     "start_time": "2022-04-02T14:04:55.158150Z"
    },
    "id": "EOsqFoi2zMZ3"
   },
   "outputs": [
    {
     "data": {
      "text/html": [
       "<div>\n",
       "<style scoped>\n",
       "    .dataframe tbody tr th:only-of-type {\n",
       "        vertical-align: middle;\n",
       "    }\n",
       "\n",
       "    .dataframe tbody tr th {\n",
       "        vertical-align: top;\n",
       "    }\n",
       "\n",
       "    .dataframe thead th {\n",
       "        text-align: right;\n",
       "    }\n",
       "</style>\n",
       "<table border=\"1\" class=\"dataframe\">\n",
       "  <thead>\n",
       "    <tr style=\"text-align: right;\">\n",
       "      <th></th>\n",
       "      <th>B</th>\n",
       "      <th>D</th>\n",
       "      <th>A</th>\n",
       "      <th>C</th>\n",
       "    </tr>\n",
       "  </thead>\n",
       "  <tbody>\n",
       "    <tr>\n",
       "      <th>1</th>\n",
       "      <td>3</td>\n",
       "      <td>9</td>\n",
       "      <td>7</td>\n",
       "      <td>8</td>\n",
       "    </tr>\n",
       "    <tr>\n",
       "      <th>2</th>\n",
       "      <td>9</td>\n",
       "      <td>5</td>\n",
       "      <td>9</td>\n",
       "      <td>2</td>\n",
       "    </tr>\n",
       "    <tr>\n",
       "      <th>3</th>\n",
       "      <td>6</td>\n",
       "      <td>6</td>\n",
       "      <td>0</td>\n",
       "      <td>6</td>\n",
       "    </tr>\n",
       "    <tr>\n",
       "      <th>4</th>\n",
       "      <td>5</td>\n",
       "      <td>6</td>\n",
       "      <td>8</td>\n",
       "      <td>1</td>\n",
       "    </tr>\n",
       "  </tbody>\n",
       "</table>\n",
       "</div>"
      ],
      "text/plain": [
       "   B  D  A  C\n",
       "1  3  9  7  8\n",
       "2  9  5  9  2\n",
       "3  6  6  0  6\n",
       "4  5  6  8  1"
      ]
     },
     "execution_count": 167,
     "metadata": {},
     "output_type": "execute_result"
    }
   ],
   "source": [
    "df.sort_index()"
   ]
  },
  {
   "cell_type": "code",
   "execution_count": 168,
   "metadata": {
    "ExecuteTime": {
     "end_time": "2022-04-02T14:04:55.186114Z",
     "start_time": "2022-04-02T14:04:55.174109Z"
    }
   },
   "outputs": [
    {
     "data": {
      "text/html": [
       "<div>\n",
       "<style scoped>\n",
       "    .dataframe tbody tr th:only-of-type {\n",
       "        vertical-align: middle;\n",
       "    }\n",
       "\n",
       "    .dataframe tbody tr th {\n",
       "        vertical-align: top;\n",
       "    }\n",
       "\n",
       "    .dataframe thead th {\n",
       "        text-align: right;\n",
       "    }\n",
       "</style>\n",
       "<table border=\"1\" class=\"dataframe\">\n",
       "  <thead>\n",
       "    <tr style=\"text-align: right;\">\n",
       "      <th></th>\n",
       "      <th>A</th>\n",
       "      <th>B</th>\n",
       "      <th>C</th>\n",
       "      <th>D</th>\n",
       "    </tr>\n",
       "  </thead>\n",
       "  <tbody>\n",
       "    <tr>\n",
       "      <th>2</th>\n",
       "      <td>9</td>\n",
       "      <td>9</td>\n",
       "      <td>2</td>\n",
       "      <td>5</td>\n",
       "    </tr>\n",
       "    <tr>\n",
       "      <th>4</th>\n",
       "      <td>8</td>\n",
       "      <td>5</td>\n",
       "      <td>1</td>\n",
       "      <td>6</td>\n",
       "    </tr>\n",
       "    <tr>\n",
       "      <th>1</th>\n",
       "      <td>7</td>\n",
       "      <td>3</td>\n",
       "      <td>8</td>\n",
       "      <td>9</td>\n",
       "    </tr>\n",
       "    <tr>\n",
       "      <th>3</th>\n",
       "      <td>0</td>\n",
       "      <td>6</td>\n",
       "      <td>6</td>\n",
       "      <td>6</td>\n",
       "    </tr>\n",
       "  </tbody>\n",
       "</table>\n",
       "</div>"
      ],
      "text/plain": [
       "   A  B  C  D\n",
       "2  9  9  2  5\n",
       "4  8  5  1  6\n",
       "1  7  3  8  9\n",
       "3  0  6  6  6"
      ]
     },
     "execution_count": 168,
     "metadata": {},
     "output_type": "execute_result"
    }
   ],
   "source": [
    "# index를 기준으로 정렬할지, column을 기준으로 정렬할지 정할 수 있음.\n",
    "df.sort_index(axis=1)"
   ]
  },
  {
   "cell_type": "code",
   "execution_count": 169,
   "metadata": {
    "ExecuteTime": {
     "end_time": "2022-04-02T14:04:55.201068Z",
     "start_time": "2022-04-02T14:04:55.188080Z"
    },
    "id": "FZ8zzlx90kqU"
   },
   "outputs": [
    {
     "data": {
      "text/html": [
       "<div>\n",
       "<style scoped>\n",
       "    .dataframe tbody tr th:only-of-type {\n",
       "        vertical-align: middle;\n",
       "    }\n",
       "\n",
       "    .dataframe tbody tr th {\n",
       "        vertical-align: top;\n",
       "    }\n",
       "\n",
       "    .dataframe thead th {\n",
       "        text-align: right;\n",
       "    }\n",
       "</style>\n",
       "<table border=\"1\" class=\"dataframe\">\n",
       "  <thead>\n",
       "    <tr style=\"text-align: right;\">\n",
       "      <th></th>\n",
       "      <th>B</th>\n",
       "      <th>D</th>\n",
       "      <th>A</th>\n",
       "      <th>C</th>\n",
       "    </tr>\n",
       "  </thead>\n",
       "  <tbody>\n",
       "    <tr>\n",
       "      <th>3</th>\n",
       "      <td>6</td>\n",
       "      <td>6</td>\n",
       "      <td>0</td>\n",
       "      <td>6</td>\n",
       "    </tr>\n",
       "    <tr>\n",
       "      <th>1</th>\n",
       "      <td>3</td>\n",
       "      <td>9</td>\n",
       "      <td>7</td>\n",
       "      <td>8</td>\n",
       "    </tr>\n",
       "    <tr>\n",
       "      <th>4</th>\n",
       "      <td>5</td>\n",
       "      <td>6</td>\n",
       "      <td>8</td>\n",
       "      <td>1</td>\n",
       "    </tr>\n",
       "    <tr>\n",
       "      <th>2</th>\n",
       "      <td>9</td>\n",
       "      <td>5</td>\n",
       "      <td>9</td>\n",
       "      <td>2</td>\n",
       "    </tr>\n",
       "  </tbody>\n",
       "</table>\n",
       "</div>"
      ],
      "text/plain": [
       "   B  D  A  C\n",
       "3  6  6  0  6\n",
       "1  3  9  7  8\n",
       "4  5  6  8  1\n",
       "2  9  5  9  2"
      ]
     },
     "execution_count": 169,
     "metadata": {},
     "output_type": "execute_result"
    }
   ],
   "source": [
    "df.sort_values(by='A')"
   ]
  },
  {
   "cell_type": "code",
   "execution_count": 170,
   "metadata": {
    "ExecuteTime": {
     "end_time": "2022-04-02T14:04:55.216026Z",
     "start_time": "2022-04-02T14:04:55.203029Z"
    },
    "id": "cfbgpa6R1T1r"
   },
   "outputs": [
    {
     "data": {
      "text/html": [
       "<div>\n",
       "<style scoped>\n",
       "    .dataframe tbody tr th:only-of-type {\n",
       "        vertical-align: middle;\n",
       "    }\n",
       "\n",
       "    .dataframe tbody tr th {\n",
       "        vertical-align: top;\n",
       "    }\n",
       "\n",
       "    .dataframe thead th {\n",
       "        text-align: right;\n",
       "    }\n",
       "</style>\n",
       "<table border=\"1\" class=\"dataframe\">\n",
       "  <thead>\n",
       "    <tr style=\"text-align: right;\">\n",
       "      <th></th>\n",
       "      <th>B</th>\n",
       "      <th>D</th>\n",
       "      <th>A</th>\n",
       "      <th>C</th>\n",
       "    </tr>\n",
       "  </thead>\n",
       "  <tbody>\n",
       "    <tr>\n",
       "      <th>3</th>\n",
       "      <td>6</td>\n",
       "      <td>6</td>\n",
       "      <td>0</td>\n",
       "      <td>6</td>\n",
       "    </tr>\n",
       "    <tr>\n",
       "      <th>1</th>\n",
       "      <td>3</td>\n",
       "      <td>9</td>\n",
       "      <td>7</td>\n",
       "      <td>8</td>\n",
       "    </tr>\n",
       "    <tr>\n",
       "      <th>4</th>\n",
       "      <td>5</td>\n",
       "      <td>6</td>\n",
       "      <td>8</td>\n",
       "      <td>1</td>\n",
       "    </tr>\n",
       "    <tr>\n",
       "      <th>2</th>\n",
       "      <td>9</td>\n",
       "      <td>5</td>\n",
       "      <td>9</td>\n",
       "      <td>2</td>\n",
       "    </tr>\n",
       "  </tbody>\n",
       "</table>\n",
       "</div>"
      ],
      "text/plain": [
       "   B  D  A  C\n",
       "3  6  6  0  6\n",
       "1  3  9  7  8\n",
       "4  5  6  8  1\n",
       "2  9  5  9  2"
      ]
     },
     "execution_count": 170,
     "metadata": {},
     "output_type": "execute_result"
    }
   ],
   "source": [
    "df.sort_values(by=['A', 'C'])"
   ]
  },
  {
   "cell_type": "markdown",
   "metadata": {
    "id": "Xrv5nCNj3K-0"
   },
   "source": [
    "### 순위(Ranking)\n"
   ]
  },
  {
   "cell_type": "markdown",
   "metadata": {},
   "source": [
    "|메소드|설명|\n",
    "|---|---|\n",
    "|`average`|기본값. 순위에 같은 값을 가지는 항목들의 평균값을 사용|\n",
    "|`min`|같은 값을 가지는 그룹을 낮은 순위로 지정|\n",
    "|`max`|같은 값을 가지는 그룹을 높은 순위로 지정|\n",
    "|`first`|데이터 내의 위치에 따라 순위 지정|\n",
    "|`dense`|같은 그룹 내에서 모두 같은 순위를 적용하지 않고 1씩 증가|"
   ]
  },
  {
   "cell_type": "code",
   "execution_count": 171,
   "metadata": {
    "ExecuteTime": {
     "end_time": "2022-04-02T14:04:55.230994Z",
     "start_time": "2022-04-02T14:04:55.218021Z"
    },
    "id": "GYroEZZ4105r"
   },
   "outputs": [
    {
     "data": {
      "text/plain": [
       "0   -2\n",
       "1    4\n",
       "2    7\n",
       "3    3\n",
       "4    0\n",
       "5    7\n",
       "6    5\n",
       "7   -4\n",
       "8    2\n",
       "9    6\n",
       "dtype: int64"
      ]
     },
     "execution_count": 171,
     "metadata": {},
     "output_type": "execute_result"
    }
   ],
   "source": [
    "s = pd.Series([-2, 4, 7, 3, 0, 7, 5, -4, 2, 6])\n",
    "s"
   ]
  },
  {
   "cell_type": "code",
   "execution_count": 172,
   "metadata": {
    "ExecuteTime": {
     "end_time": "2022-04-02T14:04:55.245914Z",
     "start_time": "2022-04-02T14:04:55.232950Z"
    },
    "id": "S4pX_jtq2ih3"
   },
   "outputs": [
    {
     "data": {
      "text/plain": [
       "0    2.0\n",
       "1    6.0\n",
       "2    9.5\n",
       "3    5.0\n",
       "4    3.0\n",
       "5    9.5\n",
       "6    7.0\n",
       "7    1.0\n",
       "8    4.0\n",
       "9    8.0\n",
       "dtype: float64"
      ]
     },
     "execution_count": 172,
     "metadata": {},
     "output_type": "execute_result"
    }
   ],
   "source": [
    "s.rank()"
   ]
  },
  {
   "cell_type": "code",
   "execution_count": 173,
   "metadata": {
    "ExecuteTime": {
     "end_time": "2022-04-02T14:04:55.260874Z",
     "start_time": "2022-04-02T14:04:55.247909Z"
    },
    "id": "qBjoTMbx2keP"
   },
   "outputs": [
    {
     "data": {
      "text/plain": [
       "0     2.0\n",
       "1     6.0\n",
       "2     9.0\n",
       "3     5.0\n",
       "4     3.0\n",
       "5    10.0\n",
       "6     7.0\n",
       "7     1.0\n",
       "8     4.0\n",
       "9     8.0\n",
       "dtype: float64"
      ]
     },
     "execution_count": 173,
     "metadata": {},
     "output_type": "execute_result"
    }
   ],
   "source": [
    "s.rank(method='first') #동일한 값이 나왔을 때, 먼저 적힌 숫자가 순위가 더 높음."
   ]
  },
  {
   "cell_type": "code",
   "execution_count": 174,
   "metadata": {
    "ExecuteTime": {
     "end_time": "2022-04-02T14:04:55.275868Z",
     "start_time": "2022-04-02T14:04:55.263867Z"
    },
    "id": "QRI_Z5KO2zG4"
   },
   "outputs": [
    {
     "data": {
      "text/plain": [
       "0     2.0\n",
       "1     6.0\n",
       "2    10.0\n",
       "3     5.0\n",
       "4     3.0\n",
       "5    10.0\n",
       "6     7.0\n",
       "7     1.0\n",
       "8     4.0\n",
       "9     8.0\n",
       "dtype: float64"
      ]
     },
     "execution_count": 174,
     "metadata": {},
     "output_type": "execute_result"
    }
   ],
   "source": [
    "s.rank(method='max') #같은 순위를 만들되 더 빠른 순위대신 후순위를 선택."
   ]
  },
  {
   "cell_type": "markdown",
   "metadata": {
    "id": "P6wc1ajiQe4r"
   },
   "source": [
    "### 고성능 연산"
   ]
  },
  {
   "cell_type": "markdown",
   "metadata": {},
   "source": [
    "* pd.eval이랑 df.eval이랑 다른건가...? 알아봐야할 듯"
   ]
  },
  {
   "cell_type": "code",
   "execution_count": 175,
   "metadata": {
    "ExecuteTime": {
     "end_time": "2022-04-02T14:04:55.290825Z",
     "start_time": "2022-04-02T14:04:55.278828Z"
    },
    "id": "E4u2T6oSQhFu"
   },
   "outputs": [],
   "source": [
    "nrows, ncol = 100000, 100\n",
    "df1, df2, df3, df4 = (pd.DataFrame(np.random.rand(nrows)) for i in range(4))"
   ]
  },
  {
   "cell_type": "code",
   "execution_count": 176,
   "metadata": {
    "ExecuteTime": {
     "end_time": "2022-04-02T14:05:01.307096Z",
     "start_time": "2022-04-02T14:04:55.292835Z"
    },
    "id": "SGg14HnyQvk2"
   },
   "outputs": [
    {
     "name": "stdout",
     "output_type": "stream",
     "text": [
      "643 µs ± 127 µs per loop (mean ± std. dev. of 7 runs, 1,000 loops each)\n"
     ]
    }
   ],
   "source": [
    "%timeit df1 + df2 + df3 + df4"
   ]
  },
  {
   "cell_type": "code",
   "execution_count": 177,
   "metadata": {
    "ExecuteTime": {
     "end_time": "2022-04-02T14:05:15.563506Z",
     "start_time": "2022-04-02T14:05:01.310087Z"
    },
    "id": "k_GkpEnMQ0Fi"
   },
   "outputs": [
    {
     "name": "stdout",
     "output_type": "stream",
     "text": [
      "1.79 ms ± 317 µs per loop (mean ± std. dev. of 7 runs, 1,000 loops each)\n"
     ]
    }
   ],
   "source": [
    "%timeit pd.eval('df1 + df2 + df3 + df4') #? 강의에서는 줄어드는데 왜 나는 늘어났지? 물론 실제 계산속도는 줄긴 했는데."
   ]
  },
  {
   "cell_type": "code",
   "execution_count": 178,
   "metadata": {
    "ExecuteTime": {
     "end_time": "2022-04-02T14:05:23.402589Z",
     "start_time": "2022-04-02T14:05:15.566470Z"
    },
    "id": "qPAdmY8cQ7Sn"
   },
   "outputs": [
    {
     "name": "stdout",
     "output_type": "stream",
     "text": [
      "977 µs ± 213 µs per loop (mean ± std. dev. of 7 runs, 1,000 loops each)\n"
     ]
    }
   ],
   "source": [
    "%timeit df1 * -df2 / (-df3 * df4)"
   ]
  },
  {
   "cell_type": "code",
   "execution_count": 179,
   "metadata": {
    "ExecuteTime": {
     "end_time": "2022-04-02T14:05:25.272627Z",
     "start_time": "2022-04-02T14:05:23.404585Z"
    },
    "id": "eZzfGsGuRE3e"
   },
   "outputs": [
    {
     "name": "stdout",
     "output_type": "stream",
     "text": [
      "2.25 ms ± 56.8 µs per loop (mean ± std. dev. of 7 runs, 100 loops each)\n"
     ]
    }
   ],
   "source": [
    "%timeit pd.eval('df1 * -df2 / (-df3 * df4)') #더 빨라지는건 아닌 것 같은데...?"
   ]
  },
  {
   "cell_type": "code",
   "execution_count": 180,
   "metadata": {
    "ExecuteTime": {
     "end_time": "2022-04-02T14:05:32.544147Z",
     "start_time": "2022-04-02T14:05:25.275585Z"
    },
    "id": "snts2jL2RVq-"
   },
   "outputs": [
    {
     "name": "stdout",
     "output_type": "stream",
     "text": [
      "886 µs ± 32.2 µs per loop (mean ± std. dev. of 7 runs, 1,000 loops each)\n"
     ]
    }
   ],
   "source": [
    "%timeit (df1 < df2) & (df2 <= df3) & (df3 != df4)"
   ]
  },
  {
   "cell_type": "code",
   "execution_count": 181,
   "metadata": {
    "ExecuteTime": {
     "end_time": "2022-04-02T14:05:34.414386Z",
     "start_time": "2022-04-02T14:05:32.546142Z"
    },
    "id": "nb6RYOJtRdE8"
   },
   "outputs": [
    {
     "name": "stdout",
     "output_type": "stream",
     "text": [
      "2.3 ms ± 162 µs per loop (mean ± std. dev. of 7 runs, 100 loops each)\n"
     ]
    }
   ],
   "source": [
    "%timeit pd.eval('(df1 < df2) & (df2 <= df3) & (df3 != df4)')"
   ]
  },
  {
   "cell_type": "code",
   "execution_count": 182,
   "metadata": {
    "ExecuteTime": {
     "end_time": "2022-04-02T14:05:34.489186Z",
     "start_time": "2022-04-02T14:05:34.417379Z"
    },
    "id": "MPmsqO2jRyVp"
   },
   "outputs": [
    {
     "data": {
      "text/html": [
       "<div>\n",
       "<style scoped>\n",
       "    .dataframe tbody tr th:only-of-type {\n",
       "        vertical-align: middle;\n",
       "    }\n",
       "\n",
       "    .dataframe tbody tr th {\n",
       "        vertical-align: top;\n",
       "    }\n",
       "\n",
       "    .dataframe thead th {\n",
       "        text-align: right;\n",
       "    }\n",
       "</style>\n",
       "<table border=\"1\" class=\"dataframe\">\n",
       "  <thead>\n",
       "    <tr style=\"text-align: right;\">\n",
       "      <th></th>\n",
       "      <th>A</th>\n",
       "      <th>B</th>\n",
       "      <th>C</th>\n",
       "      <th>D</th>\n",
       "      <th>E</th>\n",
       "    </tr>\n",
       "  </thead>\n",
       "  <tbody>\n",
       "    <tr>\n",
       "      <th>0</th>\n",
       "      <td>0.924135</td>\n",
       "      <td>0.036906</td>\n",
       "      <td>0.929403</td>\n",
       "      <td>0.925390</td>\n",
       "      <td>0.704272</td>\n",
       "    </tr>\n",
       "    <tr>\n",
       "      <th>1</th>\n",
       "      <td>0.912141</td>\n",
       "      <td>0.740200</td>\n",
       "      <td>0.118794</td>\n",
       "      <td>0.144411</td>\n",
       "      <td>0.963322</td>\n",
       "    </tr>\n",
       "    <tr>\n",
       "      <th>2</th>\n",
       "      <td>0.492385</td>\n",
       "      <td>0.679870</td>\n",
       "      <td>0.428589</td>\n",
       "      <td>0.173911</td>\n",
       "      <td>0.415426</td>\n",
       "    </tr>\n",
       "    <tr>\n",
       "      <th>3</th>\n",
       "      <td>0.118209</td>\n",
       "      <td>0.716162</td>\n",
       "      <td>0.548174</td>\n",
       "      <td>0.701319</td>\n",
       "      <td>0.393785</td>\n",
       "    </tr>\n",
       "    <tr>\n",
       "      <th>4</th>\n",
       "      <td>0.937722</td>\n",
       "      <td>0.949543</td>\n",
       "      <td>0.155464</td>\n",
       "      <td>0.434177</td>\n",
       "      <td>0.217058</td>\n",
       "    </tr>\n",
       "  </tbody>\n",
       "</table>\n",
       "</div>"
      ],
      "text/plain": [
       "          A         B         C         D         E\n",
       "0  0.924135  0.036906  0.929403  0.925390  0.704272\n",
       "1  0.912141  0.740200  0.118794  0.144411  0.963322\n",
       "2  0.492385  0.679870  0.428589  0.173911  0.415426\n",
       "3  0.118209  0.716162  0.548174  0.701319  0.393785\n",
       "4  0.937722  0.949543  0.155464  0.434177  0.217058"
      ]
     },
     "execution_count": 182,
     "metadata": {},
     "output_type": "execute_result"
    }
   ],
   "source": [
    "df = pd.DataFrame(np.random.rand(1000000, 5), columns=['A', 'B', 'C', 'D', 'E'])\n",
    "df.head()"
   ]
  },
  {
   "cell_type": "code",
   "execution_count": 183,
   "metadata": {
    "ExecuteTime": {
     "end_time": "2022-04-02T14:05:37.506737Z",
     "start_time": "2022-04-02T14:05:34.491185Z"
    },
    "id": "GNbooD08TyAD"
   },
   "outputs": [
    {
     "name": "stdout",
     "output_type": "stream",
     "text": [
      "38.2 ms ± 8.77 ms per loop (mean ± std. dev. of 7 runs, 10 loops each)\n"
     ]
    }
   ],
   "source": [
    "%timeit df['A'] + df['B'] / df['C'] + df['D'] + df['E']"
   ]
  },
  {
   "cell_type": "code",
   "execution_count": 184,
   "metadata": {
    "ExecuteTime": {
     "end_time": "2022-04-02T14:05:40.038977Z",
     "start_time": "2022-04-02T14:05:37.508731Z"
    },
    "id": "fgwU0lS4UOl0"
   },
   "outputs": [
    {
     "name": "stdout",
     "output_type": "stream",
     "text": [
      "31.4 ms ± 1.79 ms per loop (mean ± std. dev. of 7 runs, 10 loops each)\n"
     ]
    }
   ],
   "source": [
    "%timeit pd.eval(\"df.A + df.B / df.C + df.D + df.E\")"
   ]
  },
  {
   "cell_type": "code",
   "execution_count": 185,
   "metadata": {
    "ExecuteTime": {
     "end_time": "2022-04-02T14:05:43.305904Z",
     "start_time": "2022-04-02T14:05:40.042969Z"
    },
    "id": "roVl8OAOUiHt"
   },
   "outputs": [
    {
     "name": "stdout",
     "output_type": "stream",
     "text": [
      "41.2 ms ± 5.81 ms per loop (mean ± std. dev. of 7 runs, 10 loops each)\n"
     ]
    }
   ],
   "source": [
    "%timeit df.eval('A + B / C - D * E')"
   ]
  },
  {
   "cell_type": "code",
   "execution_count": 186,
   "metadata": {
    "ExecuteTime": {
     "end_time": "2022-04-02T14:05:43.380702Z",
     "start_time": "2022-04-02T14:05:43.308894Z"
    },
    "id": "Hud7fAOtVGDC"
   },
   "outputs": [
    {
     "data": {
      "text/html": [
       "<div>\n",
       "<style scoped>\n",
       "    .dataframe tbody tr th:only-of-type {\n",
       "        vertical-align: middle;\n",
       "    }\n",
       "\n",
       "    .dataframe tbody tr th {\n",
       "        vertical-align: top;\n",
       "    }\n",
       "\n",
       "    .dataframe thead th {\n",
       "        text-align: right;\n",
       "    }\n",
       "</style>\n",
       "<table border=\"1\" class=\"dataframe\">\n",
       "  <thead>\n",
       "    <tr style=\"text-align: right;\">\n",
       "      <th></th>\n",
       "      <th>A</th>\n",
       "      <th>B</th>\n",
       "      <th>C</th>\n",
       "      <th>D</th>\n",
       "      <th>E</th>\n",
       "      <th>R</th>\n",
       "    </tr>\n",
       "  </thead>\n",
       "  <tbody>\n",
       "    <tr>\n",
       "      <th>0</th>\n",
       "      <td>0.924135</td>\n",
       "      <td>0.036906</td>\n",
       "      <td>0.929403</td>\n",
       "      <td>0.925390</td>\n",
       "      <td>0.704272</td>\n",
       "      <td>0.312119</td>\n",
       "    </tr>\n",
       "    <tr>\n",
       "      <th>1</th>\n",
       "      <td>0.912141</td>\n",
       "      <td>0.740200</td>\n",
       "      <td>0.118794</td>\n",
       "      <td>0.144411</td>\n",
       "      <td>0.963322</td>\n",
       "      <td>7.003965</td>\n",
       "    </tr>\n",
       "    <tr>\n",
       "      <th>2</th>\n",
       "      <td>0.492385</td>\n",
       "      <td>0.679870</td>\n",
       "      <td>0.428589</td>\n",
       "      <td>0.173911</td>\n",
       "      <td>0.415426</td>\n",
       "      <td>2.006438</td>\n",
       "    </tr>\n",
       "    <tr>\n",
       "      <th>3</th>\n",
       "      <td>0.118209</td>\n",
       "      <td>0.716162</td>\n",
       "      <td>0.548174</td>\n",
       "      <td>0.701319</td>\n",
       "      <td>0.393785</td>\n",
       "      <td>1.148490</td>\n",
       "    </tr>\n",
       "    <tr>\n",
       "      <th>4</th>\n",
       "      <td>0.937722</td>\n",
       "      <td>0.949543</td>\n",
       "      <td>0.155464</td>\n",
       "      <td>0.434177</td>\n",
       "      <td>0.217058</td>\n",
       "      <td>6.951266</td>\n",
       "    </tr>\n",
       "  </tbody>\n",
       "</table>\n",
       "</div>"
      ],
      "text/plain": [
       "          A         B         C         D         E         R\n",
       "0  0.924135  0.036906  0.929403  0.925390  0.704272  0.312119\n",
       "1  0.912141  0.740200  0.118794  0.144411  0.963322  7.003965\n",
       "2  0.492385  0.679870  0.428589  0.173911  0.415426  2.006438\n",
       "3  0.118209  0.716162  0.548174  0.701319  0.393785  1.148490\n",
       "4  0.937722  0.949543  0.155464  0.434177  0.217058  6.951266"
      ]
     },
     "execution_count": 186,
     "metadata": {},
     "output_type": "execute_result"
    }
   ],
   "source": [
    "# 이런식으로 추가할 수 있음.\n",
    "df.eval('R = A + B / C - D * E', inplace=True)\n",
    "df.head()"
   ]
  },
  {
   "cell_type": "code",
   "execution_count": 187,
   "metadata": {
    "ExecuteTime": {
     "end_time": "2022-04-02T14:05:43.530308Z",
     "start_time": "2022-04-02T14:05:43.383659Z"
    }
   },
   "outputs": [
    {
     "data": {
      "text/plain": [
       "0         0.638704\n",
       "1         1.647139\n",
       "2         0.699437\n",
       "3         0.604356\n",
       "4         1.607538\n",
       "            ...   \n",
       "999995    0.802180\n",
       "999996    0.623135\n",
       "999997    0.688333\n",
       "999998    0.628609\n",
       "999999    0.503465\n",
       "Length: 1000000, dtype: float64"
      ]
     },
     "execution_count": 187,
     "metadata": {},
     "output_type": "execute_result"
    }
   ],
   "source": [
    "df.mean(1) #axis를 넣는 듯?"
   ]
  },
  {
   "cell_type": "code",
   "execution_count": 188,
   "metadata": {
    "ExecuteTime": {
     "end_time": "2022-04-02T14:05:43.605069Z",
     "start_time": "2022-04-02T14:05:43.533260Z"
    },
    "id": "qFaoM0OBVUbX"
   },
   "outputs": [
    {
     "data": {
      "text/plain": [
       "0         1.562840\n",
       "1         2.559280\n",
       "2         1.191822\n",
       "3         0.722565\n",
       "4         2.545261\n",
       "            ...   \n",
       "999995    1.668119\n",
       "999996    0.818471\n",
       "999997    1.177628\n",
       "999998    1.129220\n",
       "999999    1.212640\n",
       "Length: 1000000, dtype: float64"
      ]
     },
     "execution_count": 188,
     "metadata": {},
     "output_type": "execute_result"
    }
   ],
   "source": [
    "col_mean = df.mean(1)\n",
    "df['A'] + col_mean"
   ]
  },
  {
   "cell_type": "code",
   "execution_count": 189,
   "metadata": {
    "ExecuteTime": {
     "end_time": "2022-04-02T14:05:43.634989Z",
     "start_time": "2022-04-02T14:05:43.607064Z"
    },
    "id": "3_Z4QpBuVrJY"
   },
   "outputs": [
    {
     "data": {
      "text/plain": [
       "0         1.562840\n",
       "1         2.559280\n",
       "2         1.191822\n",
       "3         0.722565\n",
       "4         2.545261\n",
       "            ...   \n",
       "999995    1.668119\n",
       "999996    0.818471\n",
       "999997    1.177628\n",
       "999998    1.129220\n",
       "999999    1.212640\n",
       "Length: 1000000, dtype: float64"
      ]
     },
     "execution_count": 189,
     "metadata": {},
     "output_type": "execute_result"
    }
   ],
   "source": [
    "# @기호를 통해서 외부의 변수를 가져올 수 있음.\n",
    "df.eval('A + @col_mean')"
   ]
  },
  {
   "cell_type": "code",
   "execution_count": 190,
   "metadata": {
    "ExecuteTime": {
     "end_time": "2022-04-02T14:05:43.679898Z",
     "start_time": "2022-04-02T14:05:43.636984Z"
    },
    "id": "Ge5N1eHXV7hs"
   },
   "outputs": [
    {
     "data": {
      "text/html": [
       "<div>\n",
       "<style scoped>\n",
       "    .dataframe tbody tr th:only-of-type {\n",
       "        vertical-align: middle;\n",
       "    }\n",
       "\n",
       "    .dataframe tbody tr th {\n",
       "        vertical-align: top;\n",
       "    }\n",
       "\n",
       "    .dataframe thead th {\n",
       "        text-align: right;\n",
       "    }\n",
       "</style>\n",
       "<table border=\"1\" class=\"dataframe\">\n",
       "  <thead>\n",
       "    <tr style=\"text-align: right;\">\n",
       "      <th></th>\n",
       "      <th>A</th>\n",
       "      <th>B</th>\n",
       "      <th>C</th>\n",
       "      <th>D</th>\n",
       "      <th>E</th>\n",
       "      <th>R</th>\n",
       "    </tr>\n",
       "  </thead>\n",
       "  <tbody>\n",
       "    <tr>\n",
       "      <th>17</th>\n",
       "      <td>0.325128</td>\n",
       "      <td>0.353407</td>\n",
       "      <td>0.901791</td>\n",
       "      <td>0.786932</td>\n",
       "      <td>0.889967</td>\n",
       "      <td>0.016680</td>\n",
       "    </tr>\n",
       "    <tr>\n",
       "      <th>35</th>\n",
       "      <td>0.444468</td>\n",
       "      <td>0.306695</td>\n",
       "      <td>0.703575</td>\n",
       "      <td>0.884874</td>\n",
       "      <td>0.783174</td>\n",
       "      <td>0.187369</td>\n",
       "    </tr>\n",
       "    <tr>\n",
       "      <th>38</th>\n",
       "      <td>0.277398</td>\n",
       "      <td>0.387526</td>\n",
       "      <td>0.902142</td>\n",
       "      <td>0.474226</td>\n",
       "      <td>0.008511</td>\n",
       "      <td>0.702924</td>\n",
       "    </tr>\n",
       "    <tr>\n",
       "      <th>41</th>\n",
       "      <td>0.405905</td>\n",
       "      <td>0.365072</td>\n",
       "      <td>0.756699</td>\n",
       "      <td>0.644333</td>\n",
       "      <td>0.885375</td>\n",
       "      <td>0.317882</td>\n",
       "    </tr>\n",
       "    <tr>\n",
       "      <th>44</th>\n",
       "      <td>0.019314</td>\n",
       "      <td>0.065946</td>\n",
       "      <td>0.674854</td>\n",
       "      <td>0.291756</td>\n",
       "      <td>0.074212</td>\n",
       "      <td>0.095380</td>\n",
       "    </tr>\n",
       "    <tr>\n",
       "      <th>...</th>\n",
       "      <td>...</td>\n",
       "      <td>...</td>\n",
       "      <td>...</td>\n",
       "      <td>...</td>\n",
       "      <td>...</td>\n",
       "      <td>...</td>\n",
       "    </tr>\n",
       "    <tr>\n",
       "      <th>999981</th>\n",
       "      <td>0.029500</td>\n",
       "      <td>0.303053</td>\n",
       "      <td>0.618325</td>\n",
       "      <td>0.637033</td>\n",
       "      <td>0.048776</td>\n",
       "      <td>0.488547</td>\n",
       "    </tr>\n",
       "    <tr>\n",
       "      <th>999988</th>\n",
       "      <td>0.205920</td>\n",
       "      <td>0.400219</td>\n",
       "      <td>0.511521</td>\n",
       "      <td>0.911406</td>\n",
       "      <td>0.272447</td>\n",
       "      <td>0.740021</td>\n",
       "    </tr>\n",
       "    <tr>\n",
       "      <th>999989</th>\n",
       "      <td>0.120728</td>\n",
       "      <td>0.176168</td>\n",
       "      <td>0.812453</td>\n",
       "      <td>0.108745</td>\n",
       "      <td>0.582733</td>\n",
       "      <td>0.274193</td>\n",
       "    </tr>\n",
       "    <tr>\n",
       "      <th>999990</th>\n",
       "      <td>0.234428</td>\n",
       "      <td>0.314903</td>\n",
       "      <td>0.599164</td>\n",
       "      <td>0.384346</td>\n",
       "      <td>0.225757</td>\n",
       "      <td>0.673231</td>\n",
       "    </tr>\n",
       "    <tr>\n",
       "      <th>999993</th>\n",
       "      <td>0.130744</td>\n",
       "      <td>0.304893</td>\n",
       "      <td>0.804630</td>\n",
       "      <td>0.342396</td>\n",
       "      <td>0.018912</td>\n",
       "      <td>0.503192</td>\n",
       "    </tr>\n",
       "  </tbody>\n",
       "</table>\n",
       "<p>125303 rows × 6 columns</p>\n",
       "</div>"
      ],
      "text/plain": [
       "               A         B         C         D         E         R\n",
       "17      0.325128  0.353407  0.901791  0.786932  0.889967  0.016680\n",
       "35      0.444468  0.306695  0.703575  0.884874  0.783174  0.187369\n",
       "38      0.277398  0.387526  0.902142  0.474226  0.008511  0.702924\n",
       "41      0.405905  0.365072  0.756699  0.644333  0.885375  0.317882\n",
       "44      0.019314  0.065946  0.674854  0.291756  0.074212  0.095380\n",
       "...          ...       ...       ...       ...       ...       ...\n",
       "999981  0.029500  0.303053  0.618325  0.637033  0.048776  0.488547\n",
       "999988  0.205920  0.400219  0.511521  0.911406  0.272447  0.740021\n",
       "999989  0.120728  0.176168  0.812453  0.108745  0.582733  0.274193\n",
       "999990  0.234428  0.314903  0.599164  0.384346  0.225757  0.673231\n",
       "999993  0.130744  0.304893  0.804630  0.342396  0.018912  0.503192\n",
       "\n",
       "[125303 rows x 6 columns]"
      ]
     },
     "execution_count": 190,
     "metadata": {},
     "output_type": "execute_result"
    }
   ],
   "source": [
    "df[(df.A < 0.5) & (df.B < 0.5) & (df.C > 0.5)]"
   ]
  },
  {
   "cell_type": "code",
   "execution_count": 191,
   "metadata": {
    "ExecuteTime": {
     "end_time": "2022-04-02T14:05:43.754702Z",
     "start_time": "2022-04-02T14:05:43.681863Z"
    },
    "id": "lSoS8MRFWKSm"
   },
   "outputs": [
    {
     "data": {
      "text/html": [
       "<div>\n",
       "<style scoped>\n",
       "    .dataframe tbody tr th:only-of-type {\n",
       "        vertical-align: middle;\n",
       "    }\n",
       "\n",
       "    .dataframe tbody tr th {\n",
       "        vertical-align: top;\n",
       "    }\n",
       "\n",
       "    .dataframe thead th {\n",
       "        text-align: right;\n",
       "    }\n",
       "</style>\n",
       "<table border=\"1\" class=\"dataframe\">\n",
       "  <thead>\n",
       "    <tr style=\"text-align: right;\">\n",
       "      <th></th>\n",
       "      <th>A</th>\n",
       "      <th>B</th>\n",
       "      <th>C</th>\n",
       "      <th>D</th>\n",
       "      <th>E</th>\n",
       "      <th>R</th>\n",
       "    </tr>\n",
       "  </thead>\n",
       "  <tbody>\n",
       "    <tr>\n",
       "      <th>17</th>\n",
       "      <td>0.325128</td>\n",
       "      <td>0.353407</td>\n",
       "      <td>0.901791</td>\n",
       "      <td>0.786932</td>\n",
       "      <td>0.889967</td>\n",
       "      <td>0.016680</td>\n",
       "    </tr>\n",
       "    <tr>\n",
       "      <th>35</th>\n",
       "      <td>0.444468</td>\n",
       "      <td>0.306695</td>\n",
       "      <td>0.703575</td>\n",
       "      <td>0.884874</td>\n",
       "      <td>0.783174</td>\n",
       "      <td>0.187369</td>\n",
       "    </tr>\n",
       "    <tr>\n",
       "      <th>38</th>\n",
       "      <td>0.277398</td>\n",
       "      <td>0.387526</td>\n",
       "      <td>0.902142</td>\n",
       "      <td>0.474226</td>\n",
       "      <td>0.008511</td>\n",
       "      <td>0.702924</td>\n",
       "    </tr>\n",
       "    <tr>\n",
       "      <th>41</th>\n",
       "      <td>0.405905</td>\n",
       "      <td>0.365072</td>\n",
       "      <td>0.756699</td>\n",
       "      <td>0.644333</td>\n",
       "      <td>0.885375</td>\n",
       "      <td>0.317882</td>\n",
       "    </tr>\n",
       "    <tr>\n",
       "      <th>44</th>\n",
       "      <td>0.019314</td>\n",
       "      <td>0.065946</td>\n",
       "      <td>0.674854</td>\n",
       "      <td>0.291756</td>\n",
       "      <td>0.074212</td>\n",
       "      <td>0.095380</td>\n",
       "    </tr>\n",
       "    <tr>\n",
       "      <th>...</th>\n",
       "      <td>...</td>\n",
       "      <td>...</td>\n",
       "      <td>...</td>\n",
       "      <td>...</td>\n",
       "      <td>...</td>\n",
       "      <td>...</td>\n",
       "    </tr>\n",
       "    <tr>\n",
       "      <th>999981</th>\n",
       "      <td>0.029500</td>\n",
       "      <td>0.303053</td>\n",
       "      <td>0.618325</td>\n",
       "      <td>0.637033</td>\n",
       "      <td>0.048776</td>\n",
       "      <td>0.488547</td>\n",
       "    </tr>\n",
       "    <tr>\n",
       "      <th>999988</th>\n",
       "      <td>0.205920</td>\n",
       "      <td>0.400219</td>\n",
       "      <td>0.511521</td>\n",
       "      <td>0.911406</td>\n",
       "      <td>0.272447</td>\n",
       "      <td>0.740021</td>\n",
       "    </tr>\n",
       "    <tr>\n",
       "      <th>999989</th>\n",
       "      <td>0.120728</td>\n",
       "      <td>0.176168</td>\n",
       "      <td>0.812453</td>\n",
       "      <td>0.108745</td>\n",
       "      <td>0.582733</td>\n",
       "      <td>0.274193</td>\n",
       "    </tr>\n",
       "    <tr>\n",
       "      <th>999990</th>\n",
       "      <td>0.234428</td>\n",
       "      <td>0.314903</td>\n",
       "      <td>0.599164</td>\n",
       "      <td>0.384346</td>\n",
       "      <td>0.225757</td>\n",
       "      <td>0.673231</td>\n",
       "    </tr>\n",
       "    <tr>\n",
       "      <th>999993</th>\n",
       "      <td>0.130744</td>\n",
       "      <td>0.304893</td>\n",
       "      <td>0.804630</td>\n",
       "      <td>0.342396</td>\n",
       "      <td>0.018912</td>\n",
       "      <td>0.503192</td>\n",
       "    </tr>\n",
       "  </tbody>\n",
       "</table>\n",
       "<p>125303 rows × 6 columns</p>\n",
       "</div>"
      ],
      "text/plain": [
       "               A         B         C         D         E         R\n",
       "17      0.325128  0.353407  0.901791  0.786932  0.889967  0.016680\n",
       "35      0.444468  0.306695  0.703575  0.884874  0.783174  0.187369\n",
       "38      0.277398  0.387526  0.902142  0.474226  0.008511  0.702924\n",
       "41      0.405905  0.365072  0.756699  0.644333  0.885375  0.317882\n",
       "44      0.019314  0.065946  0.674854  0.291756  0.074212  0.095380\n",
       "...          ...       ...       ...       ...       ...       ...\n",
       "999981  0.029500  0.303053  0.618325  0.637033  0.048776  0.488547\n",
       "999988  0.205920  0.400219  0.511521  0.911406  0.272447  0.740021\n",
       "999989  0.120728  0.176168  0.812453  0.108745  0.582733  0.274193\n",
       "999990  0.234428  0.314903  0.599164  0.384346  0.225757  0.673231\n",
       "999993  0.130744  0.304893  0.804630  0.342396  0.018912  0.503192\n",
       "\n",
       "[125303 rows x 6 columns]"
      ]
     },
     "execution_count": 191,
     "metadata": {},
     "output_type": "execute_result"
    }
   ],
   "source": [
    "pd.eval('df[(df.A < 0.5) & (df.B < 0.5) & (df.C > 0.5)]')"
   ]
  },
  {
   "cell_type": "code",
   "execution_count": 192,
   "metadata": {
    "ExecuteTime": {
     "end_time": "2022-04-02T14:05:43.784623Z",
     "start_time": "2022-04-02T14:05:43.756662Z"
    },
    "id": "xhWXd_LEW3wL"
   },
   "outputs": [
    {
     "data": {
      "text/plain": [
       "0         False\n",
       "1         False\n",
       "2         False\n",
       "3         False\n",
       "4         False\n",
       "          ...  \n",
       "999995    False\n",
       "999996    False\n",
       "999997    False\n",
       "999998    False\n",
       "999999    False\n",
       "Length: 1000000, dtype: bool"
      ]
     },
     "execution_count": 192,
     "metadata": {},
     "output_type": "execute_result"
    }
   ],
   "source": [
    "df.eval('(A < 0.5) and (B < 0.5) and (C > 0.5)')"
   ]
  },
  {
   "cell_type": "code",
   "execution_count": 193,
   "metadata": {
    "ExecuteTime": {
     "end_time": "2022-04-02T14:05:43.874346Z",
     "start_time": "2022-04-02T14:05:43.786582Z"
    },
    "id": "DQGuGdV0WZ3Y"
   },
   "outputs": [
    {
     "data": {
      "text/html": [
       "<div>\n",
       "<style scoped>\n",
       "    .dataframe tbody tr th:only-of-type {\n",
       "        vertical-align: middle;\n",
       "    }\n",
       "\n",
       "    .dataframe tbody tr th {\n",
       "        vertical-align: top;\n",
       "    }\n",
       "\n",
       "    .dataframe thead th {\n",
       "        text-align: right;\n",
       "    }\n",
       "</style>\n",
       "<table border=\"1\" class=\"dataframe\">\n",
       "  <thead>\n",
       "    <tr style=\"text-align: right;\">\n",
       "      <th></th>\n",
       "      <th>A</th>\n",
       "      <th>B</th>\n",
       "      <th>C</th>\n",
       "      <th>D</th>\n",
       "      <th>E</th>\n",
       "      <th>R</th>\n",
       "    </tr>\n",
       "  </thead>\n",
       "  <tbody>\n",
       "    <tr>\n",
       "      <th>17</th>\n",
       "      <td>0.325128</td>\n",
       "      <td>0.353407</td>\n",
       "      <td>0.901791</td>\n",
       "      <td>0.786932</td>\n",
       "      <td>0.889967</td>\n",
       "      <td>0.016680</td>\n",
       "    </tr>\n",
       "    <tr>\n",
       "      <th>35</th>\n",
       "      <td>0.444468</td>\n",
       "      <td>0.306695</td>\n",
       "      <td>0.703575</td>\n",
       "      <td>0.884874</td>\n",
       "      <td>0.783174</td>\n",
       "      <td>0.187369</td>\n",
       "    </tr>\n",
       "    <tr>\n",
       "      <th>38</th>\n",
       "      <td>0.277398</td>\n",
       "      <td>0.387526</td>\n",
       "      <td>0.902142</td>\n",
       "      <td>0.474226</td>\n",
       "      <td>0.008511</td>\n",
       "      <td>0.702924</td>\n",
       "    </tr>\n",
       "    <tr>\n",
       "      <th>41</th>\n",
       "      <td>0.405905</td>\n",
       "      <td>0.365072</td>\n",
       "      <td>0.756699</td>\n",
       "      <td>0.644333</td>\n",
       "      <td>0.885375</td>\n",
       "      <td>0.317882</td>\n",
       "    </tr>\n",
       "    <tr>\n",
       "      <th>44</th>\n",
       "      <td>0.019314</td>\n",
       "      <td>0.065946</td>\n",
       "      <td>0.674854</td>\n",
       "      <td>0.291756</td>\n",
       "      <td>0.074212</td>\n",
       "      <td>0.095380</td>\n",
       "    </tr>\n",
       "    <tr>\n",
       "      <th>...</th>\n",
       "      <td>...</td>\n",
       "      <td>...</td>\n",
       "      <td>...</td>\n",
       "      <td>...</td>\n",
       "      <td>...</td>\n",
       "      <td>...</td>\n",
       "    </tr>\n",
       "    <tr>\n",
       "      <th>999981</th>\n",
       "      <td>0.029500</td>\n",
       "      <td>0.303053</td>\n",
       "      <td>0.618325</td>\n",
       "      <td>0.637033</td>\n",
       "      <td>0.048776</td>\n",
       "      <td>0.488547</td>\n",
       "    </tr>\n",
       "    <tr>\n",
       "      <th>999988</th>\n",
       "      <td>0.205920</td>\n",
       "      <td>0.400219</td>\n",
       "      <td>0.511521</td>\n",
       "      <td>0.911406</td>\n",
       "      <td>0.272447</td>\n",
       "      <td>0.740021</td>\n",
       "    </tr>\n",
       "    <tr>\n",
       "      <th>999989</th>\n",
       "      <td>0.120728</td>\n",
       "      <td>0.176168</td>\n",
       "      <td>0.812453</td>\n",
       "      <td>0.108745</td>\n",
       "      <td>0.582733</td>\n",
       "      <td>0.274193</td>\n",
       "    </tr>\n",
       "    <tr>\n",
       "      <th>999990</th>\n",
       "      <td>0.234428</td>\n",
       "      <td>0.314903</td>\n",
       "      <td>0.599164</td>\n",
       "      <td>0.384346</td>\n",
       "      <td>0.225757</td>\n",
       "      <td>0.673231</td>\n",
       "    </tr>\n",
       "    <tr>\n",
       "      <th>999993</th>\n",
       "      <td>0.130744</td>\n",
       "      <td>0.304893</td>\n",
       "      <td>0.804630</td>\n",
       "      <td>0.342396</td>\n",
       "      <td>0.018912</td>\n",
       "      <td>0.503192</td>\n",
       "    </tr>\n",
       "  </tbody>\n",
       "</table>\n",
       "<p>125303 rows × 6 columns</p>\n",
       "</div>"
      ],
      "text/plain": [
       "               A         B         C         D         E         R\n",
       "17      0.325128  0.353407  0.901791  0.786932  0.889967  0.016680\n",
       "35      0.444468  0.306695  0.703575  0.884874  0.783174  0.187369\n",
       "38      0.277398  0.387526  0.902142  0.474226  0.008511  0.702924\n",
       "41      0.405905  0.365072  0.756699  0.644333  0.885375  0.317882\n",
       "44      0.019314  0.065946  0.674854  0.291756  0.074212  0.095380\n",
       "...          ...       ...       ...       ...       ...       ...\n",
       "999981  0.029500  0.303053  0.618325  0.637033  0.048776  0.488547\n",
       "999988  0.205920  0.400219  0.511521  0.911406  0.272447  0.740021\n",
       "999989  0.120728  0.176168  0.812453  0.108745  0.582733  0.274193\n",
       "999990  0.234428  0.314903  0.599164  0.384346  0.225757  0.673231\n",
       "999993  0.130744  0.304893  0.804630  0.342396  0.018912  0.503192\n",
       "\n",
       "[125303 rows x 6 columns]"
      ]
     },
     "execution_count": 193,
     "metadata": {},
     "output_type": "execute_result"
    }
   ],
   "source": [
    "df.query('(A < 0.5) and (B < 0.5) and (C > 0.5)')\n",
    "df.query('(A < 0.5) & (B < 0.5) & (C > 0.5)') #동일하긴 한데, 쿼리가 sql문에서 따온거니까 and를 쓰는게 맞을 것 같기도.."
   ]
  },
  {
   "cell_type": "code",
   "execution_count": 194,
   "metadata": {
    "ExecuteTime": {
     "end_time": "2022-04-02T14:05:43.934189Z",
     "start_time": "2022-04-02T14:05:43.877340Z"
    },
    "id": "3LhXrBqBXZ3k"
   },
   "outputs": [
    {
     "data": {
      "text/html": [
       "<div>\n",
       "<style scoped>\n",
       "    .dataframe tbody tr th:only-of-type {\n",
       "        vertical-align: middle;\n",
       "    }\n",
       "\n",
       "    .dataframe tbody tr th {\n",
       "        vertical-align: top;\n",
       "    }\n",
       "\n",
       "    .dataframe thead th {\n",
       "        text-align: right;\n",
       "    }\n",
       "</style>\n",
       "<table border=\"1\" class=\"dataframe\">\n",
       "  <thead>\n",
       "    <tr style=\"text-align: right;\">\n",
       "      <th></th>\n",
       "      <th>A</th>\n",
       "      <th>B</th>\n",
       "      <th>C</th>\n",
       "      <th>D</th>\n",
       "      <th>E</th>\n",
       "      <th>R</th>\n",
       "    </tr>\n",
       "  </thead>\n",
       "  <tbody>\n",
       "    <tr>\n",
       "      <th>10</th>\n",
       "      <td>0.169816</td>\n",
       "      <td>0.284832</td>\n",
       "      <td>0.350921</td>\n",
       "      <td>0.773473</td>\n",
       "      <td>0.101231</td>\n",
       "      <td>0.903185</td>\n",
       "    </tr>\n",
       "    <tr>\n",
       "      <th>11</th>\n",
       "      <td>0.194004</td>\n",
       "      <td>0.041759</td>\n",
       "      <td>0.309923</td>\n",
       "      <td>0.893819</td>\n",
       "      <td>0.049102</td>\n",
       "      <td>0.284854</td>\n",
       "    </tr>\n",
       "    <tr>\n",
       "      <th>16</th>\n",
       "      <td>0.008963</td>\n",
       "      <td>0.022443</td>\n",
       "      <td>0.154021</td>\n",
       "      <td>0.136973</td>\n",
       "      <td>0.442259</td>\n",
       "      <td>0.094096</td>\n",
       "    </tr>\n",
       "    <tr>\n",
       "      <th>17</th>\n",
       "      <td>0.325128</td>\n",
       "      <td>0.353407</td>\n",
       "      <td>0.901791</td>\n",
       "      <td>0.786932</td>\n",
       "      <td>0.889967</td>\n",
       "      <td>0.016680</td>\n",
       "    </tr>\n",
       "    <tr>\n",
       "      <th>22</th>\n",
       "      <td>0.491509</td>\n",
       "      <td>0.009918</td>\n",
       "      <td>0.302395</td>\n",
       "      <td>0.367290</td>\n",
       "      <td>0.673166</td>\n",
       "      <td>0.277060</td>\n",
       "    </tr>\n",
       "    <tr>\n",
       "      <th>...</th>\n",
       "      <td>...</td>\n",
       "      <td>...</td>\n",
       "      <td>...</td>\n",
       "      <td>...</td>\n",
       "      <td>...</td>\n",
       "      <td>...</td>\n",
       "    </tr>\n",
       "    <tr>\n",
       "      <th>999986</th>\n",
       "      <td>0.449462</td>\n",
       "      <td>0.287443</td>\n",
       "      <td>0.128618</td>\n",
       "      <td>0.053103</td>\n",
       "      <td>0.056383</td>\n",
       "      <td>2.681318</td>\n",
       "    </tr>\n",
       "    <tr>\n",
       "      <th>999988</th>\n",
       "      <td>0.205920</td>\n",
       "      <td>0.400219</td>\n",
       "      <td>0.511521</td>\n",
       "      <td>0.911406</td>\n",
       "      <td>0.272447</td>\n",
       "      <td>0.740021</td>\n",
       "    </tr>\n",
       "    <tr>\n",
       "      <th>999989</th>\n",
       "      <td>0.120728</td>\n",
       "      <td>0.176168</td>\n",
       "      <td>0.812453</td>\n",
       "      <td>0.108745</td>\n",
       "      <td>0.582733</td>\n",
       "      <td>0.274193</td>\n",
       "    </tr>\n",
       "    <tr>\n",
       "      <th>999990</th>\n",
       "      <td>0.234428</td>\n",
       "      <td>0.314903</td>\n",
       "      <td>0.599164</td>\n",
       "      <td>0.384346</td>\n",
       "      <td>0.225757</td>\n",
       "      <td>0.673231</td>\n",
       "    </tr>\n",
       "    <tr>\n",
       "      <th>999993</th>\n",
       "      <td>0.130744</td>\n",
       "      <td>0.304893</td>\n",
       "      <td>0.804630</td>\n",
       "      <td>0.342396</td>\n",
       "      <td>0.018912</td>\n",
       "      <td>0.503192</td>\n",
       "    </tr>\n",
       "  </tbody>\n",
       "</table>\n",
       "<p>250782 rows × 6 columns</p>\n",
       "</div>"
      ],
      "text/plain": [
       "               A         B         C         D         E         R\n",
       "10      0.169816  0.284832  0.350921  0.773473  0.101231  0.903185\n",
       "11      0.194004  0.041759  0.309923  0.893819  0.049102  0.284854\n",
       "16      0.008963  0.022443  0.154021  0.136973  0.442259  0.094096\n",
       "17      0.325128  0.353407  0.901791  0.786932  0.889967  0.016680\n",
       "22      0.491509  0.009918  0.302395  0.367290  0.673166  0.277060\n",
       "...          ...       ...       ...       ...       ...       ...\n",
       "999986  0.449462  0.287443  0.128618  0.053103  0.056383  2.681318\n",
       "999988  0.205920  0.400219  0.511521  0.911406  0.272447  0.740021\n",
       "999989  0.120728  0.176168  0.812453  0.108745  0.582733  0.274193\n",
       "999990  0.234428  0.314903  0.599164  0.384346  0.225757  0.673231\n",
       "999993  0.130744  0.304893  0.804630  0.342396  0.018912  0.503192\n",
       "\n",
       "[250782 rows x 6 columns]"
      ]
     },
     "execution_count": 194,
     "metadata": {},
     "output_type": "execute_result"
    }
   ],
   "source": [
    "col_mean = df['D'].mean()\n",
    "df[(df.A < col_mean) & (df.B < col_mean)]"
   ]
  },
  {
   "cell_type": "code",
   "execution_count": 195,
   "metadata": {
    "ExecuteTime": {
     "end_time": "2022-04-02T14:05:43.994027Z",
     "start_time": "2022-04-02T14:05:43.936182Z"
    },
    "id": "r2JhqnOzXnKh"
   },
   "outputs": [
    {
     "data": {
      "text/html": [
       "<div>\n",
       "<style scoped>\n",
       "    .dataframe tbody tr th:only-of-type {\n",
       "        vertical-align: middle;\n",
       "    }\n",
       "\n",
       "    .dataframe tbody tr th {\n",
       "        vertical-align: top;\n",
       "    }\n",
       "\n",
       "    .dataframe thead th {\n",
       "        text-align: right;\n",
       "    }\n",
       "</style>\n",
       "<table border=\"1\" class=\"dataframe\">\n",
       "  <thead>\n",
       "    <tr style=\"text-align: right;\">\n",
       "      <th></th>\n",
       "      <th>A</th>\n",
       "      <th>B</th>\n",
       "      <th>C</th>\n",
       "      <th>D</th>\n",
       "      <th>E</th>\n",
       "      <th>R</th>\n",
       "    </tr>\n",
       "  </thead>\n",
       "  <tbody>\n",
       "    <tr>\n",
       "      <th>10</th>\n",
       "      <td>0.169816</td>\n",
       "      <td>0.284832</td>\n",
       "      <td>0.350921</td>\n",
       "      <td>0.773473</td>\n",
       "      <td>0.101231</td>\n",
       "      <td>0.903185</td>\n",
       "    </tr>\n",
       "    <tr>\n",
       "      <th>11</th>\n",
       "      <td>0.194004</td>\n",
       "      <td>0.041759</td>\n",
       "      <td>0.309923</td>\n",
       "      <td>0.893819</td>\n",
       "      <td>0.049102</td>\n",
       "      <td>0.284854</td>\n",
       "    </tr>\n",
       "    <tr>\n",
       "      <th>16</th>\n",
       "      <td>0.008963</td>\n",
       "      <td>0.022443</td>\n",
       "      <td>0.154021</td>\n",
       "      <td>0.136973</td>\n",
       "      <td>0.442259</td>\n",
       "      <td>0.094096</td>\n",
       "    </tr>\n",
       "    <tr>\n",
       "      <th>17</th>\n",
       "      <td>0.325128</td>\n",
       "      <td>0.353407</td>\n",
       "      <td>0.901791</td>\n",
       "      <td>0.786932</td>\n",
       "      <td>0.889967</td>\n",
       "      <td>0.016680</td>\n",
       "    </tr>\n",
       "    <tr>\n",
       "      <th>22</th>\n",
       "      <td>0.491509</td>\n",
       "      <td>0.009918</td>\n",
       "      <td>0.302395</td>\n",
       "      <td>0.367290</td>\n",
       "      <td>0.673166</td>\n",
       "      <td>0.277060</td>\n",
       "    </tr>\n",
       "    <tr>\n",
       "      <th>...</th>\n",
       "      <td>...</td>\n",
       "      <td>...</td>\n",
       "      <td>...</td>\n",
       "      <td>...</td>\n",
       "      <td>...</td>\n",
       "      <td>...</td>\n",
       "    </tr>\n",
       "    <tr>\n",
       "      <th>999986</th>\n",
       "      <td>0.449462</td>\n",
       "      <td>0.287443</td>\n",
       "      <td>0.128618</td>\n",
       "      <td>0.053103</td>\n",
       "      <td>0.056383</td>\n",
       "      <td>2.681318</td>\n",
       "    </tr>\n",
       "    <tr>\n",
       "      <th>999988</th>\n",
       "      <td>0.205920</td>\n",
       "      <td>0.400219</td>\n",
       "      <td>0.511521</td>\n",
       "      <td>0.911406</td>\n",
       "      <td>0.272447</td>\n",
       "      <td>0.740021</td>\n",
       "    </tr>\n",
       "    <tr>\n",
       "      <th>999989</th>\n",
       "      <td>0.120728</td>\n",
       "      <td>0.176168</td>\n",
       "      <td>0.812453</td>\n",
       "      <td>0.108745</td>\n",
       "      <td>0.582733</td>\n",
       "      <td>0.274193</td>\n",
       "    </tr>\n",
       "    <tr>\n",
       "      <th>999990</th>\n",
       "      <td>0.234428</td>\n",
       "      <td>0.314903</td>\n",
       "      <td>0.599164</td>\n",
       "      <td>0.384346</td>\n",
       "      <td>0.225757</td>\n",
       "      <td>0.673231</td>\n",
       "    </tr>\n",
       "    <tr>\n",
       "      <th>999993</th>\n",
       "      <td>0.130744</td>\n",
       "      <td>0.304893</td>\n",
       "      <td>0.804630</td>\n",
       "      <td>0.342396</td>\n",
       "      <td>0.018912</td>\n",
       "      <td>0.503192</td>\n",
       "    </tr>\n",
       "  </tbody>\n",
       "</table>\n",
       "<p>250782 rows × 6 columns</p>\n",
       "</div>"
      ],
      "text/plain": [
       "               A         B         C         D         E         R\n",
       "10      0.169816  0.284832  0.350921  0.773473  0.101231  0.903185\n",
       "11      0.194004  0.041759  0.309923  0.893819  0.049102  0.284854\n",
       "16      0.008963  0.022443  0.154021  0.136973  0.442259  0.094096\n",
       "17      0.325128  0.353407  0.901791  0.786932  0.889967  0.016680\n",
       "22      0.491509  0.009918  0.302395  0.367290  0.673166  0.277060\n",
       "...          ...       ...       ...       ...       ...       ...\n",
       "999986  0.449462  0.287443  0.128618  0.053103  0.056383  2.681318\n",
       "999988  0.205920  0.400219  0.511521  0.911406  0.272447  0.740021\n",
       "999989  0.120728  0.176168  0.812453  0.108745  0.582733  0.274193\n",
       "999990  0.234428  0.314903  0.599164  0.384346  0.225757  0.673231\n",
       "999993  0.130744  0.304893  0.804630  0.342396  0.018912  0.503192\n",
       "\n",
       "[250782 rows x 6 columns]"
      ]
     },
     "execution_count": 195,
     "metadata": {},
     "output_type": "execute_result"
    }
   ],
   "source": [
    "df.query('A < @col_mean and B < @col_mean')"
   ]
  },
  {
   "cell_type": "markdown",
   "metadata": {
    "id": "098-pgqPZvz6"
   },
   "source": [
    "## 데이터 결합"
   ]
  },
  {
   "cell_type": "markdown",
   "metadata": {
    "id": "BCSOonbBpkpT"
   },
   "source": [
    "### Concat() / Append()"
   ]
  },
  {
   "cell_type": "code",
   "execution_count": 196,
   "metadata": {
    "ExecuteTime": {
     "end_time": "2022-04-02T14:05:44.008986Z",
     "start_time": "2022-04-02T14:05:43.996021Z"
    },
    "id": "cTmO8pFKcd_W"
   },
   "outputs": [
    {
     "data": {
      "text/plain": [
       "1    a\n",
       "2    b\n",
       "3    c\n",
       "4    d\n",
       "dtype: object"
      ]
     },
     "execution_count": 196,
     "metadata": {},
     "output_type": "execute_result"
    }
   ],
   "source": [
    "s1 = pd.Series(['a', 'b'], index=[1, 2])\n",
    "s2 = pd.Series(['c', 'd'], index=[3, 4])\n",
    "pd.concat([s1, s2])"
   ]
  },
  {
   "cell_type": "code",
   "execution_count": 197,
   "metadata": {
    "ExecuteTime": {
     "end_time": "2022-04-02T14:05:44.023980Z",
     "start_time": "2022-04-02T14:05:44.010982Z"
    },
    "id": "HnvsxJHqrAxj"
   },
   "outputs": [],
   "source": [
    "# 데이터프레임 만드는 함수\n",
    "def create_df(cols, idx):\n",
    "    data = {c: [str(c.lower()) + str(i) for i in idx] for c in cols}\n",
    "    return pd.DataFrame(data, idx)"
   ]
  },
  {
   "cell_type": "code",
   "execution_count": 198,
   "metadata": {
    "ExecuteTime": {
     "end_time": "2022-04-02T14:05:44.038909Z",
     "start_time": "2022-04-02T14:05:44.026940Z"
    },
    "id": "mIqdS3_saR2D"
   },
   "outputs": [
    {
     "data": {
      "text/html": [
       "<div>\n",
       "<style scoped>\n",
       "    .dataframe tbody tr th:only-of-type {\n",
       "        vertical-align: middle;\n",
       "    }\n",
       "\n",
       "    .dataframe tbody tr th {\n",
       "        vertical-align: top;\n",
       "    }\n",
       "\n",
       "    .dataframe thead th {\n",
       "        text-align: right;\n",
       "    }\n",
       "</style>\n",
       "<table border=\"1\" class=\"dataframe\">\n",
       "  <thead>\n",
       "    <tr style=\"text-align: right;\">\n",
       "      <th></th>\n",
       "      <th>A</th>\n",
       "      <th>B</th>\n",
       "    </tr>\n",
       "  </thead>\n",
       "  <tbody>\n",
       "    <tr>\n",
       "      <th>1</th>\n",
       "      <td>a1</td>\n",
       "      <td>b1</td>\n",
       "    </tr>\n",
       "    <tr>\n",
       "      <th>2</th>\n",
       "      <td>a2</td>\n",
       "      <td>b2</td>\n",
       "    </tr>\n",
       "  </tbody>\n",
       "</table>\n",
       "</div>"
      ],
      "text/plain": [
       "    A   B\n",
       "1  a1  b1\n",
       "2  a2  b2"
      ]
     },
     "execution_count": 198,
     "metadata": {},
     "output_type": "execute_result"
    }
   ],
   "source": [
    "df1 = create_df('AB', [1, 2])\n",
    "df1"
   ]
  },
  {
   "cell_type": "code",
   "execution_count": 199,
   "metadata": {
    "ExecuteTime": {
     "end_time": "2022-04-02T14:05:44.053870Z",
     "start_time": "2022-04-02T14:05:44.040903Z"
    },
    "id": "9zjCkIpKawR7"
   },
   "outputs": [
    {
     "data": {
      "text/html": [
       "<div>\n",
       "<style scoped>\n",
       "    .dataframe tbody tr th:only-of-type {\n",
       "        vertical-align: middle;\n",
       "    }\n",
       "\n",
       "    .dataframe tbody tr th {\n",
       "        vertical-align: top;\n",
       "    }\n",
       "\n",
       "    .dataframe thead th {\n",
       "        text-align: right;\n",
       "    }\n",
       "</style>\n",
       "<table border=\"1\" class=\"dataframe\">\n",
       "  <thead>\n",
       "    <tr style=\"text-align: right;\">\n",
       "      <th></th>\n",
       "      <th>A</th>\n",
       "      <th>B</th>\n",
       "    </tr>\n",
       "  </thead>\n",
       "  <tbody>\n",
       "    <tr>\n",
       "      <th>3</th>\n",
       "      <td>a3</td>\n",
       "      <td>b3</td>\n",
       "    </tr>\n",
       "    <tr>\n",
       "      <th>4</th>\n",
       "      <td>a4</td>\n",
       "      <td>b4</td>\n",
       "    </tr>\n",
       "  </tbody>\n",
       "</table>\n",
       "</div>"
      ],
      "text/plain": [
       "    A   B\n",
       "3  a3  b3\n",
       "4  a4  b4"
      ]
     },
     "execution_count": 199,
     "metadata": {},
     "output_type": "execute_result"
    }
   ],
   "source": [
    "df2 = create_df('AB', [3, 4])\n",
    "df2"
   ]
  },
  {
   "cell_type": "code",
   "execution_count": 200,
   "metadata": {
    "ExecuteTime": {
     "end_time": "2022-04-02T14:05:44.068831Z",
     "start_time": "2022-04-02T14:05:44.055862Z"
    },
    "id": "1BoDpvACc_J2"
   },
   "outputs": [
    {
     "data": {
      "text/html": [
       "<div>\n",
       "<style scoped>\n",
       "    .dataframe tbody tr th:only-of-type {\n",
       "        vertical-align: middle;\n",
       "    }\n",
       "\n",
       "    .dataframe tbody tr th {\n",
       "        vertical-align: top;\n",
       "    }\n",
       "\n",
       "    .dataframe thead th {\n",
       "        text-align: right;\n",
       "    }\n",
       "</style>\n",
       "<table border=\"1\" class=\"dataframe\">\n",
       "  <thead>\n",
       "    <tr style=\"text-align: right;\">\n",
       "      <th></th>\n",
       "      <th>A</th>\n",
       "      <th>B</th>\n",
       "    </tr>\n",
       "  </thead>\n",
       "  <tbody>\n",
       "    <tr>\n",
       "      <th>1</th>\n",
       "      <td>a1</td>\n",
       "      <td>b1</td>\n",
       "    </tr>\n",
       "    <tr>\n",
       "      <th>2</th>\n",
       "      <td>a2</td>\n",
       "      <td>b2</td>\n",
       "    </tr>\n",
       "    <tr>\n",
       "      <th>3</th>\n",
       "      <td>a3</td>\n",
       "      <td>b3</td>\n",
       "    </tr>\n",
       "    <tr>\n",
       "      <th>4</th>\n",
       "      <td>a4</td>\n",
       "      <td>b4</td>\n",
       "    </tr>\n",
       "  </tbody>\n",
       "</table>\n",
       "</div>"
      ],
      "text/plain": [
       "    A   B\n",
       "1  a1  b1\n",
       "2  a2  b2\n",
       "3  a3  b3\n",
       "4  a4  b4"
      ]
     },
     "execution_count": 200,
     "metadata": {},
     "output_type": "execute_result"
    }
   ],
   "source": [
    "pd.concat([df1, df2])"
   ]
  },
  {
   "cell_type": "code",
   "execution_count": 201,
   "metadata": {
    "ExecuteTime": {
     "end_time": "2022-04-02T14:05:44.083789Z",
     "start_time": "2022-04-02T14:05:44.070824Z"
    },
    "id": "JJL0XcfGdBVu"
   },
   "outputs": [
    {
     "data": {
      "text/html": [
       "<div>\n",
       "<style scoped>\n",
       "    .dataframe tbody tr th:only-of-type {\n",
       "        vertical-align: middle;\n",
       "    }\n",
       "\n",
       "    .dataframe tbody tr th {\n",
       "        vertical-align: top;\n",
       "    }\n",
       "\n",
       "    .dataframe thead th {\n",
       "        text-align: right;\n",
       "    }\n",
       "</style>\n",
       "<table border=\"1\" class=\"dataframe\">\n",
       "  <thead>\n",
       "    <tr style=\"text-align: right;\">\n",
       "      <th></th>\n",
       "      <th>A</th>\n",
       "      <th>B</th>\n",
       "    </tr>\n",
       "  </thead>\n",
       "  <tbody>\n",
       "    <tr>\n",
       "      <th>0</th>\n",
       "      <td>a0</td>\n",
       "      <td>b0</td>\n",
       "    </tr>\n",
       "    <tr>\n",
       "      <th>1</th>\n",
       "      <td>a1</td>\n",
       "      <td>b1</td>\n",
       "    </tr>\n",
       "  </tbody>\n",
       "</table>\n",
       "</div>"
      ],
      "text/plain": [
       "    A   B\n",
       "0  a0  b0\n",
       "1  a1  b1"
      ]
     },
     "execution_count": 201,
     "metadata": {},
     "output_type": "execute_result"
    }
   ],
   "source": [
    "df3 = create_df('AB', [0, 1])\n",
    "df3"
   ]
  },
  {
   "cell_type": "code",
   "execution_count": 202,
   "metadata": {
    "ExecuteTime": {
     "end_time": "2022-04-02T14:05:44.098749Z",
     "start_time": "2022-04-02T14:05:44.085784Z"
    },
    "id": "lYA3JakEdgKV"
   },
   "outputs": [
    {
     "data": {
      "text/html": [
       "<div>\n",
       "<style scoped>\n",
       "    .dataframe tbody tr th:only-of-type {\n",
       "        vertical-align: middle;\n",
       "    }\n",
       "\n",
       "    .dataframe tbody tr th {\n",
       "        vertical-align: top;\n",
       "    }\n",
       "\n",
       "    .dataframe thead th {\n",
       "        text-align: right;\n",
       "    }\n",
       "</style>\n",
       "<table border=\"1\" class=\"dataframe\">\n",
       "  <thead>\n",
       "    <tr style=\"text-align: right;\">\n",
       "      <th></th>\n",
       "      <th>C</th>\n",
       "      <th>D</th>\n",
       "    </tr>\n",
       "  </thead>\n",
       "  <tbody>\n",
       "    <tr>\n",
       "      <th>0</th>\n",
       "      <td>c0</td>\n",
       "      <td>d0</td>\n",
       "    </tr>\n",
       "    <tr>\n",
       "      <th>1</th>\n",
       "      <td>c1</td>\n",
       "      <td>d1</td>\n",
       "    </tr>\n",
       "  </tbody>\n",
       "</table>\n",
       "</div>"
      ],
      "text/plain": [
       "    C   D\n",
       "0  c0  d0\n",
       "1  c1  d1"
      ]
     },
     "execution_count": 202,
     "metadata": {},
     "output_type": "execute_result"
    }
   ],
   "source": [
    "df4 = create_df('CD', [0, 1])\n",
    "df4"
   ]
  },
  {
   "cell_type": "code",
   "execution_count": 203,
   "metadata": {
    "ExecuteTime": {
     "end_time": "2022-04-02T14:05:44.113743Z",
     "start_time": "2022-04-02T14:05:44.100744Z"
    },
    "id": "8QH83dOOdiAs"
   },
   "outputs": [
    {
     "data": {
      "text/html": [
       "<div>\n",
       "<style scoped>\n",
       "    .dataframe tbody tr th:only-of-type {\n",
       "        vertical-align: middle;\n",
       "    }\n",
       "\n",
       "    .dataframe tbody tr th {\n",
       "        vertical-align: top;\n",
       "    }\n",
       "\n",
       "    .dataframe thead th {\n",
       "        text-align: right;\n",
       "    }\n",
       "</style>\n",
       "<table border=\"1\" class=\"dataframe\">\n",
       "  <thead>\n",
       "    <tr style=\"text-align: right;\">\n",
       "      <th></th>\n",
       "      <th>A</th>\n",
       "      <th>B</th>\n",
       "      <th>C</th>\n",
       "      <th>D</th>\n",
       "    </tr>\n",
       "  </thead>\n",
       "  <tbody>\n",
       "    <tr>\n",
       "      <th>0</th>\n",
       "      <td>a0</td>\n",
       "      <td>b0</td>\n",
       "      <td>NaN</td>\n",
       "      <td>NaN</td>\n",
       "    </tr>\n",
       "    <tr>\n",
       "      <th>1</th>\n",
       "      <td>a1</td>\n",
       "      <td>b1</td>\n",
       "      <td>NaN</td>\n",
       "      <td>NaN</td>\n",
       "    </tr>\n",
       "    <tr>\n",
       "      <th>0</th>\n",
       "      <td>NaN</td>\n",
       "      <td>NaN</td>\n",
       "      <td>c0</td>\n",
       "      <td>d0</td>\n",
       "    </tr>\n",
       "    <tr>\n",
       "      <th>1</th>\n",
       "      <td>NaN</td>\n",
       "      <td>NaN</td>\n",
       "      <td>c1</td>\n",
       "      <td>d1</td>\n",
       "    </tr>\n",
       "  </tbody>\n",
       "</table>\n",
       "</div>"
      ],
      "text/plain": [
       "     A    B    C    D\n",
       "0   a0   b0  NaN  NaN\n",
       "1   a1   b1  NaN  NaN\n",
       "0  NaN  NaN   c0   d0\n",
       "1  NaN  NaN   c1   d1"
      ]
     },
     "execution_count": 203,
     "metadata": {},
     "output_type": "execute_result"
    }
   ],
   "source": [
    "pd.concat([df3, df4]) \n",
    "## 누락된 부분은 nan으로 들어가 있음."
   ]
  },
  {
   "cell_type": "code",
   "execution_count": 204,
   "metadata": {
    "ExecuteTime": {
     "end_time": "2022-04-02T14:05:44.128700Z",
     "start_time": "2022-04-02T14:05:44.115703Z"
    },
    "id": "b-ZOQg0gdk8E",
    "scrolled": true
   },
   "outputs": [],
   "source": [
    "# pd.concat([df1, df3], verify_integrity=True)\n",
    "# 같은 위치에 충돌되는게 있다면 에러를 띄움"
   ]
  },
  {
   "cell_type": "code",
   "execution_count": 205,
   "metadata": {
    "ExecuteTime": {
     "end_time": "2022-04-02T14:05:44.143627Z",
     "start_time": "2022-04-02T14:05:44.130661Z"
    },
    "id": "v_SSoUNIeeGO"
   },
   "outputs": [
    {
     "data": {
      "text/html": [
       "<div>\n",
       "<style scoped>\n",
       "    .dataframe tbody tr th:only-of-type {\n",
       "        vertical-align: middle;\n",
       "    }\n",
       "\n",
       "    .dataframe tbody tr th {\n",
       "        vertical-align: top;\n",
       "    }\n",
       "\n",
       "    .dataframe thead th {\n",
       "        text-align: right;\n",
       "    }\n",
       "</style>\n",
       "<table border=\"1\" class=\"dataframe\">\n",
       "  <thead>\n",
       "    <tr style=\"text-align: right;\">\n",
       "      <th></th>\n",
       "      <th>A</th>\n",
       "      <th>B</th>\n",
       "    </tr>\n",
       "  </thead>\n",
       "  <tbody>\n",
       "    <tr>\n",
       "      <th>1</th>\n",
       "      <td>a1</td>\n",
       "      <td>b1</td>\n",
       "    </tr>\n",
       "    <tr>\n",
       "      <th>2</th>\n",
       "      <td>a2</td>\n",
       "      <td>b2</td>\n",
       "    </tr>\n",
       "    <tr>\n",
       "      <th>0</th>\n",
       "      <td>a0</td>\n",
       "      <td>b0</td>\n",
       "    </tr>\n",
       "    <tr>\n",
       "      <th>1</th>\n",
       "      <td>a1</td>\n",
       "      <td>b1</td>\n",
       "    </tr>\n",
       "  </tbody>\n",
       "</table>\n",
       "</div>"
      ],
      "text/plain": [
       "    A   B\n",
       "1  a1  b1\n",
       "2  a2  b2\n",
       "0  a0  b0\n",
       "1  a1  b1"
      ]
     },
     "execution_count": 205,
     "metadata": {},
     "output_type": "execute_result"
    }
   ],
   "source": [
    "pd.concat([df1, df3], verify_integrity=False) #그냥 무시하고 새로 하나 더 만드는 느낌.기본값."
   ]
  },
  {
   "cell_type": "code",
   "execution_count": 206,
   "metadata": {
    "ExecuteTime": {
     "end_time": "2022-04-02T14:05:44.158622Z",
     "start_time": "2022-04-02T14:05:44.145621Z"
    },
    "id": "FxzZqsfYfGIr"
   },
   "outputs": [
    {
     "data": {
      "text/html": [
       "<div>\n",
       "<style scoped>\n",
       "    .dataframe tbody tr th:only-of-type {\n",
       "        vertical-align: middle;\n",
       "    }\n",
       "\n",
       "    .dataframe tbody tr th {\n",
       "        vertical-align: top;\n",
       "    }\n",
       "\n",
       "    .dataframe thead th {\n",
       "        text-align: right;\n",
       "    }\n",
       "</style>\n",
       "<table border=\"1\" class=\"dataframe\">\n",
       "  <thead>\n",
       "    <tr style=\"text-align: right;\">\n",
       "      <th></th>\n",
       "      <th>A</th>\n",
       "      <th>B</th>\n",
       "    </tr>\n",
       "  </thead>\n",
       "  <tbody>\n",
       "    <tr>\n",
       "      <th>0</th>\n",
       "      <td>a1</td>\n",
       "      <td>b1</td>\n",
       "    </tr>\n",
       "    <tr>\n",
       "      <th>1</th>\n",
       "      <td>a2</td>\n",
       "      <td>b2</td>\n",
       "    </tr>\n",
       "    <tr>\n",
       "      <th>2</th>\n",
       "      <td>a0</td>\n",
       "      <td>b0</td>\n",
       "    </tr>\n",
       "    <tr>\n",
       "      <th>3</th>\n",
       "      <td>a1</td>\n",
       "      <td>b1</td>\n",
       "    </tr>\n",
       "  </tbody>\n",
       "</table>\n",
       "</div>"
      ],
      "text/plain": [
       "    A   B\n",
       "0  a1  b1\n",
       "1  a2  b2\n",
       "2  a0  b0\n",
       "3  a1  b1"
      ]
     },
     "execution_count": 206,
     "metadata": {},
     "output_type": "execute_result"
    }
   ],
   "source": [
    "pd.concat([df1, df3], ignore_index=True) # 그냥 붙이고 인덱스를 새로 만들어"
   ]
  },
  {
   "cell_type": "code",
   "execution_count": 207,
   "metadata": {
    "ExecuteTime": {
     "end_time": "2022-04-02T14:05:44.173549Z",
     "start_time": "2022-04-02T14:05:44.161582Z"
    },
    "id": "HNPzK-lyfRI7"
   },
   "outputs": [
    {
     "data": {
      "text/html": [
       "<div>\n",
       "<style scoped>\n",
       "    .dataframe tbody tr th:only-of-type {\n",
       "        vertical-align: middle;\n",
       "    }\n",
       "\n",
       "    .dataframe tbody tr th {\n",
       "        vertical-align: top;\n",
       "    }\n",
       "\n",
       "    .dataframe thead th {\n",
       "        text-align: right;\n",
       "    }\n",
       "</style>\n",
       "<table border=\"1\" class=\"dataframe\">\n",
       "  <thead>\n",
       "    <tr style=\"text-align: right;\">\n",
       "      <th></th>\n",
       "      <th></th>\n",
       "      <th>A</th>\n",
       "      <th>B</th>\n",
       "    </tr>\n",
       "  </thead>\n",
       "  <tbody>\n",
       "    <tr>\n",
       "      <th rowspan=\"2\" valign=\"top\">X</th>\n",
       "      <th>1</th>\n",
       "      <td>a1</td>\n",
       "      <td>b1</td>\n",
       "    </tr>\n",
       "    <tr>\n",
       "      <th>2</th>\n",
       "      <td>a2</td>\n",
       "      <td>b2</td>\n",
       "    </tr>\n",
       "    <tr>\n",
       "      <th rowspan=\"2\" valign=\"top\">Y</th>\n",
       "      <th>0</th>\n",
       "      <td>a0</td>\n",
       "      <td>b0</td>\n",
       "    </tr>\n",
       "    <tr>\n",
       "      <th>1</th>\n",
       "      <td>a1</td>\n",
       "      <td>b1</td>\n",
       "    </tr>\n",
       "  </tbody>\n",
       "</table>\n",
       "</div>"
      ],
      "text/plain": [
       "      A   B\n",
       "X 1  a1  b1\n",
       "  2  a2  b2\n",
       "Y 0  a0  b0\n",
       "  1  a1  b1"
      ]
     },
     "execution_count": 207,
     "metadata": {},
     "output_type": "execute_result"
    }
   ],
   "source": [
    "# 각각의 데이터프레임에 멀티 인덱스처럼 새로 인덱스 붙일 수 있음.\n",
    "pd.concat([df1, df3], keys=['X', 'Y'])"
   ]
  },
  {
   "cell_type": "code",
   "execution_count": 208,
   "metadata": {
    "ExecuteTime": {
     "end_time": "2022-04-02T14:05:44.188511Z",
     "start_time": "2022-04-02T14:05:44.175542Z"
    },
    "id": "ceNNvVDvfV0m"
   },
   "outputs": [
    {
     "data": {
      "text/html": [
       "<div>\n",
       "<style scoped>\n",
       "    .dataframe tbody tr th:only-of-type {\n",
       "        vertical-align: middle;\n",
       "    }\n",
       "\n",
       "    .dataframe tbody tr th {\n",
       "        vertical-align: top;\n",
       "    }\n",
       "\n",
       "    .dataframe thead th {\n",
       "        text-align: right;\n",
       "    }\n",
       "</style>\n",
       "<table border=\"1\" class=\"dataframe\">\n",
       "  <thead>\n",
       "    <tr style=\"text-align: right;\">\n",
       "      <th></th>\n",
       "      <th>A</th>\n",
       "      <th>B</th>\n",
       "      <th>C</th>\n",
       "      <th>D</th>\n",
       "    </tr>\n",
       "  </thead>\n",
       "  <tbody>\n",
       "    <tr>\n",
       "      <th>1</th>\n",
       "      <td>a1</td>\n",
       "      <td>b1</td>\n",
       "      <td>c1</td>\n",
       "      <td>NaN</td>\n",
       "    </tr>\n",
       "    <tr>\n",
       "      <th>2</th>\n",
       "      <td>a2</td>\n",
       "      <td>b2</td>\n",
       "      <td>c2</td>\n",
       "      <td>NaN</td>\n",
       "    </tr>\n",
       "    <tr>\n",
       "      <th>3</th>\n",
       "      <td>NaN</td>\n",
       "      <td>b3</td>\n",
       "      <td>c3</td>\n",
       "      <td>d3</td>\n",
       "    </tr>\n",
       "    <tr>\n",
       "      <th>4</th>\n",
       "      <td>NaN</td>\n",
       "      <td>b4</td>\n",
       "      <td>c4</td>\n",
       "      <td>d4</td>\n",
       "    </tr>\n",
       "  </tbody>\n",
       "</table>\n",
       "</div>"
      ],
      "text/plain": [
       "     A   B   C    D\n",
       "1   a1  b1  c1  NaN\n",
       "2   a2  b2  c2  NaN\n",
       "3  NaN  b3  c3   d3\n",
       "4  NaN  b4  c4   d4"
      ]
     },
     "execution_count": 208,
     "metadata": {},
     "output_type": "execute_result"
    }
   ],
   "source": [
    "df5 = create_df('ABC', [1, 2])\n",
    "df6 = create_df('BCD', [3, 4])\n",
    "pd.concat([df5, df6])"
   ]
  },
  {
   "cell_type": "code",
   "execution_count": 209,
   "metadata": {
    "ExecuteTime": {
     "end_time": "2022-04-02T14:05:44.203469Z",
     "start_time": "2022-04-02T14:05:44.191533Z"
    },
    "id": "ymWRBGuwgD5W"
   },
   "outputs": [
    {
     "data": {
      "text/html": [
       "<div>\n",
       "<style scoped>\n",
       "    .dataframe tbody tr th:only-of-type {\n",
       "        vertical-align: middle;\n",
       "    }\n",
       "\n",
       "    .dataframe tbody tr th {\n",
       "        vertical-align: top;\n",
       "    }\n",
       "\n",
       "    .dataframe thead th {\n",
       "        text-align: right;\n",
       "    }\n",
       "</style>\n",
       "<table border=\"1\" class=\"dataframe\">\n",
       "  <thead>\n",
       "    <tr style=\"text-align: right;\">\n",
       "      <th></th>\n",
       "      <th>B</th>\n",
       "      <th>C</th>\n",
       "    </tr>\n",
       "  </thead>\n",
       "  <tbody>\n",
       "    <tr>\n",
       "      <th>1</th>\n",
       "      <td>b1</td>\n",
       "      <td>c1</td>\n",
       "    </tr>\n",
       "    <tr>\n",
       "      <th>2</th>\n",
       "      <td>b2</td>\n",
       "      <td>c2</td>\n",
       "    </tr>\n",
       "    <tr>\n",
       "      <th>3</th>\n",
       "      <td>b3</td>\n",
       "      <td>c3</td>\n",
       "    </tr>\n",
       "    <tr>\n",
       "      <th>4</th>\n",
       "      <td>b4</td>\n",
       "      <td>c4</td>\n",
       "    </tr>\n",
       "  </tbody>\n",
       "</table>\n",
       "</div>"
      ],
      "text/plain": [
       "    B   C\n",
       "1  b1  c1\n",
       "2  b2  c2\n",
       "3  b3  c3\n",
       "4  b4  c4"
      ]
     },
     "execution_count": 209,
     "metadata": {},
     "output_type": "execute_result"
    }
   ],
   "source": [
    "# 합친 뒤, 컬럼이 존재하는 부분만 가져옴. axis가 1이면 인덱스가 존재하는 방향으로 되는걸라나?\n",
    "pd.concat([df5, df6], join='inner')"
   ]
  },
  {
   "cell_type": "code",
   "execution_count": 210,
   "metadata": {
    "ExecuteTime": {
     "end_time": "2022-04-02T14:05:44.233428Z",
     "start_time": "2022-04-02T14:05:44.205463Z"
    }
   },
   "outputs": [
    {
     "data": {
      "text/html": [
       "<div>\n",
       "<style scoped>\n",
       "    .dataframe tbody tr th:only-of-type {\n",
       "        vertical-align: middle;\n",
       "    }\n",
       "\n",
       "    .dataframe tbody tr th {\n",
       "        vertical-align: top;\n",
       "    }\n",
       "\n",
       "    .dataframe thead th {\n",
       "        text-align: right;\n",
       "    }\n",
       "</style>\n",
       "<table border=\"1\" class=\"dataframe\">\n",
       "  <thead>\n",
       "    <tr style=\"text-align: right;\">\n",
       "      <th></th>\n",
       "      <th>C</th>\n",
       "      <th>D</th>\n",
       "    </tr>\n",
       "  </thead>\n",
       "  <tbody>\n",
       "    <tr>\n",
       "      <th>1</th>\n",
       "      <td>c1</td>\n",
       "      <td>d1</td>\n",
       "    </tr>\n",
       "    <tr>\n",
       "      <th>2</th>\n",
       "      <td>c2</td>\n",
       "      <td>d2</td>\n",
       "    </tr>\n",
       "    <tr>\n",
       "      <th>3</th>\n",
       "      <td>c3</td>\n",
       "      <td>d3</td>\n",
       "    </tr>\n",
       "    <tr>\n",
       "      <th>4</th>\n",
       "      <td>c4</td>\n",
       "      <td>d4</td>\n",
       "    </tr>\n",
       "    <tr>\n",
       "      <th>3</th>\n",
       "      <td>c3</td>\n",
       "      <td>d3</td>\n",
       "    </tr>\n",
       "    <tr>\n",
       "      <th>4</th>\n",
       "      <td>c4</td>\n",
       "      <td>d4</td>\n",
       "    </tr>\n",
       "    <tr>\n",
       "      <th>5</th>\n",
       "      <td>c5</td>\n",
       "      <td>d5</td>\n",
       "    </tr>\n",
       "    <tr>\n",
       "      <th>6</th>\n",
       "      <td>c6</td>\n",
       "      <td>d6</td>\n",
       "    </tr>\n",
       "  </tbody>\n",
       "</table>\n",
       "</div>"
      ],
      "text/plain": [
       "    C   D\n",
       "1  c1  d1\n",
       "2  c2  d2\n",
       "3  c3  d3\n",
       "4  c4  d4\n",
       "3  c3  d3\n",
       "4  c4  d4\n",
       "5  c5  d5\n",
       "6  c6  d6"
      ]
     },
     "execution_count": 210,
     "metadata": {},
     "output_type": "execute_result"
    }
   ],
   "source": [
    "df11 = create_df('ABCD', [1,2,3,4])\n",
    "df22 = create_df('CDEF', [3,4,5,6])\n",
    "pd.concat([df11, df22], join='inner')"
   ]
  },
  {
   "cell_type": "code",
   "execution_count": 211,
   "metadata": {
    "ExecuteTime": {
     "end_time": "2022-04-02T14:05:44.263308Z",
     "start_time": "2022-04-02T14:05:44.235381Z"
    }
   },
   "outputs": [
    {
     "data": {
      "text/html": [
       "<div>\n",
       "<style scoped>\n",
       "    .dataframe tbody tr th:only-of-type {\n",
       "        vertical-align: middle;\n",
       "    }\n",
       "\n",
       "    .dataframe tbody tr th {\n",
       "        vertical-align: top;\n",
       "    }\n",
       "\n",
       "    .dataframe thead th {\n",
       "        text-align: right;\n",
       "    }\n",
       "</style>\n",
       "<table border=\"1\" class=\"dataframe\">\n",
       "  <thead>\n",
       "    <tr style=\"text-align: right;\">\n",
       "      <th></th>\n",
       "      <th>A</th>\n",
       "      <th>B</th>\n",
       "      <th>C</th>\n",
       "      <th>D</th>\n",
       "      <th>C</th>\n",
       "      <th>D</th>\n",
       "      <th>E</th>\n",
       "      <th>F</th>\n",
       "    </tr>\n",
       "  </thead>\n",
       "  <tbody>\n",
       "    <tr>\n",
       "      <th>3</th>\n",
       "      <td>a3</td>\n",
       "      <td>b3</td>\n",
       "      <td>c3</td>\n",
       "      <td>d3</td>\n",
       "      <td>c3</td>\n",
       "      <td>d3</td>\n",
       "      <td>e3</td>\n",
       "      <td>f3</td>\n",
       "    </tr>\n",
       "    <tr>\n",
       "      <th>4</th>\n",
       "      <td>a4</td>\n",
       "      <td>b4</td>\n",
       "      <td>c4</td>\n",
       "      <td>d4</td>\n",
       "      <td>c4</td>\n",
       "      <td>d4</td>\n",
       "      <td>e4</td>\n",
       "      <td>f4</td>\n",
       "    </tr>\n",
       "  </tbody>\n",
       "</table>\n",
       "</div>"
      ],
      "text/plain": [
       "    A   B   C   D   C   D   E   F\n",
       "3  a3  b3  c3  d3  c3  d3  e3  f3\n",
       "4  a4  b4  c4  d4  c4  d4  e4  f4"
      ]
     },
     "execution_count": 211,
     "metadata": {},
     "output_type": "execute_result"
    }
   ],
   "source": [
    "pd.concat([df11, df22], axis=1, join='inner')"
   ]
  },
  {
   "cell_type": "code",
   "execution_count": 212,
   "metadata": {
    "ExecuteTime": {
     "end_time": "2022-04-02T14:05:44.293228Z",
     "start_time": "2022-04-02T14:05:44.265304Z"
    },
    "id": "2P0hjxCEfk4e"
   },
   "outputs": [
    {
     "name": "stderr",
     "output_type": "stream",
     "text": [
      "C:\\Users\\User\\AppData\\Local\\Temp\\ipykernel_8908\\758074379.py:1: FutureWarning: The frame.append method is deprecated and will be removed from pandas in a future version. Use pandas.concat instead.\n",
      "  df5.append(df6)\n"
     ]
    },
    {
     "data": {
      "text/html": [
       "<div>\n",
       "<style scoped>\n",
       "    .dataframe tbody tr th:only-of-type {\n",
       "        vertical-align: middle;\n",
       "    }\n",
       "\n",
       "    .dataframe tbody tr th {\n",
       "        vertical-align: top;\n",
       "    }\n",
       "\n",
       "    .dataframe thead th {\n",
       "        text-align: right;\n",
       "    }\n",
       "</style>\n",
       "<table border=\"1\" class=\"dataframe\">\n",
       "  <thead>\n",
       "    <tr style=\"text-align: right;\">\n",
       "      <th></th>\n",
       "      <th>A</th>\n",
       "      <th>B</th>\n",
       "      <th>C</th>\n",
       "      <th>D</th>\n",
       "    </tr>\n",
       "  </thead>\n",
       "  <tbody>\n",
       "    <tr>\n",
       "      <th>1</th>\n",
       "      <td>a1</td>\n",
       "      <td>b1</td>\n",
       "      <td>c1</td>\n",
       "      <td>NaN</td>\n",
       "    </tr>\n",
       "    <tr>\n",
       "      <th>2</th>\n",
       "      <td>a2</td>\n",
       "      <td>b2</td>\n",
       "      <td>c2</td>\n",
       "      <td>NaN</td>\n",
       "    </tr>\n",
       "    <tr>\n",
       "      <th>3</th>\n",
       "      <td>NaN</td>\n",
       "      <td>b3</td>\n",
       "      <td>c3</td>\n",
       "      <td>d3</td>\n",
       "    </tr>\n",
       "    <tr>\n",
       "      <th>4</th>\n",
       "      <td>NaN</td>\n",
       "      <td>b4</td>\n",
       "      <td>c4</td>\n",
       "      <td>d4</td>\n",
       "    </tr>\n",
       "  </tbody>\n",
       "</table>\n",
       "</div>"
      ],
      "text/plain": [
       "     A   B   C    D\n",
       "1   a1  b1  c1  NaN\n",
       "2   a2  b2  c2  NaN\n",
       "3  NaN  b3  c3   d3\n",
       "4  NaN  b4  c4   d4"
      ]
     },
     "execution_count": 212,
     "metadata": {},
     "output_type": "execute_result"
    }
   ],
   "source": [
    "df5.append(df6)\n",
    "# FutureWarning: The frame.append method is deprecated and will be removed from pandas in a future version. \n",
    "# Use pandas.concat instead.\n",
    "# 없어진대."
   ]
  },
  {
   "cell_type": "code",
   "execution_count": 213,
   "metadata": {
    "ExecuteTime": {
     "end_time": "2022-04-02T14:05:44.323148Z",
     "start_time": "2022-04-02T14:05:44.295225Z"
    },
    "id": "y7a2VV1qopv8"
   },
   "outputs": [
    {
     "data": {
      "text/html": [
       "<div>\n",
       "<style scoped>\n",
       "    .dataframe tbody tr th:only-of-type {\n",
       "        vertical-align: middle;\n",
       "    }\n",
       "\n",
       "    .dataframe tbody tr th {\n",
       "        vertical-align: top;\n",
       "    }\n",
       "\n",
       "    .dataframe thead th {\n",
       "        text-align: right;\n",
       "    }\n",
       "</style>\n",
       "<table border=\"1\" class=\"dataframe\">\n",
       "  <thead>\n",
       "    <tr style=\"text-align: right;\">\n",
       "      <th></th>\n",
       "      <th>A</th>\n",
       "      <th>B</th>\n",
       "      <th>C</th>\n",
       "      <th>B</th>\n",
       "      <th>C</th>\n",
       "      <th>D</th>\n",
       "    </tr>\n",
       "  </thead>\n",
       "  <tbody>\n",
       "    <tr>\n",
       "      <th>1</th>\n",
       "      <td>a1</td>\n",
       "      <td>b1</td>\n",
       "      <td>c1</td>\n",
       "      <td>NaN</td>\n",
       "      <td>NaN</td>\n",
       "      <td>NaN</td>\n",
       "    </tr>\n",
       "    <tr>\n",
       "      <th>2</th>\n",
       "      <td>a2</td>\n",
       "      <td>b2</td>\n",
       "      <td>c2</td>\n",
       "      <td>NaN</td>\n",
       "      <td>NaN</td>\n",
       "      <td>NaN</td>\n",
       "    </tr>\n",
       "    <tr>\n",
       "      <th>3</th>\n",
       "      <td>NaN</td>\n",
       "      <td>NaN</td>\n",
       "      <td>NaN</td>\n",
       "      <td>b3</td>\n",
       "      <td>c3</td>\n",
       "      <td>d3</td>\n",
       "    </tr>\n",
       "    <tr>\n",
       "      <th>4</th>\n",
       "      <td>NaN</td>\n",
       "      <td>NaN</td>\n",
       "      <td>NaN</td>\n",
       "      <td>b4</td>\n",
       "      <td>c4</td>\n",
       "      <td>d4</td>\n",
       "    </tr>\n",
       "  </tbody>\n",
       "</table>\n",
       "</div>"
      ],
      "text/plain": [
       "     A    B    C    B    C    D\n",
       "1   a1   b1   c1  NaN  NaN  NaN\n",
       "2   a2   b2   c2  NaN  NaN  NaN\n",
       "3  NaN  NaN  NaN   b3   c3   d3\n",
       "4  NaN  NaN  NaN   b4   c4   d4"
      ]
     },
     "execution_count": 213,
     "metadata": {},
     "output_type": "execute_result"
    }
   ],
   "source": [
    "pd.concat([df5, df6], axis=1)"
   ]
  },
  {
   "cell_type": "code",
   "execution_count": 214,
   "metadata": {
    "ExecuteTime": {
     "end_time": "2022-04-02T14:05:44.338108Z",
     "start_time": "2022-04-02T14:05:44.325144Z"
    }
   },
   "outputs": [
    {
     "data": {
      "text/html": [
       "<div>\n",
       "<style scoped>\n",
       "    .dataframe tbody tr th:only-of-type {\n",
       "        vertical-align: middle;\n",
       "    }\n",
       "\n",
       "    .dataframe tbody tr th {\n",
       "        vertical-align: top;\n",
       "    }\n",
       "\n",
       "    .dataframe thead th {\n",
       "        text-align: right;\n",
       "    }\n",
       "</style>\n",
       "<table border=\"1\" class=\"dataframe\">\n",
       "  <thead>\n",
       "    <tr style=\"text-align: right;\">\n",
       "      <th></th>\n",
       "      <th>A</th>\n",
       "      <th>B</th>\n",
       "      <th>C</th>\n",
       "      <th>D</th>\n",
       "    </tr>\n",
       "  </thead>\n",
       "  <tbody>\n",
       "    <tr>\n",
       "      <th>0</th>\n",
       "      <td>a0</td>\n",
       "      <td>b0</td>\n",
       "      <td>c0</td>\n",
       "      <td>d0</td>\n",
       "    </tr>\n",
       "    <tr>\n",
       "      <th>1</th>\n",
       "      <td>a1</td>\n",
       "      <td>b1</td>\n",
       "      <td>c1</td>\n",
       "      <td>d1</td>\n",
       "    </tr>\n",
       "  </tbody>\n",
       "</table>\n",
       "</div>"
      ],
      "text/plain": [
       "    A   B   C   D\n",
       "0  a0  b0  c0  d0\n",
       "1  a1  b1  c1  d1"
      ]
     },
     "execution_count": 214,
     "metadata": {},
     "output_type": "execute_result"
    }
   ],
   "source": [
    "pd.concat([df3, df4], axis=1)"
   ]
  },
  {
   "cell_type": "markdown",
   "metadata": {
    "id": "XCDss0yIppQt"
   },
   "source": [
    "### 병합과 조인"
   ]
  },
  {
   "cell_type": "code",
   "execution_count": 215,
   "metadata": {
    "ExecuteTime": {
     "end_time": "2022-04-02T14:05:44.353103Z",
     "start_time": "2022-04-02T14:05:44.340101Z"
    },
    "id": "tD2y5H3EosYY"
   },
   "outputs": [
    {
     "data": {
      "text/html": [
       "<div>\n",
       "<style scoped>\n",
       "    .dataframe tbody tr th:only-of-type {\n",
       "        vertical-align: middle;\n",
       "    }\n",
       "\n",
       "    .dataframe tbody tr th {\n",
       "        vertical-align: top;\n",
       "    }\n",
       "\n",
       "    .dataframe thead th {\n",
       "        text-align: right;\n",
       "    }\n",
       "</style>\n",
       "<table border=\"1\" class=\"dataframe\">\n",
       "  <thead>\n",
       "    <tr style=\"text-align: right;\">\n",
       "      <th></th>\n",
       "      <th>학생</th>\n",
       "      <th>학과</th>\n",
       "    </tr>\n",
       "  </thead>\n",
       "  <tbody>\n",
       "    <tr>\n",
       "      <th>0</th>\n",
       "      <td>홍길동</td>\n",
       "      <td>경영학과</td>\n",
       "    </tr>\n",
       "    <tr>\n",
       "      <th>1</th>\n",
       "      <td>이순신</td>\n",
       "      <td>교육학과</td>\n",
       "    </tr>\n",
       "    <tr>\n",
       "      <th>2</th>\n",
       "      <td>임꺽정</td>\n",
       "      <td>컴퓨터학과</td>\n",
       "    </tr>\n",
       "    <tr>\n",
       "      <th>3</th>\n",
       "      <td>김유신</td>\n",
       "      <td>통계학과</td>\n",
       "    </tr>\n",
       "  </tbody>\n",
       "</table>\n",
       "</div>"
      ],
      "text/plain": [
       "    학생     학과\n",
       "0  홍길동   경영학과\n",
       "1  이순신   교육학과\n",
       "2  임꺽정  컴퓨터학과\n",
       "3  김유신   통계학과"
      ]
     },
     "execution_count": 215,
     "metadata": {},
     "output_type": "execute_result"
    }
   ],
   "source": [
    "df1 = pd.DataFrame({'학생':['홍길동','이순신','임꺽정','김유신'],\n",
    "                   '학과':['경영학과','교육학과','컴퓨터학과','통계학과']})\n",
    "df1"
   ]
  },
  {
   "cell_type": "code",
   "execution_count": 216,
   "metadata": {
    "ExecuteTime": {
     "end_time": "2022-04-02T14:05:44.368026Z",
     "start_time": "2022-04-02T14:05:44.355063Z"
    },
    "id": "-Gnfj0cVrQ-L"
   },
   "outputs": [
    {
     "data": {
      "text/html": [
       "<div>\n",
       "<style scoped>\n",
       "    .dataframe tbody tr th:only-of-type {\n",
       "        vertical-align: middle;\n",
       "    }\n",
       "\n",
       "    .dataframe tbody tr th {\n",
       "        vertical-align: top;\n",
       "    }\n",
       "\n",
       "    .dataframe thead th {\n",
       "        text-align: right;\n",
       "    }\n",
       "</style>\n",
       "<table border=\"1\" class=\"dataframe\">\n",
       "  <thead>\n",
       "    <tr style=\"text-align: right;\">\n",
       "      <th></th>\n",
       "      <th>학생</th>\n",
       "      <th>입학년도</th>\n",
       "    </tr>\n",
       "  </thead>\n",
       "  <tbody>\n",
       "    <tr>\n",
       "      <th>0</th>\n",
       "      <td>홍길동</td>\n",
       "      <td>2012</td>\n",
       "    </tr>\n",
       "    <tr>\n",
       "      <th>1</th>\n",
       "      <td>이순신</td>\n",
       "      <td>2016</td>\n",
       "    </tr>\n",
       "    <tr>\n",
       "      <th>2</th>\n",
       "      <td>임꺽정</td>\n",
       "      <td>2019</td>\n",
       "    </tr>\n",
       "    <tr>\n",
       "      <th>3</th>\n",
       "      <td>김유신</td>\n",
       "      <td>2020</td>\n",
       "    </tr>\n",
       "  </tbody>\n",
       "</table>\n",
       "</div>"
      ],
      "text/plain": [
       "    학생  입학년도\n",
       "0  홍길동  2012\n",
       "1  이순신  2016\n",
       "2  임꺽정  2019\n",
       "3  김유신  2020"
      ]
     },
     "execution_count": 216,
     "metadata": {},
     "output_type": "execute_result"
    }
   ],
   "source": [
    "df2 = pd.DataFrame({'학생':['홍길동','이순신','임꺽정','김유신'],\n",
    "                   '입학년도':[2012, 2016, 2019, 2020]})\n",
    "df2"
   ]
  },
  {
   "cell_type": "code",
   "execution_count": 217,
   "metadata": {
    "ExecuteTime": {
     "end_time": "2022-04-02T14:05:44.397948Z",
     "start_time": "2022-04-02T14:05:44.371018Z"
    },
    "id": "4_L0wq5BrRqC"
   },
   "outputs": [
    {
     "data": {
      "text/html": [
       "<div>\n",
       "<style scoped>\n",
       "    .dataframe tbody tr th:only-of-type {\n",
       "        vertical-align: middle;\n",
       "    }\n",
       "\n",
       "    .dataframe tbody tr th {\n",
       "        vertical-align: top;\n",
       "    }\n",
       "\n",
       "    .dataframe thead th {\n",
       "        text-align: right;\n",
       "    }\n",
       "</style>\n",
       "<table border=\"1\" class=\"dataframe\">\n",
       "  <thead>\n",
       "    <tr style=\"text-align: right;\">\n",
       "      <th></th>\n",
       "      <th>학생</th>\n",
       "      <th>학과</th>\n",
       "      <th>입학년도</th>\n",
       "    </tr>\n",
       "  </thead>\n",
       "  <tbody>\n",
       "    <tr>\n",
       "      <th>0</th>\n",
       "      <td>홍길동</td>\n",
       "      <td>경영학과</td>\n",
       "      <td>2012</td>\n",
       "    </tr>\n",
       "    <tr>\n",
       "      <th>1</th>\n",
       "      <td>이순신</td>\n",
       "      <td>교육학과</td>\n",
       "      <td>2016</td>\n",
       "    </tr>\n",
       "    <tr>\n",
       "      <th>2</th>\n",
       "      <td>임꺽정</td>\n",
       "      <td>컴퓨터학과</td>\n",
       "      <td>2019</td>\n",
       "    </tr>\n",
       "    <tr>\n",
       "      <th>3</th>\n",
       "      <td>김유신</td>\n",
       "      <td>통계학과</td>\n",
       "      <td>2020</td>\n",
       "    </tr>\n",
       "  </tbody>\n",
       "</table>\n",
       "</div>"
      ],
      "text/plain": [
       "    학생     학과  입학년도\n",
       "0  홍길동   경영학과  2012\n",
       "1  이순신   교육학과  2016\n",
       "2  임꺽정  컴퓨터학과  2019\n",
       "3  김유신   통계학과  2020"
      ]
     },
     "execution_count": 217,
     "metadata": {},
     "output_type": "execute_result"
    }
   ],
   "source": [
    "df3 = pd.merge(df1, df2)\n",
    "df3"
   ]
  },
  {
   "cell_type": "code",
   "execution_count": 218,
   "metadata": {
    "ExecuteTime": {
     "end_time": "2022-04-02T14:05:44.412941Z",
     "start_time": "2022-04-02T14:05:44.399944Z"
    },
    "id": "JB30RrgprcxI"
   },
   "outputs": [
    {
     "data": {
      "text/html": [
       "<div>\n",
       "<style scoped>\n",
       "    .dataframe tbody tr th:only-of-type {\n",
       "        vertical-align: middle;\n",
       "    }\n",
       "\n",
       "    .dataframe tbody tr th {\n",
       "        vertical-align: top;\n",
       "    }\n",
       "\n",
       "    .dataframe thead th {\n",
       "        text-align: right;\n",
       "    }\n",
       "</style>\n",
       "<table border=\"1\" class=\"dataframe\">\n",
       "  <thead>\n",
       "    <tr style=\"text-align: right;\">\n",
       "      <th></th>\n",
       "      <th>학과</th>\n",
       "      <th>학과장</th>\n",
       "    </tr>\n",
       "  </thead>\n",
       "  <tbody>\n",
       "    <tr>\n",
       "      <th>0</th>\n",
       "      <td>경영학과</td>\n",
       "      <td>황희</td>\n",
       "    </tr>\n",
       "    <tr>\n",
       "      <th>1</th>\n",
       "      <td>교육학과</td>\n",
       "      <td>장영실</td>\n",
       "    </tr>\n",
       "    <tr>\n",
       "      <th>2</th>\n",
       "      <td>컴퓨터학과</td>\n",
       "      <td>안창호</td>\n",
       "    </tr>\n",
       "    <tr>\n",
       "      <th>3</th>\n",
       "      <td>통계학과</td>\n",
       "      <td>정약용</td>\n",
       "    </tr>\n",
       "  </tbody>\n",
       "</table>\n",
       "</div>"
      ],
      "text/plain": [
       "      학과  학과장\n",
       "0   경영학과   황희\n",
       "1   교육학과  장영실\n",
       "2  컴퓨터학과  안창호\n",
       "3   통계학과  정약용"
      ]
     },
     "execution_count": 218,
     "metadata": {},
     "output_type": "execute_result"
    }
   ],
   "source": [
    "df4 = pd.DataFrame({'학과':['경영학과','교육학과','컴퓨터학과','통계학과'],\n",
    "                   '학과장':['황희','장영실','안창호','정약용']})\n",
    "df4"
   ]
  },
  {
   "cell_type": "code",
   "execution_count": 219,
   "metadata": {
    "ExecuteTime": {
     "end_time": "2022-04-02T14:05:44.442863Z",
     "start_time": "2022-04-02T14:05:44.414901Z"
    },
    "id": "M-DPYK8-sZ1j"
   },
   "outputs": [
    {
     "data": {
      "text/html": [
       "<div>\n",
       "<style scoped>\n",
       "    .dataframe tbody tr th:only-of-type {\n",
       "        vertical-align: middle;\n",
       "    }\n",
       "\n",
       "    .dataframe tbody tr th {\n",
       "        vertical-align: top;\n",
       "    }\n",
       "\n",
       "    .dataframe thead th {\n",
       "        text-align: right;\n",
       "    }\n",
       "</style>\n",
       "<table border=\"1\" class=\"dataframe\">\n",
       "  <thead>\n",
       "    <tr style=\"text-align: right;\">\n",
       "      <th></th>\n",
       "      <th>학생</th>\n",
       "      <th>학과</th>\n",
       "      <th>입학년도</th>\n",
       "      <th>학과장</th>\n",
       "    </tr>\n",
       "  </thead>\n",
       "  <tbody>\n",
       "    <tr>\n",
       "      <th>0</th>\n",
       "      <td>홍길동</td>\n",
       "      <td>경영학과</td>\n",
       "      <td>2012</td>\n",
       "      <td>황희</td>\n",
       "    </tr>\n",
       "    <tr>\n",
       "      <th>1</th>\n",
       "      <td>이순신</td>\n",
       "      <td>교육학과</td>\n",
       "      <td>2016</td>\n",
       "      <td>장영실</td>\n",
       "    </tr>\n",
       "    <tr>\n",
       "      <th>2</th>\n",
       "      <td>임꺽정</td>\n",
       "      <td>컴퓨터학과</td>\n",
       "      <td>2019</td>\n",
       "      <td>안창호</td>\n",
       "    </tr>\n",
       "    <tr>\n",
       "      <th>3</th>\n",
       "      <td>김유신</td>\n",
       "      <td>통계학과</td>\n",
       "      <td>2020</td>\n",
       "      <td>정약용</td>\n",
       "    </tr>\n",
       "  </tbody>\n",
       "</table>\n",
       "</div>"
      ],
      "text/plain": [
       "    학생     학과  입학년도  학과장\n",
       "0  홍길동   경영학과  2012   황희\n",
       "1  이순신   교육학과  2016  장영실\n",
       "2  임꺽정  컴퓨터학과  2019  안창호\n",
       "3  김유신   통계학과  2020  정약용"
      ]
     },
     "execution_count": 219,
     "metadata": {},
     "output_type": "execute_result"
    }
   ],
   "source": [
    "pd.merge(df3, df4)"
   ]
  },
  {
   "cell_type": "code",
   "execution_count": 220,
   "metadata": {
    "ExecuteTime": {
     "end_time": "2022-04-02T14:05:44.457820Z",
     "start_time": "2022-04-02T14:05:44.444822Z"
    },
    "id": "xvXEDN6GsgSF"
   },
   "outputs": [
    {
     "data": {
      "text/html": [
       "<div>\n",
       "<style scoped>\n",
       "    .dataframe tbody tr th:only-of-type {\n",
       "        vertical-align: middle;\n",
       "    }\n",
       "\n",
       "    .dataframe tbody tr th {\n",
       "        vertical-align: top;\n",
       "    }\n",
       "\n",
       "    .dataframe thead th {\n",
       "        text-align: right;\n",
       "    }\n",
       "</style>\n",
       "<table border=\"1\" class=\"dataframe\">\n",
       "  <thead>\n",
       "    <tr style=\"text-align: right;\">\n",
       "      <th></th>\n",
       "      <th>학과</th>\n",
       "      <th>과목</th>\n",
       "    </tr>\n",
       "  </thead>\n",
       "  <tbody>\n",
       "    <tr>\n",
       "      <th>0</th>\n",
       "      <td>경영학과</td>\n",
       "      <td>경영개론</td>\n",
       "    </tr>\n",
       "    <tr>\n",
       "      <th>1</th>\n",
       "      <td>교육학과</td>\n",
       "      <td>기초수학</td>\n",
       "    </tr>\n",
       "    <tr>\n",
       "      <th>2</th>\n",
       "      <td>교육학과</td>\n",
       "      <td>물리학</td>\n",
       "    </tr>\n",
       "    <tr>\n",
       "      <th>3</th>\n",
       "      <td>컴퓨터학과</td>\n",
       "      <td>프로그래밍</td>\n",
       "    </tr>\n",
       "    <tr>\n",
       "      <th>4</th>\n",
       "      <td>컴퓨터학과</td>\n",
       "      <td>운영체제</td>\n",
       "    </tr>\n",
       "    <tr>\n",
       "      <th>5</th>\n",
       "      <td>통계학과</td>\n",
       "      <td>확률론</td>\n",
       "    </tr>\n",
       "  </tbody>\n",
       "</table>\n",
       "</div>"
      ],
      "text/plain": [
       "      학과     과목\n",
       "0   경영학과   경영개론\n",
       "1   교육학과   기초수학\n",
       "2   교육학과    물리학\n",
       "3  컴퓨터학과  프로그래밍\n",
       "4  컴퓨터학과   운영체제\n",
       "5   통계학과    확률론"
      ]
     },
     "execution_count": 220,
     "metadata": {},
     "output_type": "execute_result"
    }
   ],
   "source": [
    "df5 = pd.DataFrame({'학과':['경영학과','교육학과','교육학과','컴퓨터학과','컴퓨터학과','통계학과'],\n",
    "                   '과목':['경영개론', '기초수학','물리학','프로그래밍','운영체제','확률론']})\n",
    "df5"
   ]
  },
  {
   "cell_type": "code",
   "execution_count": 221,
   "metadata": {
    "ExecuteTime": {
     "end_time": "2022-04-02T14:05:44.487740Z",
     "start_time": "2022-04-02T14:05:44.460779Z"
    },
    "id": "H9JRk6RVtLNJ"
   },
   "outputs": [
    {
     "data": {
      "text/html": [
       "<div>\n",
       "<style scoped>\n",
       "    .dataframe tbody tr th:only-of-type {\n",
       "        vertical-align: middle;\n",
       "    }\n",
       "\n",
       "    .dataframe tbody tr th {\n",
       "        vertical-align: top;\n",
       "    }\n",
       "\n",
       "    .dataframe thead th {\n",
       "        text-align: right;\n",
       "    }\n",
       "</style>\n",
       "<table border=\"1\" class=\"dataframe\">\n",
       "  <thead>\n",
       "    <tr style=\"text-align: right;\">\n",
       "      <th></th>\n",
       "      <th>학생</th>\n",
       "      <th>학과</th>\n",
       "      <th>과목</th>\n",
       "    </tr>\n",
       "  </thead>\n",
       "  <tbody>\n",
       "    <tr>\n",
       "      <th>0</th>\n",
       "      <td>홍길동</td>\n",
       "      <td>경영학과</td>\n",
       "      <td>경영개론</td>\n",
       "    </tr>\n",
       "    <tr>\n",
       "      <th>1</th>\n",
       "      <td>이순신</td>\n",
       "      <td>교육학과</td>\n",
       "      <td>기초수학</td>\n",
       "    </tr>\n",
       "    <tr>\n",
       "      <th>2</th>\n",
       "      <td>이순신</td>\n",
       "      <td>교육학과</td>\n",
       "      <td>물리학</td>\n",
       "    </tr>\n",
       "    <tr>\n",
       "      <th>3</th>\n",
       "      <td>임꺽정</td>\n",
       "      <td>컴퓨터학과</td>\n",
       "      <td>프로그래밍</td>\n",
       "    </tr>\n",
       "    <tr>\n",
       "      <th>4</th>\n",
       "      <td>임꺽정</td>\n",
       "      <td>컴퓨터학과</td>\n",
       "      <td>운영체제</td>\n",
       "    </tr>\n",
       "    <tr>\n",
       "      <th>5</th>\n",
       "      <td>김유신</td>\n",
       "      <td>통계학과</td>\n",
       "      <td>확률론</td>\n",
       "    </tr>\n",
       "  </tbody>\n",
       "</table>\n",
       "</div>"
      ],
      "text/plain": [
       "    학생     학과     과목\n",
       "0  홍길동   경영학과   경영개론\n",
       "1  이순신   교육학과   기초수학\n",
       "2  이순신   교육학과    물리학\n",
       "3  임꺽정  컴퓨터학과  프로그래밍\n",
       "4  임꺽정  컴퓨터학과   운영체제\n",
       "5  김유신   통계학과    확률론"
      ]
     },
     "execution_count": 221,
     "metadata": {},
     "output_type": "execute_result"
    }
   ],
   "source": [
    "pd.merge(df1, df5) #공통된 것이 있으면 중복해서 생성함. 모든 경우의 수."
   ]
  },
  {
   "cell_type": "code",
   "execution_count": 222,
   "metadata": {
    "ExecuteTime": {
     "end_time": "2022-04-02T14:05:44.502701Z",
     "start_time": "2022-04-02T14:05:44.489705Z"
    },
    "id": "HCsJ0Wg7teqe"
   },
   "outputs": [
    {
     "data": {
      "text/html": [
       "<div>\n",
       "<style scoped>\n",
       "    .dataframe tbody tr th:only-of-type {\n",
       "        vertical-align: middle;\n",
       "    }\n",
       "\n",
       "    .dataframe tbody tr th {\n",
       "        vertical-align: top;\n",
       "    }\n",
       "\n",
       "    .dataframe thead th {\n",
       "        text-align: right;\n",
       "    }\n",
       "</style>\n",
       "<table border=\"1\" class=\"dataframe\">\n",
       "  <thead>\n",
       "    <tr style=\"text-align: right;\">\n",
       "      <th></th>\n",
       "      <th>학생</th>\n",
       "      <th>학과</th>\n",
       "      <th>입학년도</th>\n",
       "    </tr>\n",
       "  </thead>\n",
       "  <tbody>\n",
       "    <tr>\n",
       "      <th>0</th>\n",
       "      <td>홍길동</td>\n",
       "      <td>경영학과</td>\n",
       "      <td>2012</td>\n",
       "    </tr>\n",
       "    <tr>\n",
       "      <th>1</th>\n",
       "      <td>이순신</td>\n",
       "      <td>교육학과</td>\n",
       "      <td>2016</td>\n",
       "    </tr>\n",
       "    <tr>\n",
       "      <th>2</th>\n",
       "      <td>임꺽정</td>\n",
       "      <td>컴퓨터학과</td>\n",
       "      <td>2019</td>\n",
       "    </tr>\n",
       "    <tr>\n",
       "      <th>3</th>\n",
       "      <td>김유신</td>\n",
       "      <td>통계학과</td>\n",
       "      <td>2020</td>\n",
       "    </tr>\n",
       "  </tbody>\n",
       "</table>\n",
       "</div>"
      ],
      "text/plain": [
       "    학생     학과  입학년도\n",
       "0  홍길동   경영학과  2012\n",
       "1  이순신   교육학과  2016\n",
       "2  임꺽정  컴퓨터학과  2019\n",
       "3  김유신   통계학과  2020"
      ]
     },
     "execution_count": 222,
     "metadata": {},
     "output_type": "execute_result"
    }
   ],
   "source": [
    "pd.merge(df1, df2, on='학생')"
   ]
  },
  {
   "cell_type": "code",
   "execution_count": 223,
   "metadata": {
    "ExecuteTime": {
     "end_time": "2022-04-02T14:05:44.517628Z",
     "start_time": "2022-04-02T14:05:44.504664Z"
    },
    "id": "U_ePghIst4fQ"
   },
   "outputs": [],
   "source": [
    "## 예제가 쓰레기 같아서 생략"
   ]
  },
  {
   "cell_type": "code",
   "execution_count": 224,
   "metadata": {
    "ExecuteTime": {
     "end_time": "2022-04-02T14:05:44.532588Z",
     "start_time": "2022-04-02T14:05:44.519623Z"
    },
    "id": "-PZ1D1VwuiTG"
   },
   "outputs": [
    {
     "data": {
      "text/html": [
       "<div>\n",
       "<style scoped>\n",
       "    .dataframe tbody tr th:only-of-type {\n",
       "        vertical-align: middle;\n",
       "    }\n",
       "\n",
       "    .dataframe tbody tr th {\n",
       "        vertical-align: top;\n",
       "    }\n",
       "\n",
       "    .dataframe thead th {\n",
       "        text-align: right;\n",
       "    }\n",
       "</style>\n",
       "<table border=\"1\" class=\"dataframe\">\n",
       "  <thead>\n",
       "    <tr style=\"text-align: right;\">\n",
       "      <th></th>\n",
       "      <th>학과</th>\n",
       "    </tr>\n",
       "    <tr>\n",
       "      <th>학생</th>\n",
       "      <th></th>\n",
       "    </tr>\n",
       "  </thead>\n",
       "  <tbody>\n",
       "    <tr>\n",
       "      <th>홍길동</th>\n",
       "      <td>경영학과</td>\n",
       "    </tr>\n",
       "    <tr>\n",
       "      <th>이순신</th>\n",
       "      <td>교육학과</td>\n",
       "    </tr>\n",
       "    <tr>\n",
       "      <th>임꺽정</th>\n",
       "      <td>컴퓨터학과</td>\n",
       "    </tr>\n",
       "    <tr>\n",
       "      <th>김유신</th>\n",
       "      <td>통계학과</td>\n",
       "    </tr>\n",
       "  </tbody>\n",
       "</table>\n",
       "</div>"
      ],
      "text/plain": [
       "        학과\n",
       "학생        \n",
       "홍길동   경영학과\n",
       "이순신   교육학과\n",
       "임꺽정  컴퓨터학과\n",
       "김유신   통계학과"
      ]
     },
     "execution_count": 224,
     "metadata": {},
     "output_type": "execute_result"
    }
   ],
   "source": [
    "mdf1 = df1.set_index('학생')\n",
    "mdf2 = df2.set_index('학생')\n",
    "mdf1"
   ]
  },
  {
   "cell_type": "code",
   "execution_count": 225,
   "metadata": {
    "ExecuteTime": {
     "end_time": "2022-04-02T14:05:44.547549Z",
     "start_time": "2022-04-02T14:05:44.534584Z"
    },
    "id": "7z1jmMhSukPA"
   },
   "outputs": [
    {
     "data": {
      "text/html": [
       "<div>\n",
       "<style scoped>\n",
       "    .dataframe tbody tr th:only-of-type {\n",
       "        vertical-align: middle;\n",
       "    }\n",
       "\n",
       "    .dataframe tbody tr th {\n",
       "        vertical-align: top;\n",
       "    }\n",
       "\n",
       "    .dataframe thead th {\n",
       "        text-align: right;\n",
       "    }\n",
       "</style>\n",
       "<table border=\"1\" class=\"dataframe\">\n",
       "  <thead>\n",
       "    <tr style=\"text-align: right;\">\n",
       "      <th></th>\n",
       "      <th>입학년도</th>\n",
       "    </tr>\n",
       "    <tr>\n",
       "      <th>학생</th>\n",
       "      <th></th>\n",
       "    </tr>\n",
       "  </thead>\n",
       "  <tbody>\n",
       "    <tr>\n",
       "      <th>홍길동</th>\n",
       "      <td>2012</td>\n",
       "    </tr>\n",
       "    <tr>\n",
       "      <th>이순신</th>\n",
       "      <td>2016</td>\n",
       "    </tr>\n",
       "    <tr>\n",
       "      <th>임꺽정</th>\n",
       "      <td>2019</td>\n",
       "    </tr>\n",
       "    <tr>\n",
       "      <th>김유신</th>\n",
       "      <td>2020</td>\n",
       "    </tr>\n",
       "  </tbody>\n",
       "</table>\n",
       "</div>"
      ],
      "text/plain": [
       "     입학년도\n",
       "학생       \n",
       "홍길동  2012\n",
       "이순신  2016\n",
       "임꺽정  2019\n",
       "김유신  2020"
      ]
     },
     "execution_count": 225,
     "metadata": {},
     "output_type": "execute_result"
    }
   ],
   "source": [
    "mdf2"
   ]
  },
  {
   "cell_type": "code",
   "execution_count": 226,
   "metadata": {
    "ExecuteTime": {
     "end_time": "2022-04-02T14:05:44.562508Z",
     "start_time": "2022-04-02T14:05:44.549543Z"
    },
    "id": "xBdg5QbquseD"
   },
   "outputs": [
    {
     "data": {
      "text/html": [
       "<div>\n",
       "<style scoped>\n",
       "    .dataframe tbody tr th:only-of-type {\n",
       "        vertical-align: middle;\n",
       "    }\n",
       "\n",
       "    .dataframe tbody tr th {\n",
       "        vertical-align: top;\n",
       "    }\n",
       "\n",
       "    .dataframe thead th {\n",
       "        text-align: right;\n",
       "    }\n",
       "</style>\n",
       "<table border=\"1\" class=\"dataframe\">\n",
       "  <thead>\n",
       "    <tr style=\"text-align: right;\">\n",
       "      <th></th>\n",
       "      <th>학과</th>\n",
       "      <th>입학년도</th>\n",
       "    </tr>\n",
       "    <tr>\n",
       "      <th>학생</th>\n",
       "      <th></th>\n",
       "      <th></th>\n",
       "    </tr>\n",
       "  </thead>\n",
       "  <tbody>\n",
       "    <tr>\n",
       "      <th>홍길동</th>\n",
       "      <td>경영학과</td>\n",
       "      <td>2012</td>\n",
       "    </tr>\n",
       "    <tr>\n",
       "      <th>이순신</th>\n",
       "      <td>교육학과</td>\n",
       "      <td>2016</td>\n",
       "    </tr>\n",
       "    <tr>\n",
       "      <th>임꺽정</th>\n",
       "      <td>컴퓨터학과</td>\n",
       "      <td>2019</td>\n",
       "    </tr>\n",
       "    <tr>\n",
       "      <th>김유신</th>\n",
       "      <td>통계학과</td>\n",
       "      <td>2020</td>\n",
       "    </tr>\n",
       "  </tbody>\n",
       "</table>\n",
       "</div>"
      ],
      "text/plain": [
       "        학과  입학년도\n",
       "학생              \n",
       "홍길동   경영학과  2012\n",
       "이순신   교육학과  2016\n",
       "임꺽정  컴퓨터학과  2019\n",
       "김유신   통계학과  2020"
      ]
     },
     "execution_count": 226,
     "metadata": {},
     "output_type": "execute_result"
    }
   ],
   "source": [
    "pd.merge(mdf1, mdf2, left_index=True, right_index=True)"
   ]
  },
  {
   "cell_type": "code",
   "execution_count": 227,
   "metadata": {
    "ExecuteTime": {
     "end_time": "2022-04-02T14:05:44.577468Z",
     "start_time": "2022-04-02T14:05:44.564503Z"
    },
    "id": "PkYo6QP-u5MM"
   },
   "outputs": [
    {
     "data": {
      "text/html": [
       "<div>\n",
       "<style scoped>\n",
       "    .dataframe tbody tr th:only-of-type {\n",
       "        vertical-align: middle;\n",
       "    }\n",
       "\n",
       "    .dataframe tbody tr th {\n",
       "        vertical-align: top;\n",
       "    }\n",
       "\n",
       "    .dataframe thead th {\n",
       "        text-align: right;\n",
       "    }\n",
       "</style>\n",
       "<table border=\"1\" class=\"dataframe\">\n",
       "  <thead>\n",
       "    <tr style=\"text-align: right;\">\n",
       "      <th></th>\n",
       "      <th>학과</th>\n",
       "      <th>입학년도</th>\n",
       "    </tr>\n",
       "    <tr>\n",
       "      <th>학생</th>\n",
       "      <th></th>\n",
       "      <th></th>\n",
       "    </tr>\n",
       "  </thead>\n",
       "  <tbody>\n",
       "    <tr>\n",
       "      <th>홍길동</th>\n",
       "      <td>경영학과</td>\n",
       "      <td>2012</td>\n",
       "    </tr>\n",
       "    <tr>\n",
       "      <th>이순신</th>\n",
       "      <td>교육학과</td>\n",
       "      <td>2016</td>\n",
       "    </tr>\n",
       "    <tr>\n",
       "      <th>임꺽정</th>\n",
       "      <td>컴퓨터학과</td>\n",
       "      <td>2019</td>\n",
       "    </tr>\n",
       "    <tr>\n",
       "      <th>김유신</th>\n",
       "      <td>통계학과</td>\n",
       "      <td>2020</td>\n",
       "    </tr>\n",
       "  </tbody>\n",
       "</table>\n",
       "</div>"
      ],
      "text/plain": [
       "        학과  입학년도\n",
       "학생              \n",
       "홍길동   경영학과  2012\n",
       "이순신   교육학과  2016\n",
       "임꺽정  컴퓨터학과  2019\n",
       "김유신   통계학과  2020"
      ]
     },
     "execution_count": 227,
     "metadata": {},
     "output_type": "execute_result"
    }
   ],
   "source": [
    "pd.merge(mdf1, mdf2, on='학생')"
   ]
  },
  {
   "cell_type": "code",
   "execution_count": 228,
   "metadata": {
    "ExecuteTime": {
     "end_time": "2022-04-02T14:05:44.592427Z",
     "start_time": "2022-04-02T14:05:44.579487Z"
    },
    "id": "ITON974EvRp8"
   },
   "outputs": [
    {
     "data": {
      "text/html": [
       "<div>\n",
       "<style scoped>\n",
       "    .dataframe tbody tr th:only-of-type {\n",
       "        vertical-align: middle;\n",
       "    }\n",
       "\n",
       "    .dataframe tbody tr th {\n",
       "        vertical-align: top;\n",
       "    }\n",
       "\n",
       "    .dataframe thead th {\n",
       "        text-align: right;\n",
       "    }\n",
       "</style>\n",
       "<table border=\"1\" class=\"dataframe\">\n",
       "  <thead>\n",
       "    <tr style=\"text-align: right;\">\n",
       "      <th></th>\n",
       "      <th>학과</th>\n",
       "      <th>입학년도</th>\n",
       "    </tr>\n",
       "    <tr>\n",
       "      <th>학생</th>\n",
       "      <th></th>\n",
       "      <th></th>\n",
       "    </tr>\n",
       "  </thead>\n",
       "  <tbody>\n",
       "    <tr>\n",
       "      <th>홍길동</th>\n",
       "      <td>경영학과</td>\n",
       "      <td>2012</td>\n",
       "    </tr>\n",
       "    <tr>\n",
       "      <th>이순신</th>\n",
       "      <td>교육학과</td>\n",
       "      <td>2016</td>\n",
       "    </tr>\n",
       "    <tr>\n",
       "      <th>임꺽정</th>\n",
       "      <td>컴퓨터학과</td>\n",
       "      <td>2019</td>\n",
       "    </tr>\n",
       "    <tr>\n",
       "      <th>김유신</th>\n",
       "      <td>통계학과</td>\n",
       "      <td>2020</td>\n",
       "    </tr>\n",
       "  </tbody>\n",
       "</table>\n",
       "</div>"
      ],
      "text/plain": [
       "        학과  입학년도\n",
       "학생              \n",
       "홍길동   경영학과  2012\n",
       "이순신   교육학과  2016\n",
       "임꺽정  컴퓨터학과  2019\n",
       "김유신   통계학과  2020"
      ]
     },
     "execution_count": 228,
     "metadata": {},
     "output_type": "execute_result"
    }
   ],
   "source": [
    "mdf1.join(mdf2)"
   ]
  },
  {
   "cell_type": "code",
   "execution_count": null,
   "metadata": {
    "id": "pM9VHro8vR_b"
   },
   "outputs": [],
   "source": []
  },
  {
   "cell_type": "code",
   "execution_count": null,
   "metadata": {
    "id": "tb70J4-YvYL-"
   },
   "outputs": [],
   "source": []
  },
  {
   "cell_type": "code",
   "execution_count": null,
   "metadata": {
    "id": "h4jWcr7hvx93"
   },
   "outputs": [],
   "source": []
  },
  {
   "cell_type": "code",
   "execution_count": null,
   "metadata": {
    "id": "5BMgmFDyxmYX"
   },
   "outputs": [],
   "source": []
  },
  {
   "cell_type": "code",
   "execution_count": null,
   "metadata": {
    "id": "K6REnIONx5IB"
   },
   "outputs": [],
   "source": []
  },
  {
   "cell_type": "code",
   "execution_count": null,
   "metadata": {
    "id": "we6EQ2YbyuCl"
   },
   "outputs": [],
   "source": []
  },
  {
   "cell_type": "code",
   "execution_count": null,
   "metadata": {
    "id": "6fXhbe-zyxk3"
   },
   "outputs": [],
   "source": []
  },
  {
   "cell_type": "code",
   "execution_count": null,
   "metadata": {
    "id": "elU9-4r3y4NE"
   },
   "outputs": [],
   "source": []
  },
  {
   "cell_type": "code",
   "execution_count": null,
   "metadata": {
    "id": "Ojd4m8oLy6tk"
   },
   "outputs": [],
   "source": []
  },
  {
   "cell_type": "code",
   "execution_count": null,
   "metadata": {
    "id": "R0Te8J7Py9Up"
   },
   "outputs": [],
   "source": []
  },
  {
   "cell_type": "code",
   "execution_count": null,
   "metadata": {
    "id": "7VZHxJsky_L0"
   },
   "outputs": [],
   "source": []
  },
  {
   "cell_type": "code",
   "execution_count": null,
   "metadata": {
    "id": "akYbKT0x0A0J"
   },
   "outputs": [],
   "source": []
  },
  {
   "cell_type": "code",
   "execution_count": null,
   "metadata": {
    "id": "hC82_HIA0Gts"
   },
   "outputs": [],
   "source": []
  },
  {
   "cell_type": "code",
   "execution_count": null,
   "metadata": {
    "id": "lvanUKHh0NSl"
   },
   "outputs": [],
   "source": []
  },
  {
   "cell_type": "markdown",
   "metadata": {
    "id": "TR_8q2S50uIk"
   },
   "source": [
    "## 데이터 집계와 그룹 연산"
   ]
  },
  {
   "cell_type": "markdown",
   "metadata": {},
   "source": [
    "|집계|설명|\n",
    "|---|---|\n",
    "|`count`|전체 개수|\n",
    "|head, tail|앞의 항목 일부 반환, 뒤의 항목 일부 반환|\n",
    "|describe|Series, DataFrame의 각 컬럼에 대한 요약 통계|\n",
    "|min, max|최소값, 최대값|\n",
    "|cummin, cummax|누적 최소값, 누적 최대값|\n",
    "|argmin, argmax|최소값과 최대값의 색인 위치|\n",
    "|idxmin, idxmax|최소값과 최대값의 색인값|\n",
    "|mean, median|평균값, 중앙값|\n",
    "|srd, var|표준편차, 분산|\n",
    "|skew|왜도(skewness)값 계산|\n",
    "|kurt|첨도(jurtosis)값 계산|\n",
    "|mad|절대 평균 편치(Mean Absolute Deviation)|\n",
    "|sum, cumsum|전체 항목 합, 누적합|\n",
    "|prod, cumprod|전체 항목 곲, 누적곱|\n",
    "|diff|1차 산술차 계산|\n",
    "|pct_change|퍼센트 변화율 계산|\n",
    "|corr, cov|상관관계, 공분산 계산|"
   ]
  },
  {
   "cell_type": "markdown",
   "metadata": {
    "id": "NnkMJFRlWPm7"
   },
   "source": [
    "#### 집계 연산(Aggregation)\n"
   ]
  },
  {
   "cell_type": "code",
   "execution_count": 229,
   "metadata": {
    "ExecuteTime": {
     "end_time": "2022-04-02T14:05:44.622348Z",
     "start_time": "2022-04-02T14:05:44.594421Z"
    },
    "id": "5AR3wQl_5QLq"
   },
   "outputs": [
    {
     "data": {
      "text/html": [
       "<div>\n",
       "<style scoped>\n",
       "    .dataframe tbody tr th:only-of-type {\n",
       "        vertical-align: middle;\n",
       "    }\n",
       "\n",
       "    .dataframe tbody tr th {\n",
       "        vertical-align: top;\n",
       "    }\n",
       "\n",
       "    .dataframe thead th {\n",
       "        text-align: right;\n",
       "    }\n",
       "</style>\n",
       "<table border=\"1\" class=\"dataframe\">\n",
       "  <thead>\n",
       "    <tr style=\"text-align: right;\">\n",
       "      <th></th>\n",
       "      <th>A</th>\n",
       "      <th>B</th>\n",
       "      <th>C</th>\n",
       "    </tr>\n",
       "  </thead>\n",
       "  <tbody>\n",
       "    <tr>\n",
       "      <th>1</th>\n",
       "      <td>1.00</td>\n",
       "      <td>1.2</td>\n",
       "      <td>NaN</td>\n",
       "    </tr>\n",
       "    <tr>\n",
       "      <th>2</th>\n",
       "      <td>2.40</td>\n",
       "      <td>5.5</td>\n",
       "      <td>4.2</td>\n",
       "    </tr>\n",
       "    <tr>\n",
       "      <th>3</th>\n",
       "      <td>NaN</td>\n",
       "      <td>NaN</td>\n",
       "      <td>NaN</td>\n",
       "    </tr>\n",
       "    <tr>\n",
       "      <th>4</th>\n",
       "      <td>0.44</td>\n",
       "      <td>-3.1</td>\n",
       "      <td>-4.1</td>\n",
       "    </tr>\n",
       "  </tbody>\n",
       "</table>\n",
       "</div>"
      ],
      "text/plain": [
       "      A    B    C\n",
       "1  1.00  1.2  NaN\n",
       "2  2.40  5.5  4.2\n",
       "3   NaN  NaN  NaN\n",
       "4  0.44 -3.1 -4.1"
      ]
     },
     "execution_count": 229,
     "metadata": {},
     "output_type": "execute_result"
    }
   ],
   "source": [
    "df = pd.DataFrame([[1, 1.2, np.nan],\n",
    "                  [2.4, 5.5, 4.2],\n",
    "                  [np.nan, np.nan, np.nan],\n",
    "                  [0.44, -3.1, -4.1]],\n",
    "                 index=[1, 2, 3, 4],\n",
    "                 columns=['A','B','C'])\n",
    "df"
   ]
  },
  {
   "cell_type": "code",
   "execution_count": 230,
   "metadata": {
    "ExecuteTime": {
     "end_time": "2022-04-02T14:05:44.712107Z",
     "start_time": "2022-04-02T14:05:44.668224Z"
    },
    "id": "jI0_ZOegZh86"
   },
   "outputs": [
    {
     "data": {
      "text/html": [
       "<div>\n",
       "<style scoped>\n",
       "    .dataframe tbody tr th:only-of-type {\n",
       "        vertical-align: middle;\n",
       "    }\n",
       "\n",
       "    .dataframe tbody tr th {\n",
       "        vertical-align: top;\n",
       "    }\n",
       "\n",
       "    .dataframe thead th {\n",
       "        text-align: right;\n",
       "    }\n",
       "</style>\n",
       "<table border=\"1\" class=\"dataframe\">\n",
       "  <thead>\n",
       "    <tr style=\"text-align: right;\">\n",
       "      <th></th>\n",
       "      <th>A</th>\n",
       "      <th>B</th>\n",
       "      <th>C</th>\n",
       "    </tr>\n",
       "  </thead>\n",
       "  <tbody>\n",
       "    <tr>\n",
       "      <th>count</th>\n",
       "      <td>3.000000</td>\n",
       "      <td>3.00</td>\n",
       "      <td>2.000000</td>\n",
       "    </tr>\n",
       "    <tr>\n",
       "      <th>mean</th>\n",
       "      <td>1.280000</td>\n",
       "      <td>1.20</td>\n",
       "      <td>0.050000</td>\n",
       "    </tr>\n",
       "    <tr>\n",
       "      <th>std</th>\n",
       "      <td>1.009554</td>\n",
       "      <td>4.30</td>\n",
       "      <td>5.868986</td>\n",
       "    </tr>\n",
       "    <tr>\n",
       "      <th>min</th>\n",
       "      <td>0.440000</td>\n",
       "      <td>-3.10</td>\n",
       "      <td>-4.100000</td>\n",
       "    </tr>\n",
       "    <tr>\n",
       "      <th>25%</th>\n",
       "      <td>0.720000</td>\n",
       "      <td>-0.95</td>\n",
       "      <td>-2.025000</td>\n",
       "    </tr>\n",
       "    <tr>\n",
       "      <th>50%</th>\n",
       "      <td>1.000000</td>\n",
       "      <td>1.20</td>\n",
       "      <td>0.050000</td>\n",
       "    </tr>\n",
       "    <tr>\n",
       "      <th>75%</th>\n",
       "      <td>1.700000</td>\n",
       "      <td>3.35</td>\n",
       "      <td>2.125000</td>\n",
       "    </tr>\n",
       "    <tr>\n",
       "      <th>max</th>\n",
       "      <td>2.400000</td>\n",
       "      <td>5.50</td>\n",
       "      <td>4.200000</td>\n",
       "    </tr>\n",
       "  </tbody>\n",
       "</table>\n",
       "</div>"
      ],
      "text/plain": [
       "              A     B         C\n",
       "count  3.000000  3.00  2.000000\n",
       "mean   1.280000  1.20  0.050000\n",
       "std    1.009554  4.30  5.868986\n",
       "min    0.440000 -3.10 -4.100000\n",
       "25%    0.720000 -0.95 -2.025000\n",
       "50%    1.000000  1.20  0.050000\n",
       "75%    1.700000  3.35  2.125000\n",
       "max    2.400000  5.50  4.200000"
      ]
     },
     "execution_count": 230,
     "metadata": {},
     "output_type": "execute_result"
    }
   ],
   "source": [
    "df.describe()"
   ]
  },
  {
   "cell_type": "code",
   "execution_count": 231,
   "metadata": {
    "ExecuteTime": {
     "end_time": "2022-04-02T14:05:44.742029Z",
     "start_time": "2022-04-02T14:05:44.719093Z"
    },
    "id": "fd2vnUehZoWF"
   },
   "outputs": [
    {
     "name": "stdout",
     "output_type": "stream",
     "text": [
      "      A    B    C\n",
      "1  1.00  1.2  NaN\n",
      "2  2.40  5.5  4.2\n",
      "3   NaN  NaN  NaN\n",
      "4  0.44 -3.1 -4.1\n",
      "2 2\n"
     ]
    }
   ],
   "source": [
    "print(df)\n",
    "print(np.argmin(df), np.argmax(df))"
   ]
  },
  {
   "cell_type": "code",
   "execution_count": 232,
   "metadata": {
    "ExecuteTime": {
     "end_time": "2022-04-02T14:05:44.771950Z",
     "start_time": "2022-04-02T14:05:44.746016Z"
    },
    "id": "I4DNBURwZq76"
   },
   "outputs": [
    {
     "name": "stdout",
     "output_type": "stream",
     "text": [
      "      A    B    C\n",
      "1  1.00  1.2  NaN\n",
      "2  2.40  5.5  4.2\n",
      "3   NaN  NaN  NaN\n",
      "4  0.44 -3.1 -4.1\n",
      "A    4\n",
      "B    4\n",
      "C    4\n",
      "dtype: int64\n",
      "A    2\n",
      "B    2\n",
      "C    2\n",
      "dtype: int64\n"
     ]
    }
   ],
   "source": [
    "print(df)\n",
    "print(df.idxmin())\n",
    "print(df.idxmax())"
   ]
  },
  {
   "cell_type": "code",
   "execution_count": null,
   "metadata": {
    "id": "M9mBVcqmZ-K_"
   },
   "outputs": [],
   "source": []
  },
  {
   "cell_type": "code",
   "execution_count": null,
   "metadata": {
    "id": "i65nWUsJa2p1"
   },
   "outputs": [],
   "source": []
  },
  {
   "cell_type": "code",
   "execution_count": null,
   "metadata": {
    "id": "jqs9rYXAd-Kn"
   },
   "outputs": [],
   "source": []
  },
  {
   "cell_type": "code",
   "execution_count": null,
   "metadata": {
    "id": "gYIy8wF7eNth"
   },
   "outputs": [],
   "source": []
  },
  {
   "cell_type": "code",
   "execution_count": null,
   "metadata": {
    "id": "IYZJFuMte3Jb"
   },
   "outputs": [],
   "source": []
  },
  {
   "cell_type": "code",
   "execution_count": null,
   "metadata": {
    "id": "zeo4laoDfARh"
   },
   "outputs": [],
   "source": []
  },
  {
   "cell_type": "code",
   "execution_count": null,
   "metadata": {
    "id": "uO8VFmO3mku9"
   },
   "outputs": [],
   "source": []
  },
  {
   "cell_type": "code",
   "execution_count": null,
   "metadata": {
    "id": "TfgY7dimneBl"
   },
   "outputs": [],
   "source": []
  },
  {
   "cell_type": "code",
   "execution_count": null,
   "metadata": {
    "id": "dF_MpNjypa2z"
   },
   "outputs": [],
   "source": []
  },
  {
   "cell_type": "code",
   "execution_count": null,
   "metadata": {
    "id": "oE-GXjRSpN3-"
   },
   "outputs": [],
   "source": []
  },
  {
   "cell_type": "code",
   "execution_count": null,
   "metadata": {
    "id": "NYkglCVFqZbI"
   },
   "outputs": [],
   "source": []
  },
  {
   "cell_type": "code",
   "execution_count": null,
   "metadata": {
    "id": "reK3YKyVpTh-"
   },
   "outputs": [],
   "source": []
  },
  {
   "cell_type": "code",
   "execution_count": null,
   "metadata": {
    "id": "NYmiwnWmqmOE"
   },
   "outputs": [],
   "source": []
  },
  {
   "cell_type": "code",
   "execution_count": null,
   "metadata": {
    "id": "uzOEBqYAq0bf"
   },
   "outputs": [],
   "source": []
  },
  {
   "cell_type": "markdown",
   "metadata": {
    "id": "iVaTvBns27tS"
   },
   "source": [
    "### GroupBy 연산"
   ]
  },
  {
   "cell_type": "code",
   "execution_count": null,
   "metadata": {
    "id": "yOTrmBm58Wwm"
   },
   "outputs": [],
   "source": []
  },
  {
   "cell_type": "code",
   "execution_count": null,
   "metadata": {
    "id": "8NNZKuIzXKFD"
   },
   "outputs": [],
   "source": []
  },
  {
   "cell_type": "code",
   "execution_count": null,
   "metadata": {
    "id": "YyL-IgRFJwPE"
   },
   "outputs": [],
   "source": []
  },
  {
   "cell_type": "code",
   "execution_count": null,
   "metadata": {
    "id": "5Jkhs5U-OMSE"
   },
   "outputs": [],
   "source": []
  },
  {
   "cell_type": "code",
   "execution_count": null,
   "metadata": {
    "id": "WpDjcHLtOSto"
   },
   "outputs": [],
   "source": []
  },
  {
   "cell_type": "code",
   "execution_count": null,
   "metadata": {
    "id": "l4CCXC_jOkac"
   },
   "outputs": [],
   "source": []
  },
  {
   "cell_type": "code",
   "execution_count": null,
   "metadata": {
    "id": "v4t_XjXWROgc"
   },
   "outputs": [],
   "source": []
  },
  {
   "cell_type": "code",
   "execution_count": null,
   "metadata": {
    "id": "WrFg05U5RXE6"
   },
   "outputs": [],
   "source": []
  },
  {
   "cell_type": "code",
   "execution_count": null,
   "metadata": {
    "id": "Oj5diRr-Rh3Y"
   },
   "outputs": [],
   "source": []
  },
  {
   "cell_type": "code",
   "execution_count": null,
   "metadata": {
    "id": "drwoM9kNViu9"
   },
   "outputs": [],
   "source": []
  },
  {
   "cell_type": "code",
   "execution_count": null,
   "metadata": {
    "id": "TYDUCgdCWQW7"
   },
   "outputs": [],
   "source": []
  },
  {
   "cell_type": "code",
   "execution_count": null,
   "metadata": {
    "id": "gqqcpQx6XFPD"
   },
   "outputs": [],
   "source": []
  },
  {
   "cell_type": "code",
   "execution_count": null,
   "metadata": {
    "id": "d7gVpUPyYgKO"
   },
   "outputs": [],
   "source": []
  },
  {
   "cell_type": "code",
   "execution_count": null,
   "metadata": {
    "id": "mS0V6sfQZyQv"
   },
   "outputs": [],
   "source": []
  },
  {
   "cell_type": "code",
   "execution_count": null,
   "metadata": {
    "id": "bEv1Yx3dZ2kO"
   },
   "outputs": [],
   "source": []
  },
  {
   "cell_type": "code",
   "execution_count": null,
   "metadata": {
    "id": "jsZefMocZ58d"
   },
   "outputs": [],
   "source": []
  },
  {
   "cell_type": "code",
   "execution_count": null,
   "metadata": {
    "id": "zDCS1WJUalpC"
   },
   "outputs": [],
   "source": []
  },
  {
   "cell_type": "code",
   "execution_count": null,
   "metadata": {
    "id": "b8GgSFhgbrGu"
   },
   "outputs": [],
   "source": []
  },
  {
   "cell_type": "code",
   "execution_count": null,
   "metadata": {
    "id": "-sBX539zduqJ"
   },
   "outputs": [],
   "source": []
  },
  {
   "cell_type": "code",
   "execution_count": null,
   "metadata": {
    "id": "ijUek7SAd3DR"
   },
   "outputs": [],
   "source": []
  },
  {
   "cell_type": "code",
   "execution_count": null,
   "metadata": {
    "id": "3Tl7uqElcX7o"
   },
   "outputs": [],
   "source": []
  },
  {
   "cell_type": "code",
   "execution_count": null,
   "metadata": {
    "id": "DsU9aoy3da34"
   },
   "outputs": [],
   "source": []
  },
  {
   "cell_type": "markdown",
   "metadata": {
    "id": "VS9PZhnt2_h8"
   },
   "source": [
    "### 피벗 테이블(Pivot Table)\n"
   ]
  },
  {
   "cell_type": "code",
   "execution_count": null,
   "metadata": {
    "id": "hBXmgzUzeflH"
   },
   "outputs": [],
   "source": []
  },
  {
   "cell_type": "code",
   "execution_count": null,
   "metadata": {
    "id": "voeul-pxfOb3"
   },
   "outputs": [],
   "source": []
  },
  {
   "cell_type": "code",
   "execution_count": null,
   "metadata": {
    "id": "VCusVjzqfXRb"
   },
   "outputs": [],
   "source": []
  },
  {
   "cell_type": "code",
   "execution_count": null,
   "metadata": {
    "id": "OaUu1cdEgO6f"
   },
   "outputs": [],
   "source": []
  },
  {
   "cell_type": "code",
   "execution_count": null,
   "metadata": {
    "id": "I77K4Mg8jyct"
   },
   "outputs": [],
   "source": []
  },
  {
   "cell_type": "code",
   "execution_count": null,
   "metadata": {
    "id": "xC-rXgvbgivr"
   },
   "outputs": [],
   "source": []
  },
  {
   "cell_type": "markdown",
   "metadata": {
    "id": "bbyFIbJkBjvD"
   },
   "source": [
    "### 범주형(Categorical) 데이터\n"
   ]
  },
  {
   "cell_type": "markdown",
   "metadata": {},
   "source": [
    "|메소드|설명|\n",
    "|---|---|\n",
    "|add_categories|기존 카테고리에 새로운 카테고리 추가|\n",
    "|as_ordered|카테고리에 순서 지정|\n",
    "|as_unordered|카테고리에 순서 미지정|\n",
    "|remove_categories|카테고리 제거|\n",
    "|remove_unused_categories|사용안하는 카테고리 제거|\n",
    "|rename_categories|카테고리 이름 변경|\n",
    "|reorder_categories|새로운 카테고리에 순서 지정|\n",
    "|set_categories|새로운 카테고리로 변경|"
   ]
  },
  {
   "cell_type": "code",
   "execution_count": 233,
   "metadata": {
    "ExecuteTime": {
     "end_time": "2022-04-02T14:05:44.802864Z",
     "start_time": "2022-04-02T14:05:44.775936Z"
    },
    "id": "A6tDHNBCBnTT"
   },
   "outputs": [
    {
     "name": "stdout",
     "output_type": "stream",
     "text": [
      "0    c1\n",
      "1    c2\n",
      "2    c1\n",
      "3    c2\n",
      "4    c1\n",
      "5    c1\n",
      "6    c2\n",
      "7    c1\n",
      "8    c2\n",
      "9    c1\n",
      "dtype: object\n"
     ]
    },
    {
     "data": {
      "text/plain": [
       "array(['c1', 'c2'], dtype=object)"
      ]
     },
     "execution_count": 233,
     "metadata": {},
     "output_type": "execute_result"
    }
   ],
   "source": [
    "s = pd.Series(['c1', 'c2', 'c1', 'c2','c1'] * 2)\n",
    "print(s)\n",
    "pd.unique(s)"
   ]
  },
  {
   "cell_type": "code",
   "execution_count": 234,
   "metadata": {
    "ExecuteTime": {
     "end_time": "2022-04-02T14:05:44.817824Z",
     "start_time": "2022-04-02T14:05:44.805858Z"
    },
    "id": "v-_JtRj8B5Wk"
   },
   "outputs": [
    {
     "data": {
      "text/plain": [
       "c1    6\n",
       "c2    4\n",
       "dtype: int64"
      ]
     },
     "execution_count": 234,
     "metadata": {},
     "output_type": "execute_result"
    }
   ],
   "source": [
    "pd.value_counts(s)"
   ]
  },
  {
   "cell_type": "code",
   "execution_count": 235,
   "metadata": {
    "ExecuteTime": {
     "end_time": "2022-04-02T14:05:44.832784Z",
     "start_time": "2022-04-02T14:05:44.820816Z"
    },
    "id": "8EnnyCEdB8J-"
   },
   "outputs": [
    {
     "data": {
      "text/plain": [
       "0    0\n",
       "1    1\n",
       "2    0\n",
       "3    1\n",
       "4    0\n",
       "5    0\n",
       "6    1\n",
       "7    0\n",
       "8    1\n",
       "9    0\n",
       "dtype: int64"
      ]
     },
     "execution_count": 235,
     "metadata": {},
     "output_type": "execute_result"
    }
   ],
   "source": [
    "code = pd.Series([0, 1, 0, 1, 0] * 2)\n",
    "code"
   ]
  },
  {
   "cell_type": "code",
   "execution_count": 236,
   "metadata": {
    "ExecuteTime": {
     "end_time": "2022-04-02T14:05:44.847743Z",
     "start_time": "2022-04-02T14:05:44.834778Z"
    },
    "id": "7Bi_tGNMCD7o"
   },
   "outputs": [
    {
     "data": {
      "text/plain": [
       "0    c1\n",
       "1    c2\n",
       "dtype: object"
      ]
     },
     "execution_count": 236,
     "metadata": {},
     "output_type": "execute_result"
    }
   ],
   "source": [
    "d = pd.Series(['c1', 'c2'])\n",
    "d"
   ]
  },
  {
   "cell_type": "code",
   "execution_count": 237,
   "metadata": {
    "ExecuteTime": {
     "end_time": "2022-04-02T14:05:44.862704Z",
     "start_time": "2022-04-02T14:05:44.849738Z"
    },
    "id": "4aO21aofCNNx"
   },
   "outputs": [
    {
     "data": {
      "text/plain": [
       "0    c1\n",
       "1    c2\n",
       "0    c1\n",
       "1    c2\n",
       "0    c1\n",
       "0    c1\n",
       "1    c2\n",
       "0    c1\n",
       "1    c2\n",
       "0    c1\n",
       "dtype: object"
      ]
     },
     "execution_count": 237,
     "metadata": {},
     "output_type": "execute_result"
    }
   ],
   "source": [
    "# d을 기준으로 series를 코드화 할 수 있음.\n",
    "d.take(code)"
   ]
  },
  {
   "cell_type": "code",
   "execution_count": 238,
   "metadata": {
    "ExecuteTime": {
     "end_time": "2022-04-02T14:05:44.892624Z",
     "start_time": "2022-04-02T14:05:44.866693Z"
    },
    "id": "fJ5nbwbVCV0m"
   },
   "outputs": [
    {
     "data": {
      "text/html": [
       "<div>\n",
       "<style scoped>\n",
       "    .dataframe tbody tr th:only-of-type {\n",
       "        vertical-align: middle;\n",
       "    }\n",
       "\n",
       "    .dataframe tbody tr th {\n",
       "        vertical-align: top;\n",
       "    }\n",
       "\n",
       "    .dataframe thead th {\n",
       "        text-align: right;\n",
       "    }\n",
       "</style>\n",
       "<table border=\"1\" class=\"dataframe\">\n",
       "  <thead>\n",
       "    <tr style=\"text-align: right;\">\n",
       "      <th></th>\n",
       "      <th>id</th>\n",
       "      <th>c</th>\n",
       "      <th>v</th>\n",
       "    </tr>\n",
       "  </thead>\n",
       "  <tbody>\n",
       "    <tr>\n",
       "      <th>0</th>\n",
       "      <td>0</td>\n",
       "      <td>c1</td>\n",
       "      <td>4477</td>\n",
       "    </tr>\n",
       "    <tr>\n",
       "      <th>1</th>\n",
       "      <td>1</td>\n",
       "      <td>c2</td>\n",
       "      <td>4783</td>\n",
       "    </tr>\n",
       "    <tr>\n",
       "      <th>2</th>\n",
       "      <td>2</td>\n",
       "      <td>c1</td>\n",
       "      <td>1355</td>\n",
       "    </tr>\n",
       "    <tr>\n",
       "      <th>3</th>\n",
       "      <td>3</td>\n",
       "      <td>c2</td>\n",
       "      <td>1872</td>\n",
       "    </tr>\n",
       "    <tr>\n",
       "      <th>4</th>\n",
       "      <td>4</td>\n",
       "      <td>c1</td>\n",
       "      <td>2741</td>\n",
       "    </tr>\n",
       "    <tr>\n",
       "      <th>5</th>\n",
       "      <td>5</td>\n",
       "      <td>c1</td>\n",
       "      <td>3027</td>\n",
       "    </tr>\n",
       "    <tr>\n",
       "      <th>6</th>\n",
       "      <td>6</td>\n",
       "      <td>c2</td>\n",
       "      <td>2323</td>\n",
       "    </tr>\n",
       "    <tr>\n",
       "      <th>7</th>\n",
       "      <td>7</td>\n",
       "      <td>c1</td>\n",
       "      <td>1490</td>\n",
       "    </tr>\n",
       "    <tr>\n",
       "      <th>8</th>\n",
       "      <td>8</td>\n",
       "      <td>c2</td>\n",
       "      <td>3754</td>\n",
       "    </tr>\n",
       "    <tr>\n",
       "      <th>9</th>\n",
       "      <td>9</td>\n",
       "      <td>c1</td>\n",
       "      <td>2276</td>\n",
       "    </tr>\n",
       "  </tbody>\n",
       "</table>\n",
       "</div>"
      ],
      "text/plain": [
       "   id   c     v\n",
       "0   0  c1  4477\n",
       "1   1  c2  4783\n",
       "2   2  c1  1355\n",
       "3   3  c2  1872\n",
       "4   4  c1  2741\n",
       "5   5  c1  3027\n",
       "6   6  c2  2323\n",
       "7   7  c1  1490\n",
       "8   8  c2  3754\n",
       "9   9  c1  2276"
      ]
     },
     "execution_count": 238,
     "metadata": {},
     "output_type": "execute_result"
    }
   ],
   "source": [
    "df = pd.DataFrame({'id':np.arange(len(s)),\n",
    "                  'c':s,\n",
    "                  'v':np.random.randint(1000, 5000, size=len(s))})\n",
    "df"
   ]
  },
  {
   "cell_type": "code",
   "execution_count": 239,
   "metadata": {
    "ExecuteTime": {
     "end_time": "2022-04-02T14:05:44.907584Z",
     "start_time": "2022-04-02T14:05:44.895617Z"
    },
    "id": "MZyW5zGdCpx1"
   },
   "outputs": [
    {
     "data": {
      "text/plain": [
       "0    c1\n",
       "1    c2\n",
       "2    c1\n",
       "3    c2\n",
       "4    c1\n",
       "5    c1\n",
       "6    c2\n",
       "7    c1\n",
       "8    c2\n",
       "9    c1\n",
       "Name: c, dtype: category\n",
       "Categories (2, object): ['c1', 'c2']"
      ]
     },
     "execution_count": 239,
     "metadata": {},
     "output_type": "execute_result"
    }
   ],
   "source": [
    "# 카테고리 형태로 만들어 줄 수 있음.\n",
    "c = df['c'].astype('category')\n",
    "c"
   ]
  },
  {
   "cell_type": "code",
   "execution_count": 240,
   "metadata": {
    "ExecuteTime": {
     "end_time": "2022-04-02T14:05:44.922544Z",
     "start_time": "2022-04-02T14:05:44.909578Z"
    },
    "id": "tOX0QS_iDe60"
   },
   "outputs": [
    {
     "data": {
      "text/plain": [
       "['c1', 'c2', 'c1', 'c2', 'c1', 'c1', 'c2', 'c1', 'c2', 'c1']\n",
       "Categories (2, object): ['c1', 'c2']"
      ]
     },
     "execution_count": 240,
     "metadata": {},
     "output_type": "execute_result"
    }
   ],
   "source": [
    "c.values"
   ]
  },
  {
   "cell_type": "code",
   "execution_count": 241,
   "metadata": {
    "ExecuteTime": {
     "end_time": "2022-04-02T14:05:44.937504Z",
     "start_time": "2022-04-02T14:05:44.924541Z"
    },
    "id": "vjDgdPmHE6nK"
   },
   "outputs": [
    {
     "data": {
      "text/plain": [
       "Index(['c1', 'c2'], dtype='object')"
      ]
     },
     "execution_count": 241,
     "metadata": {},
     "output_type": "execute_result"
    }
   ],
   "source": [
    "# 어떤 카고리가 있는지.\n",
    "c.values.categories"
   ]
  },
  {
   "cell_type": "code",
   "execution_count": 242,
   "metadata": {
    "ExecuteTime": {
     "end_time": "2022-04-02T14:05:44.952464Z",
     "start_time": "2022-04-02T14:05:44.939500Z"
    },
    "id": "n30Dxm_JFeha"
   },
   "outputs": [
    {
     "data": {
      "text/plain": [
       "array([0, 1, 0, 1, 0, 0, 1, 0, 1, 0], dtype=int8)"
      ]
     },
     "execution_count": 242,
     "metadata": {},
     "output_type": "execute_result"
    }
   ],
   "source": [
    "# 카테고리 코드는 어떻게 되는지.\n",
    "c.values.codes"
   ]
  },
  {
   "cell_type": "code",
   "execution_count": 243,
   "metadata": {
    "ExecuteTime": {
     "end_time": "2022-04-02T14:05:44.967426Z",
     "start_time": "2022-04-02T14:05:44.955459Z"
    },
    "id": "Dm7eTHHUFloX"
   },
   "outputs": [
    {
     "data": {
      "text/plain": [
       "0    c1\n",
       "1    c2\n",
       "2    c1\n",
       "3    c2\n",
       "4    c1\n",
       "5    c1\n",
       "6    c2\n",
       "7    c1\n",
       "8    c2\n",
       "9    c1\n",
       "Name: c, dtype: category\n",
       "Categories (2, object): ['c1', 'c2']"
      ]
     },
     "execution_count": 243,
     "metadata": {},
     "output_type": "execute_result"
    }
   ],
   "source": [
    "df['c'] = c\n",
    "df.c"
   ]
  },
  {
   "cell_type": "code",
   "execution_count": 244,
   "metadata": {
    "ExecuteTime": {
     "end_time": "2022-04-02T14:05:44.982383Z",
     "start_time": "2022-04-02T14:05:44.969420Z"
    },
    "id": "w9zC9hE8Fzbj"
   },
   "outputs": [
    {
     "data": {
      "text/plain": [
       "['c1', 'c2', 'c3', 'c1', 'c2']\n",
       "Categories (3, object): ['c1', 'c2', 'c3']"
      ]
     },
     "execution_count": 244,
     "metadata": {},
     "output_type": "execute_result"
    }
   ],
   "source": [
    "# 처음부터 카테고리로 만들기\n",
    "c = pd.Categorical(['c1', 'c2', 'c3', 'c1', 'c2'])\n",
    "c"
   ]
  },
  {
   "cell_type": "code",
   "execution_count": 245,
   "metadata": {
    "ExecuteTime": {
     "end_time": "2022-04-02T14:05:44.997344Z",
     "start_time": "2022-04-02T14:05:44.985377Z"
    },
    "id": "kHIkmMF3F7E6"
   },
   "outputs": [
    {
     "data": {
      "text/plain": [
       "['c1', 'c2', 'c3', 'c1', 'c2']\n",
       "Categories (3, object): ['c1', 'c2', 'c3']"
      ]
     },
     "execution_count": 245,
     "metadata": {},
     "output_type": "execute_result"
    }
   ],
   "source": [
    "# 코드를 카테고리로 바꾸기. 반대로도 될 것 같은데?\n",
    "categories = ['c1', 'c2', 'c3']\n",
    "codes = [0, 1, 2, 0, 1]\n",
    "c= pd.Categorical.from_codes(codes, categories)\n",
    "c"
   ]
  },
  {
   "cell_type": "code",
   "execution_count": 246,
   "metadata": {
    "ExecuteTime": {
     "end_time": "2022-04-02T14:05:45.047214Z",
     "start_time": "2022-04-02T14:05:45.000336Z"
    },
    "id": "0Hd3a20OGIeK"
   },
   "outputs": [
    {
     "data": {
      "text/plain": [
       "['c1', 'c2', 'c3', 'c1', 'c2']\n",
       "Categories (3, object): ['c1' < 'c2' < 'c3']"
      ]
     },
     "execution_count": 246,
     "metadata": {},
     "output_type": "execute_result"
    }
   ],
   "source": [
    "# 카테고리에 순서 지정\n",
    "pd.Categorical.from_codes(codes, categories, ordered=True)"
   ]
  },
  {
   "cell_type": "code",
   "execution_count": 247,
   "metadata": {
    "ExecuteTime": {
     "end_time": "2022-04-02T14:05:45.074138Z",
     "start_time": "2022-04-02T14:05:45.058182Z"
    }
   },
   "outputs": [
    {
     "data": {
      "text/plain": [
       "['c1', 'c2', 'c3', 'c1', 'c2']\n",
       "Categories (3, object): ['c1', 'c2', 'c3']"
      ]
     },
     "execution_count": 247,
     "metadata": {},
     "output_type": "execute_result"
    }
   ],
   "source": [
    "c"
   ]
  },
  {
   "cell_type": "code",
   "execution_count": 248,
   "metadata": {
    "ExecuteTime": {
     "end_time": "2022-04-02T14:05:45.104059Z",
     "start_time": "2022-04-02T14:05:45.078129Z"
    },
    "id": "n3MRLHmPHKM2"
   },
   "outputs": [
    {
     "data": {
      "text/plain": [
       "['c1', 'c2', 'c3', 'c1', 'c2']\n",
       "Categories (3, object): ['c1' < 'c2' < 'c3']"
      ]
     },
     "execution_count": 248,
     "metadata": {},
     "output_type": "execute_result"
    }
   ],
   "source": [
    "c.as_ordered()"
   ]
  },
  {
   "cell_type": "code",
   "execution_count": 249,
   "metadata": {
    "ExecuteTime": {
     "end_time": "2022-04-02T14:05:45.133980Z",
     "start_time": "2022-04-02T14:05:45.107052Z"
    },
    "id": "2PYX6ou4HjlD"
   },
   "outputs": [
    {
     "data": {
      "text/plain": [
       "array([0, 1, 2, 0, 1], dtype=int8)"
      ]
     },
     "execution_count": 249,
     "metadata": {},
     "output_type": "execute_result"
    }
   ],
   "source": [
    "c.codes"
   ]
  },
  {
   "cell_type": "code",
   "execution_count": 250,
   "metadata": {
    "ExecuteTime": {
     "end_time": "2022-04-02T14:05:45.164896Z",
     "start_time": "2022-04-02T14:05:45.139963Z"
    },
    "id": "tR-KJXBqH_DD"
   },
   "outputs": [
    {
     "data": {
      "text/plain": [
       "Index(['c1', 'c2', 'c3'], dtype='object')"
      ]
     },
     "execution_count": 250,
     "metadata": {},
     "output_type": "execute_result"
    }
   ],
   "source": [
    "c.categories"
   ]
  },
  {
   "cell_type": "code",
   "execution_count": 251,
   "metadata": {
    "ExecuteTime": {
     "end_time": "2022-04-02T14:05:45.193818Z",
     "start_time": "2022-04-02T14:05:45.174870Z"
    },
    "id": "Hiiiuv8DIJRJ"
   },
   "outputs": [
    {
     "data": {
      "text/plain": [
       "Index(['c1', 'c2', 'c3', 'c4', 'c5'], dtype='object')"
      ]
     },
     "execution_count": 251,
     "metadata": {},
     "output_type": "execute_result"
    }
   ],
   "source": [
    "# 카테고리 타입으로 반영\n",
    "c = c.set_categories(['c1', 'c2', 'c3', 'c4', 'c5'])\n",
    "c.categories"
   ]
  },
  {
   "cell_type": "code",
   "execution_count": 252,
   "metadata": {
    "ExecuteTime": {
     "end_time": "2022-04-02T14:05:45.224736Z",
     "start_time": "2022-04-02T14:05:45.198805Z"
    },
    "id": "Oxhdd12PIQGR"
   },
   "outputs": [
    {
     "data": {
      "text/plain": [
       "c1    2\n",
       "c2    2\n",
       "c3    1\n",
       "c4    0\n",
       "c5    0\n",
       "dtype: int64"
      ]
     },
     "execution_count": 252,
     "metadata": {},
     "output_type": "execute_result"
    }
   ],
   "source": [
    "c.value_counts()"
   ]
  },
  {
   "cell_type": "code",
   "execution_count": 253,
   "metadata": {
    "ExecuteTime": {
     "end_time": "2022-04-02T14:05:45.255661Z",
     "start_time": "2022-04-02T14:05:45.228725Z"
    },
    "id": "w2kR4J0HIagG"
   },
   "outputs": [
    {
     "data": {
      "text/plain": [
       "['c1', 'c3', 'c1']\n",
       "Categories (5, object): ['c1', 'c2', 'c3', 'c4', 'c5']"
      ]
     },
     "execution_count": 253,
     "metadata": {},
     "output_type": "execute_result"
    }
   ],
   "source": [
    "c[c.isin(['c1', 'c3'])] #쓰지 않는 카테고리도 추가할 수 있음"
   ]
  },
  {
   "cell_type": "code",
   "execution_count": 254,
   "metadata": {
    "ExecuteTime": {
     "end_time": "2022-04-02T14:05:45.270616Z",
     "start_time": "2022-04-02T14:05:45.260640Z"
    },
    "id": "PP_HNmTxIsi7"
   },
   "outputs": [],
   "source": [
    "# 사용되지 않는 카테고리는 지울 수 있음.\n",
    "c = c.remove_unused_categories()"
   ]
  },
  {
   "cell_type": "code",
   "execution_count": 255,
   "metadata": {
    "ExecuteTime": {
     "end_time": "2022-04-02T14:05:45.285573Z",
     "start_time": "2022-04-02T14:05:45.275599Z"
    },
    "id": "oOEz4iOoI4tx"
   },
   "outputs": [
    {
     "data": {
      "text/plain": [
       "Index(['c1', 'c2', 'c3'], dtype='object')"
      ]
     },
     "execution_count": 255,
     "metadata": {},
     "output_type": "execute_result"
    }
   ],
   "source": [
    "c.categories"
   ]
  },
  {
   "cell_type": "markdown",
   "metadata": {
    "id": "wjRK-aLNzLKo"
   },
   "source": [
    "## 문자열 연산"
   ]
  },
  {
   "cell_type": "markdown",
   "metadata": {
    "id": "q1LwRoiH0h8A"
   },
   "source": [
    "#### 문자열 연산자"
   ]
  },
  {
   "cell_type": "markdown",
   "metadata": {},
   "source": [
    "* 파이썬의 문자열 연산자를 거의 모두 반영하고 있음.\n",
    "\n",
    "| 함수 | 설명 |\n",
    "| --- | --- |\n",
    "| capitalize() | 첫 문자를 대문자로 하고, 나머지 문자를 소문자로 하는 문자열 반환 |\n",
    "| casefold() | 모든 대소문자 구분을 제거 |\n",
    "| count(sub, [, startp, end]]) | [start, end]범위에서 부분 문자열 sub의 중복되지 않은 수를 반환 |\n",
    "| find(sub, [, startp, end]]) | [start, end]에서 부분 문자열 sub가 문자열의 가장 작은 인덱스를 반환. sub가 발견되지 않는 경우는 -1반환|\n",
    "| rfind(sub, [, startp, end]]) | [start, end]에서 부분 문자열 sub가 문자열의 가장 작은 큰 인덱스를 반환. sub가 발견되지 않는 경우는 -1 반환|\n",
    "| index(sub, [, startp, end]]) | find()와 유사하지만, 부분 문자열 sub가 없으면 ValueError 발생 |\n",
    "| rindex(sub, [, startp, end]]) | rfind()와 유사하지만, sub가 없으면 ValueError 발생 |\n",
    "| isalnum() | 문자열의 모든 문자가 영숫자로 1개 이상 있으면 True, 아니면 False 반환 |\n",
    "| isalpha() | 문자열의 모든 문자가 영문자로 1개 이상 있으면 True, 아니면 False 반환 |\n",
    "| isdecimal() | 문자열의 모든 문자가 10진수 문자이며 1개 이상 있을 때 True, 그렇지 아니면 False 반환 |\n",
    "| isdigit() | 문자열의 모든 문자가 숫자이며 1개 이상 있을 때 True, 그렇지 않으면 False 반환|\n",
    "| isnumeric() | 문자열의 모든 문자가 수치형이며 1개 이상 있을 때 True, 그렇지 않으면 False 반환 |\n",
    "| isidentifier() | 문자열이 유효한 식별자인 경우 True 반환 |\n",
    "| isspace() | 문자열 내에 공백 문자가 있고, 문자가 1개 이상 있을 때 True, 아니면 False 반환 |\n",
    "| istitle() | 문자열이 제목이 있는 문자열에 문자가 1개 이상 있으면 True, 아니면 False |\n",
    "| islower() | 문자열의 모든 문자가 소문자이며 1개 이상 있을 때 True, 아니면 False | \n",
    "| isupper() | 문자열의 모든 문자가 대문자이며 1개 이상 있으면 True, 아니면 False |\n",
    "| join(iterable) | iterable에 있는 문자열에 연결된 문자열을 반환 |\n",
    "| center(width [, fillchar]) | 길이 너비 만큼 중앙정렬된 문자열 반환 |\n",
    "| ljust(width [, fillchar]) | 너비만큼의 문자열에서 왼쪽 정렬된 문자열을 반환 | \n",
    "| rjust(width [, fillchar]) | 너비만큼의 문자열에서 오른쪽 정렬된 문자열으 반환 |\n",
    "| lower() | 모든 대소문자가 소문자로 변환된 무자열을 반환 | \n",
    "| upper() | 문자열에서 모든 문자를 대문자로 변환한 문자열 반환 | \n",
    "| title() |  문자열에서 첫 그자만 대문자이고 나머지는 소문자인 문자열 반환 |\n",
    "| swapcase() | 문자열에서 소문자를 대문자로, 대문자를 소문자로 변환한 문자열 반환|\n",
    "| strip([chars]) | 문자열 양쪽에 지정된 chars 또는 공백을 제거한 문자열을 반환 | \n",
    "| lstrip([chars]) | 문자열 왼쪽에 지정된 chars 또는 공백을 제거한 문자열을 반환 |\n",
    "| rstrip([chars]) | 문자열 오른쪽에 지정된 chars 또는 공백을 제거한 문자열을 반환 |\n",
    "| partition(sep) | 문자열에서 첫번째 sep을 기분으로 분할하여 3개의 튜블을 반환 |\n",
    "| rpartition(sep) | 문자열에서 마지막 sep을 기준으로 분할하여 3개의 튜플을 반환 |\n",
    "| replave(old, new[, count] | 문자열의 모든 old를 new로 교체한 문자열으 반환 |\n",
    "| split(sep=None, maxsplit=1) | sep을 구분자 문자열로 사용하여, 왼쪽부터 문자열의 단어 목록을 반환 |\n",
    "| rsplit(sep=None, maxsplit=1) | sep을 구분자 문자열로 사용하여, 오른쪽부터 문자열의 단어 목록을 반환 |\n",
    "| splitlines([keepends]) | 문자열에서 라인 단위로 구분하여 리스트를 반환 |\n",
    "| startswith(prefix [, start[ ,end]]) | [start, end] 범위에서 지정한 prefix로 시작하면 True, 아니면 False 반환 |\n",
    "| endswith(suffix [, start[ ,end]]) | [start, end]범위에서 지정한 suffix로 끝나면 True, 아니면 False |\n",
    "| zfill(width) | 너비 만큼의 문자열에서 비어있는 부분에 '0'이 채워진 문자열 반환(fill도 있을 듯?) |"
   ]
  },
  {
   "cell_type": "code",
   "execution_count": 256,
   "metadata": {
    "ExecuteTime": {
     "end_time": "2022-04-02T14:05:45.300536Z",
     "start_time": "2022-04-02T14:05:45.288565Z"
    },
    "id": "AXJwgoGYyPx7"
   },
   "outputs": [
    {
     "data": {
      "text/plain": [
       "0           Suan Lee\n",
       "1        Steven Jobs\n",
       "2         Larry Page\n",
       "3          Elon Musk\n",
       "4               None\n",
       "5         Bill Gates\n",
       "6    Mark Zuckerberg\n",
       "7         Jeff Bezos\n",
       "dtype: object"
      ]
     },
     "execution_count": 256,
     "metadata": {},
     "output_type": "execute_result"
    }
   ],
   "source": [
    "name_tuple = ['Suan Lee', 'Steven Jobs', 'Larry Page', 'Elon Musk', None, 'Bill Gates', 'Mark Zuckerberg', 'Jeff Bezos']\n",
    "names = pd.Series(name_tuple)\n",
    "names"
   ]
  },
  {
   "cell_type": "code",
   "execution_count": 257,
   "metadata": {
    "ExecuteTime": {
     "end_time": "2022-04-02T14:05:45.315493Z",
     "start_time": "2022-04-02T14:05:45.304522Z"
    },
    "id": "8UZuQclNzvy7"
   },
   "outputs": [
    {
     "data": {
      "text/plain": [
       "0           suan lee\n",
       "1        steven jobs\n",
       "2         larry page\n",
       "3          elon musk\n",
       "4               None\n",
       "5         bill gates\n",
       "6    mark zuckerberg\n",
       "7         jeff bezos\n",
       "dtype: object"
      ]
     },
     "execution_count": 257,
     "metadata": {},
     "output_type": "execute_result"
    }
   ],
   "source": [
    "# 판다스 객체의 문자열 처리를 사용하려면 str를 사용해야함.\n",
    "names.str.lower()"
   ]
  },
  {
   "cell_type": "code",
   "execution_count": 258,
   "metadata": {
    "ExecuteTime": {
     "end_time": "2022-04-02T14:05:45.345415Z",
     "start_time": "2022-04-02T14:05:45.320480Z"
    },
    "id": "RKC2Y-_p1cgf"
   },
   "outputs": [
    {
     "data": {
      "text/plain": [
       "0     8.0\n",
       "1    11.0\n",
       "2    10.0\n",
       "3     9.0\n",
       "4     NaN\n",
       "5    10.0\n",
       "6    15.0\n",
       "7    10.0\n",
       "dtype: float64"
      ]
     },
     "execution_count": 258,
     "metadata": {},
     "output_type": "execute_result"
    }
   ],
   "source": [
    "names.str.len()"
   ]
  },
  {
   "cell_type": "code",
   "execution_count": null,
   "metadata": {
    "ExecuteTime": {
     "end_time": "2022-04-02T14:05:49.602102Z",
     "start_time": "2022-04-02T14:05:49.602102Z"
    },
    "id": "pEza_iX71gdo"
   },
   "outputs": [],
   "source": [
    "names.str.split()"
   ]
  },
  {
   "cell_type": "markdown",
   "metadata": {
    "id": "fmpHWLto8PPZ"
   },
   "source": [
    "#### 기타 연산자\n"
   ]
  },
  {
   "cell_type": "markdown",
   "metadata": {},
   "source": [
    "| 메소드 | 설명 | \n",
    "| --- | --- |\n",
    "| get() | 각 요소에 인덱스 지정 |\n",
    "| slice() | 각 요소에 슬라이스 적용 |\n",
    "| slice_replace() | 각 요소의 슬라이스를 특정 값으로 대체 |\n",
    "| cat() | 문자열 연결 |\n",
    "| repeat() | 값 반복 |\n",
    "| normalize() | 문자열의 유니코드 형태로 반환 |\n",
    "| pad() | 문자열의 왼쪽, 오른쪽, 또는 양쪽 공백 추가 |\n",
    "| wrap() | 긴 문자열을 주어진 너비보다 짧은 길이의 여러 줄로 나눔 |\n",
    "| join() | Series의 각 요소에 있는 문자열으 전달된 구분자와 결합 |\n",
    "| get_dummies() | DataFrame으로 가변수 추출 |"
   ]
  },
  {
   "cell_type": "code",
   "execution_count": 261,
   "metadata": {
    "ExecuteTime": {
     "end_time": "2022-04-02T14:11:23.997769Z",
     "start_time": "2022-04-02T14:11:23.984765Z"
    },
    "id": "8OoAFpYw5xUT"
   },
   "outputs": [
    {
     "data": {
      "text/plain": [
       "0    Suan\n",
       "1    Stev\n",
       "2    Larr\n",
       "3    Elon\n",
       "4    None\n",
       "5    Bill\n",
       "6    Mark\n",
       "7    Jeff\n",
       "dtype: object"
      ]
     },
     "execution_count": 261,
     "metadata": {},
     "output_type": "execute_result"
    }
   ],
   "source": [
    "# 문자열 슬라이싱\n",
    "names.str[0:4]"
   ]
  },
  {
   "cell_type": "code",
   "execution_count": 266,
   "metadata": {
    "ExecuteTime": {
     "end_time": "2022-04-02T14:12:21.352678Z",
     "start_time": "2022-04-02T14:12:21.328702Z"
    }
   },
   "outputs": [
    {
     "data": {
      "text/plain": [
       "0           [Suan, Lee]\n",
       "1        [Steven, Jobs]\n",
       "2         [Larry, Page]\n",
       "3          [Elon, Musk]\n",
       "4                  None\n",
       "5         [Bill, Gates]\n",
       "6    [Mark, Zuckerberg]\n",
       "7         [Jeff, Bezos]\n",
       "dtype: object"
      ]
     },
     "execution_count": 266,
     "metadata": {},
     "output_type": "execute_result"
    }
   ],
   "source": [
    "names.str.split()"
   ]
  },
  {
   "cell_type": "code",
   "execution_count": 262,
   "metadata": {
    "ExecuteTime": {
     "end_time": "2022-04-02T14:11:56.281234Z",
     "start_time": "2022-04-02T14:11:56.257265Z"
    },
    "id": "psOVr0dE8_hQ"
   },
   "outputs": [
    {
     "data": {
      "text/plain": [
       "0           Lee\n",
       "1          Jobs\n",
       "2          Page\n",
       "3          Musk\n",
       "4          None\n",
       "5         Gates\n",
       "6    Zuckerberg\n",
       "7         Bezos\n",
       "dtype: object"
      ]
     },
     "execution_count": 262,
     "metadata": {},
     "output_type": "execute_result"
    }
   ],
   "source": [
    "names.str.split().str.get(-1) #뒷부분에 있는 것을 가져옴"
   ]
  },
  {
   "cell_type": "code",
   "execution_count": 267,
   "metadata": {
    "ExecuteTime": {
     "end_time": "2022-04-02T14:13:07.671089Z",
     "start_time": "2022-04-02T14:13:07.651143Z"
    },
    "id": "c1OM6UFk94ty"
   },
   "outputs": [
    {
     "data": {
      "text/plain": [
       "0                  Suan LeeSuan Lee\n",
       "1            Steven JobsSteven Jobs\n",
       "2              Larry PageLarry Page\n",
       "3                Elon MuskElon Musk\n",
       "4                              None\n",
       "5              Bill GatesBill Gates\n",
       "6    Mark ZuckerbergMark Zuckerberg\n",
       "7              Jeff BezosJeff Bezos\n",
       "dtype: object"
      ]
     },
     "execution_count": 267,
     "metadata": {},
     "output_type": "execute_result"
    }
   ],
   "source": [
    "names.str.repeat(2)"
   ]
  },
  {
   "cell_type": "code",
   "execution_count": 269,
   "metadata": {
    "ExecuteTime": {
     "end_time": "2022-04-02T14:14:11.796596Z",
     "start_time": "2022-04-02T14:14:11.785590Z"
    },
    "id": "8gTH3OAa9F7R"
   },
   "outputs": [
    {
     "data": {
      "text/plain": [
       "0                  S*u*a*n* *L*e*e\n",
       "1            S*t*e*v*e*n* *J*o*b*s\n",
       "2              L*a*r*r*y* *P*a*g*e\n",
       "3                E*l*o*n* *M*u*s*k\n",
       "4                             None\n",
       "5              B*i*l*l* *G*a*t*e*s\n",
       "6    M*a*r*k* *Z*u*c*k*e*r*b*e*r*g\n",
       "7              J*e*f*f* *B*e*z*o*s\n",
       "dtype: object"
      ]
     },
     "execution_count": 269,
     "metadata": {},
     "output_type": "execute_result"
    }
   ],
   "source": [
    "names.str.join('*')"
   ]
  },
  {
   "cell_type": "markdown",
   "metadata": {
    "id": "cc5I6nYe2rIA"
   },
   "source": [
    "#### 정규표현식\n"
   ]
  },
  {
   "cell_type": "markdown",
   "metadata": {},
   "source": [
    "| 메소드 | 설명 | \n",
    "| --- | --- |\n",
    "| match() | 각 요소에 `re.match()`호출. 불리언 값 반환 |\n",
    "| extract() | 각 요소에 `re.match()`호출. 문자열로 매칭된 그룹 반환 |\n",
    "| findall() | 각 요소에 `re.findall()`호출. |\n",
    "| replace() | 패턴이 발생한 곳을 다른 문자열로 대체 |\n",
    "| contains() | 각 요소에 `re.search()`호출. 불리언 값 반환 |\n",
    "| count() | 패턴 발생 건수 집계 |\n",
    "| split() | `str.split()`과 동일하지만 정규 표현식 사용 |\n",
    "| rsplit() | `str.rsplit()`과 동일하지만 정규 표현식 사용 |"
   ]
  },
  {
   "cell_type": "code",
   "execution_count": 270,
   "metadata": {
    "ExecuteTime": {
     "end_time": "2022-04-02T14:17:36.808516Z",
     "start_time": "2022-04-02T14:17:36.784594Z"
    },
    "id": "f__zeZaV2hJt"
   },
   "outputs": [
    {
     "data": {
      "text/plain": [
       "0    True\n",
       "1    True\n",
       "2    True\n",
       "3    True\n",
       "4    None\n",
       "5    True\n",
       "6    True\n",
       "7    True\n",
       "dtype: object"
      ]
     },
     "execution_count": 270,
     "metadata": {},
     "output_type": "execute_result"
    }
   ],
   "source": [
    "names.str.match('([A-Za-z]+)')"
   ]
  },
  {
   "cell_type": "code",
   "execution_count": 271,
   "metadata": {
    "ExecuteTime": {
     "end_time": "2022-04-02T14:18:10.792139Z",
     "start_time": "2022-04-02T14:18:10.768165Z"
    },
    "id": "WE-XezJe4FJ1"
   },
   "outputs": [
    {
     "data": {
      "text/plain": [
       "0           [Suan, Lee]\n",
       "1        [Steven, Jobs]\n",
       "2         [Larry, Page]\n",
       "3          [Elon, Musk]\n",
       "4                  None\n",
       "5         [Bill, Gates]\n",
       "6    [Mark, Zuckerberg]\n",
       "7         [Jeff, Bezos]\n",
       "dtype: object"
      ]
     },
     "execution_count": 271,
     "metadata": {},
     "output_type": "execute_result"
    }
   ],
   "source": [
    "names.str.findall('([A-Za-z]+)')"
   ]
  },
  {
   "cell_type": "markdown",
   "metadata": {
    "id": "coa1wuPKAjE4"
   },
   "source": [
    "## 시계열 처리"
   ]
  },
  {
   "cell_type": "code",
   "execution_count": 272,
   "metadata": {
    "ExecuteTime": {
     "end_time": "2022-04-02T14:36:17.550734Z",
     "start_time": "2022-04-02T14:36:17.521775Z"
    }
   },
   "outputs": [
    {
     "data": {
      "text/plain": [
       "2019-01-01    0\n",
       "2020-01-01    1\n",
       "2020-02-01    2\n",
       "2020-02-02    3\n",
       "2020-03-01    4\n",
       "dtype: int64"
      ]
     },
     "execution_count": 272,
     "metadata": {},
     "output_type": "execute_result"
    }
   ],
   "source": [
    "idx = pd.DatetimeIndex(['2019-01-01', '2020-01-01', '2020-02-01', '2020-02-02', '2020-03-01'])\n",
    "s = pd.Series([0, 1, 2, 3, 4], index=idx)\n",
    "s"
   ]
  },
  {
   "cell_type": "code",
   "execution_count": 273,
   "metadata": {
    "ExecuteTime": {
     "end_time": "2022-04-02T14:36:37.031947Z",
     "start_time": "2022-04-02T14:36:37.008301Z"
    },
    "id": "DpzWbv0F9eE2"
   },
   "outputs": [
    {
     "data": {
      "text/plain": [
       "2020-01-01    1\n",
       "2020-02-01    2\n",
       "2020-02-02    3\n",
       "2020-03-01    4\n",
       "dtype: int64"
      ]
     },
     "execution_count": 273,
     "metadata": {},
     "output_type": "execute_result"
    }
   ],
   "source": [
    "s['2020-01-01':] #해당 날짜 포함&이후."
   ]
  },
  {
   "cell_type": "code",
   "execution_count": 274,
   "metadata": {
    "ExecuteTime": {
     "end_time": "2022-04-02T14:36:47.163519Z",
     "start_time": "2022-04-02T14:36:47.139618Z"
    },
    "id": "ucLDgwSaBC-j"
   },
   "outputs": [
    {
     "data": {
      "text/plain": [
       "2019-01-01    0\n",
       "2020-01-01    1\n",
       "dtype: int64"
      ]
     },
     "execution_count": 274,
     "metadata": {},
     "output_type": "execute_result"
    }
   ],
   "source": [
    "s[:'2020-01-01'] #해당 날짜 포함&이전."
   ]
  },
  {
   "cell_type": "code",
   "execution_count": 275,
   "metadata": {
    "ExecuteTime": {
     "end_time": "2022-04-02T14:36:52.531737Z",
     "start_time": "2022-04-02T14:36:52.514817Z"
    },
    "id": "ULqUMOA6BLTV"
   },
   "outputs": [
    {
     "data": {
      "text/plain": [
       "2019-01-01    0\n",
       "dtype: int64"
      ]
     },
     "execution_count": 275,
     "metadata": {},
     "output_type": "execute_result"
    }
   ],
   "source": [
    "s['2019'] #2019년에 해당 하는 날짜들."
   ]
  },
  {
   "cell_type": "markdown",
   "metadata": {
    "id": "KuoU8dtlD7kR"
   },
   "source": [
    "#### 시계열 데이터 구조\n"
   ]
  },
  {
   "cell_type": "markdown",
   "metadata": {
    "id": "WRDRlDNPDzAc"
   },
   "source": [
    "| 타임스탬프(timestamp) | 기간(time period) | 시간 델타 또는 지속 기간 |\n",
    "| --- | --- | --- |\n",
    "| Pandas `Timestamp` 타입 제공 | Pandas `Period`타입 제공 | Pandas의 `Timedelta`타입 제공 |\n",
    "| 파이썬 `datetime` 대체 타입 | | 파이썬 `datetime.timedelta`대체 타입 |\n",
    "| `numpy.datetime64` 타입 기반 | `numpy.datetime64`타입 기반 | `numpy.timedelta64`타입 기반 |\n",
    "| `DatetimeIndex` 인덱스 구조 | `PeriodIndex` 인덱스 구조 | `TimedeltaIndex` 인덱스 구조 |"
   ]
  },
  {
   "cell_type": "code",
   "execution_count": 276,
   "metadata": {
    "ExecuteTime": {
     "end_time": "2022-04-02T14:39:39.308363Z",
     "start_time": "2022-04-02T14:39:39.288415Z"
    },
    "id": "jEXv5UcQHKoZ"
   },
   "outputs": [
    {
     "data": {
      "text/plain": [
       "DatetimeIndex(['2019-12-12', '2020-01-01', '2020-02-02', '2020-03-04',\n",
       "               '2020-07-01'],\n",
       "              dtype='datetime64[ns]', freq=None)"
      ]
     },
     "execution_count": 276,
     "metadata": {},
     "output_type": "execute_result"
    }
   ],
   "source": [
    "from datetime import datetime #파이썬 기본 라이브러리\n",
    "\n",
    "# 다양한 방식으로 표현할 수 있음.\n",
    "dates = pd.to_datetime(['12-12-2019', datetime(2020, 1, 1), '2nd of Feb, 2020', '2020-Mar-4', '20200701'])\n",
    "dates"
   ]
  },
  {
   "cell_type": "code",
   "execution_count": 279,
   "metadata": {
    "ExecuteTime": {
     "end_time": "2022-04-02T14:40:59.163913Z",
     "start_time": "2022-04-02T14:40:59.151969Z"
    },
    "id": "i11dXCIKIKIA"
   },
   "outputs": [
    {
     "data": {
      "text/plain": [
       "PeriodIndex(['2019-12-12', '2020-01-01', '2020-02-02', '2020-03-04',\n",
       "             '2020-07-01'],\n",
       "            dtype='period[D]')"
      ]
     },
     "execution_count": 279,
     "metadata": {},
     "output_type": "execute_result"
    }
   ],
   "source": [
    "# DatetimeIndex --> PeriodIndex로 변환\n",
    "dates.to_period('D')"
   ]
  },
  {
   "cell_type": "code",
   "execution_count": 280,
   "metadata": {
    "ExecuteTime": {
     "end_time": "2022-04-02T14:41:59.560193Z",
     "start_time": "2022-04-02T14:41:59.548227Z"
    },
    "id": "747a7Q8AIOVZ"
   },
   "outputs": [
    {
     "data": {
      "text/plain": [
       "TimedeltaIndex(['0 days', '20 days', '52 days', '83 days', '202 days'], dtype='timedelta64[ns]', freq=None)"
      ]
     },
     "execution_count": 280,
     "metadata": {},
     "output_type": "execute_result"
    }
   ],
   "source": [
    "dates - dates[0]\n",
    "## 각 datetime에 '2019-12-12'를 빼서 지난 시간을 계산해 줌.\n",
    "## TimeDeltaIndex로 출력됨."
   ]
  },
  {
   "cell_type": "code",
   "execution_count": 281,
   "metadata": {
    "ExecuteTime": {
     "end_time": "2022-04-02T14:42:38.994268Z",
     "start_time": "2022-04-02T14:42:38.976277Z"
    },
    "id": "hfaW7kliITUq"
   },
   "outputs": [
    {
     "data": {
      "text/plain": [
       "DatetimeIndex(['2020-01-01', '2020-01-02', '2020-01-03', '2020-01-04',\n",
       "               '2020-01-05', '2020-01-06', '2020-01-07', '2020-01-08',\n",
       "               '2020-01-09', '2020-01-10',\n",
       "               ...\n",
       "               '2020-06-22', '2020-06-23', '2020-06-24', '2020-06-25',\n",
       "               '2020-06-26', '2020-06-27', '2020-06-28', '2020-06-29',\n",
       "               '2020-06-30', '2020-07-01'],\n",
       "              dtype='datetime64[ns]', length=183, freq='D')"
      ]
     },
     "execution_count": 281,
     "metadata": {},
     "output_type": "execute_result"
    }
   ],
   "source": [
    "# 두 날짜를 포함한 사이의 Datetime을 리스트로 출력.\n",
    "pd.date_range('2020-01-01', '2020-07-01')"
   ]
  },
  {
   "cell_type": "code",
   "execution_count": 282,
   "metadata": {
    "ExecuteTime": {
     "end_time": "2022-04-02T14:44:25.480056Z",
     "start_time": "2022-04-02T14:44:25.458084Z"
    },
    "id": "QnIaj9cfIwjG"
   },
   "outputs": [
    {
     "data": {
      "text/plain": [
       "DatetimeIndex(['2020-01-01', '2020-01-02', '2020-01-03', '2020-01-04',\n",
       "               '2020-01-05', '2020-01-06', '2020-01-07'],\n",
       "              dtype='datetime64[ns]', freq='D')"
      ]
     },
     "execution_count": 282,
     "metadata": {},
     "output_type": "execute_result"
    }
   ],
   "source": [
    "# 해당 timestamp포함해서 7개의 순차적인 timestamp 출력.\n",
    "pd.date_range('2020-01-01', periods=7) "
   ]
  },
  {
   "cell_type": "code",
   "execution_count": 285,
   "metadata": {
    "ExecuteTime": {
     "end_time": "2022-04-02T14:46:58.755255Z",
     "start_time": "2022-04-02T14:46:58.735310Z"
    },
    "id": "3A5IqEhwI2KO"
   },
   "outputs": [
    {
     "data": {
      "text/plain": [
       "DatetimeIndex(['2020-01-31', '2020-02-29', '2020-03-31', '2020-04-30',\n",
       "               '2020-05-31', '2020-06-30', '2020-07-31'],\n",
       "              dtype='datetime64[ns]', freq='M')"
      ]
     },
     "execution_count": 285,
     "metadata": {},
     "output_type": "execute_result"
    }
   ],
   "source": [
    "pd.date_range('2020-01-01', periods=7, freq='M') \n",
    "pd.date_range('2020-01-04', periods=7, freq='M') \n",
    "## 이건 본인을 포함하지 않고 한 달 단위로 출력하네...?\n",
    "## 가 아니고 그냥 '2020-01', '2020-02'이런식으로 출력하는데, 날짜까지 출력하다 보니\n",
    "## 해당 달의 마이막 날짜를 출력하는 듯?"
   ]
  },
  {
   "cell_type": "code",
   "execution_count": 286,
   "metadata": {
    "ExecuteTime": {
     "end_time": "2022-04-02T14:47:42.494295Z",
     "start_time": "2022-04-02T14:47:42.469372Z"
    },
    "id": "DmqQPTOgiHLD"
   },
   "outputs": [
    {
     "data": {
      "text/plain": [
       "DatetimeIndex(['2020-01-01 00:00:00', '2020-01-01 01:00:00',\n",
       "               '2020-01-01 02:00:00', '2020-01-01 03:00:00',\n",
       "               '2020-01-01 04:00:00', '2020-01-01 05:00:00',\n",
       "               '2020-01-01 06:00:00'],\n",
       "              dtype='datetime64[ns]', freq='H')"
      ]
     },
     "execution_count": 286,
     "metadata": {},
     "output_type": "execute_result"
    }
   ],
   "source": [
    "pd.date_range('2020-01-01', periods=7, freq='H') #시간단위로."
   ]
  },
  {
   "cell_type": "code",
   "execution_count": 291,
   "metadata": {
    "ExecuteTime": {
     "end_time": "2022-04-02T14:49:55.392102Z",
     "start_time": "2022-04-02T14:49:55.384107Z"
    },
    "id": "sWSFkY1EieM6"
   },
   "outputs": [
    {
     "data": {
      "text/plain": [
       "DatetimeIndex(['2020-01-01 12:00:00', '2020-01-02 00:00:00', 'NaT'], dtype='datetime64[ns]', freq=None)"
      ]
     },
     "execution_count": 291,
     "metadata": {},
     "output_type": "execute_result"
    }
   ],
   "source": [
    "idx = pd.to_datetime(['2020-01-01 12:00:00', '2020-01-02 00:00:00'] + [None])\n",
    "idx = pd.to_datetime(['2020-01-01 12:00:00', '2020-01-02 00:00:00'] + [np.NaN]) #None, nan만 들어가는듯\n",
    "idx\n",
    "## 시간이 아닌 타입이 포함 될 때는 'NaT'(not a time) 으로 뜸."
   ]
  },
  {
   "cell_type": "code",
   "execution_count": 293,
   "metadata": {
    "ExecuteTime": {
     "end_time": "2022-04-02T14:50:19.877006Z",
     "start_time": "2022-04-02T14:50:19.867032Z"
    },
    "id": "15Nbw1roimzp"
   },
   "outputs": [
    {
     "data": {
      "text/plain": [
       "NaT"
      ]
     },
     "execution_count": 293,
     "metadata": {},
     "output_type": "execute_result"
    }
   ],
   "source": [
    "idx[2]"
   ]
  },
  {
   "cell_type": "code",
   "execution_count": 294,
   "metadata": {
    "ExecuteTime": {
     "end_time": "2022-04-02T14:50:33.075316Z",
     "start_time": "2022-04-02T14:50:33.066357Z"
    }
   },
   "outputs": [
    {
     "data": {
      "text/plain": [
       "array([False, False,  True])"
      ]
     },
     "execution_count": 294,
     "metadata": {},
     "output_type": "execute_result"
    }
   ],
   "source": [
    "pd.isnull(idx)"
   ]
  },
  {
   "cell_type": "markdown",
   "metadata": {
    "id": "eUdhdTqckQML"
   },
   "source": [
    "### 시계열 기본"
   ]
  },
  {
   "cell_type": "code",
   "execution_count": null,
   "metadata": {
    "id": "o3C5bsKnkS3z"
   },
   "outputs": [],
   "source": []
  },
  {
   "cell_type": "code",
   "execution_count": null,
   "metadata": {
    "id": "n0NOghJ3lK8f"
   },
   "outputs": [],
   "source": []
  },
  {
   "cell_type": "code",
   "execution_count": null,
   "metadata": {
    "id": "_eTZ-8BOlYb_"
   },
   "outputs": [],
   "source": []
  },
  {
   "cell_type": "code",
   "execution_count": null,
   "metadata": {
    "id": "vr-FEVSyll5c"
   },
   "outputs": [],
   "source": []
  },
  {
   "cell_type": "code",
   "execution_count": null,
   "metadata": {
    "id": "aaRJ83ZNm1P4"
   },
   "outputs": [],
   "source": []
  },
  {
   "cell_type": "code",
   "execution_count": null,
   "metadata": {
    "id": "h9tW0LHSnAT7"
   },
   "outputs": [],
   "source": []
  },
  {
   "cell_type": "code",
   "execution_count": null,
   "metadata": {
    "id": "-PiTx7qanLSF"
   },
   "outputs": [],
   "source": []
  },
  {
   "cell_type": "code",
   "execution_count": null,
   "metadata": {
    "id": "RZXHXH79oL87"
   },
   "outputs": [],
   "source": []
  },
  {
   "cell_type": "code",
   "execution_count": null,
   "metadata": {
    "id": "OrV7HKEkoZL7"
   },
   "outputs": [],
   "source": []
  },
  {
   "cell_type": "code",
   "execution_count": null,
   "metadata": {
    "id": "bAtqzI_jor5X"
   },
   "outputs": [],
   "source": []
  },
  {
   "cell_type": "code",
   "execution_count": null,
   "metadata": {
    "id": "AkHSxPFKpW3g"
   },
   "outputs": [],
   "source": []
  },
  {
   "cell_type": "code",
   "execution_count": null,
   "metadata": {
    "id": "BLcA7EkOpdwC"
   },
   "outputs": [],
   "source": []
  },
  {
   "cell_type": "code",
   "execution_count": null,
   "metadata": {
    "id": "k2WCkszlqEwH"
   },
   "outputs": [],
   "source": []
  },
  {
   "cell_type": "code",
   "execution_count": null,
   "metadata": {
    "id": "PDFICllKqwrv"
   },
   "outputs": [],
   "source": []
  },
  {
   "cell_type": "code",
   "execution_count": null,
   "metadata": {
    "id": "3q6TX5rVq0q1"
   },
   "outputs": [],
   "source": []
  },
  {
   "cell_type": "code",
   "execution_count": null,
   "metadata": {
    "id": "n0FVEH7sq74X"
   },
   "outputs": [],
   "source": []
  },
  {
   "cell_type": "code",
   "execution_count": null,
   "metadata": {
    "id": "hkbUwF9JrULg"
   },
   "outputs": [],
   "source": []
  },
  {
   "cell_type": "code",
   "execution_count": null,
   "metadata": {
    "id": "Bo4Ao2zisOs6"
   },
   "outputs": [],
   "source": []
  },
  {
   "cell_type": "code",
   "execution_count": null,
   "metadata": {
    "id": "0jxhrhS3tBEq"
   },
   "outputs": [],
   "source": []
  },
  {
   "cell_type": "code",
   "execution_count": null,
   "metadata": {
    "id": "4M9BEkp3tIKW"
   },
   "outputs": [],
   "source": []
  },
  {
   "cell_type": "code",
   "execution_count": null,
   "metadata": {
    "id": "H8vDMscHtRUp"
   },
   "outputs": [],
   "source": []
  },
  {
   "cell_type": "code",
   "execution_count": null,
   "metadata": {
    "id": "eFP7MlKWtiNc"
   },
   "outputs": [],
   "source": []
  },
  {
   "cell_type": "code",
   "execution_count": null,
   "metadata": {
    "id": "k9MGkCSBuAQ1"
   },
   "outputs": [],
   "source": []
  },
  {
   "cell_type": "code",
   "execution_count": null,
   "metadata": {
    "id": "Xhpa_AEWuGv5"
   },
   "outputs": [],
   "source": []
  },
  {
   "cell_type": "code",
   "execution_count": null,
   "metadata": {
    "id": "OExzMN61uUfo"
   },
   "outputs": [],
   "source": []
  },
  {
   "cell_type": "markdown",
   "metadata": {
    "id": "qyGkgydIJVm5"
   },
   "source": [
    "### 주기와 오프셋\n"
   ]
  },
  {
   "cell_type": "code",
   "execution_count": null,
   "metadata": {
    "id": "00N0V3YjI7Vh"
   },
   "outputs": [],
   "source": []
  },
  {
   "cell_type": "code",
   "execution_count": null,
   "metadata": {
    "id": "WSeShMblJDWE"
   },
   "outputs": [],
   "source": []
  },
  {
   "cell_type": "code",
   "execution_count": null,
   "metadata": {
    "id": "IZVLhHbBJMpm"
   },
   "outputs": [],
   "source": []
  },
  {
   "cell_type": "code",
   "execution_count": null,
   "metadata": {
    "id": "8Uzz7uZEK-mZ"
   },
   "outputs": [],
   "source": []
  },
  {
   "cell_type": "code",
   "execution_count": null,
   "metadata": {
    "id": "VGWXkmAh4ZcT"
   },
   "outputs": [],
   "source": []
  },
  {
   "cell_type": "code",
   "execution_count": null,
   "metadata": {
    "id": "2CeqVHBx33XS"
   },
   "outputs": [],
   "source": []
  },
  {
   "cell_type": "markdown",
   "metadata": {
    "id": "muiRlbyH7LPh"
   },
   "source": [
    "### 시프트(Shift)"
   ]
  },
  {
   "cell_type": "code",
   "execution_count": null,
   "metadata": {
    "id": "nYJfyvH-5LZB"
   },
   "outputs": [],
   "source": []
  },
  {
   "cell_type": "code",
   "execution_count": null,
   "metadata": {
    "id": "Dve8sn3D5n4p"
   },
   "outputs": [],
   "source": []
  },
  {
   "cell_type": "code",
   "execution_count": null,
   "metadata": {
    "id": "qWXBes3q5qo6"
   },
   "outputs": [],
   "source": []
  },
  {
   "cell_type": "code",
   "execution_count": null,
   "metadata": {
    "id": "ZN-dCvZU5tLx"
   },
   "outputs": [],
   "source": []
  },
  {
   "cell_type": "code",
   "execution_count": null,
   "metadata": {
    "id": "Yzi9nKB_53D-"
   },
   "outputs": [],
   "source": []
  },
  {
   "cell_type": "code",
   "execution_count": null,
   "metadata": {
    "id": "oUavnBzH6IR1"
   },
   "outputs": [],
   "source": []
  },
  {
   "cell_type": "markdown",
   "metadata": {
    "id": "IGa7k2HO7PJp"
   },
   "source": [
    "### 시간대 처리\n",
    "\n",
    "* 국제표준시(Coordinated Universal Time, UTC)를 기준으로 떨어진 거리만큼 오프셋으로 시간대 처리\n",
    "* 전 세계의 시간대 정보를 모아놓은 올슨 데이터베이스를 활용한 라이브러리인 `pytz` 사용"
   ]
  },
  {
   "cell_type": "code",
   "execution_count": null,
   "metadata": {
    "id": "FxrFeONy7QNb"
   },
   "outputs": [],
   "source": []
  },
  {
   "cell_type": "code",
   "execution_count": null,
   "metadata": {
    "id": "GRjk1NK-7P3O"
   },
   "outputs": [],
   "source": []
  },
  {
   "cell_type": "code",
   "execution_count": null,
   "metadata": {
    "id": "wjngkZuzOU1U"
   },
   "outputs": [],
   "source": []
  },
  {
   "cell_type": "code",
   "execution_count": null,
   "metadata": {
    "id": "_AxYonc1PV1o"
   },
   "outputs": [],
   "source": []
  },
  {
   "cell_type": "code",
   "execution_count": null,
   "metadata": {
    "id": "Zyc-pgsLPxHx"
   },
   "outputs": [],
   "source": []
  },
  {
   "cell_type": "code",
   "execution_count": null,
   "metadata": {
    "id": "7ZOXCc73QJ6U"
   },
   "outputs": [],
   "source": []
  },
  {
   "cell_type": "code",
   "execution_count": null,
   "metadata": {
    "id": "gQTL-ZSBQMJ5"
   },
   "outputs": [],
   "source": []
  },
  {
   "cell_type": "code",
   "execution_count": null,
   "metadata": {
    "id": "Kgm-C70kQX1K"
   },
   "outputs": [],
   "source": []
  },
  {
   "cell_type": "code",
   "execution_count": null,
   "metadata": {
    "id": "uidYzkMEQiw-"
   },
   "outputs": [],
   "source": []
  },
  {
   "cell_type": "code",
   "execution_count": null,
   "metadata": {
    "id": "7T4KfZo1Q0vv"
   },
   "outputs": [],
   "source": []
  },
  {
   "cell_type": "code",
   "execution_count": null,
   "metadata": {
    "id": "nlRi5wiLQ_2t"
   },
   "outputs": [],
   "source": []
  },
  {
   "cell_type": "code",
   "execution_count": null,
   "metadata": {
    "id": "tOnkPX7wRr1K"
   },
   "outputs": [],
   "source": []
  },
  {
   "cell_type": "code",
   "execution_count": null,
   "metadata": {
    "id": "gzpDRNMbS7m4"
   },
   "outputs": [],
   "source": []
  },
  {
   "cell_type": "code",
   "execution_count": null,
   "metadata": {
    "id": "kV1-OuAyS1E1"
   },
   "outputs": [],
   "source": []
  },
  {
   "cell_type": "code",
   "execution_count": null,
   "metadata": {
    "id": "vNWZbRg9S7ib"
   },
   "outputs": [],
   "source": []
  },
  {
   "cell_type": "code",
   "execution_count": null,
   "metadata": {
    "id": "y2YmFHiTSbvl"
   },
   "outputs": [],
   "source": []
  },
  {
   "cell_type": "code",
   "execution_count": null,
   "metadata": {
    "id": "escRmC7CSp7D"
   },
   "outputs": [],
   "source": []
  },
  {
   "cell_type": "code",
   "execution_count": null,
   "metadata": {
    "id": "JktH-gJjSt3y"
   },
   "outputs": [],
   "source": []
  },
  {
   "cell_type": "code",
   "execution_count": null,
   "metadata": {
    "id": "B8qC75WkVdUz"
   },
   "outputs": [],
   "source": []
  },
  {
   "cell_type": "code",
   "execution_count": null,
   "metadata": {
    "id": "vW_WSrFYVr39"
   },
   "outputs": [],
   "source": []
  },
  {
   "cell_type": "code",
   "execution_count": null,
   "metadata": {
    "id": "eirSX--hVxsh"
   },
   "outputs": [],
   "source": []
  },
  {
   "cell_type": "code",
   "execution_count": null,
   "metadata": {
    "id": "c5O6aWCoV6tn"
   },
   "outputs": [],
   "source": []
  },
  {
   "cell_type": "code",
   "execution_count": null,
   "metadata": {
    "id": "fT1R8fH1YLxz"
   },
   "outputs": [],
   "source": []
  },
  {
   "cell_type": "code",
   "execution_count": null,
   "metadata": {
    "id": "AImCb4SwZHDJ"
   },
   "outputs": [],
   "source": []
  },
  {
   "cell_type": "markdown",
   "metadata": {
    "id": "mBESoCw1ZPCb"
   },
   "source": [
    "### 기간과 기간 연산"
   ]
  },
  {
   "cell_type": "code",
   "execution_count": null,
   "metadata": {
    "id": "zPuaVZFOZRXU"
   },
   "outputs": [],
   "source": []
  },
  {
   "cell_type": "code",
   "execution_count": null,
   "metadata": {
    "id": "Pa6d7K81c9D7"
   },
   "outputs": [],
   "source": []
  },
  {
   "cell_type": "code",
   "execution_count": null,
   "metadata": {
    "id": "-8G5Fry1dA0Z"
   },
   "outputs": [],
   "source": []
  },
  {
   "cell_type": "code",
   "execution_count": null,
   "metadata": {
    "id": "uX4eGfqPdJWX"
   },
   "outputs": [],
   "source": []
  },
  {
   "cell_type": "code",
   "execution_count": null,
   "metadata": {
    "id": "bONu-Igwefj5"
   },
   "outputs": [],
   "source": []
  },
  {
   "cell_type": "code",
   "execution_count": null,
   "metadata": {
    "id": "CgIISIP3esTI"
   },
   "outputs": [],
   "source": []
  },
  {
   "cell_type": "code",
   "execution_count": null,
   "metadata": {
    "id": "3UbMifZ9g_2a"
   },
   "outputs": [],
   "source": []
  },
  {
   "cell_type": "code",
   "execution_count": null,
   "metadata": {
    "id": "SrJaYKyFhqNK"
   },
   "outputs": [],
   "source": []
  },
  {
   "cell_type": "code",
   "execution_count": null,
   "metadata": {
    "id": "1zslgmgEhy_E"
   },
   "outputs": [],
   "source": []
  },
  {
   "cell_type": "code",
   "execution_count": null,
   "metadata": {
    "id": "Pf0MhblPh-4A"
   },
   "outputs": [],
   "source": []
  },
  {
   "cell_type": "code",
   "execution_count": null,
   "metadata": {
    "id": "TUAZmHE5iTDQ"
   },
   "outputs": [],
   "source": []
  },
  {
   "cell_type": "code",
   "execution_count": null,
   "metadata": {
    "id": "OXXVYyrSiXx5"
   },
   "outputs": [],
   "source": []
  },
  {
   "cell_type": "code",
   "execution_count": null,
   "metadata": {
    "id": "KwZxN0DSiZcR"
   },
   "outputs": [],
   "source": []
  },
  {
   "cell_type": "code",
   "execution_count": null,
   "metadata": {
    "id": "coUC21I4irbo"
   },
   "outputs": [],
   "source": []
  },
  {
   "cell_type": "code",
   "execution_count": null,
   "metadata": {
    "id": "l1-o5TuTjJ_6"
   },
   "outputs": [],
   "source": []
  },
  {
   "cell_type": "code",
   "execution_count": null,
   "metadata": {
    "id": "OXKM1tInjOo5"
   },
   "outputs": [],
   "source": []
  },
  {
   "cell_type": "code",
   "execution_count": null,
   "metadata": {
    "id": "atGrrBMjj9sh"
   },
   "outputs": [],
   "source": []
  },
  {
   "cell_type": "code",
   "execution_count": null,
   "metadata": {
    "id": "eYrXQPsykF6O"
   },
   "outputs": [],
   "source": []
  },
  {
   "cell_type": "code",
   "execution_count": null,
   "metadata": {
    "id": "Ieb4UV57kPBS"
   },
   "outputs": [],
   "source": []
  },
  {
   "cell_type": "code",
   "execution_count": null,
   "metadata": {
    "id": "kQ0IShLqlPYy"
   },
   "outputs": [],
   "source": []
  },
  {
   "cell_type": "code",
   "execution_count": null,
   "metadata": {
    "id": "uIkBhkpnop55"
   },
   "outputs": [],
   "source": []
  },
  {
   "cell_type": "code",
   "execution_count": null,
   "metadata": {
    "id": "u-37q4u_pTfy"
   },
   "outputs": [],
   "source": []
  },
  {
   "cell_type": "code",
   "execution_count": null,
   "metadata": {
    "id": "BNAgbJ62pzTh"
   },
   "outputs": [],
   "source": []
  },
  {
   "cell_type": "code",
   "execution_count": null,
   "metadata": {
    "id": "hNwIgsrkp4y3"
   },
   "outputs": [],
   "source": []
  },
  {
   "cell_type": "code",
   "execution_count": null,
   "metadata": {
    "id": "cwz_gBl-qWcp"
   },
   "outputs": [],
   "source": []
  },
  {
   "cell_type": "markdown",
   "metadata": {
    "id": "_7_r2sq0qoCb"
   },
   "source": [
    "### 리샘플링(Resampling)\n",
    "\n",
    "* 리샘플링(Resampling): 시계열의 빈도 변환\n",
    "* 다운샘플링(Down sampling): 상위 빈도 데이터를 하위 빈도 데이터로 집계\n",
    "* 업샘플링(Up sampling): 하위 빈도 데이터를 상위 빈도 데이터로 집계"
   ]
  },
  {
   "cell_type": "code",
   "execution_count": null,
   "metadata": {
    "id": "g16pgRe8qq2S"
   },
   "outputs": [],
   "source": []
  },
  {
   "cell_type": "code",
   "execution_count": null,
   "metadata": {
    "id": "dUOidLhdrSga"
   },
   "outputs": [],
   "source": []
  },
  {
   "cell_type": "code",
   "execution_count": null,
   "metadata": {
    "id": "syUsS-UtraUU"
   },
   "outputs": [],
   "source": []
  },
  {
   "cell_type": "code",
   "execution_count": null,
   "metadata": {
    "id": "wqGxv77wujni"
   },
   "outputs": [],
   "source": []
  },
  {
   "cell_type": "code",
   "execution_count": null,
   "metadata": {
    "id": "24TJiPXSu-cN"
   },
   "outputs": [],
   "source": []
  },
  {
   "cell_type": "code",
   "execution_count": null,
   "metadata": {
    "id": "iL0pJxPcwlt5"
   },
   "outputs": [],
   "source": []
  },
  {
   "cell_type": "code",
   "execution_count": null,
   "metadata": {
    "id": "UqjZ7uy1NTAM"
   },
   "outputs": [],
   "source": []
  },
  {
   "cell_type": "code",
   "execution_count": null,
   "metadata": {
    "id": "iTeIafSR1Hfx"
   },
   "outputs": [],
   "source": []
  },
  {
   "cell_type": "code",
   "execution_count": null,
   "metadata": {
    "id": "1KJJ4TSf1nMp"
   },
   "outputs": [],
   "source": []
  },
  {
   "cell_type": "code",
   "execution_count": null,
   "metadata": {
    "id": "79ITf-AM2Jcr"
   },
   "outputs": [],
   "source": []
  },
  {
   "cell_type": "code",
   "execution_count": null,
   "metadata": {
    "id": "kOBZwqXJ626g"
   },
   "outputs": [],
   "source": []
  },
  {
   "cell_type": "code",
   "execution_count": null,
   "metadata": {
    "id": "IZIifPcqBX28"
   },
   "outputs": [],
   "source": []
  },
  {
   "cell_type": "code",
   "execution_count": null,
   "metadata": {
    "id": "iEci9Ws3FNtG"
   },
   "outputs": [],
   "source": []
  },
  {
   "cell_type": "code",
   "execution_count": null,
   "metadata": {
    "id": "TPWnP2YNE2-Y"
   },
   "outputs": [],
   "source": []
  },
  {
   "cell_type": "code",
   "execution_count": null,
   "metadata": {
    "id": "r6b2V4P9B3eN"
   },
   "outputs": [],
   "source": []
  },
  {
   "cell_type": "code",
   "execution_count": null,
   "metadata": {
    "id": "YRU_MPfgC2OC"
   },
   "outputs": [],
   "source": []
  },
  {
   "cell_type": "code",
   "execution_count": null,
   "metadata": {
    "id": "bGwHQKT18B30"
   },
   "outputs": [],
   "source": []
  },
  {
   "cell_type": "code",
   "execution_count": null,
   "metadata": {
    "id": "0-fZbJgkCxvo"
   },
   "outputs": [],
   "source": []
  },
  {
   "cell_type": "markdown",
   "metadata": {
    "id": "gOTm-SAWFqUn"
   },
   "source": [
    "### 무빙 윈도우(Moving Window)"
   ]
  },
  {
   "cell_type": "code",
   "execution_count": null,
   "metadata": {
    "id": "ivW4TjmaFv_8"
   },
   "outputs": [],
   "source": []
  },
  {
   "cell_type": "code",
   "execution_count": null,
   "metadata": {
    "id": "g8NG71H-G3_1"
   },
   "outputs": [],
   "source": []
  },
  {
   "cell_type": "code",
   "execution_count": null,
   "metadata": {
    "id": "fPuiwcxR6r29"
   },
   "outputs": [],
   "source": []
  },
  {
   "cell_type": "code",
   "execution_count": null,
   "metadata": {
    "id": "rrS0Fv6IHkTD"
   },
   "outputs": [],
   "source": []
  },
  {
   "cell_type": "code",
   "execution_count": null,
   "metadata": {
    "id": "5eyUTf9gH7dy"
   },
   "outputs": [],
   "source": []
  },
  {
   "cell_type": "code",
   "execution_count": null,
   "metadata": {
    "id": "jE8ef_y7ISvQ"
   },
   "outputs": [],
   "source": []
  },
  {
   "cell_type": "code",
   "execution_count": null,
   "metadata": {
    "id": "YPivQozCIt2C"
   },
   "outputs": [],
   "source": []
  },
  {
   "cell_type": "code",
   "execution_count": null,
   "metadata": {
    "id": "uwUxlyN-I9Lr"
   },
   "outputs": [],
   "source": []
  },
  {
   "cell_type": "code",
   "execution_count": null,
   "metadata": {
    "id": "t6EOkaA7JQfk"
   },
   "outputs": [],
   "source": []
  },
  {
   "cell_type": "code",
   "execution_count": null,
   "metadata": {
    "id": "iOAqjinMJ-RM"
   },
   "outputs": [],
   "source": []
  },
  {
   "cell_type": "code",
   "execution_count": null,
   "metadata": {
    "id": "DMZPaDR0wR1P"
   },
   "outputs": [],
   "source": []
  },
  {
   "cell_type": "markdown",
   "metadata": {
    "id": "BOO7UiIisygc"
   },
   "source": [
    "## 데이터 읽기 및 저장\n"
   ]
  },
  {
   "cell_type": "markdown",
   "metadata": {
    "id": "gywGx4BUY8kK"
   },
   "source": [
    "### 텍스트 파일 읽기/쓰기"
   ]
  },
  {
   "cell_type": "code",
   "execution_count": null,
   "metadata": {
    "id": "YKleNV0lswbP"
   },
   "outputs": [],
   "source": []
  },
  {
   "cell_type": "code",
   "execution_count": null,
   "metadata": {
    "id": "uDL9fxU_N3e8"
   },
   "outputs": [],
   "source": []
  },
  {
   "cell_type": "code",
   "execution_count": null,
   "metadata": {
    "id": "8qpTNo0rNzQ1"
   },
   "outputs": [],
   "source": []
  },
  {
   "cell_type": "code",
   "execution_count": null,
   "metadata": {
    "id": "uFgOXuSWODON"
   },
   "outputs": [],
   "source": []
  },
  {
   "cell_type": "code",
   "execution_count": null,
   "metadata": {
    "id": "DxsJR_AHOGNM"
   },
   "outputs": [],
   "source": []
  },
  {
   "cell_type": "code",
   "execution_count": null,
   "metadata": {
    "id": "pINjVRJlOP3f"
   },
   "outputs": [],
   "source": []
  },
  {
   "cell_type": "code",
   "execution_count": null,
   "metadata": {
    "id": "_OOxJ6AoOdsa"
   },
   "outputs": [],
   "source": []
  },
  {
   "cell_type": "code",
   "execution_count": null,
   "metadata": {
    "id": "41CvMcUxOqG2"
   },
   "outputs": [],
   "source": []
  },
  {
   "cell_type": "code",
   "execution_count": null,
   "metadata": {
    "id": "IUWp5vjzPG_F"
   },
   "outputs": [],
   "source": []
  },
  {
   "cell_type": "code",
   "execution_count": null,
   "metadata": {
    "id": "lwh3G1yRQr1h"
   },
   "outputs": [],
   "source": []
  },
  {
   "cell_type": "code",
   "execution_count": null,
   "metadata": {
    "id": "PkUJzlMzRBue"
   },
   "outputs": [],
   "source": []
  },
  {
   "cell_type": "code",
   "execution_count": null,
   "metadata": {
    "id": "Ywb5JK5qRTvs"
   },
   "outputs": [],
   "source": []
  },
  {
   "cell_type": "code",
   "execution_count": null,
   "metadata": {
    "id": "PkEC01P2RaiM"
   },
   "outputs": [],
   "source": []
  },
  {
   "cell_type": "code",
   "execution_count": null,
   "metadata": {
    "id": "r-LMeRJUR8N4"
   },
   "outputs": [],
   "source": []
  },
  {
   "cell_type": "code",
   "execution_count": null,
   "metadata": {
    "id": "5eRV5ja3SawJ"
   },
   "outputs": [],
   "source": []
  },
  {
   "cell_type": "code",
   "execution_count": null,
   "metadata": {
    "id": "M7iJwB8MYwSv"
   },
   "outputs": [],
   "source": []
  },
  {
   "cell_type": "code",
   "execution_count": null,
   "metadata": {
    "id": "bsjS12WVZHcq"
   },
   "outputs": [],
   "source": []
  },
  {
   "cell_type": "code",
   "execution_count": null,
   "metadata": {
    "id": "QjP7lyGzZOpi"
   },
   "outputs": [],
   "source": []
  },
  {
   "cell_type": "code",
   "execution_count": null,
   "metadata": {
    "id": "fzxcYo0_ZUMI"
   },
   "outputs": [],
   "source": []
  },
  {
   "cell_type": "code",
   "execution_count": null,
   "metadata": {
    "id": "U0nvJRsTZg5E"
   },
   "outputs": [],
   "source": []
  },
  {
   "cell_type": "code",
   "execution_count": null,
   "metadata": {
    "id": "Xx7oQn_9axOD"
   },
   "outputs": [],
   "source": []
  },
  {
   "cell_type": "code",
   "execution_count": null,
   "metadata": {
    "id": "-cFa44vmbWJ-"
   },
   "outputs": [],
   "source": []
  },
  {
   "cell_type": "code",
   "execution_count": null,
   "metadata": {
    "id": "Sz4D4Rcrbkkj"
   },
   "outputs": [],
   "source": []
  },
  {
   "cell_type": "code",
   "execution_count": null,
   "metadata": {
    "id": "h-3yFqGYcc64"
   },
   "outputs": [],
   "source": []
  },
  {
   "cell_type": "code",
   "execution_count": null,
   "metadata": {
    "id": "8dwRbNbucm9_"
   },
   "outputs": [],
   "source": []
  },
  {
   "cell_type": "code",
   "execution_count": null,
   "metadata": {
    "id": "iEvJFXwTcx-y"
   },
   "outputs": [],
   "source": []
  },
  {
   "cell_type": "code",
   "execution_count": null,
   "metadata": {
    "id": "L5IlKRsKc7-X"
   },
   "outputs": [],
   "source": []
  },
  {
   "cell_type": "code",
   "execution_count": null,
   "metadata": {
    "id": "I2DeeF8rc-lS"
   },
   "outputs": [],
   "source": []
  },
  {
   "cell_type": "markdown",
   "metadata": {
    "id": "FbawLF89dKIZ"
   },
   "source": [
    "### 이진 데이터 파일 읽기/쓰기"
   ]
  },
  {
   "cell_type": "code",
   "execution_count": null,
   "metadata": {
    "id": "r86MX6x7dYgE"
   },
   "outputs": [],
   "source": []
  },
  {
   "cell_type": "code",
   "execution_count": null,
   "metadata": {
    "id": "V2GPiDLKdfmO"
   },
   "outputs": [],
   "source": []
  },
  {
   "cell_type": "code",
   "execution_count": null,
   "metadata": {
    "id": "B3eyfmJRdkQR"
   },
   "outputs": [],
   "source": []
  },
  {
   "cell_type": "code",
   "execution_count": null,
   "metadata": {
    "id": "UzOVC81Ed-2E"
   },
   "outputs": [],
   "source": []
  },
  {
   "cell_type": "code",
   "execution_count": null,
   "metadata": {
    "id": "uaO6OxkCeTq4"
   },
   "outputs": [],
   "source": []
  },
  {
   "cell_type": "code",
   "execution_count": null,
   "metadata": {
    "id": "OG_258xee3PR"
   },
   "outputs": [],
   "source": []
  },
  {
   "cell_type": "code",
   "execution_count": null,
   "metadata": {
    "id": "sWZ22PVde7Ha"
   },
   "outputs": [],
   "source": []
  },
  {
   "cell_type": "code",
   "execution_count": null,
   "metadata": {
    "id": "YglaWJ7CfAKj"
   },
   "outputs": [],
   "source": []
  },
  {
   "cell_type": "code",
   "execution_count": null,
   "metadata": {
    "id": "zjEeShTCfO8i"
   },
   "outputs": [],
   "source": []
  },
  {
   "cell_type": "code",
   "execution_count": null,
   "metadata": {
    "id": "wVRZCDhqfTgf"
   },
   "outputs": [],
   "source": []
  },
  {
   "cell_type": "code",
   "execution_count": null,
   "metadata": {
    "id": "SbB9VJMVfot5"
   },
   "outputs": [],
   "source": []
  },
  {
   "cell_type": "code",
   "execution_count": null,
   "metadata": {
    "id": "eVn_GwrTf7Eu"
   },
   "outputs": [],
   "source": []
  },
  {
   "cell_type": "code",
   "execution_count": null,
   "metadata": {
    "id": "GFvQJWz5gaXG"
   },
   "outputs": [],
   "source": []
  },
  {
   "cell_type": "code",
   "execution_count": null,
   "metadata": {
    "id": "Ij_Yh741gbp1"
   },
   "outputs": [],
   "source": []
  },
  {
   "cell_type": "markdown",
   "metadata": {
    "id": "TC1H-xT_2F8p"
   },
   "source": [
    "## 데이터 정제"
   ]
  },
  {
   "cell_type": "markdown",
   "metadata": {
    "id": "sHfYzJJsqoiD"
   },
   "source": [
    "### 누락값 처리\n",
    "\n",
    "* 대부분의 실제 데이터들은 정제되지 않고 누락값들이 존재\n",
    "* 서로 다른 데이터들은 다른 형태의 결측을 가짐\n",
    "* 결측 데이터는 `null`, `NaN`, `NA`로 표기"
   ]
  },
  {
   "cell_type": "markdown",
   "metadata": {
    "id": "eYG4GJ04HNea"
   },
   "source": [
    "#### None: 파이썬 누락 데이터"
   ]
  },
  {
   "cell_type": "code",
   "execution_count": null,
   "metadata": {
    "id": "SdbmIhZJqYk-"
   },
   "outputs": [],
   "source": []
  },
  {
   "cell_type": "code",
   "execution_count": null,
   "metadata": {
    "id": "TGgJm6tSOqz5"
   },
   "outputs": [],
   "source": []
  },
  {
   "cell_type": "markdown",
   "metadata": {
    "id": "Uz-ozgPrPj7g"
   },
   "source": [
    "#### NaN: 누락된 수치 데이터"
   ]
  },
  {
   "cell_type": "code",
   "execution_count": null,
   "metadata": {
    "id": "XIzPctmuPWfU"
   },
   "outputs": [],
   "source": []
  },
  {
   "cell_type": "code",
   "execution_count": null,
   "metadata": {
    "id": "9TVX3ZN5P6V3"
   },
   "outputs": [],
   "source": []
  },
  {
   "cell_type": "code",
   "execution_count": null,
   "metadata": {
    "id": "iVLmt-aQP8Gj"
   },
   "outputs": [],
   "source": []
  },
  {
   "cell_type": "code",
   "execution_count": null,
   "metadata": {
    "id": "hGP2AkgaSUSz"
   },
   "outputs": [],
   "source": []
  },
  {
   "cell_type": "code",
   "execution_count": null,
   "metadata": {
    "id": "TT4GHf_fSeRi"
   },
   "outputs": [],
   "source": []
  },
  {
   "cell_type": "code",
   "execution_count": null,
   "metadata": {
    "id": "U9qtvBxXSlfX"
   },
   "outputs": [],
   "source": []
  },
  {
   "cell_type": "code",
   "execution_count": null,
   "metadata": {
    "id": "FkOFTHSSS07A"
   },
   "outputs": [],
   "source": []
  },
  {
   "cell_type": "code",
   "execution_count": null,
   "metadata": {
    "id": "RWVqbN1oS6ZH"
   },
   "outputs": [],
   "source": []
  },
  {
   "cell_type": "code",
   "execution_count": null,
   "metadata": {
    "id": "d-jqa8t5S9z7"
   },
   "outputs": [],
   "source": []
  },
  {
   "cell_type": "code",
   "execution_count": null,
   "metadata": {
    "id": "BJHZK_CjTOUq"
   },
   "outputs": [],
   "source": []
  },
  {
   "cell_type": "markdown",
   "metadata": {
    "id": "TeZA_l5fUCks"
   },
   "source": [
    "#### Null 값 처리\n"
   ]
  },
  {
   "cell_type": "code",
   "execution_count": null,
   "metadata": {
    "id": "abbvoVnITo_y"
   },
   "outputs": [],
   "source": []
  },
  {
   "cell_type": "code",
   "execution_count": null,
   "metadata": {
    "id": "9gf6oys8akr0"
   },
   "outputs": [],
   "source": []
  },
  {
   "cell_type": "code",
   "execution_count": null,
   "metadata": {
    "id": "u9noWEenamtc"
   },
   "outputs": [],
   "source": []
  },
  {
   "cell_type": "code",
   "execution_count": null,
   "metadata": {
    "id": "EMWvOC5cauNb"
   },
   "outputs": [],
   "source": []
  },
  {
   "cell_type": "code",
   "execution_count": null,
   "metadata": {
    "id": "RVxZDos7azvf"
   },
   "outputs": [],
   "source": []
  },
  {
   "cell_type": "code",
   "execution_count": null,
   "metadata": {
    "id": "c02BqS-Aa9W-"
   },
   "outputs": [],
   "source": []
  },
  {
   "cell_type": "code",
   "execution_count": null,
   "metadata": {
    "id": "eKJY74ksbJx5"
   },
   "outputs": [],
   "source": []
  },
  {
   "cell_type": "code",
   "execution_count": null,
   "metadata": {
    "id": "hdqOfZdIbMAq"
   },
   "outputs": [],
   "source": []
  },
  {
   "cell_type": "code",
   "execution_count": null,
   "metadata": {
    "id": "Gk6hV9DibQsg"
   },
   "outputs": [],
   "source": []
  },
  {
   "cell_type": "code",
   "execution_count": null,
   "metadata": {
    "id": "88DA4w8ubUjj"
   },
   "outputs": [],
   "source": []
  },
  {
   "cell_type": "code",
   "execution_count": null,
   "metadata": {
    "id": "9F9FIW0-bYZs"
   },
   "outputs": [],
   "source": []
  },
  {
   "cell_type": "code",
   "execution_count": null,
   "metadata": {
    "id": "o3elF07Nqi2E"
   },
   "outputs": [],
   "source": []
  },
  {
   "cell_type": "code",
   "execution_count": null,
   "metadata": {
    "id": "w3Oe_XlsqlbP"
   },
   "outputs": [],
   "source": []
  },
  {
   "cell_type": "code",
   "execution_count": null,
   "metadata": {
    "id": "KDPaKJO7qsTY"
   },
   "outputs": [],
   "source": []
  },
  {
   "cell_type": "code",
   "execution_count": null,
   "metadata": {
    "id": "5kW3F5jAqvVP"
   },
   "outputs": [],
   "source": []
  },
  {
   "cell_type": "code",
   "execution_count": null,
   "metadata": {
    "id": "Gmo1xb_Xriuj"
   },
   "outputs": [],
   "source": []
  },
  {
   "cell_type": "code",
   "execution_count": null,
   "metadata": {
    "id": "JCXIWLKVq4rN"
   },
   "outputs": [],
   "source": []
  },
  {
   "cell_type": "code",
   "execution_count": null,
   "metadata": {
    "id": "BxA3XjSarl3J"
   },
   "outputs": [],
   "source": []
  },
  {
   "cell_type": "code",
   "execution_count": null,
   "metadata": {
    "id": "l0D2GjVeq8Fh"
   },
   "outputs": [],
   "source": []
  },
  {
   "cell_type": "markdown",
   "metadata": {
    "id": "FSLpWYGEiZRR"
   },
   "source": [
    "### 중복 제거"
   ]
  },
  {
   "cell_type": "code",
   "execution_count": null,
   "metadata": {
    "id": "Ii7qOLQ8s1hW"
   },
   "outputs": [],
   "source": []
  },
  {
   "cell_type": "code",
   "execution_count": null,
   "metadata": {
    "id": "14U6mS6fjOu9"
   },
   "outputs": [],
   "source": []
  },
  {
   "cell_type": "code",
   "execution_count": null,
   "metadata": {
    "id": "iLOdlpN5jR0d"
   },
   "outputs": [],
   "source": []
  },
  {
   "cell_type": "markdown",
   "metadata": {
    "id": "GaUfbZgwkCf-"
   },
   "source": [
    "### 값 치환"
   ]
  },
  {
   "cell_type": "code",
   "execution_count": null,
   "metadata": {
    "id": "VdG93-hpkE2j"
   },
   "outputs": [],
   "source": []
  },
  {
   "cell_type": "code",
   "execution_count": null,
   "metadata": {
    "id": "ZRnsdEEukSf3"
   },
   "outputs": [],
   "source": []
  },
  {
   "cell_type": "code",
   "execution_count": null,
   "metadata": {
    "id": "L3fSks4BkYSi"
   },
   "outputs": [],
   "source": []
  },
  {
   "cell_type": "code",
   "execution_count": null,
   "metadata": {
    "id": "_wtD7XeykdLs"
   },
   "outputs": [],
   "source": []
  },
  {
   "cell_type": "markdown",
   "metadata": {
    "id": "4sq_9jXcoFwb"
   },
   "source": [
    "## 참고문헌\n",
    "\n",
    "* Pandas 사이트: https://pandas.pydata.org/\n",
    "* Jake VanderPlas, \"Python Data Science Handbook\", O'Reilly\n",
    "* Wes Mckinney, \"Python for Data Analysis\", O'Reilly"
   ]
  }
 ],
 "metadata": {
  "colab": {
   "collapsed_sections": [],
   "name": "_Pandas 한번에 제대로 배우기.ipynb",
   "provenance": [],
   "toc_visible": true
  },
  "kernelspec": {
   "display_name": "Python 3 (ipykernel)",
   "language": "python",
   "name": "python3"
  },
  "language_info": {
   "codemirror_mode": {
    "name": "ipython",
    "version": 3
   },
   "file_extension": ".py",
   "mimetype": "text/x-python",
   "name": "python",
   "nbconvert_exporter": "python",
   "pygments_lexer": "ipython3",
   "version": "3.9.10"
  },
  "toc": {
   "base_numbering": 1,
   "nav_menu": {},
   "number_sections": true,
   "sideBar": true,
   "skip_h1_title": false,
   "title_cell": "Table of Contents",
   "title_sidebar": "Contents",
   "toc_cell": false,
   "toc_position": {
    "height": "calc(100% - 180px)",
    "left": "10px",
    "top": "150px",
    "width": "329.416px"
   },
   "toc_section_display": true,
   "toc_window_display": true
  },
  "varInspector": {
   "cols": {
    "lenName": 16,
    "lenType": 16,
    "lenVar": 40
   },
   "kernels_config": {
    "python": {
     "delete_cmd_postfix": "",
     "delete_cmd_prefix": "del ",
     "library": "var_list.py",
     "varRefreshCmd": "print(var_dic_list())"
    },
    "r": {
     "delete_cmd_postfix": ") ",
     "delete_cmd_prefix": "rm(",
     "library": "var_list.r",
     "varRefreshCmd": "cat(var_dic_list()) "
    }
   },
   "types_to_exclude": [
    "module",
    "function",
    "builtin_function_or_method",
    "instance",
    "_Feature"
   ],
   "window_display": false
  }
 },
 "nbformat": 4,
 "nbformat_minor": 4
}
