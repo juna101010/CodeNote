{
 "cells": [
  {
   "cell_type": "code",
   "execution_count": null,
   "id": "c06571de",
   "metadata": {},
   "outputs": [],
   "source": [
    "from googleapiclient.discovery import build\n",
    "from httplib2 import Http\n",
    "from oauth2client import file, client, tools\n",
    "\n",
    "try :\n",
    "    import argparse\n",
    "    flags = argparse.ArgumentParser(parents=[tools.argparser]).parse_args()\n",
    "except ImportError:\n",
    "    flags = None\n",
    "\n",
    "SCOPES = 'https://www.googleapis.com/auth/drive.file'\n",
    "store = file.Storage('storage.json')\n",
    "creds = store.get()\n",
    "\n",
    "if not creds or creds.invalid:\n",
    "    print(\"make new storage data file \")\n",
    "    flow = client.flow_from_clientsecrets('asdf.py', SCOPES)\n",
    "    creds = tools.run_flow(flow, store, flags) if flags else tools.run(flow, store)\n",
    "\n",
    "DRIVE = build('drive', 'v3', http=creds.authorize(Http()))\n",
    "\n",
    "FILES = (\n",
    "    ('hello.txt'),\n",
    ")\n",
    "\n",
    "folder_id = '15AW2E5pNGJ47Hn9YUbgIUhRsxeI8G8ZW'\n",
    "\n",
    "for file_title in FILES :\n",
    "    file_name = file_title\n",
    "    metadata = {'name': 'hello.txt',\n",
    "                'parents' : [folder_id],\n",
    "                'mimeType': None\n",
    "                }\n",
    "\n",
    "    res = DRIVE.files().create(body=metadata, media_body=file_name).execute()\n",
    "    if res:\n",
    "        print('Uploaded \"%s\" (%s)' % (file_name, res['mimeType']))"
   ]
  },
  {
   "cell_type": "code",
   "execution_count": null,
   "id": "1826c04a",
   "metadata": {},
   "outputs": [],
   "source": []
  }
 ],
 "metadata": {
  "kernelspec": {
   "display_name": "Python 3 (ipykernel)",
   "language": "python",
   "name": "python3"
  },
  "language_info": {
   "codemirror_mode": {
    "name": "ipython",
    "version": 3
   },
   "file_extension": ".py",
   "mimetype": "text/x-python",
   "name": "python",
   "nbconvert_exporter": "python",
   "pygments_lexer": "ipython3",
   "version": "3.9.7"
  },
  "toc": {
   "base_numbering": 1,
   "nav_menu": {},
   "number_sections": true,
   "sideBar": true,
   "skip_h1_title": false,
   "title_cell": "Table of Contents",
   "title_sidebar": "Contents",
   "toc_cell": false,
   "toc_position": {},
   "toc_section_display": true,
   "toc_window_display": false
  },
  "varInspector": {
   "cols": {
    "lenName": 16,
    "lenType": 16,
    "lenVar": 40
   },
   "kernels_config": {
    "python": {
     "delete_cmd_postfix": "",
     "delete_cmd_prefix": "del ",
     "library": "var_list.py",
     "varRefreshCmd": "print(var_dic_list())"
    },
    "r": {
     "delete_cmd_postfix": ") ",
     "delete_cmd_prefix": "rm(",
     "library": "var_list.r",
     "varRefreshCmd": "cat(var_dic_list()) "
    }
   },
   "types_to_exclude": [
    "module",
    "function",
    "builtin_function_or_method",
    "instance",
    "_Feature"
   ],
   "window_display": false
  }
 },
 "nbformat": 4,
 "nbformat_minor": 5
}
